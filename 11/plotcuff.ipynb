{
 "cells": [
  {
   "cell_type": "markdown",
   "source": [
    "# Plotly and Cufflinks"
   ],
   "metadata": {}
  },
  {
   "cell_type": "markdown",
   "source": [
    "## Imports and Set-up"
   ],
   "metadata": {}
  },
  {
   "cell_type": "code",
   "execution_count": 34,
   "source": [
    "import warnings\n",
    "import pandas as pd\n",
    "import numpy as np\n",
    "import cufflinks as cf\n",
    "from plotly import __version__\n",
    "from plotly.offline import download_plotlyjs, init_notebook_mode, plot, iplot\n",
    "%matplotlib inline\n",
    "warnings.filterwarnings(\"ignore\", category=FutureWarning)\n",
    "__version__"
   ],
   "outputs": [
    {
     "output_type": "execute_result",
     "data": {
      "text/plain": [
       "'5.3.1'"
      ]
     },
     "metadata": {},
     "execution_count": 34
    }
   ],
   "metadata": {}
  },
  {
   "cell_type": "markdown",
   "source": [
    "For Notebooks"
   ],
   "metadata": {}
  },
  {
   "cell_type": "code",
   "execution_count": 20,
   "source": [
    "init_notebook_mode(connected=True)\n"
   ],
   "outputs": [
    {
     "output_type": "display_data",
     "data": {
      "text/html": [
       "        <script type=\"text/javascript\">\n",
       "        window.PlotlyConfig = {MathJaxConfig: 'local'};\n",
       "        if (window.MathJax) {MathJax.Hub.Config({SVG: {font: \"STIX-Web\"}});}\n",
       "        if (typeof require !== 'undefined') {\n",
       "        require.undef(\"plotly\");\n",
       "        requirejs.config({\n",
       "            paths: {\n",
       "                'plotly': ['https://cdn.plot.ly/plotly-2.4.2.min']\n",
       "            }\n",
       "        });\n",
       "        require(['plotly'], function(Plotly) {\n",
       "            window._Plotly = Plotly;\n",
       "        });\n",
       "        }\n",
       "        </script>\n",
       "        "
      ]
     },
     "metadata": {}
    }
   ],
   "metadata": {}
  },
  {
   "cell_type": "markdown",
   "source": [
    "For offline use"
   ],
   "metadata": {}
  },
  {
   "cell_type": "code",
   "execution_count": 21,
   "source": [
    "cf.go_offline()\n"
   ],
   "outputs": [
    {
     "output_type": "display_data",
     "data": {
      "text/html": [
       "        <script type=\"text/javascript\">\n",
       "        window.PlotlyConfig = {MathJaxConfig: 'local'};\n",
       "        if (window.MathJax) {MathJax.Hub.Config({SVG: {font: \"STIX-Web\"}});}\n",
       "        if (typeof require !== 'undefined') {\n",
       "        require.undef(\"plotly\");\n",
       "        requirejs.config({\n",
       "            paths: {\n",
       "                'plotly': ['https://cdn.plot.ly/plotly-2.4.2.min']\n",
       "            }\n",
       "        });\n",
       "        require(['plotly'], function(Plotly) {\n",
       "            window._Plotly = Plotly;\n",
       "        });\n",
       "        }\n",
       "        </script>\n",
       "        "
      ]
     },
     "metadata": {}
    }
   ],
   "metadata": {}
  },
  {
   "cell_type": "markdown",
   "source": [
    "### Fake Data"
   ],
   "metadata": {}
  },
  {
   "cell_type": "code",
   "execution_count": 22,
   "source": [
    "df = pd.DataFrame(np.random.randn(100, 4), columns=\"A B C D\".split())\n",
    "df.head()\n"
   ],
   "outputs": [
    {
     "output_type": "execute_result",
     "data": {
      "text/html": [
       "<div>\n",
       "<style scoped>\n",
       "    .dataframe tbody tr th:only-of-type {\n",
       "        vertical-align: middle;\n",
       "    }\n",
       "\n",
       "    .dataframe tbody tr th {\n",
       "        vertical-align: top;\n",
       "    }\n",
       "\n",
       "    .dataframe thead th {\n",
       "        text-align: right;\n",
       "    }\n",
       "</style>\n",
       "<table border=\"1\" class=\"dataframe\">\n",
       "  <thead>\n",
       "    <tr style=\"text-align: right;\">\n",
       "      <th></th>\n",
       "      <th>A</th>\n",
       "      <th>B</th>\n",
       "      <th>C</th>\n",
       "      <th>D</th>\n",
       "    </tr>\n",
       "  </thead>\n",
       "  <tbody>\n",
       "    <tr>\n",
       "      <th>0</th>\n",
       "      <td>-1.855444</td>\n",
       "      <td>1.058680</td>\n",
       "      <td>0.099177</td>\n",
       "      <td>-0.708576</td>\n",
       "    </tr>\n",
       "    <tr>\n",
       "      <th>1</th>\n",
       "      <td>-0.334147</td>\n",
       "      <td>-1.248886</td>\n",
       "      <td>-0.468680</td>\n",
       "      <td>-0.129156</td>\n",
       "    </tr>\n",
       "    <tr>\n",
       "      <th>2</th>\n",
       "      <td>0.685729</td>\n",
       "      <td>1.070015</td>\n",
       "      <td>0.594926</td>\n",
       "      <td>1.317259</td>\n",
       "    </tr>\n",
       "    <tr>\n",
       "      <th>3</th>\n",
       "      <td>0.129059</td>\n",
       "      <td>0.268699</td>\n",
       "      <td>1.647849</td>\n",
       "      <td>-1.434581</td>\n",
       "    </tr>\n",
       "    <tr>\n",
       "      <th>4</th>\n",
       "      <td>-0.130121</td>\n",
       "      <td>1.346529</td>\n",
       "      <td>0.301625</td>\n",
       "      <td>-0.534385</td>\n",
       "    </tr>\n",
       "  </tbody>\n",
       "</table>\n",
       "</div>"
      ],
      "text/plain": [
       "          A         B         C         D\n",
       "0 -1.855444  1.058680  0.099177 -0.708576\n",
       "1 -0.334147 -1.248886 -0.468680 -0.129156\n",
       "2  0.685729  1.070015  0.594926  1.317259\n",
       "3  0.129059  0.268699  1.647849 -1.434581\n",
       "4 -0.130121  1.346529  0.301625 -0.534385"
      ]
     },
     "metadata": {},
     "execution_count": 22
    }
   ],
   "metadata": {}
  },
  {
   "cell_type": "code",
   "execution_count": 23,
   "source": [
    "df2 = pd.DataFrame({\"Category\": [\"A\", \"B\", \"C\"], \"Values\": [32, 43, 50]})\n",
    "df2.head()\n"
   ],
   "outputs": [
    {
     "output_type": "execute_result",
     "data": {
      "text/html": [
       "<div>\n",
       "<style scoped>\n",
       "    .dataframe tbody tr th:only-of-type {\n",
       "        vertical-align: middle;\n",
       "    }\n",
       "\n",
       "    .dataframe tbody tr th {\n",
       "        vertical-align: top;\n",
       "    }\n",
       "\n",
       "    .dataframe thead th {\n",
       "        text-align: right;\n",
       "    }\n",
       "</style>\n",
       "<table border=\"1\" class=\"dataframe\">\n",
       "  <thead>\n",
       "    <tr style=\"text-align: right;\">\n",
       "      <th></th>\n",
       "      <th>Category</th>\n",
       "      <th>Values</th>\n",
       "    </tr>\n",
       "  </thead>\n",
       "  <tbody>\n",
       "    <tr>\n",
       "      <th>0</th>\n",
       "      <td>A</td>\n",
       "      <td>32</td>\n",
       "    </tr>\n",
       "    <tr>\n",
       "      <th>1</th>\n",
       "      <td>B</td>\n",
       "      <td>43</td>\n",
       "    </tr>\n",
       "    <tr>\n",
       "      <th>2</th>\n",
       "      <td>C</td>\n",
       "      <td>50</td>\n",
       "    </tr>\n",
       "  </tbody>\n",
       "</table>\n",
       "</div>"
      ],
      "text/plain": [
       "  Category  Values\n",
       "0        A      32\n",
       "1        B      43\n",
       "2        C      50"
      ]
     },
     "metadata": {},
     "execution_count": 23
    }
   ],
   "metadata": {}
  },
  {
   "cell_type": "markdown",
   "source": [
    "## Scatter"
   ],
   "metadata": {}
  },
  {
   "cell_type": "code",
   "execution_count": 24,
   "source": [
    "df.iplot(kind=\"scatter\", x=\"A\", y=\"B\", mode=\"markers\", size=10)\n"
   ],
   "outputs": [
    {
     "output_type": "display_data",
     "data": {
      "application/vnd.plotly.v1+json": {
       "config": {
        "linkText": "Export to plot.ly",
        "plotlyServerURL": "https://plot.ly",
        "showLink": true
       },
       "data": [
        {
         "line": {
          "color": "rgba(255, 153, 51, 1.0)",
          "dash": "solid",
          "shape": "linear",
          "width": 1.3
         },
         "marker": {
          "size": 10,
          "symbol": "circle"
         },
         "mode": "markers",
         "name": "B",
         "text": "",
         "type": "scatter",
         "x": [
          -1.8554435537542446,
          -0.3341474199101263,
          0.6857288575880798,
          0.12905925770490762,
          -0.13012084534391954,
          0.31598165716367344,
          -0.6814310339065305,
          -1.1857454279657653,
          0.16250831411290528,
          -0.23503431588320337,
          -0.6957583990035138,
          1.2656447012812229,
          0.7895454890395617,
          2.0102173729408683,
          0.45824801008669885,
          -0.5925775507399346,
          -0.41533289809186974,
          -0.4731233300668129,
          0.6843718826788863,
          0.5391706433363241,
          -1.1002556394218257,
          1.2609445362966492,
          -1.7026894192926318,
          0.8280922879606232,
          -0.47841132251611046,
          1.354448480034928,
          0.018522114685147483,
          -1.3413367864778607,
          -0.8895958524461421,
          -0.020608380047677472,
          -1.7240966400672362,
          0.28458344629001064,
          0.21661681618247094,
          1.2179864561575975,
          0.8482671466620583,
          -0.4077952273242937,
          -0.8049643523268022,
          -0.9176116556344076,
          -0.9356801704572217,
          -0.9699739380556349,
          0.650589802528572,
          2.547846456025026,
          -0.7096211873633143,
          -0.9174229907763136,
          1.1386671385820821,
          -1.369325539411084,
          -0.9842603474076804,
          0.5945869819604048,
          -0.23886050975260292,
          -0.46923690573927296,
          -1.142607594480248,
          -0.3611762312877647,
          -0.39933525169718176,
          2.2769382620127003,
          -0.8380458528707962,
          -0.6124392004285225,
          0.6961616835141131,
          -1.2277256681748399,
          -0.6165936577607377,
          1.4531742490758173,
          0.8324616086776321,
          0.08734935814075497,
          -0.27779001599273256,
          -0.386556029563755,
          0.5076935684905723,
          0.023459583819070404,
          0.7011956785778897,
          -2.064037457273387,
          0.5982278808302534,
          -0.24015821493527018,
          -0.20554533443737275,
          -0.28217079271367657,
          -1.7845227166301205,
          -0.5601415555592549,
          0.8084747503072853,
          0.37966132136188563,
          -0.6195525229757263,
          0.3758208757878301,
          1.4200248431796674,
          2.0659398607101047,
          0.9587108211966137,
          2.061807877022249,
          0.18050161272834003,
          -0.6540684677740707,
          -0.8644330224870201,
          -1.261133780633743,
          -1.1276839315268843,
          -0.8470709717782499,
          -0.8077457919626311,
          0.0022270729652858353,
          1.266205085899191,
          0.9466066247483059,
          0.0931235624221537,
          -0.6925655411798486,
          0.23552797185724408,
          -0.7126173671952934,
          -0.4802895517750804,
          -1.0320031452653156,
          -0.6525272343747045,
          0.6660110832512804
         ],
         "y": [
          1.0586797192233903,
          -1.2488855889850787,
          1.0700151137375091,
          0.2686994557666863,
          1.3465290941441121,
          0.3186439119999515,
          -0.26028613353663094,
          1.9624262321531245,
          0.794702271935496,
          1.4578086509674228,
          0.8172558401456013,
          0.2187013708779096,
          -0.74633696389924,
          -0.6733073789184151,
          -0.44481066657090934,
          1.0312849971810147,
          0.4182887878043122,
          0.18075131754173723,
          -2.0632733329402897,
          -0.8721967137920469,
          -0.9573519080715821,
          -0.8861931972275268,
          -1.7326911974350716,
          -0.9429172488362749,
          -1.141069187838,
          -0.18520134114365153,
          -0.5886045112319811,
          -0.4412941810900815,
          0.8285074424484511,
          0.13457702058627252,
          0.47559709859240257,
          0.24770049355141352,
          0.9973592817712069,
          0.531818650682605,
          0.25726486227163997,
          1.328493993017877,
          -0.11100689228117118,
          -0.22650857209597733,
          -0.7144840251026895,
          -1.0416718983455615,
          1.0736890893435829,
          -0.4950066633518595,
          -0.4348511389029561,
          2.8329467756340896,
          -0.4304483343702159,
          1.168993274249435,
          -0.6489183721758839,
          1.919777073493157,
          -0.7889677310786267,
          0.18372995625021743,
          -0.8774390102542554,
          -1.3138910309500251,
          0.32224629900799545,
          0.6853772906954757,
          -0.4782068224275819,
          -1.564547761029822,
          -1.456102616980963,
          -0.21772121032784514,
          -0.45293861005754127,
          1.3668566239085884,
          0.8204827551253541,
          -0.8789693591255126,
          0.2218945456519545,
          0.194766032165579,
          -0.32635090654867477,
          -1.3788456354471674,
          0.47301453080933087,
          -2.1463860553599283,
          0.588115532577788,
          -0.12100941076370306,
          1.1149475486037261,
          0.4065778223793015,
          -1.2420822666880773,
          0.6070864401924375,
          -2.151910704876458,
          0.3346452250376028,
          1.2624867269449833,
          -2.5315629613213484,
          -0.8227144688835754,
          -0.1236309975200574,
          -0.49219807187445436,
          -1.2097029964449502,
          -1.3727932974505603,
          0.44527990572978465,
          0.5434203966297816,
          0.3391141018642361,
          1.753647349388627,
          -0.5326619816135323,
          -0.12867178804487858,
          0.4902779339654576,
          0.35554607301596713,
          0.9779360084073613,
          -0.5302310144497281,
          -0.7591554389356049,
          -0.7203209807891244,
          -0.019652813053141524,
          0.6442268447826572,
          -1.6223502424253848,
          -0.03034172033845018,
          -0.28111681045492665
         ]
        }
       ],
       "layout": {
        "legend": {
         "bgcolor": "#F5F6F9",
         "font": {
          "color": "#4D5663"
         }
        },
        "paper_bgcolor": "#F5F6F9",
        "plot_bgcolor": "#F5F6F9",
        "template": {
         "data": {
          "bar": [
           {
            "error_x": {
             "color": "#2a3f5f"
            },
            "error_y": {
             "color": "#2a3f5f"
            },
            "marker": {
             "line": {
              "color": "#E5ECF6",
              "width": 0.5
             },
             "pattern": {
              "fillmode": "overlay",
              "size": 10,
              "solidity": 0.2
             }
            },
            "type": "bar"
           }
          ],
          "barpolar": [
           {
            "marker": {
             "line": {
              "color": "#E5ECF6",
              "width": 0.5
             },
             "pattern": {
              "fillmode": "overlay",
              "size": 10,
              "solidity": 0.2
             }
            },
            "type": "barpolar"
           }
          ],
          "carpet": [
           {
            "aaxis": {
             "endlinecolor": "#2a3f5f",
             "gridcolor": "white",
             "linecolor": "white",
             "minorgridcolor": "white",
             "startlinecolor": "#2a3f5f"
            },
            "baxis": {
             "endlinecolor": "#2a3f5f",
             "gridcolor": "white",
             "linecolor": "white",
             "minorgridcolor": "white",
             "startlinecolor": "#2a3f5f"
            },
            "type": "carpet"
           }
          ],
          "choropleth": [
           {
            "colorbar": {
             "outlinewidth": 0,
             "ticks": ""
            },
            "type": "choropleth"
           }
          ],
          "contour": [
           {
            "colorbar": {
             "outlinewidth": 0,
             "ticks": ""
            },
            "colorscale": [
             [
              0,
              "#0d0887"
             ],
             [
              0.1111111111111111,
              "#46039f"
             ],
             [
              0.2222222222222222,
              "#7201a8"
             ],
             [
              0.3333333333333333,
              "#9c179e"
             ],
             [
              0.4444444444444444,
              "#bd3786"
             ],
             [
              0.5555555555555556,
              "#d8576b"
             ],
             [
              0.6666666666666666,
              "#ed7953"
             ],
             [
              0.7777777777777778,
              "#fb9f3a"
             ],
             [
              0.8888888888888888,
              "#fdca26"
             ],
             [
              1,
              "#f0f921"
             ]
            ],
            "type": "contour"
           }
          ],
          "contourcarpet": [
           {
            "colorbar": {
             "outlinewidth": 0,
             "ticks": ""
            },
            "type": "contourcarpet"
           }
          ],
          "heatmap": [
           {
            "colorbar": {
             "outlinewidth": 0,
             "ticks": ""
            },
            "colorscale": [
             [
              0,
              "#0d0887"
             ],
             [
              0.1111111111111111,
              "#46039f"
             ],
             [
              0.2222222222222222,
              "#7201a8"
             ],
             [
              0.3333333333333333,
              "#9c179e"
             ],
             [
              0.4444444444444444,
              "#bd3786"
             ],
             [
              0.5555555555555556,
              "#d8576b"
             ],
             [
              0.6666666666666666,
              "#ed7953"
             ],
             [
              0.7777777777777778,
              "#fb9f3a"
             ],
             [
              0.8888888888888888,
              "#fdca26"
             ],
             [
              1,
              "#f0f921"
             ]
            ],
            "type": "heatmap"
           }
          ],
          "heatmapgl": [
           {
            "colorbar": {
             "outlinewidth": 0,
             "ticks": ""
            },
            "colorscale": [
             [
              0,
              "#0d0887"
             ],
             [
              0.1111111111111111,
              "#46039f"
             ],
             [
              0.2222222222222222,
              "#7201a8"
             ],
             [
              0.3333333333333333,
              "#9c179e"
             ],
             [
              0.4444444444444444,
              "#bd3786"
             ],
             [
              0.5555555555555556,
              "#d8576b"
             ],
             [
              0.6666666666666666,
              "#ed7953"
             ],
             [
              0.7777777777777778,
              "#fb9f3a"
             ],
             [
              0.8888888888888888,
              "#fdca26"
             ],
             [
              1,
              "#f0f921"
             ]
            ],
            "type": "heatmapgl"
           }
          ],
          "histogram": [
           {
            "marker": {
             "pattern": {
              "fillmode": "overlay",
              "size": 10,
              "solidity": 0.2
             }
            },
            "type": "histogram"
           }
          ],
          "histogram2d": [
           {
            "colorbar": {
             "outlinewidth": 0,
             "ticks": ""
            },
            "colorscale": [
             [
              0,
              "#0d0887"
             ],
             [
              0.1111111111111111,
              "#46039f"
             ],
             [
              0.2222222222222222,
              "#7201a8"
             ],
             [
              0.3333333333333333,
              "#9c179e"
             ],
             [
              0.4444444444444444,
              "#bd3786"
             ],
             [
              0.5555555555555556,
              "#d8576b"
             ],
             [
              0.6666666666666666,
              "#ed7953"
             ],
             [
              0.7777777777777778,
              "#fb9f3a"
             ],
             [
              0.8888888888888888,
              "#fdca26"
             ],
             [
              1,
              "#f0f921"
             ]
            ],
            "type": "histogram2d"
           }
          ],
          "histogram2dcontour": [
           {
            "colorbar": {
             "outlinewidth": 0,
             "ticks": ""
            },
            "colorscale": [
             [
              0,
              "#0d0887"
             ],
             [
              0.1111111111111111,
              "#46039f"
             ],
             [
              0.2222222222222222,
              "#7201a8"
             ],
             [
              0.3333333333333333,
              "#9c179e"
             ],
             [
              0.4444444444444444,
              "#bd3786"
             ],
             [
              0.5555555555555556,
              "#d8576b"
             ],
             [
              0.6666666666666666,
              "#ed7953"
             ],
             [
              0.7777777777777778,
              "#fb9f3a"
             ],
             [
              0.8888888888888888,
              "#fdca26"
             ],
             [
              1,
              "#f0f921"
             ]
            ],
            "type": "histogram2dcontour"
           }
          ],
          "mesh3d": [
           {
            "colorbar": {
             "outlinewidth": 0,
             "ticks": ""
            },
            "type": "mesh3d"
           }
          ],
          "parcoords": [
           {
            "line": {
             "colorbar": {
              "outlinewidth": 0,
              "ticks": ""
             }
            },
            "type": "parcoords"
           }
          ],
          "pie": [
           {
            "automargin": true,
            "type": "pie"
           }
          ],
          "scatter": [
           {
            "marker": {
             "colorbar": {
              "outlinewidth": 0,
              "ticks": ""
             }
            },
            "type": "scatter"
           }
          ],
          "scatter3d": [
           {
            "line": {
             "colorbar": {
              "outlinewidth": 0,
              "ticks": ""
             }
            },
            "marker": {
             "colorbar": {
              "outlinewidth": 0,
              "ticks": ""
             }
            },
            "type": "scatter3d"
           }
          ],
          "scattercarpet": [
           {
            "marker": {
             "colorbar": {
              "outlinewidth": 0,
              "ticks": ""
             }
            },
            "type": "scattercarpet"
           }
          ],
          "scattergeo": [
           {
            "marker": {
             "colorbar": {
              "outlinewidth": 0,
              "ticks": ""
             }
            },
            "type": "scattergeo"
           }
          ],
          "scattergl": [
           {
            "marker": {
             "colorbar": {
              "outlinewidth": 0,
              "ticks": ""
             }
            },
            "type": "scattergl"
           }
          ],
          "scattermapbox": [
           {
            "marker": {
             "colorbar": {
              "outlinewidth": 0,
              "ticks": ""
             }
            },
            "type": "scattermapbox"
           }
          ],
          "scatterpolar": [
           {
            "marker": {
             "colorbar": {
              "outlinewidth": 0,
              "ticks": ""
             }
            },
            "type": "scatterpolar"
           }
          ],
          "scatterpolargl": [
           {
            "marker": {
             "colorbar": {
              "outlinewidth": 0,
              "ticks": ""
             }
            },
            "type": "scatterpolargl"
           }
          ],
          "scatterternary": [
           {
            "marker": {
             "colorbar": {
              "outlinewidth": 0,
              "ticks": ""
             }
            },
            "type": "scatterternary"
           }
          ],
          "surface": [
           {
            "colorbar": {
             "outlinewidth": 0,
             "ticks": ""
            },
            "colorscale": [
             [
              0,
              "#0d0887"
             ],
             [
              0.1111111111111111,
              "#46039f"
             ],
             [
              0.2222222222222222,
              "#7201a8"
             ],
             [
              0.3333333333333333,
              "#9c179e"
             ],
             [
              0.4444444444444444,
              "#bd3786"
             ],
             [
              0.5555555555555556,
              "#d8576b"
             ],
             [
              0.6666666666666666,
              "#ed7953"
             ],
             [
              0.7777777777777778,
              "#fb9f3a"
             ],
             [
              0.8888888888888888,
              "#fdca26"
             ],
             [
              1,
              "#f0f921"
             ]
            ],
            "type": "surface"
           }
          ],
          "table": [
           {
            "cells": {
             "fill": {
              "color": "#EBF0F8"
             },
             "line": {
              "color": "white"
             }
            },
            "header": {
             "fill": {
              "color": "#C8D4E3"
             },
             "line": {
              "color": "white"
             }
            },
            "type": "table"
           }
          ]
         },
         "layout": {
          "annotationdefaults": {
           "arrowcolor": "#2a3f5f",
           "arrowhead": 0,
           "arrowwidth": 1
          },
          "autotypenumbers": "strict",
          "coloraxis": {
           "colorbar": {
            "outlinewidth": 0,
            "ticks": ""
           }
          },
          "colorscale": {
           "diverging": [
            [
             0,
             "#8e0152"
            ],
            [
             0.1,
             "#c51b7d"
            ],
            [
             0.2,
             "#de77ae"
            ],
            [
             0.3,
             "#f1b6da"
            ],
            [
             0.4,
             "#fde0ef"
            ],
            [
             0.5,
             "#f7f7f7"
            ],
            [
             0.6,
             "#e6f5d0"
            ],
            [
             0.7,
             "#b8e186"
            ],
            [
             0.8,
             "#7fbc41"
            ],
            [
             0.9,
             "#4d9221"
            ],
            [
             1,
             "#276419"
            ]
           ],
           "sequential": [
            [
             0,
             "#0d0887"
            ],
            [
             0.1111111111111111,
             "#46039f"
            ],
            [
             0.2222222222222222,
             "#7201a8"
            ],
            [
             0.3333333333333333,
             "#9c179e"
            ],
            [
             0.4444444444444444,
             "#bd3786"
            ],
            [
             0.5555555555555556,
             "#d8576b"
            ],
            [
             0.6666666666666666,
             "#ed7953"
            ],
            [
             0.7777777777777778,
             "#fb9f3a"
            ],
            [
             0.8888888888888888,
             "#fdca26"
            ],
            [
             1,
             "#f0f921"
            ]
           ],
           "sequentialminus": [
            [
             0,
             "#0d0887"
            ],
            [
             0.1111111111111111,
             "#46039f"
            ],
            [
             0.2222222222222222,
             "#7201a8"
            ],
            [
             0.3333333333333333,
             "#9c179e"
            ],
            [
             0.4444444444444444,
             "#bd3786"
            ],
            [
             0.5555555555555556,
             "#d8576b"
            ],
            [
             0.6666666666666666,
             "#ed7953"
            ],
            [
             0.7777777777777778,
             "#fb9f3a"
            ],
            [
             0.8888888888888888,
             "#fdca26"
            ],
            [
             1,
             "#f0f921"
            ]
           ]
          },
          "colorway": [
           "#636efa",
           "#EF553B",
           "#00cc96",
           "#ab63fa",
           "#FFA15A",
           "#19d3f3",
           "#FF6692",
           "#B6E880",
           "#FF97FF",
           "#FECB52"
          ],
          "font": {
           "color": "#2a3f5f"
          },
          "geo": {
           "bgcolor": "white",
           "lakecolor": "white",
           "landcolor": "#E5ECF6",
           "showlakes": true,
           "showland": true,
           "subunitcolor": "white"
          },
          "hoverlabel": {
           "align": "left"
          },
          "hovermode": "closest",
          "mapbox": {
           "style": "light"
          },
          "paper_bgcolor": "white",
          "plot_bgcolor": "#E5ECF6",
          "polar": {
           "angularaxis": {
            "gridcolor": "white",
            "linecolor": "white",
            "ticks": ""
           },
           "bgcolor": "#E5ECF6",
           "radialaxis": {
            "gridcolor": "white",
            "linecolor": "white",
            "ticks": ""
           }
          },
          "scene": {
           "xaxis": {
            "backgroundcolor": "#E5ECF6",
            "gridcolor": "white",
            "gridwidth": 2,
            "linecolor": "white",
            "showbackground": true,
            "ticks": "",
            "zerolinecolor": "white"
           },
           "yaxis": {
            "backgroundcolor": "#E5ECF6",
            "gridcolor": "white",
            "gridwidth": 2,
            "linecolor": "white",
            "showbackground": true,
            "ticks": "",
            "zerolinecolor": "white"
           },
           "zaxis": {
            "backgroundcolor": "#E5ECF6",
            "gridcolor": "white",
            "gridwidth": 2,
            "linecolor": "white",
            "showbackground": true,
            "ticks": "",
            "zerolinecolor": "white"
           }
          },
          "shapedefaults": {
           "line": {
            "color": "#2a3f5f"
           }
          },
          "ternary": {
           "aaxis": {
            "gridcolor": "white",
            "linecolor": "white",
            "ticks": ""
           },
           "baxis": {
            "gridcolor": "white",
            "linecolor": "white",
            "ticks": ""
           },
           "bgcolor": "#E5ECF6",
           "caxis": {
            "gridcolor": "white",
            "linecolor": "white",
            "ticks": ""
           }
          },
          "title": {
           "x": 0.05
          },
          "xaxis": {
           "automargin": true,
           "gridcolor": "white",
           "linecolor": "white",
           "ticks": "",
           "title": {
            "standoff": 15
           },
           "zerolinecolor": "white",
           "zerolinewidth": 2
          },
          "yaxis": {
           "automargin": true,
           "gridcolor": "white",
           "linecolor": "white",
           "ticks": "",
           "title": {
            "standoff": 15
           },
           "zerolinecolor": "white",
           "zerolinewidth": 2
          }
         }
        },
        "title": {
         "font": {
          "color": "#4D5663"
         }
        },
        "xaxis": {
         "gridcolor": "#E1E5ED",
         "showgrid": true,
         "tickfont": {
          "color": "#4D5663"
         },
         "title": {
          "font": {
           "color": "#4D5663"
          },
          "text": ""
         },
         "zerolinecolor": "#E1E5ED"
        },
        "yaxis": {
         "gridcolor": "#E1E5ED",
         "showgrid": true,
         "tickfont": {
          "color": "#4D5663"
         },
         "title": {
          "font": {
           "color": "#4D5663"
          },
          "text": ""
         },
         "zerolinecolor": "#E1E5ED"
        }
       }
      },
      "text/html": [
       "<div>                            <div id=\"3f738940-86c4-4467-9033-6402a0889a81\" class=\"plotly-graph-div\" style=\"height:525px; width:100%;\"></div>            <script type=\"text/javascript\">                require([\"plotly\"], function(Plotly) {                    window.PLOTLYENV=window.PLOTLYENV || {};\n",
       "                    window.PLOTLYENV.BASE_URL='https://plot.ly';                                    if (document.getElementById(\"3f738940-86c4-4467-9033-6402a0889a81\")) {                    Plotly.newPlot(                        \"3f738940-86c4-4467-9033-6402a0889a81\",                        [{\"line\":{\"color\":\"rgba(255, 153, 51, 1.0)\",\"dash\":\"solid\",\"shape\":\"linear\",\"width\":1.3},\"marker\":{\"size\":10,\"symbol\":\"circle\"},\"mode\":\"markers\",\"name\":\"B\",\"text\":\"\",\"type\":\"scatter\",\"x\":[-1.8554435537542446,-0.3341474199101263,0.6857288575880798,0.12905925770490762,-0.13012084534391954,0.31598165716367344,-0.6814310339065305,-1.1857454279657653,0.16250831411290528,-0.23503431588320337,-0.6957583990035138,1.2656447012812229,0.7895454890395617,2.0102173729408683,0.45824801008669885,-0.5925775507399346,-0.41533289809186974,-0.4731233300668129,0.6843718826788863,0.5391706433363241,-1.1002556394218257,1.2609445362966492,-1.7026894192926318,0.8280922879606232,-0.47841132251611046,1.354448480034928,0.018522114685147483,-1.3413367864778607,-0.8895958524461421,-0.020608380047677472,-1.7240966400672362,0.28458344629001064,0.21661681618247094,1.2179864561575975,0.8482671466620583,-0.4077952273242937,-0.8049643523268022,-0.9176116556344076,-0.9356801704572217,-0.9699739380556349,0.650589802528572,2.547846456025026,-0.7096211873633143,-0.9174229907763136,1.1386671385820821,-1.369325539411084,-0.9842603474076804,0.5945869819604048,-0.23886050975260292,-0.46923690573927296,-1.142607594480248,-0.3611762312877647,-0.39933525169718176,2.2769382620127003,-0.8380458528707962,-0.6124392004285225,0.6961616835141131,-1.2277256681748399,-0.6165936577607377,1.4531742490758173,0.8324616086776321,0.08734935814075497,-0.27779001599273256,-0.386556029563755,0.5076935684905723,0.023459583819070404,0.7011956785778897,-2.064037457273387,0.5982278808302534,-0.24015821493527018,-0.20554533443737275,-0.28217079271367657,-1.7845227166301205,-0.5601415555592549,0.8084747503072853,0.37966132136188563,-0.6195525229757263,0.3758208757878301,1.4200248431796674,2.0659398607101047,0.9587108211966137,2.061807877022249,0.18050161272834003,-0.6540684677740707,-0.8644330224870201,-1.261133780633743,-1.1276839315268843,-0.8470709717782499,-0.8077457919626311,0.0022270729652858353,1.266205085899191,0.9466066247483059,0.0931235624221537,-0.6925655411798486,0.23552797185724408,-0.7126173671952934,-0.4802895517750804,-1.0320031452653156,-0.6525272343747045,0.6660110832512804],\"y\":[1.0586797192233903,-1.2488855889850787,1.0700151137375091,0.2686994557666863,1.3465290941441121,0.3186439119999515,-0.26028613353663094,1.9624262321531245,0.794702271935496,1.4578086509674228,0.8172558401456013,0.2187013708779096,-0.74633696389924,-0.6733073789184151,-0.44481066657090934,1.0312849971810147,0.4182887878043122,0.18075131754173723,-2.0632733329402897,-0.8721967137920469,-0.9573519080715821,-0.8861931972275268,-1.7326911974350716,-0.9429172488362749,-1.141069187838,-0.18520134114365153,-0.5886045112319811,-0.4412941810900815,0.8285074424484511,0.13457702058627252,0.47559709859240257,0.24770049355141352,0.9973592817712069,0.531818650682605,0.25726486227163997,1.328493993017877,-0.11100689228117118,-0.22650857209597733,-0.7144840251026895,-1.0416718983455615,1.0736890893435829,-0.4950066633518595,-0.4348511389029561,2.8329467756340896,-0.4304483343702159,1.168993274249435,-0.6489183721758839,1.919777073493157,-0.7889677310786267,0.18372995625021743,-0.8774390102542554,-1.3138910309500251,0.32224629900799545,0.6853772906954757,-0.4782068224275819,-1.564547761029822,-1.456102616980963,-0.21772121032784514,-0.45293861005754127,1.3668566239085884,0.8204827551253541,-0.8789693591255126,0.2218945456519545,0.194766032165579,-0.32635090654867477,-1.3788456354471674,0.47301453080933087,-2.1463860553599283,0.588115532577788,-0.12100941076370306,1.1149475486037261,0.4065778223793015,-1.2420822666880773,0.6070864401924375,-2.151910704876458,0.3346452250376028,1.2624867269449833,-2.5315629613213484,-0.8227144688835754,-0.1236309975200574,-0.49219807187445436,-1.2097029964449502,-1.3727932974505603,0.44527990572978465,0.5434203966297816,0.3391141018642361,1.753647349388627,-0.5326619816135323,-0.12867178804487858,0.4902779339654576,0.35554607301596713,0.9779360084073613,-0.5302310144497281,-0.7591554389356049,-0.7203209807891244,-0.019652813053141524,0.6442268447826572,-1.6223502424253848,-0.03034172033845018,-0.28111681045492665]}],                        {\"legend\":{\"bgcolor\":\"#F5F6F9\",\"font\":{\"color\":\"#4D5663\"}},\"paper_bgcolor\":\"#F5F6F9\",\"plot_bgcolor\":\"#F5F6F9\",\"template\":{\"data\":{\"bar\":[{\"error_x\":{\"color\":\"#2a3f5f\"},\"error_y\":{\"color\":\"#2a3f5f\"},\"marker\":{\"line\":{\"color\":\"#E5ECF6\",\"width\":0.5},\"pattern\":{\"fillmode\":\"overlay\",\"size\":10,\"solidity\":0.2}},\"type\":\"bar\"}],\"barpolar\":[{\"marker\":{\"line\":{\"color\":\"#E5ECF6\",\"width\":0.5},\"pattern\":{\"fillmode\":\"overlay\",\"size\":10,\"solidity\":0.2}},\"type\":\"barpolar\"}],\"carpet\":[{\"aaxis\":{\"endlinecolor\":\"#2a3f5f\",\"gridcolor\":\"white\",\"linecolor\":\"white\",\"minorgridcolor\":\"white\",\"startlinecolor\":\"#2a3f5f\"},\"baxis\":{\"endlinecolor\":\"#2a3f5f\",\"gridcolor\":\"white\",\"linecolor\":\"white\",\"minorgridcolor\":\"white\",\"startlinecolor\":\"#2a3f5f\"},\"type\":\"carpet\"}],\"choropleth\":[{\"colorbar\":{\"outlinewidth\":0,\"ticks\":\"\"},\"type\":\"choropleth\"}],\"contour\":[{\"colorbar\":{\"outlinewidth\":0,\"ticks\":\"\"},\"colorscale\":[[0.0,\"#0d0887\"],[0.1111111111111111,\"#46039f\"],[0.2222222222222222,\"#7201a8\"],[0.3333333333333333,\"#9c179e\"],[0.4444444444444444,\"#bd3786\"],[0.5555555555555556,\"#d8576b\"],[0.6666666666666666,\"#ed7953\"],[0.7777777777777778,\"#fb9f3a\"],[0.8888888888888888,\"#fdca26\"],[1.0,\"#f0f921\"]],\"type\":\"contour\"}],\"contourcarpet\":[{\"colorbar\":{\"outlinewidth\":0,\"ticks\":\"\"},\"type\":\"contourcarpet\"}],\"heatmap\":[{\"colorbar\":{\"outlinewidth\":0,\"ticks\":\"\"},\"colorscale\":[[0.0,\"#0d0887\"],[0.1111111111111111,\"#46039f\"],[0.2222222222222222,\"#7201a8\"],[0.3333333333333333,\"#9c179e\"],[0.4444444444444444,\"#bd3786\"],[0.5555555555555556,\"#d8576b\"],[0.6666666666666666,\"#ed7953\"],[0.7777777777777778,\"#fb9f3a\"],[0.8888888888888888,\"#fdca26\"],[1.0,\"#f0f921\"]],\"type\":\"heatmap\"}],\"heatmapgl\":[{\"colorbar\":{\"outlinewidth\":0,\"ticks\":\"\"},\"colorscale\":[[0.0,\"#0d0887\"],[0.1111111111111111,\"#46039f\"],[0.2222222222222222,\"#7201a8\"],[0.3333333333333333,\"#9c179e\"],[0.4444444444444444,\"#bd3786\"],[0.5555555555555556,\"#d8576b\"],[0.6666666666666666,\"#ed7953\"],[0.7777777777777778,\"#fb9f3a\"],[0.8888888888888888,\"#fdca26\"],[1.0,\"#f0f921\"]],\"type\":\"heatmapgl\"}],\"histogram\":[{\"marker\":{\"pattern\":{\"fillmode\":\"overlay\",\"size\":10,\"solidity\":0.2}},\"type\":\"histogram\"}],\"histogram2d\":[{\"colorbar\":{\"outlinewidth\":0,\"ticks\":\"\"},\"colorscale\":[[0.0,\"#0d0887\"],[0.1111111111111111,\"#46039f\"],[0.2222222222222222,\"#7201a8\"],[0.3333333333333333,\"#9c179e\"],[0.4444444444444444,\"#bd3786\"],[0.5555555555555556,\"#d8576b\"],[0.6666666666666666,\"#ed7953\"],[0.7777777777777778,\"#fb9f3a\"],[0.8888888888888888,\"#fdca26\"],[1.0,\"#f0f921\"]],\"type\":\"histogram2d\"}],\"histogram2dcontour\":[{\"colorbar\":{\"outlinewidth\":0,\"ticks\":\"\"},\"colorscale\":[[0.0,\"#0d0887\"],[0.1111111111111111,\"#46039f\"],[0.2222222222222222,\"#7201a8\"],[0.3333333333333333,\"#9c179e\"],[0.4444444444444444,\"#bd3786\"],[0.5555555555555556,\"#d8576b\"],[0.6666666666666666,\"#ed7953\"],[0.7777777777777778,\"#fb9f3a\"],[0.8888888888888888,\"#fdca26\"],[1.0,\"#f0f921\"]],\"type\":\"histogram2dcontour\"}],\"mesh3d\":[{\"colorbar\":{\"outlinewidth\":0,\"ticks\":\"\"},\"type\":\"mesh3d\"}],\"parcoords\":[{\"line\":{\"colorbar\":{\"outlinewidth\":0,\"ticks\":\"\"}},\"type\":\"parcoords\"}],\"pie\":[{\"automargin\":true,\"type\":\"pie\"}],\"scatter\":[{\"marker\":{\"colorbar\":{\"outlinewidth\":0,\"ticks\":\"\"}},\"type\":\"scatter\"}],\"scatter3d\":[{\"line\":{\"colorbar\":{\"outlinewidth\":0,\"ticks\":\"\"}},\"marker\":{\"colorbar\":{\"outlinewidth\":0,\"ticks\":\"\"}},\"type\":\"scatter3d\"}],\"scattercarpet\":[{\"marker\":{\"colorbar\":{\"outlinewidth\":0,\"ticks\":\"\"}},\"type\":\"scattercarpet\"}],\"scattergeo\":[{\"marker\":{\"colorbar\":{\"outlinewidth\":0,\"ticks\":\"\"}},\"type\":\"scattergeo\"}],\"scattergl\":[{\"marker\":{\"colorbar\":{\"outlinewidth\":0,\"ticks\":\"\"}},\"type\":\"scattergl\"}],\"scattermapbox\":[{\"marker\":{\"colorbar\":{\"outlinewidth\":0,\"ticks\":\"\"}},\"type\":\"scattermapbox\"}],\"scatterpolar\":[{\"marker\":{\"colorbar\":{\"outlinewidth\":0,\"ticks\":\"\"}},\"type\":\"scatterpolar\"}],\"scatterpolargl\":[{\"marker\":{\"colorbar\":{\"outlinewidth\":0,\"ticks\":\"\"}},\"type\":\"scatterpolargl\"}],\"scatterternary\":[{\"marker\":{\"colorbar\":{\"outlinewidth\":0,\"ticks\":\"\"}},\"type\":\"scatterternary\"}],\"surface\":[{\"colorbar\":{\"outlinewidth\":0,\"ticks\":\"\"},\"colorscale\":[[0.0,\"#0d0887\"],[0.1111111111111111,\"#46039f\"],[0.2222222222222222,\"#7201a8\"],[0.3333333333333333,\"#9c179e\"],[0.4444444444444444,\"#bd3786\"],[0.5555555555555556,\"#d8576b\"],[0.6666666666666666,\"#ed7953\"],[0.7777777777777778,\"#fb9f3a\"],[0.8888888888888888,\"#fdca26\"],[1.0,\"#f0f921\"]],\"type\":\"surface\"}],\"table\":[{\"cells\":{\"fill\":{\"color\":\"#EBF0F8\"},\"line\":{\"color\":\"white\"}},\"header\":{\"fill\":{\"color\":\"#C8D4E3\"},\"line\":{\"color\":\"white\"}},\"type\":\"table\"}]},\"layout\":{\"annotationdefaults\":{\"arrowcolor\":\"#2a3f5f\",\"arrowhead\":0,\"arrowwidth\":1},\"autotypenumbers\":\"strict\",\"coloraxis\":{\"colorbar\":{\"outlinewidth\":0,\"ticks\":\"\"}},\"colorscale\":{\"diverging\":[[0,\"#8e0152\"],[0.1,\"#c51b7d\"],[0.2,\"#de77ae\"],[0.3,\"#f1b6da\"],[0.4,\"#fde0ef\"],[0.5,\"#f7f7f7\"],[0.6,\"#e6f5d0\"],[0.7,\"#b8e186\"],[0.8,\"#7fbc41\"],[0.9,\"#4d9221\"],[1,\"#276419\"]],\"sequential\":[[0.0,\"#0d0887\"],[0.1111111111111111,\"#46039f\"],[0.2222222222222222,\"#7201a8\"],[0.3333333333333333,\"#9c179e\"],[0.4444444444444444,\"#bd3786\"],[0.5555555555555556,\"#d8576b\"],[0.6666666666666666,\"#ed7953\"],[0.7777777777777778,\"#fb9f3a\"],[0.8888888888888888,\"#fdca26\"],[1.0,\"#f0f921\"]],\"sequentialminus\":[[0.0,\"#0d0887\"],[0.1111111111111111,\"#46039f\"],[0.2222222222222222,\"#7201a8\"],[0.3333333333333333,\"#9c179e\"],[0.4444444444444444,\"#bd3786\"],[0.5555555555555556,\"#d8576b\"],[0.6666666666666666,\"#ed7953\"],[0.7777777777777778,\"#fb9f3a\"],[0.8888888888888888,\"#fdca26\"],[1.0,\"#f0f921\"]]},\"colorway\":[\"#636efa\",\"#EF553B\",\"#00cc96\",\"#ab63fa\",\"#FFA15A\",\"#19d3f3\",\"#FF6692\",\"#B6E880\",\"#FF97FF\",\"#FECB52\"],\"font\":{\"color\":\"#2a3f5f\"},\"geo\":{\"bgcolor\":\"white\",\"lakecolor\":\"white\",\"landcolor\":\"#E5ECF6\",\"showlakes\":true,\"showland\":true,\"subunitcolor\":\"white\"},\"hoverlabel\":{\"align\":\"left\"},\"hovermode\":\"closest\",\"mapbox\":{\"style\":\"light\"},\"paper_bgcolor\":\"white\",\"plot_bgcolor\":\"#E5ECF6\",\"polar\":{\"angularaxis\":{\"gridcolor\":\"white\",\"linecolor\":\"white\",\"ticks\":\"\"},\"bgcolor\":\"#E5ECF6\",\"radialaxis\":{\"gridcolor\":\"white\",\"linecolor\":\"white\",\"ticks\":\"\"}},\"scene\":{\"xaxis\":{\"backgroundcolor\":\"#E5ECF6\",\"gridcolor\":\"white\",\"gridwidth\":2,\"linecolor\":\"white\",\"showbackground\":true,\"ticks\":\"\",\"zerolinecolor\":\"white\"},\"yaxis\":{\"backgroundcolor\":\"#E5ECF6\",\"gridcolor\":\"white\",\"gridwidth\":2,\"linecolor\":\"white\",\"showbackground\":true,\"ticks\":\"\",\"zerolinecolor\":\"white\"},\"zaxis\":{\"backgroundcolor\":\"#E5ECF6\",\"gridcolor\":\"white\",\"gridwidth\":2,\"linecolor\":\"white\",\"showbackground\":true,\"ticks\":\"\",\"zerolinecolor\":\"white\"}},\"shapedefaults\":{\"line\":{\"color\":\"#2a3f5f\"}},\"ternary\":{\"aaxis\":{\"gridcolor\":\"white\",\"linecolor\":\"white\",\"ticks\":\"\"},\"baxis\":{\"gridcolor\":\"white\",\"linecolor\":\"white\",\"ticks\":\"\"},\"bgcolor\":\"#E5ECF6\",\"caxis\":{\"gridcolor\":\"white\",\"linecolor\":\"white\",\"ticks\":\"\"}},\"title\":{\"x\":0.05},\"xaxis\":{\"automargin\":true,\"gridcolor\":\"white\",\"linecolor\":\"white\",\"ticks\":\"\",\"title\":{\"standoff\":15},\"zerolinecolor\":\"white\",\"zerolinewidth\":2},\"yaxis\":{\"automargin\":true,\"gridcolor\":\"white\",\"linecolor\":\"white\",\"ticks\":\"\",\"title\":{\"standoff\":15},\"zerolinecolor\":\"white\",\"zerolinewidth\":2}}},\"title\":{\"font\":{\"color\":\"#4D5663\"}},\"xaxis\":{\"gridcolor\":\"#E1E5ED\",\"showgrid\":true,\"tickfont\":{\"color\":\"#4D5663\"},\"title\":{\"font\":{\"color\":\"#4D5663\"},\"text\":\"\"},\"zerolinecolor\":\"#E1E5ED\"},\"yaxis\":{\"gridcolor\":\"#E1E5ED\",\"showgrid\":true,\"tickfont\":{\"color\":\"#4D5663\"},\"title\":{\"font\":{\"color\":\"#4D5663\"},\"text\":\"\"},\"zerolinecolor\":\"#E1E5ED\"}},                        {\"showLink\": true, \"linkText\": \"Export to plot.ly\", \"plotlyServerURL\": \"https://plot.ly\", \"responsive\": true}                    ).then(function(){\n",
       "                            \n",
       "var gd = document.getElementById('3f738940-86c4-4467-9033-6402a0889a81');\n",
       "var x = new MutationObserver(function (mutations, observer) {{\n",
       "        var display = window.getComputedStyle(gd).display;\n",
       "        if (!display || display === 'none') {{\n",
       "            console.log([gd, 'removed!']);\n",
       "            Plotly.purge(gd);\n",
       "            observer.disconnect();\n",
       "        }}\n",
       "}});\n",
       "\n",
       "// Listen for the removal of the full notebook cells\n",
       "var notebookContainer = gd.closest('#notebook-container');\n",
       "if (notebookContainer) {{\n",
       "    x.observe(notebookContainer, {childList: true});\n",
       "}}\n",
       "\n",
       "// Listen for the clearing of the current output cell\n",
       "var outputEl = gd.closest('.output');\n",
       "if (outputEl) {{\n",
       "    x.observe(outputEl, {childList: true});\n",
       "}}\n",
       "\n",
       "                        })                };                });            </script>        </div>"
      ]
     },
     "metadata": {}
    }
   ],
   "metadata": {}
  },
  {
   "cell_type": "markdown",
   "source": [
    "## Bar Plots"
   ],
   "metadata": {}
  },
  {
   "cell_type": "code",
   "execution_count": 25,
   "source": [
    "df2.iplot(kind=\"bar\", x=\"Category\", y=\"Values\")\n"
   ],
   "outputs": [
    {
     "output_type": "display_data",
     "data": {
      "application/vnd.plotly.v1+json": {
       "config": {
        "linkText": "Export to plot.ly",
        "plotlyServerURL": "https://plot.ly",
        "showLink": true
       },
       "data": [
        {
         "marker": {
          "color": "rgba(255, 153, 51, 0.6)",
          "line": {
           "color": "rgba(255, 153, 51, 1.0)",
           "width": 1
          }
         },
         "name": "Values",
         "orientation": "v",
         "text": "",
         "type": "bar",
         "x": [
          "A",
          "B",
          "C"
         ],
         "y": [
          32,
          43,
          50
         ]
        }
       ],
       "layout": {
        "legend": {
         "bgcolor": "#F5F6F9",
         "font": {
          "color": "#4D5663"
         }
        },
        "paper_bgcolor": "#F5F6F9",
        "plot_bgcolor": "#F5F6F9",
        "template": {
         "data": {
          "bar": [
           {
            "error_x": {
             "color": "#2a3f5f"
            },
            "error_y": {
             "color": "#2a3f5f"
            },
            "marker": {
             "line": {
              "color": "#E5ECF6",
              "width": 0.5
             },
             "pattern": {
              "fillmode": "overlay",
              "size": 10,
              "solidity": 0.2
             }
            },
            "type": "bar"
           }
          ],
          "barpolar": [
           {
            "marker": {
             "line": {
              "color": "#E5ECF6",
              "width": 0.5
             },
             "pattern": {
              "fillmode": "overlay",
              "size": 10,
              "solidity": 0.2
             }
            },
            "type": "barpolar"
           }
          ],
          "carpet": [
           {
            "aaxis": {
             "endlinecolor": "#2a3f5f",
             "gridcolor": "white",
             "linecolor": "white",
             "minorgridcolor": "white",
             "startlinecolor": "#2a3f5f"
            },
            "baxis": {
             "endlinecolor": "#2a3f5f",
             "gridcolor": "white",
             "linecolor": "white",
             "minorgridcolor": "white",
             "startlinecolor": "#2a3f5f"
            },
            "type": "carpet"
           }
          ],
          "choropleth": [
           {
            "colorbar": {
             "outlinewidth": 0,
             "ticks": ""
            },
            "type": "choropleth"
           }
          ],
          "contour": [
           {
            "colorbar": {
             "outlinewidth": 0,
             "ticks": ""
            },
            "colorscale": [
             [
              0,
              "#0d0887"
             ],
             [
              0.1111111111111111,
              "#46039f"
             ],
             [
              0.2222222222222222,
              "#7201a8"
             ],
             [
              0.3333333333333333,
              "#9c179e"
             ],
             [
              0.4444444444444444,
              "#bd3786"
             ],
             [
              0.5555555555555556,
              "#d8576b"
             ],
             [
              0.6666666666666666,
              "#ed7953"
             ],
             [
              0.7777777777777778,
              "#fb9f3a"
             ],
             [
              0.8888888888888888,
              "#fdca26"
             ],
             [
              1,
              "#f0f921"
             ]
            ],
            "type": "contour"
           }
          ],
          "contourcarpet": [
           {
            "colorbar": {
             "outlinewidth": 0,
             "ticks": ""
            },
            "type": "contourcarpet"
           }
          ],
          "heatmap": [
           {
            "colorbar": {
             "outlinewidth": 0,
             "ticks": ""
            },
            "colorscale": [
             [
              0,
              "#0d0887"
             ],
             [
              0.1111111111111111,
              "#46039f"
             ],
             [
              0.2222222222222222,
              "#7201a8"
             ],
             [
              0.3333333333333333,
              "#9c179e"
             ],
             [
              0.4444444444444444,
              "#bd3786"
             ],
             [
              0.5555555555555556,
              "#d8576b"
             ],
             [
              0.6666666666666666,
              "#ed7953"
             ],
             [
              0.7777777777777778,
              "#fb9f3a"
             ],
             [
              0.8888888888888888,
              "#fdca26"
             ],
             [
              1,
              "#f0f921"
             ]
            ],
            "type": "heatmap"
           }
          ],
          "heatmapgl": [
           {
            "colorbar": {
             "outlinewidth": 0,
             "ticks": ""
            },
            "colorscale": [
             [
              0,
              "#0d0887"
             ],
             [
              0.1111111111111111,
              "#46039f"
             ],
             [
              0.2222222222222222,
              "#7201a8"
             ],
             [
              0.3333333333333333,
              "#9c179e"
             ],
             [
              0.4444444444444444,
              "#bd3786"
             ],
             [
              0.5555555555555556,
              "#d8576b"
             ],
             [
              0.6666666666666666,
              "#ed7953"
             ],
             [
              0.7777777777777778,
              "#fb9f3a"
             ],
             [
              0.8888888888888888,
              "#fdca26"
             ],
             [
              1,
              "#f0f921"
             ]
            ],
            "type": "heatmapgl"
           }
          ],
          "histogram": [
           {
            "marker": {
             "pattern": {
              "fillmode": "overlay",
              "size": 10,
              "solidity": 0.2
             }
            },
            "type": "histogram"
           }
          ],
          "histogram2d": [
           {
            "colorbar": {
             "outlinewidth": 0,
             "ticks": ""
            },
            "colorscale": [
             [
              0,
              "#0d0887"
             ],
             [
              0.1111111111111111,
              "#46039f"
             ],
             [
              0.2222222222222222,
              "#7201a8"
             ],
             [
              0.3333333333333333,
              "#9c179e"
             ],
             [
              0.4444444444444444,
              "#bd3786"
             ],
             [
              0.5555555555555556,
              "#d8576b"
             ],
             [
              0.6666666666666666,
              "#ed7953"
             ],
             [
              0.7777777777777778,
              "#fb9f3a"
             ],
             [
              0.8888888888888888,
              "#fdca26"
             ],
             [
              1,
              "#f0f921"
             ]
            ],
            "type": "histogram2d"
           }
          ],
          "histogram2dcontour": [
           {
            "colorbar": {
             "outlinewidth": 0,
             "ticks": ""
            },
            "colorscale": [
             [
              0,
              "#0d0887"
             ],
             [
              0.1111111111111111,
              "#46039f"
             ],
             [
              0.2222222222222222,
              "#7201a8"
             ],
             [
              0.3333333333333333,
              "#9c179e"
             ],
             [
              0.4444444444444444,
              "#bd3786"
             ],
             [
              0.5555555555555556,
              "#d8576b"
             ],
             [
              0.6666666666666666,
              "#ed7953"
             ],
             [
              0.7777777777777778,
              "#fb9f3a"
             ],
             [
              0.8888888888888888,
              "#fdca26"
             ],
             [
              1,
              "#f0f921"
             ]
            ],
            "type": "histogram2dcontour"
           }
          ],
          "mesh3d": [
           {
            "colorbar": {
             "outlinewidth": 0,
             "ticks": ""
            },
            "type": "mesh3d"
           }
          ],
          "parcoords": [
           {
            "line": {
             "colorbar": {
              "outlinewidth": 0,
              "ticks": ""
             }
            },
            "type": "parcoords"
           }
          ],
          "pie": [
           {
            "automargin": true,
            "type": "pie"
           }
          ],
          "scatter": [
           {
            "marker": {
             "colorbar": {
              "outlinewidth": 0,
              "ticks": ""
             }
            },
            "type": "scatter"
           }
          ],
          "scatter3d": [
           {
            "line": {
             "colorbar": {
              "outlinewidth": 0,
              "ticks": ""
             }
            },
            "marker": {
             "colorbar": {
              "outlinewidth": 0,
              "ticks": ""
             }
            },
            "type": "scatter3d"
           }
          ],
          "scattercarpet": [
           {
            "marker": {
             "colorbar": {
              "outlinewidth": 0,
              "ticks": ""
             }
            },
            "type": "scattercarpet"
           }
          ],
          "scattergeo": [
           {
            "marker": {
             "colorbar": {
              "outlinewidth": 0,
              "ticks": ""
             }
            },
            "type": "scattergeo"
           }
          ],
          "scattergl": [
           {
            "marker": {
             "colorbar": {
              "outlinewidth": 0,
              "ticks": ""
             }
            },
            "type": "scattergl"
           }
          ],
          "scattermapbox": [
           {
            "marker": {
             "colorbar": {
              "outlinewidth": 0,
              "ticks": ""
             }
            },
            "type": "scattermapbox"
           }
          ],
          "scatterpolar": [
           {
            "marker": {
             "colorbar": {
              "outlinewidth": 0,
              "ticks": ""
             }
            },
            "type": "scatterpolar"
           }
          ],
          "scatterpolargl": [
           {
            "marker": {
             "colorbar": {
              "outlinewidth": 0,
              "ticks": ""
             }
            },
            "type": "scatterpolargl"
           }
          ],
          "scatterternary": [
           {
            "marker": {
             "colorbar": {
              "outlinewidth": 0,
              "ticks": ""
             }
            },
            "type": "scatterternary"
           }
          ],
          "surface": [
           {
            "colorbar": {
             "outlinewidth": 0,
             "ticks": ""
            },
            "colorscale": [
             [
              0,
              "#0d0887"
             ],
             [
              0.1111111111111111,
              "#46039f"
             ],
             [
              0.2222222222222222,
              "#7201a8"
             ],
             [
              0.3333333333333333,
              "#9c179e"
             ],
             [
              0.4444444444444444,
              "#bd3786"
             ],
             [
              0.5555555555555556,
              "#d8576b"
             ],
             [
              0.6666666666666666,
              "#ed7953"
             ],
             [
              0.7777777777777778,
              "#fb9f3a"
             ],
             [
              0.8888888888888888,
              "#fdca26"
             ],
             [
              1,
              "#f0f921"
             ]
            ],
            "type": "surface"
           }
          ],
          "table": [
           {
            "cells": {
             "fill": {
              "color": "#EBF0F8"
             },
             "line": {
              "color": "white"
             }
            },
            "header": {
             "fill": {
              "color": "#C8D4E3"
             },
             "line": {
              "color": "white"
             }
            },
            "type": "table"
           }
          ]
         },
         "layout": {
          "annotationdefaults": {
           "arrowcolor": "#2a3f5f",
           "arrowhead": 0,
           "arrowwidth": 1
          },
          "autotypenumbers": "strict",
          "coloraxis": {
           "colorbar": {
            "outlinewidth": 0,
            "ticks": ""
           }
          },
          "colorscale": {
           "diverging": [
            [
             0,
             "#8e0152"
            ],
            [
             0.1,
             "#c51b7d"
            ],
            [
             0.2,
             "#de77ae"
            ],
            [
             0.3,
             "#f1b6da"
            ],
            [
             0.4,
             "#fde0ef"
            ],
            [
             0.5,
             "#f7f7f7"
            ],
            [
             0.6,
             "#e6f5d0"
            ],
            [
             0.7,
             "#b8e186"
            ],
            [
             0.8,
             "#7fbc41"
            ],
            [
             0.9,
             "#4d9221"
            ],
            [
             1,
             "#276419"
            ]
           ],
           "sequential": [
            [
             0,
             "#0d0887"
            ],
            [
             0.1111111111111111,
             "#46039f"
            ],
            [
             0.2222222222222222,
             "#7201a8"
            ],
            [
             0.3333333333333333,
             "#9c179e"
            ],
            [
             0.4444444444444444,
             "#bd3786"
            ],
            [
             0.5555555555555556,
             "#d8576b"
            ],
            [
             0.6666666666666666,
             "#ed7953"
            ],
            [
             0.7777777777777778,
             "#fb9f3a"
            ],
            [
             0.8888888888888888,
             "#fdca26"
            ],
            [
             1,
             "#f0f921"
            ]
           ],
           "sequentialminus": [
            [
             0,
             "#0d0887"
            ],
            [
             0.1111111111111111,
             "#46039f"
            ],
            [
             0.2222222222222222,
             "#7201a8"
            ],
            [
             0.3333333333333333,
             "#9c179e"
            ],
            [
             0.4444444444444444,
             "#bd3786"
            ],
            [
             0.5555555555555556,
             "#d8576b"
            ],
            [
             0.6666666666666666,
             "#ed7953"
            ],
            [
             0.7777777777777778,
             "#fb9f3a"
            ],
            [
             0.8888888888888888,
             "#fdca26"
            ],
            [
             1,
             "#f0f921"
            ]
           ]
          },
          "colorway": [
           "#636efa",
           "#EF553B",
           "#00cc96",
           "#ab63fa",
           "#FFA15A",
           "#19d3f3",
           "#FF6692",
           "#B6E880",
           "#FF97FF",
           "#FECB52"
          ],
          "font": {
           "color": "#2a3f5f"
          },
          "geo": {
           "bgcolor": "white",
           "lakecolor": "white",
           "landcolor": "#E5ECF6",
           "showlakes": true,
           "showland": true,
           "subunitcolor": "white"
          },
          "hoverlabel": {
           "align": "left"
          },
          "hovermode": "closest",
          "mapbox": {
           "style": "light"
          },
          "paper_bgcolor": "white",
          "plot_bgcolor": "#E5ECF6",
          "polar": {
           "angularaxis": {
            "gridcolor": "white",
            "linecolor": "white",
            "ticks": ""
           },
           "bgcolor": "#E5ECF6",
           "radialaxis": {
            "gridcolor": "white",
            "linecolor": "white",
            "ticks": ""
           }
          },
          "scene": {
           "xaxis": {
            "backgroundcolor": "#E5ECF6",
            "gridcolor": "white",
            "gridwidth": 2,
            "linecolor": "white",
            "showbackground": true,
            "ticks": "",
            "zerolinecolor": "white"
           },
           "yaxis": {
            "backgroundcolor": "#E5ECF6",
            "gridcolor": "white",
            "gridwidth": 2,
            "linecolor": "white",
            "showbackground": true,
            "ticks": "",
            "zerolinecolor": "white"
           },
           "zaxis": {
            "backgroundcolor": "#E5ECF6",
            "gridcolor": "white",
            "gridwidth": 2,
            "linecolor": "white",
            "showbackground": true,
            "ticks": "",
            "zerolinecolor": "white"
           }
          },
          "shapedefaults": {
           "line": {
            "color": "#2a3f5f"
           }
          },
          "ternary": {
           "aaxis": {
            "gridcolor": "white",
            "linecolor": "white",
            "ticks": ""
           },
           "baxis": {
            "gridcolor": "white",
            "linecolor": "white",
            "ticks": ""
           },
           "bgcolor": "#E5ECF6",
           "caxis": {
            "gridcolor": "white",
            "linecolor": "white",
            "ticks": ""
           }
          },
          "title": {
           "x": 0.05
          },
          "xaxis": {
           "automargin": true,
           "gridcolor": "white",
           "linecolor": "white",
           "ticks": "",
           "title": {
            "standoff": 15
           },
           "zerolinecolor": "white",
           "zerolinewidth": 2
          },
          "yaxis": {
           "automargin": true,
           "gridcolor": "white",
           "linecolor": "white",
           "ticks": "",
           "title": {
            "standoff": 15
           },
           "zerolinecolor": "white",
           "zerolinewidth": 2
          }
         }
        },
        "title": {
         "font": {
          "color": "#4D5663"
         }
        },
        "xaxis": {
         "gridcolor": "#E1E5ED",
         "showgrid": true,
         "tickfont": {
          "color": "#4D5663"
         },
         "title": {
          "font": {
           "color": "#4D5663"
          },
          "text": ""
         },
         "zerolinecolor": "#E1E5ED"
        },
        "yaxis": {
         "gridcolor": "#E1E5ED",
         "showgrid": true,
         "tickfont": {
          "color": "#4D5663"
         },
         "title": {
          "font": {
           "color": "#4D5663"
          },
          "text": ""
         },
         "zerolinecolor": "#E1E5ED"
        }
       }
      },
      "text/html": [
       "<div>                            <div id=\"35b4e87e-58ba-4105-be4f-f02a45e2a161\" class=\"plotly-graph-div\" style=\"height:525px; width:100%;\"></div>            <script type=\"text/javascript\">                require([\"plotly\"], function(Plotly) {                    window.PLOTLYENV=window.PLOTLYENV || {};\n",
       "                    window.PLOTLYENV.BASE_URL='https://plot.ly';                                    if (document.getElementById(\"35b4e87e-58ba-4105-be4f-f02a45e2a161\")) {                    Plotly.newPlot(                        \"35b4e87e-58ba-4105-be4f-f02a45e2a161\",                        [{\"marker\":{\"color\":\"rgba(255, 153, 51, 0.6)\",\"line\":{\"color\":\"rgba(255, 153, 51, 1.0)\",\"width\":1}},\"name\":\"Values\",\"orientation\":\"v\",\"text\":\"\",\"type\":\"bar\",\"x\":[\"A\",\"B\",\"C\"],\"y\":[32,43,50]}],                        {\"legend\":{\"bgcolor\":\"#F5F6F9\",\"font\":{\"color\":\"#4D5663\"}},\"paper_bgcolor\":\"#F5F6F9\",\"plot_bgcolor\":\"#F5F6F9\",\"template\":{\"data\":{\"bar\":[{\"error_x\":{\"color\":\"#2a3f5f\"},\"error_y\":{\"color\":\"#2a3f5f\"},\"marker\":{\"line\":{\"color\":\"#E5ECF6\",\"width\":0.5},\"pattern\":{\"fillmode\":\"overlay\",\"size\":10,\"solidity\":0.2}},\"type\":\"bar\"}],\"barpolar\":[{\"marker\":{\"line\":{\"color\":\"#E5ECF6\",\"width\":0.5},\"pattern\":{\"fillmode\":\"overlay\",\"size\":10,\"solidity\":0.2}},\"type\":\"barpolar\"}],\"carpet\":[{\"aaxis\":{\"endlinecolor\":\"#2a3f5f\",\"gridcolor\":\"white\",\"linecolor\":\"white\",\"minorgridcolor\":\"white\",\"startlinecolor\":\"#2a3f5f\"},\"baxis\":{\"endlinecolor\":\"#2a3f5f\",\"gridcolor\":\"white\",\"linecolor\":\"white\",\"minorgridcolor\":\"white\",\"startlinecolor\":\"#2a3f5f\"},\"type\":\"carpet\"}],\"choropleth\":[{\"colorbar\":{\"outlinewidth\":0,\"ticks\":\"\"},\"type\":\"choropleth\"}],\"contour\":[{\"colorbar\":{\"outlinewidth\":0,\"ticks\":\"\"},\"colorscale\":[[0.0,\"#0d0887\"],[0.1111111111111111,\"#46039f\"],[0.2222222222222222,\"#7201a8\"],[0.3333333333333333,\"#9c179e\"],[0.4444444444444444,\"#bd3786\"],[0.5555555555555556,\"#d8576b\"],[0.6666666666666666,\"#ed7953\"],[0.7777777777777778,\"#fb9f3a\"],[0.8888888888888888,\"#fdca26\"],[1.0,\"#f0f921\"]],\"type\":\"contour\"}],\"contourcarpet\":[{\"colorbar\":{\"outlinewidth\":0,\"ticks\":\"\"},\"type\":\"contourcarpet\"}],\"heatmap\":[{\"colorbar\":{\"outlinewidth\":0,\"ticks\":\"\"},\"colorscale\":[[0.0,\"#0d0887\"],[0.1111111111111111,\"#46039f\"],[0.2222222222222222,\"#7201a8\"],[0.3333333333333333,\"#9c179e\"],[0.4444444444444444,\"#bd3786\"],[0.5555555555555556,\"#d8576b\"],[0.6666666666666666,\"#ed7953\"],[0.7777777777777778,\"#fb9f3a\"],[0.8888888888888888,\"#fdca26\"],[1.0,\"#f0f921\"]],\"type\":\"heatmap\"}],\"heatmapgl\":[{\"colorbar\":{\"outlinewidth\":0,\"ticks\":\"\"},\"colorscale\":[[0.0,\"#0d0887\"],[0.1111111111111111,\"#46039f\"],[0.2222222222222222,\"#7201a8\"],[0.3333333333333333,\"#9c179e\"],[0.4444444444444444,\"#bd3786\"],[0.5555555555555556,\"#d8576b\"],[0.6666666666666666,\"#ed7953\"],[0.7777777777777778,\"#fb9f3a\"],[0.8888888888888888,\"#fdca26\"],[1.0,\"#f0f921\"]],\"type\":\"heatmapgl\"}],\"histogram\":[{\"marker\":{\"pattern\":{\"fillmode\":\"overlay\",\"size\":10,\"solidity\":0.2}},\"type\":\"histogram\"}],\"histogram2d\":[{\"colorbar\":{\"outlinewidth\":0,\"ticks\":\"\"},\"colorscale\":[[0.0,\"#0d0887\"],[0.1111111111111111,\"#46039f\"],[0.2222222222222222,\"#7201a8\"],[0.3333333333333333,\"#9c179e\"],[0.4444444444444444,\"#bd3786\"],[0.5555555555555556,\"#d8576b\"],[0.6666666666666666,\"#ed7953\"],[0.7777777777777778,\"#fb9f3a\"],[0.8888888888888888,\"#fdca26\"],[1.0,\"#f0f921\"]],\"type\":\"histogram2d\"}],\"histogram2dcontour\":[{\"colorbar\":{\"outlinewidth\":0,\"ticks\":\"\"},\"colorscale\":[[0.0,\"#0d0887\"],[0.1111111111111111,\"#46039f\"],[0.2222222222222222,\"#7201a8\"],[0.3333333333333333,\"#9c179e\"],[0.4444444444444444,\"#bd3786\"],[0.5555555555555556,\"#d8576b\"],[0.6666666666666666,\"#ed7953\"],[0.7777777777777778,\"#fb9f3a\"],[0.8888888888888888,\"#fdca26\"],[1.0,\"#f0f921\"]],\"type\":\"histogram2dcontour\"}],\"mesh3d\":[{\"colorbar\":{\"outlinewidth\":0,\"ticks\":\"\"},\"type\":\"mesh3d\"}],\"parcoords\":[{\"line\":{\"colorbar\":{\"outlinewidth\":0,\"ticks\":\"\"}},\"type\":\"parcoords\"}],\"pie\":[{\"automargin\":true,\"type\":\"pie\"}],\"scatter\":[{\"marker\":{\"colorbar\":{\"outlinewidth\":0,\"ticks\":\"\"}},\"type\":\"scatter\"}],\"scatter3d\":[{\"line\":{\"colorbar\":{\"outlinewidth\":0,\"ticks\":\"\"}},\"marker\":{\"colorbar\":{\"outlinewidth\":0,\"ticks\":\"\"}},\"type\":\"scatter3d\"}],\"scattercarpet\":[{\"marker\":{\"colorbar\":{\"outlinewidth\":0,\"ticks\":\"\"}},\"type\":\"scattercarpet\"}],\"scattergeo\":[{\"marker\":{\"colorbar\":{\"outlinewidth\":0,\"ticks\":\"\"}},\"type\":\"scattergeo\"}],\"scattergl\":[{\"marker\":{\"colorbar\":{\"outlinewidth\":0,\"ticks\":\"\"}},\"type\":\"scattergl\"}],\"scattermapbox\":[{\"marker\":{\"colorbar\":{\"outlinewidth\":0,\"ticks\":\"\"}},\"type\":\"scattermapbox\"}],\"scatterpolar\":[{\"marker\":{\"colorbar\":{\"outlinewidth\":0,\"ticks\":\"\"}},\"type\":\"scatterpolar\"}],\"scatterpolargl\":[{\"marker\":{\"colorbar\":{\"outlinewidth\":0,\"ticks\":\"\"}},\"type\":\"scatterpolargl\"}],\"scatterternary\":[{\"marker\":{\"colorbar\":{\"outlinewidth\":0,\"ticks\":\"\"}},\"type\":\"scatterternary\"}],\"surface\":[{\"colorbar\":{\"outlinewidth\":0,\"ticks\":\"\"},\"colorscale\":[[0.0,\"#0d0887\"],[0.1111111111111111,\"#46039f\"],[0.2222222222222222,\"#7201a8\"],[0.3333333333333333,\"#9c179e\"],[0.4444444444444444,\"#bd3786\"],[0.5555555555555556,\"#d8576b\"],[0.6666666666666666,\"#ed7953\"],[0.7777777777777778,\"#fb9f3a\"],[0.8888888888888888,\"#fdca26\"],[1.0,\"#f0f921\"]],\"type\":\"surface\"}],\"table\":[{\"cells\":{\"fill\":{\"color\":\"#EBF0F8\"},\"line\":{\"color\":\"white\"}},\"header\":{\"fill\":{\"color\":\"#C8D4E3\"},\"line\":{\"color\":\"white\"}},\"type\":\"table\"}]},\"layout\":{\"annotationdefaults\":{\"arrowcolor\":\"#2a3f5f\",\"arrowhead\":0,\"arrowwidth\":1},\"autotypenumbers\":\"strict\",\"coloraxis\":{\"colorbar\":{\"outlinewidth\":0,\"ticks\":\"\"}},\"colorscale\":{\"diverging\":[[0,\"#8e0152\"],[0.1,\"#c51b7d\"],[0.2,\"#de77ae\"],[0.3,\"#f1b6da\"],[0.4,\"#fde0ef\"],[0.5,\"#f7f7f7\"],[0.6,\"#e6f5d0\"],[0.7,\"#b8e186\"],[0.8,\"#7fbc41\"],[0.9,\"#4d9221\"],[1,\"#276419\"]],\"sequential\":[[0.0,\"#0d0887\"],[0.1111111111111111,\"#46039f\"],[0.2222222222222222,\"#7201a8\"],[0.3333333333333333,\"#9c179e\"],[0.4444444444444444,\"#bd3786\"],[0.5555555555555556,\"#d8576b\"],[0.6666666666666666,\"#ed7953\"],[0.7777777777777778,\"#fb9f3a\"],[0.8888888888888888,\"#fdca26\"],[1.0,\"#f0f921\"]],\"sequentialminus\":[[0.0,\"#0d0887\"],[0.1111111111111111,\"#46039f\"],[0.2222222222222222,\"#7201a8\"],[0.3333333333333333,\"#9c179e\"],[0.4444444444444444,\"#bd3786\"],[0.5555555555555556,\"#d8576b\"],[0.6666666666666666,\"#ed7953\"],[0.7777777777777778,\"#fb9f3a\"],[0.8888888888888888,\"#fdca26\"],[1.0,\"#f0f921\"]]},\"colorway\":[\"#636efa\",\"#EF553B\",\"#00cc96\",\"#ab63fa\",\"#FFA15A\",\"#19d3f3\",\"#FF6692\",\"#B6E880\",\"#FF97FF\",\"#FECB52\"],\"font\":{\"color\":\"#2a3f5f\"},\"geo\":{\"bgcolor\":\"white\",\"lakecolor\":\"white\",\"landcolor\":\"#E5ECF6\",\"showlakes\":true,\"showland\":true,\"subunitcolor\":\"white\"},\"hoverlabel\":{\"align\":\"left\"},\"hovermode\":\"closest\",\"mapbox\":{\"style\":\"light\"},\"paper_bgcolor\":\"white\",\"plot_bgcolor\":\"#E5ECF6\",\"polar\":{\"angularaxis\":{\"gridcolor\":\"white\",\"linecolor\":\"white\",\"ticks\":\"\"},\"bgcolor\":\"#E5ECF6\",\"radialaxis\":{\"gridcolor\":\"white\",\"linecolor\":\"white\",\"ticks\":\"\"}},\"scene\":{\"xaxis\":{\"backgroundcolor\":\"#E5ECF6\",\"gridcolor\":\"white\",\"gridwidth\":2,\"linecolor\":\"white\",\"showbackground\":true,\"ticks\":\"\",\"zerolinecolor\":\"white\"},\"yaxis\":{\"backgroundcolor\":\"#E5ECF6\",\"gridcolor\":\"white\",\"gridwidth\":2,\"linecolor\":\"white\",\"showbackground\":true,\"ticks\":\"\",\"zerolinecolor\":\"white\"},\"zaxis\":{\"backgroundcolor\":\"#E5ECF6\",\"gridcolor\":\"white\",\"gridwidth\":2,\"linecolor\":\"white\",\"showbackground\":true,\"ticks\":\"\",\"zerolinecolor\":\"white\"}},\"shapedefaults\":{\"line\":{\"color\":\"#2a3f5f\"}},\"ternary\":{\"aaxis\":{\"gridcolor\":\"white\",\"linecolor\":\"white\",\"ticks\":\"\"},\"baxis\":{\"gridcolor\":\"white\",\"linecolor\":\"white\",\"ticks\":\"\"},\"bgcolor\":\"#E5ECF6\",\"caxis\":{\"gridcolor\":\"white\",\"linecolor\":\"white\",\"ticks\":\"\"}},\"title\":{\"x\":0.05},\"xaxis\":{\"automargin\":true,\"gridcolor\":\"white\",\"linecolor\":\"white\",\"ticks\":\"\",\"title\":{\"standoff\":15},\"zerolinecolor\":\"white\",\"zerolinewidth\":2},\"yaxis\":{\"automargin\":true,\"gridcolor\":\"white\",\"linecolor\":\"white\",\"ticks\":\"\",\"title\":{\"standoff\":15},\"zerolinecolor\":\"white\",\"zerolinewidth\":2}}},\"title\":{\"font\":{\"color\":\"#4D5663\"}},\"xaxis\":{\"gridcolor\":\"#E1E5ED\",\"showgrid\":true,\"tickfont\":{\"color\":\"#4D5663\"},\"title\":{\"font\":{\"color\":\"#4D5663\"},\"text\":\"\"},\"zerolinecolor\":\"#E1E5ED\"},\"yaxis\":{\"gridcolor\":\"#E1E5ED\",\"showgrid\":true,\"tickfont\":{\"color\":\"#4D5663\"},\"title\":{\"font\":{\"color\":\"#4D5663\"},\"text\":\"\"},\"zerolinecolor\":\"#E1E5ED\"}},                        {\"showLink\": true, \"linkText\": \"Export to plot.ly\", \"plotlyServerURL\": \"https://plot.ly\", \"responsive\": true}                    ).then(function(){\n",
       "                            \n",
       "var gd = document.getElementById('35b4e87e-58ba-4105-be4f-f02a45e2a161');\n",
       "var x = new MutationObserver(function (mutations, observer) {{\n",
       "        var display = window.getComputedStyle(gd).display;\n",
       "        if (!display || display === 'none') {{\n",
       "            console.log([gd, 'removed!']);\n",
       "            Plotly.purge(gd);\n",
       "            observer.disconnect();\n",
       "        }}\n",
       "}});\n",
       "\n",
       "// Listen for the removal of the full notebook cells\n",
       "var notebookContainer = gd.closest('#notebook-container');\n",
       "if (notebookContainer) {{\n",
       "    x.observe(notebookContainer, {childList: true});\n",
       "}}\n",
       "\n",
       "// Listen for the clearing of the current output cell\n",
       "var outputEl = gd.closest('.output');\n",
       "if (outputEl) {{\n",
       "    x.observe(outputEl, {childList: true});\n",
       "}}\n",
       "\n",
       "                        })                };                });            </script>        </div>"
      ]
     },
     "metadata": {}
    }
   ],
   "metadata": {}
  },
  {
   "cell_type": "code",
   "execution_count": 26,
   "source": [
    "df.count().iplot(kind=\"bar\")\n"
   ],
   "outputs": [
    {
     "output_type": "display_data",
     "data": {
      "application/vnd.plotly.v1+json": {
       "config": {
        "linkText": "Export to plot.ly",
        "plotlyServerURL": "https://plot.ly",
        "showLink": true
       },
       "data": [
        {
         "marker": {
          "color": "rgba(255, 153, 51, 0.6)",
          "line": {
           "color": "rgba(255, 153, 51, 1.0)",
           "width": 1
          }
         },
         "name": "None",
         "orientation": "v",
         "text": "",
         "type": "bar",
         "x": [
          "A",
          "B",
          "C",
          "D"
         ],
         "y": [
          100,
          100,
          100,
          100
         ]
        }
       ],
       "layout": {
        "legend": {
         "bgcolor": "#F5F6F9",
         "font": {
          "color": "#4D5663"
         }
        },
        "paper_bgcolor": "#F5F6F9",
        "plot_bgcolor": "#F5F6F9",
        "template": {
         "data": {
          "bar": [
           {
            "error_x": {
             "color": "#2a3f5f"
            },
            "error_y": {
             "color": "#2a3f5f"
            },
            "marker": {
             "line": {
              "color": "#E5ECF6",
              "width": 0.5
             },
             "pattern": {
              "fillmode": "overlay",
              "size": 10,
              "solidity": 0.2
             }
            },
            "type": "bar"
           }
          ],
          "barpolar": [
           {
            "marker": {
             "line": {
              "color": "#E5ECF6",
              "width": 0.5
             },
             "pattern": {
              "fillmode": "overlay",
              "size": 10,
              "solidity": 0.2
             }
            },
            "type": "barpolar"
           }
          ],
          "carpet": [
           {
            "aaxis": {
             "endlinecolor": "#2a3f5f",
             "gridcolor": "white",
             "linecolor": "white",
             "minorgridcolor": "white",
             "startlinecolor": "#2a3f5f"
            },
            "baxis": {
             "endlinecolor": "#2a3f5f",
             "gridcolor": "white",
             "linecolor": "white",
             "minorgridcolor": "white",
             "startlinecolor": "#2a3f5f"
            },
            "type": "carpet"
           }
          ],
          "choropleth": [
           {
            "colorbar": {
             "outlinewidth": 0,
             "ticks": ""
            },
            "type": "choropleth"
           }
          ],
          "contour": [
           {
            "colorbar": {
             "outlinewidth": 0,
             "ticks": ""
            },
            "colorscale": [
             [
              0,
              "#0d0887"
             ],
             [
              0.1111111111111111,
              "#46039f"
             ],
             [
              0.2222222222222222,
              "#7201a8"
             ],
             [
              0.3333333333333333,
              "#9c179e"
             ],
             [
              0.4444444444444444,
              "#bd3786"
             ],
             [
              0.5555555555555556,
              "#d8576b"
             ],
             [
              0.6666666666666666,
              "#ed7953"
             ],
             [
              0.7777777777777778,
              "#fb9f3a"
             ],
             [
              0.8888888888888888,
              "#fdca26"
             ],
             [
              1,
              "#f0f921"
             ]
            ],
            "type": "contour"
           }
          ],
          "contourcarpet": [
           {
            "colorbar": {
             "outlinewidth": 0,
             "ticks": ""
            },
            "type": "contourcarpet"
           }
          ],
          "heatmap": [
           {
            "colorbar": {
             "outlinewidth": 0,
             "ticks": ""
            },
            "colorscale": [
             [
              0,
              "#0d0887"
             ],
             [
              0.1111111111111111,
              "#46039f"
             ],
             [
              0.2222222222222222,
              "#7201a8"
             ],
             [
              0.3333333333333333,
              "#9c179e"
             ],
             [
              0.4444444444444444,
              "#bd3786"
             ],
             [
              0.5555555555555556,
              "#d8576b"
             ],
             [
              0.6666666666666666,
              "#ed7953"
             ],
             [
              0.7777777777777778,
              "#fb9f3a"
             ],
             [
              0.8888888888888888,
              "#fdca26"
             ],
             [
              1,
              "#f0f921"
             ]
            ],
            "type": "heatmap"
           }
          ],
          "heatmapgl": [
           {
            "colorbar": {
             "outlinewidth": 0,
             "ticks": ""
            },
            "colorscale": [
             [
              0,
              "#0d0887"
             ],
             [
              0.1111111111111111,
              "#46039f"
             ],
             [
              0.2222222222222222,
              "#7201a8"
             ],
             [
              0.3333333333333333,
              "#9c179e"
             ],
             [
              0.4444444444444444,
              "#bd3786"
             ],
             [
              0.5555555555555556,
              "#d8576b"
             ],
             [
              0.6666666666666666,
              "#ed7953"
             ],
             [
              0.7777777777777778,
              "#fb9f3a"
             ],
             [
              0.8888888888888888,
              "#fdca26"
             ],
             [
              1,
              "#f0f921"
             ]
            ],
            "type": "heatmapgl"
           }
          ],
          "histogram": [
           {
            "marker": {
             "pattern": {
              "fillmode": "overlay",
              "size": 10,
              "solidity": 0.2
             }
            },
            "type": "histogram"
           }
          ],
          "histogram2d": [
           {
            "colorbar": {
             "outlinewidth": 0,
             "ticks": ""
            },
            "colorscale": [
             [
              0,
              "#0d0887"
             ],
             [
              0.1111111111111111,
              "#46039f"
             ],
             [
              0.2222222222222222,
              "#7201a8"
             ],
             [
              0.3333333333333333,
              "#9c179e"
             ],
             [
              0.4444444444444444,
              "#bd3786"
             ],
             [
              0.5555555555555556,
              "#d8576b"
             ],
             [
              0.6666666666666666,
              "#ed7953"
             ],
             [
              0.7777777777777778,
              "#fb9f3a"
             ],
             [
              0.8888888888888888,
              "#fdca26"
             ],
             [
              1,
              "#f0f921"
             ]
            ],
            "type": "histogram2d"
           }
          ],
          "histogram2dcontour": [
           {
            "colorbar": {
             "outlinewidth": 0,
             "ticks": ""
            },
            "colorscale": [
             [
              0,
              "#0d0887"
             ],
             [
              0.1111111111111111,
              "#46039f"
             ],
             [
              0.2222222222222222,
              "#7201a8"
             ],
             [
              0.3333333333333333,
              "#9c179e"
             ],
             [
              0.4444444444444444,
              "#bd3786"
             ],
             [
              0.5555555555555556,
              "#d8576b"
             ],
             [
              0.6666666666666666,
              "#ed7953"
             ],
             [
              0.7777777777777778,
              "#fb9f3a"
             ],
             [
              0.8888888888888888,
              "#fdca26"
             ],
             [
              1,
              "#f0f921"
             ]
            ],
            "type": "histogram2dcontour"
           }
          ],
          "mesh3d": [
           {
            "colorbar": {
             "outlinewidth": 0,
             "ticks": ""
            },
            "type": "mesh3d"
           }
          ],
          "parcoords": [
           {
            "line": {
             "colorbar": {
              "outlinewidth": 0,
              "ticks": ""
             }
            },
            "type": "parcoords"
           }
          ],
          "pie": [
           {
            "automargin": true,
            "type": "pie"
           }
          ],
          "scatter": [
           {
            "marker": {
             "colorbar": {
              "outlinewidth": 0,
              "ticks": ""
             }
            },
            "type": "scatter"
           }
          ],
          "scatter3d": [
           {
            "line": {
             "colorbar": {
              "outlinewidth": 0,
              "ticks": ""
             }
            },
            "marker": {
             "colorbar": {
              "outlinewidth": 0,
              "ticks": ""
             }
            },
            "type": "scatter3d"
           }
          ],
          "scattercarpet": [
           {
            "marker": {
             "colorbar": {
              "outlinewidth": 0,
              "ticks": ""
             }
            },
            "type": "scattercarpet"
           }
          ],
          "scattergeo": [
           {
            "marker": {
             "colorbar": {
              "outlinewidth": 0,
              "ticks": ""
             }
            },
            "type": "scattergeo"
           }
          ],
          "scattergl": [
           {
            "marker": {
             "colorbar": {
              "outlinewidth": 0,
              "ticks": ""
             }
            },
            "type": "scattergl"
           }
          ],
          "scattermapbox": [
           {
            "marker": {
             "colorbar": {
              "outlinewidth": 0,
              "ticks": ""
             }
            },
            "type": "scattermapbox"
           }
          ],
          "scatterpolar": [
           {
            "marker": {
             "colorbar": {
              "outlinewidth": 0,
              "ticks": ""
             }
            },
            "type": "scatterpolar"
           }
          ],
          "scatterpolargl": [
           {
            "marker": {
             "colorbar": {
              "outlinewidth": 0,
              "ticks": ""
             }
            },
            "type": "scatterpolargl"
           }
          ],
          "scatterternary": [
           {
            "marker": {
             "colorbar": {
              "outlinewidth": 0,
              "ticks": ""
             }
            },
            "type": "scatterternary"
           }
          ],
          "surface": [
           {
            "colorbar": {
             "outlinewidth": 0,
             "ticks": ""
            },
            "colorscale": [
             [
              0,
              "#0d0887"
             ],
             [
              0.1111111111111111,
              "#46039f"
             ],
             [
              0.2222222222222222,
              "#7201a8"
             ],
             [
              0.3333333333333333,
              "#9c179e"
             ],
             [
              0.4444444444444444,
              "#bd3786"
             ],
             [
              0.5555555555555556,
              "#d8576b"
             ],
             [
              0.6666666666666666,
              "#ed7953"
             ],
             [
              0.7777777777777778,
              "#fb9f3a"
             ],
             [
              0.8888888888888888,
              "#fdca26"
             ],
             [
              1,
              "#f0f921"
             ]
            ],
            "type": "surface"
           }
          ],
          "table": [
           {
            "cells": {
             "fill": {
              "color": "#EBF0F8"
             },
             "line": {
              "color": "white"
             }
            },
            "header": {
             "fill": {
              "color": "#C8D4E3"
             },
             "line": {
              "color": "white"
             }
            },
            "type": "table"
           }
          ]
         },
         "layout": {
          "annotationdefaults": {
           "arrowcolor": "#2a3f5f",
           "arrowhead": 0,
           "arrowwidth": 1
          },
          "autotypenumbers": "strict",
          "coloraxis": {
           "colorbar": {
            "outlinewidth": 0,
            "ticks": ""
           }
          },
          "colorscale": {
           "diverging": [
            [
             0,
             "#8e0152"
            ],
            [
             0.1,
             "#c51b7d"
            ],
            [
             0.2,
             "#de77ae"
            ],
            [
             0.3,
             "#f1b6da"
            ],
            [
             0.4,
             "#fde0ef"
            ],
            [
             0.5,
             "#f7f7f7"
            ],
            [
             0.6,
             "#e6f5d0"
            ],
            [
             0.7,
             "#b8e186"
            ],
            [
             0.8,
             "#7fbc41"
            ],
            [
             0.9,
             "#4d9221"
            ],
            [
             1,
             "#276419"
            ]
           ],
           "sequential": [
            [
             0,
             "#0d0887"
            ],
            [
             0.1111111111111111,
             "#46039f"
            ],
            [
             0.2222222222222222,
             "#7201a8"
            ],
            [
             0.3333333333333333,
             "#9c179e"
            ],
            [
             0.4444444444444444,
             "#bd3786"
            ],
            [
             0.5555555555555556,
             "#d8576b"
            ],
            [
             0.6666666666666666,
             "#ed7953"
            ],
            [
             0.7777777777777778,
             "#fb9f3a"
            ],
            [
             0.8888888888888888,
             "#fdca26"
            ],
            [
             1,
             "#f0f921"
            ]
           ],
           "sequentialminus": [
            [
             0,
             "#0d0887"
            ],
            [
             0.1111111111111111,
             "#46039f"
            ],
            [
             0.2222222222222222,
             "#7201a8"
            ],
            [
             0.3333333333333333,
             "#9c179e"
            ],
            [
             0.4444444444444444,
             "#bd3786"
            ],
            [
             0.5555555555555556,
             "#d8576b"
            ],
            [
             0.6666666666666666,
             "#ed7953"
            ],
            [
             0.7777777777777778,
             "#fb9f3a"
            ],
            [
             0.8888888888888888,
             "#fdca26"
            ],
            [
             1,
             "#f0f921"
            ]
           ]
          },
          "colorway": [
           "#636efa",
           "#EF553B",
           "#00cc96",
           "#ab63fa",
           "#FFA15A",
           "#19d3f3",
           "#FF6692",
           "#B6E880",
           "#FF97FF",
           "#FECB52"
          ],
          "font": {
           "color": "#2a3f5f"
          },
          "geo": {
           "bgcolor": "white",
           "lakecolor": "white",
           "landcolor": "#E5ECF6",
           "showlakes": true,
           "showland": true,
           "subunitcolor": "white"
          },
          "hoverlabel": {
           "align": "left"
          },
          "hovermode": "closest",
          "mapbox": {
           "style": "light"
          },
          "paper_bgcolor": "white",
          "plot_bgcolor": "#E5ECF6",
          "polar": {
           "angularaxis": {
            "gridcolor": "white",
            "linecolor": "white",
            "ticks": ""
           },
           "bgcolor": "#E5ECF6",
           "radialaxis": {
            "gridcolor": "white",
            "linecolor": "white",
            "ticks": ""
           }
          },
          "scene": {
           "xaxis": {
            "backgroundcolor": "#E5ECF6",
            "gridcolor": "white",
            "gridwidth": 2,
            "linecolor": "white",
            "showbackground": true,
            "ticks": "",
            "zerolinecolor": "white"
           },
           "yaxis": {
            "backgroundcolor": "#E5ECF6",
            "gridcolor": "white",
            "gridwidth": 2,
            "linecolor": "white",
            "showbackground": true,
            "ticks": "",
            "zerolinecolor": "white"
           },
           "zaxis": {
            "backgroundcolor": "#E5ECF6",
            "gridcolor": "white",
            "gridwidth": 2,
            "linecolor": "white",
            "showbackground": true,
            "ticks": "",
            "zerolinecolor": "white"
           }
          },
          "shapedefaults": {
           "line": {
            "color": "#2a3f5f"
           }
          },
          "ternary": {
           "aaxis": {
            "gridcolor": "white",
            "linecolor": "white",
            "ticks": ""
           },
           "baxis": {
            "gridcolor": "white",
            "linecolor": "white",
            "ticks": ""
           },
           "bgcolor": "#E5ECF6",
           "caxis": {
            "gridcolor": "white",
            "linecolor": "white",
            "ticks": ""
           }
          },
          "title": {
           "x": 0.05
          },
          "xaxis": {
           "automargin": true,
           "gridcolor": "white",
           "linecolor": "white",
           "ticks": "",
           "title": {
            "standoff": 15
           },
           "zerolinecolor": "white",
           "zerolinewidth": 2
          },
          "yaxis": {
           "automargin": true,
           "gridcolor": "white",
           "linecolor": "white",
           "ticks": "",
           "title": {
            "standoff": 15
           },
           "zerolinecolor": "white",
           "zerolinewidth": 2
          }
         }
        },
        "title": {
         "font": {
          "color": "#4D5663"
         }
        },
        "xaxis": {
         "gridcolor": "#E1E5ED",
         "showgrid": true,
         "tickfont": {
          "color": "#4D5663"
         },
         "title": {
          "font": {
           "color": "#4D5663"
          },
          "text": ""
         },
         "zerolinecolor": "#E1E5ED"
        },
        "yaxis": {
         "gridcolor": "#E1E5ED",
         "showgrid": true,
         "tickfont": {
          "color": "#4D5663"
         },
         "title": {
          "font": {
           "color": "#4D5663"
          },
          "text": ""
         },
         "zerolinecolor": "#E1E5ED"
        }
       }
      },
      "text/html": [
       "<div>                            <div id=\"f24e0fc9-ee53-42ff-ac34-6a42002ee967\" class=\"plotly-graph-div\" style=\"height:525px; width:100%;\"></div>            <script type=\"text/javascript\">                require([\"plotly\"], function(Plotly) {                    window.PLOTLYENV=window.PLOTLYENV || {};\n",
       "                    window.PLOTLYENV.BASE_URL='https://plot.ly';                                    if (document.getElementById(\"f24e0fc9-ee53-42ff-ac34-6a42002ee967\")) {                    Plotly.newPlot(                        \"f24e0fc9-ee53-42ff-ac34-6a42002ee967\",                        [{\"marker\":{\"color\":\"rgba(255, 153, 51, 0.6)\",\"line\":{\"color\":\"rgba(255, 153, 51, 1.0)\",\"width\":1}},\"name\":\"None\",\"orientation\":\"v\",\"text\":\"\",\"type\":\"bar\",\"x\":[\"A\",\"B\",\"C\",\"D\"],\"y\":[100,100,100,100]}],                        {\"legend\":{\"bgcolor\":\"#F5F6F9\",\"font\":{\"color\":\"#4D5663\"}},\"paper_bgcolor\":\"#F5F6F9\",\"plot_bgcolor\":\"#F5F6F9\",\"template\":{\"data\":{\"bar\":[{\"error_x\":{\"color\":\"#2a3f5f\"},\"error_y\":{\"color\":\"#2a3f5f\"},\"marker\":{\"line\":{\"color\":\"#E5ECF6\",\"width\":0.5},\"pattern\":{\"fillmode\":\"overlay\",\"size\":10,\"solidity\":0.2}},\"type\":\"bar\"}],\"barpolar\":[{\"marker\":{\"line\":{\"color\":\"#E5ECF6\",\"width\":0.5},\"pattern\":{\"fillmode\":\"overlay\",\"size\":10,\"solidity\":0.2}},\"type\":\"barpolar\"}],\"carpet\":[{\"aaxis\":{\"endlinecolor\":\"#2a3f5f\",\"gridcolor\":\"white\",\"linecolor\":\"white\",\"minorgridcolor\":\"white\",\"startlinecolor\":\"#2a3f5f\"},\"baxis\":{\"endlinecolor\":\"#2a3f5f\",\"gridcolor\":\"white\",\"linecolor\":\"white\",\"minorgridcolor\":\"white\",\"startlinecolor\":\"#2a3f5f\"},\"type\":\"carpet\"}],\"choropleth\":[{\"colorbar\":{\"outlinewidth\":0,\"ticks\":\"\"},\"type\":\"choropleth\"}],\"contour\":[{\"colorbar\":{\"outlinewidth\":0,\"ticks\":\"\"},\"colorscale\":[[0.0,\"#0d0887\"],[0.1111111111111111,\"#46039f\"],[0.2222222222222222,\"#7201a8\"],[0.3333333333333333,\"#9c179e\"],[0.4444444444444444,\"#bd3786\"],[0.5555555555555556,\"#d8576b\"],[0.6666666666666666,\"#ed7953\"],[0.7777777777777778,\"#fb9f3a\"],[0.8888888888888888,\"#fdca26\"],[1.0,\"#f0f921\"]],\"type\":\"contour\"}],\"contourcarpet\":[{\"colorbar\":{\"outlinewidth\":0,\"ticks\":\"\"},\"type\":\"contourcarpet\"}],\"heatmap\":[{\"colorbar\":{\"outlinewidth\":0,\"ticks\":\"\"},\"colorscale\":[[0.0,\"#0d0887\"],[0.1111111111111111,\"#46039f\"],[0.2222222222222222,\"#7201a8\"],[0.3333333333333333,\"#9c179e\"],[0.4444444444444444,\"#bd3786\"],[0.5555555555555556,\"#d8576b\"],[0.6666666666666666,\"#ed7953\"],[0.7777777777777778,\"#fb9f3a\"],[0.8888888888888888,\"#fdca26\"],[1.0,\"#f0f921\"]],\"type\":\"heatmap\"}],\"heatmapgl\":[{\"colorbar\":{\"outlinewidth\":0,\"ticks\":\"\"},\"colorscale\":[[0.0,\"#0d0887\"],[0.1111111111111111,\"#46039f\"],[0.2222222222222222,\"#7201a8\"],[0.3333333333333333,\"#9c179e\"],[0.4444444444444444,\"#bd3786\"],[0.5555555555555556,\"#d8576b\"],[0.6666666666666666,\"#ed7953\"],[0.7777777777777778,\"#fb9f3a\"],[0.8888888888888888,\"#fdca26\"],[1.0,\"#f0f921\"]],\"type\":\"heatmapgl\"}],\"histogram\":[{\"marker\":{\"pattern\":{\"fillmode\":\"overlay\",\"size\":10,\"solidity\":0.2}},\"type\":\"histogram\"}],\"histogram2d\":[{\"colorbar\":{\"outlinewidth\":0,\"ticks\":\"\"},\"colorscale\":[[0.0,\"#0d0887\"],[0.1111111111111111,\"#46039f\"],[0.2222222222222222,\"#7201a8\"],[0.3333333333333333,\"#9c179e\"],[0.4444444444444444,\"#bd3786\"],[0.5555555555555556,\"#d8576b\"],[0.6666666666666666,\"#ed7953\"],[0.7777777777777778,\"#fb9f3a\"],[0.8888888888888888,\"#fdca26\"],[1.0,\"#f0f921\"]],\"type\":\"histogram2d\"}],\"histogram2dcontour\":[{\"colorbar\":{\"outlinewidth\":0,\"ticks\":\"\"},\"colorscale\":[[0.0,\"#0d0887\"],[0.1111111111111111,\"#46039f\"],[0.2222222222222222,\"#7201a8\"],[0.3333333333333333,\"#9c179e\"],[0.4444444444444444,\"#bd3786\"],[0.5555555555555556,\"#d8576b\"],[0.6666666666666666,\"#ed7953\"],[0.7777777777777778,\"#fb9f3a\"],[0.8888888888888888,\"#fdca26\"],[1.0,\"#f0f921\"]],\"type\":\"histogram2dcontour\"}],\"mesh3d\":[{\"colorbar\":{\"outlinewidth\":0,\"ticks\":\"\"},\"type\":\"mesh3d\"}],\"parcoords\":[{\"line\":{\"colorbar\":{\"outlinewidth\":0,\"ticks\":\"\"}},\"type\":\"parcoords\"}],\"pie\":[{\"automargin\":true,\"type\":\"pie\"}],\"scatter\":[{\"marker\":{\"colorbar\":{\"outlinewidth\":0,\"ticks\":\"\"}},\"type\":\"scatter\"}],\"scatter3d\":[{\"line\":{\"colorbar\":{\"outlinewidth\":0,\"ticks\":\"\"}},\"marker\":{\"colorbar\":{\"outlinewidth\":0,\"ticks\":\"\"}},\"type\":\"scatter3d\"}],\"scattercarpet\":[{\"marker\":{\"colorbar\":{\"outlinewidth\":0,\"ticks\":\"\"}},\"type\":\"scattercarpet\"}],\"scattergeo\":[{\"marker\":{\"colorbar\":{\"outlinewidth\":0,\"ticks\":\"\"}},\"type\":\"scattergeo\"}],\"scattergl\":[{\"marker\":{\"colorbar\":{\"outlinewidth\":0,\"ticks\":\"\"}},\"type\":\"scattergl\"}],\"scattermapbox\":[{\"marker\":{\"colorbar\":{\"outlinewidth\":0,\"ticks\":\"\"}},\"type\":\"scattermapbox\"}],\"scatterpolar\":[{\"marker\":{\"colorbar\":{\"outlinewidth\":0,\"ticks\":\"\"}},\"type\":\"scatterpolar\"}],\"scatterpolargl\":[{\"marker\":{\"colorbar\":{\"outlinewidth\":0,\"ticks\":\"\"}},\"type\":\"scatterpolargl\"}],\"scatterternary\":[{\"marker\":{\"colorbar\":{\"outlinewidth\":0,\"ticks\":\"\"}},\"type\":\"scatterternary\"}],\"surface\":[{\"colorbar\":{\"outlinewidth\":0,\"ticks\":\"\"},\"colorscale\":[[0.0,\"#0d0887\"],[0.1111111111111111,\"#46039f\"],[0.2222222222222222,\"#7201a8\"],[0.3333333333333333,\"#9c179e\"],[0.4444444444444444,\"#bd3786\"],[0.5555555555555556,\"#d8576b\"],[0.6666666666666666,\"#ed7953\"],[0.7777777777777778,\"#fb9f3a\"],[0.8888888888888888,\"#fdca26\"],[1.0,\"#f0f921\"]],\"type\":\"surface\"}],\"table\":[{\"cells\":{\"fill\":{\"color\":\"#EBF0F8\"},\"line\":{\"color\":\"white\"}},\"header\":{\"fill\":{\"color\":\"#C8D4E3\"},\"line\":{\"color\":\"white\"}},\"type\":\"table\"}]},\"layout\":{\"annotationdefaults\":{\"arrowcolor\":\"#2a3f5f\",\"arrowhead\":0,\"arrowwidth\":1},\"autotypenumbers\":\"strict\",\"coloraxis\":{\"colorbar\":{\"outlinewidth\":0,\"ticks\":\"\"}},\"colorscale\":{\"diverging\":[[0,\"#8e0152\"],[0.1,\"#c51b7d\"],[0.2,\"#de77ae\"],[0.3,\"#f1b6da\"],[0.4,\"#fde0ef\"],[0.5,\"#f7f7f7\"],[0.6,\"#e6f5d0\"],[0.7,\"#b8e186\"],[0.8,\"#7fbc41\"],[0.9,\"#4d9221\"],[1,\"#276419\"]],\"sequential\":[[0.0,\"#0d0887\"],[0.1111111111111111,\"#46039f\"],[0.2222222222222222,\"#7201a8\"],[0.3333333333333333,\"#9c179e\"],[0.4444444444444444,\"#bd3786\"],[0.5555555555555556,\"#d8576b\"],[0.6666666666666666,\"#ed7953\"],[0.7777777777777778,\"#fb9f3a\"],[0.8888888888888888,\"#fdca26\"],[1.0,\"#f0f921\"]],\"sequentialminus\":[[0.0,\"#0d0887\"],[0.1111111111111111,\"#46039f\"],[0.2222222222222222,\"#7201a8\"],[0.3333333333333333,\"#9c179e\"],[0.4444444444444444,\"#bd3786\"],[0.5555555555555556,\"#d8576b\"],[0.6666666666666666,\"#ed7953\"],[0.7777777777777778,\"#fb9f3a\"],[0.8888888888888888,\"#fdca26\"],[1.0,\"#f0f921\"]]},\"colorway\":[\"#636efa\",\"#EF553B\",\"#00cc96\",\"#ab63fa\",\"#FFA15A\",\"#19d3f3\",\"#FF6692\",\"#B6E880\",\"#FF97FF\",\"#FECB52\"],\"font\":{\"color\":\"#2a3f5f\"},\"geo\":{\"bgcolor\":\"white\",\"lakecolor\":\"white\",\"landcolor\":\"#E5ECF6\",\"showlakes\":true,\"showland\":true,\"subunitcolor\":\"white\"},\"hoverlabel\":{\"align\":\"left\"},\"hovermode\":\"closest\",\"mapbox\":{\"style\":\"light\"},\"paper_bgcolor\":\"white\",\"plot_bgcolor\":\"#E5ECF6\",\"polar\":{\"angularaxis\":{\"gridcolor\":\"white\",\"linecolor\":\"white\",\"ticks\":\"\"},\"bgcolor\":\"#E5ECF6\",\"radialaxis\":{\"gridcolor\":\"white\",\"linecolor\":\"white\",\"ticks\":\"\"}},\"scene\":{\"xaxis\":{\"backgroundcolor\":\"#E5ECF6\",\"gridcolor\":\"white\",\"gridwidth\":2,\"linecolor\":\"white\",\"showbackground\":true,\"ticks\":\"\",\"zerolinecolor\":\"white\"},\"yaxis\":{\"backgroundcolor\":\"#E5ECF6\",\"gridcolor\":\"white\",\"gridwidth\":2,\"linecolor\":\"white\",\"showbackground\":true,\"ticks\":\"\",\"zerolinecolor\":\"white\"},\"zaxis\":{\"backgroundcolor\":\"#E5ECF6\",\"gridcolor\":\"white\",\"gridwidth\":2,\"linecolor\":\"white\",\"showbackground\":true,\"ticks\":\"\",\"zerolinecolor\":\"white\"}},\"shapedefaults\":{\"line\":{\"color\":\"#2a3f5f\"}},\"ternary\":{\"aaxis\":{\"gridcolor\":\"white\",\"linecolor\":\"white\",\"ticks\":\"\"},\"baxis\":{\"gridcolor\":\"white\",\"linecolor\":\"white\",\"ticks\":\"\"},\"bgcolor\":\"#E5ECF6\",\"caxis\":{\"gridcolor\":\"white\",\"linecolor\":\"white\",\"ticks\":\"\"}},\"title\":{\"x\":0.05},\"xaxis\":{\"automargin\":true,\"gridcolor\":\"white\",\"linecolor\":\"white\",\"ticks\":\"\",\"title\":{\"standoff\":15},\"zerolinecolor\":\"white\",\"zerolinewidth\":2},\"yaxis\":{\"automargin\":true,\"gridcolor\":\"white\",\"linecolor\":\"white\",\"ticks\":\"\",\"title\":{\"standoff\":15},\"zerolinecolor\":\"white\",\"zerolinewidth\":2}}},\"title\":{\"font\":{\"color\":\"#4D5663\"}},\"xaxis\":{\"gridcolor\":\"#E1E5ED\",\"showgrid\":true,\"tickfont\":{\"color\":\"#4D5663\"},\"title\":{\"font\":{\"color\":\"#4D5663\"},\"text\":\"\"},\"zerolinecolor\":\"#E1E5ED\"},\"yaxis\":{\"gridcolor\":\"#E1E5ED\",\"showgrid\":true,\"tickfont\":{\"color\":\"#4D5663\"},\"title\":{\"font\":{\"color\":\"#4D5663\"},\"text\":\"\"},\"zerolinecolor\":\"#E1E5ED\"}},                        {\"showLink\": true, \"linkText\": \"Export to plot.ly\", \"plotlyServerURL\": \"https://plot.ly\", \"responsive\": true}                    ).then(function(){\n",
       "                            \n",
       "var gd = document.getElementById('f24e0fc9-ee53-42ff-ac34-6a42002ee967');\n",
       "var x = new MutationObserver(function (mutations, observer) {{\n",
       "        var display = window.getComputedStyle(gd).display;\n",
       "        if (!display || display === 'none') {{\n",
       "            console.log([gd, 'removed!']);\n",
       "            Plotly.purge(gd);\n",
       "            observer.disconnect();\n",
       "        }}\n",
       "}});\n",
       "\n",
       "// Listen for the removal of the full notebook cells\n",
       "var notebookContainer = gd.closest('#notebook-container');\n",
       "if (notebookContainer) {{\n",
       "    x.observe(notebookContainer, {childList: true});\n",
       "}}\n",
       "\n",
       "// Listen for the clearing of the current output cell\n",
       "var outputEl = gd.closest('.output');\n",
       "if (outputEl) {{\n",
       "    x.observe(outputEl, {childList: true});\n",
       "}}\n",
       "\n",
       "                        })                };                });            </script>        </div>"
      ]
     },
     "metadata": {}
    }
   ],
   "metadata": {}
  },
  {
   "cell_type": "markdown",
   "source": [
    "## Boxplots"
   ],
   "metadata": {}
  },
  {
   "cell_type": "code",
   "execution_count": 27,
   "source": [
    "df.iplot(kind=\"box\")\n"
   ],
   "outputs": [
    {
     "output_type": "display_data",
     "data": {
      "application/vnd.plotly.v1+json": {
       "config": {
        "linkText": "Export to plot.ly",
        "plotlyServerURL": "https://plot.ly",
        "showLink": true
       },
       "data": [
        {
         "boxpoints": false,
         "line": {
          "width": 1.3
         },
         "marker": {
          "color": "rgba(255, 153, 51, 1.0)"
         },
         "name": "A",
         "orientation": "v",
         "type": "box",
         "y": [
          -1.8554435537542446,
          -0.3341474199101263,
          0.6857288575880798,
          0.12905925770490762,
          -0.13012084534391954,
          0.31598165716367344,
          -0.6814310339065305,
          -1.1857454279657653,
          0.16250831411290528,
          -0.23503431588320337,
          -0.6957583990035138,
          1.2656447012812229,
          0.7895454890395617,
          2.0102173729408683,
          0.45824801008669885,
          -0.5925775507399346,
          -0.41533289809186974,
          -0.4731233300668129,
          0.6843718826788863,
          0.5391706433363241,
          -1.1002556394218257,
          1.2609445362966492,
          -1.7026894192926318,
          0.8280922879606232,
          -0.47841132251611046,
          1.354448480034928,
          0.018522114685147483,
          -1.3413367864778607,
          -0.8895958524461421,
          -0.020608380047677472,
          -1.7240966400672362,
          0.28458344629001064,
          0.21661681618247094,
          1.2179864561575975,
          0.8482671466620583,
          -0.4077952273242937,
          -0.8049643523268022,
          -0.9176116556344076,
          -0.9356801704572217,
          -0.9699739380556349,
          0.650589802528572,
          2.547846456025026,
          -0.7096211873633143,
          -0.9174229907763136,
          1.1386671385820821,
          -1.369325539411084,
          -0.9842603474076804,
          0.5945869819604048,
          -0.23886050975260292,
          -0.46923690573927296,
          -1.142607594480248,
          -0.3611762312877647,
          -0.39933525169718176,
          2.2769382620127003,
          -0.8380458528707962,
          -0.6124392004285225,
          0.6961616835141131,
          -1.2277256681748399,
          -0.6165936577607377,
          1.4531742490758173,
          0.8324616086776321,
          0.08734935814075497,
          -0.27779001599273256,
          -0.386556029563755,
          0.5076935684905723,
          0.023459583819070404,
          0.7011956785778897,
          -2.064037457273387,
          0.5982278808302534,
          -0.24015821493527018,
          -0.20554533443737275,
          -0.28217079271367657,
          -1.7845227166301205,
          -0.5601415555592549,
          0.8084747503072853,
          0.37966132136188563,
          -0.6195525229757263,
          0.3758208757878301,
          1.4200248431796674,
          2.0659398607101047,
          0.9587108211966137,
          2.061807877022249,
          0.18050161272834003,
          -0.6540684677740707,
          -0.8644330224870201,
          -1.261133780633743,
          -1.1276839315268843,
          -0.8470709717782499,
          -0.8077457919626311,
          0.0022270729652858353,
          1.266205085899191,
          0.9466066247483059,
          0.0931235624221537,
          -0.6925655411798486,
          0.23552797185724408,
          -0.7126173671952934,
          -0.4802895517750804,
          -1.0320031452653156,
          -0.6525272343747045,
          0.6660110832512804
         ]
        },
        {
         "boxpoints": false,
         "line": {
          "width": 1.3
         },
         "marker": {
          "color": "rgba(55, 128, 191, 1.0)"
         },
         "name": "B",
         "orientation": "v",
         "type": "box",
         "y": [
          1.0586797192233903,
          -1.2488855889850787,
          1.0700151137375091,
          0.2686994557666863,
          1.3465290941441121,
          0.3186439119999515,
          -0.26028613353663094,
          1.9624262321531245,
          0.794702271935496,
          1.4578086509674228,
          0.8172558401456013,
          0.2187013708779096,
          -0.74633696389924,
          -0.6733073789184151,
          -0.44481066657090934,
          1.0312849971810147,
          0.4182887878043122,
          0.18075131754173723,
          -2.0632733329402897,
          -0.8721967137920469,
          -0.9573519080715821,
          -0.8861931972275268,
          -1.7326911974350716,
          -0.9429172488362749,
          -1.141069187838,
          -0.18520134114365153,
          -0.5886045112319811,
          -0.4412941810900815,
          0.8285074424484511,
          0.13457702058627252,
          0.47559709859240257,
          0.24770049355141352,
          0.9973592817712069,
          0.531818650682605,
          0.25726486227163997,
          1.328493993017877,
          -0.11100689228117118,
          -0.22650857209597733,
          -0.7144840251026895,
          -1.0416718983455615,
          1.0736890893435829,
          -0.4950066633518595,
          -0.4348511389029561,
          2.8329467756340896,
          -0.4304483343702159,
          1.168993274249435,
          -0.6489183721758839,
          1.919777073493157,
          -0.7889677310786267,
          0.18372995625021743,
          -0.8774390102542554,
          -1.3138910309500251,
          0.32224629900799545,
          0.6853772906954757,
          -0.4782068224275819,
          -1.564547761029822,
          -1.456102616980963,
          -0.21772121032784514,
          -0.45293861005754127,
          1.3668566239085884,
          0.8204827551253541,
          -0.8789693591255126,
          0.2218945456519545,
          0.194766032165579,
          -0.32635090654867477,
          -1.3788456354471674,
          0.47301453080933087,
          -2.1463860553599283,
          0.588115532577788,
          -0.12100941076370306,
          1.1149475486037261,
          0.4065778223793015,
          -1.2420822666880773,
          0.6070864401924375,
          -2.151910704876458,
          0.3346452250376028,
          1.2624867269449833,
          -2.5315629613213484,
          -0.8227144688835754,
          -0.1236309975200574,
          -0.49219807187445436,
          -1.2097029964449502,
          -1.3727932974505603,
          0.44527990572978465,
          0.5434203966297816,
          0.3391141018642361,
          1.753647349388627,
          -0.5326619816135323,
          -0.12867178804487858,
          0.4902779339654576,
          0.35554607301596713,
          0.9779360084073613,
          -0.5302310144497281,
          -0.7591554389356049,
          -0.7203209807891244,
          -0.019652813053141524,
          0.6442268447826572,
          -1.6223502424253848,
          -0.03034172033845018,
          -0.28111681045492665
         ]
        },
        {
         "boxpoints": false,
         "line": {
          "width": 1.3
         },
         "marker": {
          "color": "rgba(50, 171, 96, 1.0)"
         },
         "name": "C",
         "orientation": "v",
         "type": "box",
         "y": [
          0.09917702010193938,
          -0.46868047378474087,
          0.5949258159527525,
          1.6478485545586035,
          0.3016248921654869,
          -0.8080545672660209,
          -2.1188095478004194,
          0.8594606141495871,
          0.8292713997862055,
          1.6708518995476391,
          0.6120160203798393,
          1.5105163218286823,
          0.5691135987249639,
          0.6566471882172462,
          0.3420156550263439,
          -0.4411683654275913,
          -0.5886111554302329,
          -0.8152751218926938,
          0.49222463660246707,
          -0.5787344819819856,
          0.9561174625326011,
          -0.2707188791419852,
          -0.9802168713123773,
          -0.8240596503995492,
          0.7306962433522558,
          -0.32022539754106777,
          -2.065587528649272,
          -0.5821224629582098,
          0.15838323425199727,
          0.4008578989668309,
          -0.18106622772390113,
          -0.8351912950136509,
          0.1605906289721576,
          1.7713399993433627,
          0.30021576059131483,
          -1.403086030515181,
          -0.9456893256670308,
          -0.1274608908419728,
          0.6687598195192176,
          -0.15279778369058775,
          -0.7032641280087182,
          0.6226349957776174,
          -1.5951450098353386,
          -0.4496120801166754,
          -1.1965836774969432,
          1.2269657530813707,
          -1.7517447424622514,
          0.9834862575215471,
          -0.664789843670582,
          0.9152075389812178,
          0.9414936511533228,
          -1.4453352420094756,
          -1.155291790632457,
          -1.0316997278674849,
          1.4125048571850645,
          0.5357529211449548,
          -0.045837813489790165,
          0.03524703430738961,
          -0.6368800449488092,
          0.2651462582503736,
          0.09590123572694538,
          -1.4972271631117675,
          -0.5199780684951362,
          -0.6794392215132271,
          -2.1882799431084554,
          0.7599944699495044,
          0.00888997446505838,
          -1.8118637679374485,
          0.14709105894657584,
          1.5635608902256173,
          0.6676910824154867,
          -1.1655002104708385,
          0.15816334667031878,
          1.245076980434046,
          -0.46496843467443283,
          0.5584954767846282,
          -1.2595251830606093,
          -2.109463298689511,
          -0.4884882503365179,
          0.36945478638890505,
          -0.2835026746618209,
          1.9612149864328858,
          -0.28221348203405405,
          1.2145113824373808,
          1.6022224227901656,
          1.120229211567683,
          -0.9748024396170659,
          -0.6855566993709195,
          0.7366107876685423,
          -1.9299127824094022,
          0.05242176138607656,
          1.1617503304511858,
          -0.09244602594364117,
          -0.22654313084700278,
          0.1727337173584885,
          -0.9415680809762029,
          0.41917688707654654,
          0.4338937059023062,
          0.8101871452055606,
          0.7584141241022428
         ]
        },
        {
         "boxpoints": false,
         "line": {
          "width": 1.3
         },
         "marker": {
          "color": "rgba(128, 0, 128, 1.0)"
         },
         "name": "D",
         "orientation": "v",
         "type": "box",
         "y": [
          -0.7085764894821942,
          -0.12915596758117723,
          1.3172587618783858,
          -1.434581059426418,
          -0.5343845626238716,
          0.2963979887680206,
          -2.3099078313240735,
          0.9468857900174137,
          -1.80818273972675,
          2.0225585686938827,
          0.44527819315356876,
          -0.039819258406981826,
          -0.7335374950541147,
          -0.7010732066261021,
          -0.6914191854133498,
          0.21037132856512575,
          0.7620439811861314,
          0.7969968342643269,
          0.030268152765737032,
          0.7434993182659309,
          -0.41594825213294334,
          -0.7626181029290856,
          -0.13327570589827753,
          -1.5537410595079655,
          0.7524074375738093,
          -0.8536074246875737,
          -0.4313570789876109,
          -1.8134330879451837,
          -1.5141183234637954,
          0.11473398957600751,
          0.400572368646464,
          -1.3184649942211804,
          0.00789963373835907,
          0.835337081456911,
          0.4979578374503871,
          -0.18896623637387774,
          0.16668450259382533,
          0.6547664981254644,
          0.3213322939511967,
          -0.6429313558805019,
          -1.0906747283947604,
          1.2374908623069434,
          0.7061125642011822,
          -0.33538235234826197,
          0.9630669422011241,
          0.3800838916165655,
          0.8731901071528915,
          -0.36209218992689013,
          -0.16770296458616146,
          0.4284768480639033,
          -0.4960932025170286,
          0.8390499321671847,
          0.5602216160464017,
          -1.3310451997228332,
          0.31779034947570123,
          1.0051198755817332,
          0.3206099059933247,
          -0.759959837701889,
          0.38904095125384286,
          0.9604032308369037,
          0.8912906278613976,
          0.17020413245218363,
          -0.11859066127221107,
          2.1759486814385967,
          -0.9157247903908146,
          0.7573043903288208,
          0.8525082219100658,
          1.3775684363359804,
          -0.5209718415557739,
          -2.271597731691821,
          -0.08398480077020003,
          -0.33718677545218095,
          -0.27604931305172253,
          -0.7962034207852795,
          -0.49027841665655486,
          -1.0982775229569983,
          -0.042387243843414746,
          0.5163102500542561,
          1.7785466583410598,
          -1.3416949295418166,
          -1.6311082373778638,
          1.492610190134358,
          0.972863037543592,
          -0.6384898322851272,
          -0.7730175292304294,
          -0.6079456151824305,
          1.9926044487338437,
          -0.874650338449589,
          0.9522178493738911,
          -0.5919446595493946,
          0.7568928517585953,
          -0.49669195137704325,
          0.8175348807418468,
          -0.4609442296110568,
          -2.152141830296282,
          -1.7698027759212958,
          0.5207224965560626,
          0.676301420293525,
          0.8236286175459849,
          -0.050725899405311005
         ]
        }
       ],
       "layout": {
        "legend": {
         "bgcolor": "#F5F6F9",
         "font": {
          "color": "#4D5663"
         }
        },
        "paper_bgcolor": "#F5F6F9",
        "plot_bgcolor": "#F5F6F9",
        "template": {
         "data": {
          "bar": [
           {
            "error_x": {
             "color": "#2a3f5f"
            },
            "error_y": {
             "color": "#2a3f5f"
            },
            "marker": {
             "line": {
              "color": "#E5ECF6",
              "width": 0.5
             },
             "pattern": {
              "fillmode": "overlay",
              "size": 10,
              "solidity": 0.2
             }
            },
            "type": "bar"
           }
          ],
          "barpolar": [
           {
            "marker": {
             "line": {
              "color": "#E5ECF6",
              "width": 0.5
             },
             "pattern": {
              "fillmode": "overlay",
              "size": 10,
              "solidity": 0.2
             }
            },
            "type": "barpolar"
           }
          ],
          "carpet": [
           {
            "aaxis": {
             "endlinecolor": "#2a3f5f",
             "gridcolor": "white",
             "linecolor": "white",
             "minorgridcolor": "white",
             "startlinecolor": "#2a3f5f"
            },
            "baxis": {
             "endlinecolor": "#2a3f5f",
             "gridcolor": "white",
             "linecolor": "white",
             "minorgridcolor": "white",
             "startlinecolor": "#2a3f5f"
            },
            "type": "carpet"
           }
          ],
          "choropleth": [
           {
            "colorbar": {
             "outlinewidth": 0,
             "ticks": ""
            },
            "type": "choropleth"
           }
          ],
          "contour": [
           {
            "colorbar": {
             "outlinewidth": 0,
             "ticks": ""
            },
            "colorscale": [
             [
              0,
              "#0d0887"
             ],
             [
              0.1111111111111111,
              "#46039f"
             ],
             [
              0.2222222222222222,
              "#7201a8"
             ],
             [
              0.3333333333333333,
              "#9c179e"
             ],
             [
              0.4444444444444444,
              "#bd3786"
             ],
             [
              0.5555555555555556,
              "#d8576b"
             ],
             [
              0.6666666666666666,
              "#ed7953"
             ],
             [
              0.7777777777777778,
              "#fb9f3a"
             ],
             [
              0.8888888888888888,
              "#fdca26"
             ],
             [
              1,
              "#f0f921"
             ]
            ],
            "type": "contour"
           }
          ],
          "contourcarpet": [
           {
            "colorbar": {
             "outlinewidth": 0,
             "ticks": ""
            },
            "type": "contourcarpet"
           }
          ],
          "heatmap": [
           {
            "colorbar": {
             "outlinewidth": 0,
             "ticks": ""
            },
            "colorscale": [
             [
              0,
              "#0d0887"
             ],
             [
              0.1111111111111111,
              "#46039f"
             ],
             [
              0.2222222222222222,
              "#7201a8"
             ],
             [
              0.3333333333333333,
              "#9c179e"
             ],
             [
              0.4444444444444444,
              "#bd3786"
             ],
             [
              0.5555555555555556,
              "#d8576b"
             ],
             [
              0.6666666666666666,
              "#ed7953"
             ],
             [
              0.7777777777777778,
              "#fb9f3a"
             ],
             [
              0.8888888888888888,
              "#fdca26"
             ],
             [
              1,
              "#f0f921"
             ]
            ],
            "type": "heatmap"
           }
          ],
          "heatmapgl": [
           {
            "colorbar": {
             "outlinewidth": 0,
             "ticks": ""
            },
            "colorscale": [
             [
              0,
              "#0d0887"
             ],
             [
              0.1111111111111111,
              "#46039f"
             ],
             [
              0.2222222222222222,
              "#7201a8"
             ],
             [
              0.3333333333333333,
              "#9c179e"
             ],
             [
              0.4444444444444444,
              "#bd3786"
             ],
             [
              0.5555555555555556,
              "#d8576b"
             ],
             [
              0.6666666666666666,
              "#ed7953"
             ],
             [
              0.7777777777777778,
              "#fb9f3a"
             ],
             [
              0.8888888888888888,
              "#fdca26"
             ],
             [
              1,
              "#f0f921"
             ]
            ],
            "type": "heatmapgl"
           }
          ],
          "histogram": [
           {
            "marker": {
             "pattern": {
              "fillmode": "overlay",
              "size": 10,
              "solidity": 0.2
             }
            },
            "type": "histogram"
           }
          ],
          "histogram2d": [
           {
            "colorbar": {
             "outlinewidth": 0,
             "ticks": ""
            },
            "colorscale": [
             [
              0,
              "#0d0887"
             ],
             [
              0.1111111111111111,
              "#46039f"
             ],
             [
              0.2222222222222222,
              "#7201a8"
             ],
             [
              0.3333333333333333,
              "#9c179e"
             ],
             [
              0.4444444444444444,
              "#bd3786"
             ],
             [
              0.5555555555555556,
              "#d8576b"
             ],
             [
              0.6666666666666666,
              "#ed7953"
             ],
             [
              0.7777777777777778,
              "#fb9f3a"
             ],
             [
              0.8888888888888888,
              "#fdca26"
             ],
             [
              1,
              "#f0f921"
             ]
            ],
            "type": "histogram2d"
           }
          ],
          "histogram2dcontour": [
           {
            "colorbar": {
             "outlinewidth": 0,
             "ticks": ""
            },
            "colorscale": [
             [
              0,
              "#0d0887"
             ],
             [
              0.1111111111111111,
              "#46039f"
             ],
             [
              0.2222222222222222,
              "#7201a8"
             ],
             [
              0.3333333333333333,
              "#9c179e"
             ],
             [
              0.4444444444444444,
              "#bd3786"
             ],
             [
              0.5555555555555556,
              "#d8576b"
             ],
             [
              0.6666666666666666,
              "#ed7953"
             ],
             [
              0.7777777777777778,
              "#fb9f3a"
             ],
             [
              0.8888888888888888,
              "#fdca26"
             ],
             [
              1,
              "#f0f921"
             ]
            ],
            "type": "histogram2dcontour"
           }
          ],
          "mesh3d": [
           {
            "colorbar": {
             "outlinewidth": 0,
             "ticks": ""
            },
            "type": "mesh3d"
           }
          ],
          "parcoords": [
           {
            "line": {
             "colorbar": {
              "outlinewidth": 0,
              "ticks": ""
             }
            },
            "type": "parcoords"
           }
          ],
          "pie": [
           {
            "automargin": true,
            "type": "pie"
           }
          ],
          "scatter": [
           {
            "marker": {
             "colorbar": {
              "outlinewidth": 0,
              "ticks": ""
             }
            },
            "type": "scatter"
           }
          ],
          "scatter3d": [
           {
            "line": {
             "colorbar": {
              "outlinewidth": 0,
              "ticks": ""
             }
            },
            "marker": {
             "colorbar": {
              "outlinewidth": 0,
              "ticks": ""
             }
            },
            "type": "scatter3d"
           }
          ],
          "scattercarpet": [
           {
            "marker": {
             "colorbar": {
              "outlinewidth": 0,
              "ticks": ""
             }
            },
            "type": "scattercarpet"
           }
          ],
          "scattergeo": [
           {
            "marker": {
             "colorbar": {
              "outlinewidth": 0,
              "ticks": ""
             }
            },
            "type": "scattergeo"
           }
          ],
          "scattergl": [
           {
            "marker": {
             "colorbar": {
              "outlinewidth": 0,
              "ticks": ""
             }
            },
            "type": "scattergl"
           }
          ],
          "scattermapbox": [
           {
            "marker": {
             "colorbar": {
              "outlinewidth": 0,
              "ticks": ""
             }
            },
            "type": "scattermapbox"
           }
          ],
          "scatterpolar": [
           {
            "marker": {
             "colorbar": {
              "outlinewidth": 0,
              "ticks": ""
             }
            },
            "type": "scatterpolar"
           }
          ],
          "scatterpolargl": [
           {
            "marker": {
             "colorbar": {
              "outlinewidth": 0,
              "ticks": ""
             }
            },
            "type": "scatterpolargl"
           }
          ],
          "scatterternary": [
           {
            "marker": {
             "colorbar": {
              "outlinewidth": 0,
              "ticks": ""
             }
            },
            "type": "scatterternary"
           }
          ],
          "surface": [
           {
            "colorbar": {
             "outlinewidth": 0,
             "ticks": ""
            },
            "colorscale": [
             [
              0,
              "#0d0887"
             ],
             [
              0.1111111111111111,
              "#46039f"
             ],
             [
              0.2222222222222222,
              "#7201a8"
             ],
             [
              0.3333333333333333,
              "#9c179e"
             ],
             [
              0.4444444444444444,
              "#bd3786"
             ],
             [
              0.5555555555555556,
              "#d8576b"
             ],
             [
              0.6666666666666666,
              "#ed7953"
             ],
             [
              0.7777777777777778,
              "#fb9f3a"
             ],
             [
              0.8888888888888888,
              "#fdca26"
             ],
             [
              1,
              "#f0f921"
             ]
            ],
            "type": "surface"
           }
          ],
          "table": [
           {
            "cells": {
             "fill": {
              "color": "#EBF0F8"
             },
             "line": {
              "color": "white"
             }
            },
            "header": {
             "fill": {
              "color": "#C8D4E3"
             },
             "line": {
              "color": "white"
             }
            },
            "type": "table"
           }
          ]
         },
         "layout": {
          "annotationdefaults": {
           "arrowcolor": "#2a3f5f",
           "arrowhead": 0,
           "arrowwidth": 1
          },
          "autotypenumbers": "strict",
          "coloraxis": {
           "colorbar": {
            "outlinewidth": 0,
            "ticks": ""
           }
          },
          "colorscale": {
           "diverging": [
            [
             0,
             "#8e0152"
            ],
            [
             0.1,
             "#c51b7d"
            ],
            [
             0.2,
             "#de77ae"
            ],
            [
             0.3,
             "#f1b6da"
            ],
            [
             0.4,
             "#fde0ef"
            ],
            [
             0.5,
             "#f7f7f7"
            ],
            [
             0.6,
             "#e6f5d0"
            ],
            [
             0.7,
             "#b8e186"
            ],
            [
             0.8,
             "#7fbc41"
            ],
            [
             0.9,
             "#4d9221"
            ],
            [
             1,
             "#276419"
            ]
           ],
           "sequential": [
            [
             0,
             "#0d0887"
            ],
            [
             0.1111111111111111,
             "#46039f"
            ],
            [
             0.2222222222222222,
             "#7201a8"
            ],
            [
             0.3333333333333333,
             "#9c179e"
            ],
            [
             0.4444444444444444,
             "#bd3786"
            ],
            [
             0.5555555555555556,
             "#d8576b"
            ],
            [
             0.6666666666666666,
             "#ed7953"
            ],
            [
             0.7777777777777778,
             "#fb9f3a"
            ],
            [
             0.8888888888888888,
             "#fdca26"
            ],
            [
             1,
             "#f0f921"
            ]
           ],
           "sequentialminus": [
            [
             0,
             "#0d0887"
            ],
            [
             0.1111111111111111,
             "#46039f"
            ],
            [
             0.2222222222222222,
             "#7201a8"
            ],
            [
             0.3333333333333333,
             "#9c179e"
            ],
            [
             0.4444444444444444,
             "#bd3786"
            ],
            [
             0.5555555555555556,
             "#d8576b"
            ],
            [
             0.6666666666666666,
             "#ed7953"
            ],
            [
             0.7777777777777778,
             "#fb9f3a"
            ],
            [
             0.8888888888888888,
             "#fdca26"
            ],
            [
             1,
             "#f0f921"
            ]
           ]
          },
          "colorway": [
           "#636efa",
           "#EF553B",
           "#00cc96",
           "#ab63fa",
           "#FFA15A",
           "#19d3f3",
           "#FF6692",
           "#B6E880",
           "#FF97FF",
           "#FECB52"
          ],
          "font": {
           "color": "#2a3f5f"
          },
          "geo": {
           "bgcolor": "white",
           "lakecolor": "white",
           "landcolor": "#E5ECF6",
           "showlakes": true,
           "showland": true,
           "subunitcolor": "white"
          },
          "hoverlabel": {
           "align": "left"
          },
          "hovermode": "closest",
          "mapbox": {
           "style": "light"
          },
          "paper_bgcolor": "white",
          "plot_bgcolor": "#E5ECF6",
          "polar": {
           "angularaxis": {
            "gridcolor": "white",
            "linecolor": "white",
            "ticks": ""
           },
           "bgcolor": "#E5ECF6",
           "radialaxis": {
            "gridcolor": "white",
            "linecolor": "white",
            "ticks": ""
           }
          },
          "scene": {
           "xaxis": {
            "backgroundcolor": "#E5ECF6",
            "gridcolor": "white",
            "gridwidth": 2,
            "linecolor": "white",
            "showbackground": true,
            "ticks": "",
            "zerolinecolor": "white"
           },
           "yaxis": {
            "backgroundcolor": "#E5ECF6",
            "gridcolor": "white",
            "gridwidth": 2,
            "linecolor": "white",
            "showbackground": true,
            "ticks": "",
            "zerolinecolor": "white"
           },
           "zaxis": {
            "backgroundcolor": "#E5ECF6",
            "gridcolor": "white",
            "gridwidth": 2,
            "linecolor": "white",
            "showbackground": true,
            "ticks": "",
            "zerolinecolor": "white"
           }
          },
          "shapedefaults": {
           "line": {
            "color": "#2a3f5f"
           }
          },
          "ternary": {
           "aaxis": {
            "gridcolor": "white",
            "linecolor": "white",
            "ticks": ""
           },
           "baxis": {
            "gridcolor": "white",
            "linecolor": "white",
            "ticks": ""
           },
           "bgcolor": "#E5ECF6",
           "caxis": {
            "gridcolor": "white",
            "linecolor": "white",
            "ticks": ""
           }
          },
          "title": {
           "x": 0.05
          },
          "xaxis": {
           "automargin": true,
           "gridcolor": "white",
           "linecolor": "white",
           "ticks": "",
           "title": {
            "standoff": 15
           },
           "zerolinecolor": "white",
           "zerolinewidth": 2
          },
          "yaxis": {
           "automargin": true,
           "gridcolor": "white",
           "linecolor": "white",
           "ticks": "",
           "title": {
            "standoff": 15
           },
           "zerolinecolor": "white",
           "zerolinewidth": 2
          }
         }
        },
        "title": {
         "font": {
          "color": "#4D5663"
         }
        },
        "xaxis": {
         "gridcolor": "#E1E5ED",
         "showgrid": true,
         "tickfont": {
          "color": "#4D5663"
         },
         "title": {
          "font": {
           "color": "#4D5663"
          },
          "text": ""
         },
         "zerolinecolor": "#E1E5ED"
        },
        "yaxis": {
         "gridcolor": "#E1E5ED",
         "showgrid": true,
         "tickfont": {
          "color": "#4D5663"
         },
         "title": {
          "font": {
           "color": "#4D5663"
          },
          "text": ""
         },
         "zerolinecolor": "#E1E5ED"
        }
       }
      },
      "text/html": [
       "<div>                            <div id=\"1ecaaa09-49a7-4ddc-b71e-eaf8788d5cb0\" class=\"plotly-graph-div\" style=\"height:525px; width:100%;\"></div>            <script type=\"text/javascript\">                require([\"plotly\"], function(Plotly) {                    window.PLOTLYENV=window.PLOTLYENV || {};\n",
       "                    window.PLOTLYENV.BASE_URL='https://plot.ly';                                    if (document.getElementById(\"1ecaaa09-49a7-4ddc-b71e-eaf8788d5cb0\")) {                    Plotly.newPlot(                        \"1ecaaa09-49a7-4ddc-b71e-eaf8788d5cb0\",                        [{\"boxpoints\":false,\"line\":{\"width\":1.3},\"marker\":{\"color\":\"rgba(255, 153, 51, 1.0)\"},\"name\":\"A\",\"orientation\":\"v\",\"type\":\"box\",\"y\":[-1.8554435537542446,-0.3341474199101263,0.6857288575880798,0.12905925770490762,-0.13012084534391954,0.31598165716367344,-0.6814310339065305,-1.1857454279657653,0.16250831411290528,-0.23503431588320337,-0.6957583990035138,1.2656447012812229,0.7895454890395617,2.0102173729408683,0.45824801008669885,-0.5925775507399346,-0.41533289809186974,-0.4731233300668129,0.6843718826788863,0.5391706433363241,-1.1002556394218257,1.2609445362966492,-1.7026894192926318,0.8280922879606232,-0.47841132251611046,1.354448480034928,0.018522114685147483,-1.3413367864778607,-0.8895958524461421,-0.020608380047677472,-1.7240966400672362,0.28458344629001064,0.21661681618247094,1.2179864561575975,0.8482671466620583,-0.4077952273242937,-0.8049643523268022,-0.9176116556344076,-0.9356801704572217,-0.9699739380556349,0.650589802528572,2.547846456025026,-0.7096211873633143,-0.9174229907763136,1.1386671385820821,-1.369325539411084,-0.9842603474076804,0.5945869819604048,-0.23886050975260292,-0.46923690573927296,-1.142607594480248,-0.3611762312877647,-0.39933525169718176,2.2769382620127003,-0.8380458528707962,-0.6124392004285225,0.6961616835141131,-1.2277256681748399,-0.6165936577607377,1.4531742490758173,0.8324616086776321,0.08734935814075497,-0.27779001599273256,-0.386556029563755,0.5076935684905723,0.023459583819070404,0.7011956785778897,-2.064037457273387,0.5982278808302534,-0.24015821493527018,-0.20554533443737275,-0.28217079271367657,-1.7845227166301205,-0.5601415555592549,0.8084747503072853,0.37966132136188563,-0.6195525229757263,0.3758208757878301,1.4200248431796674,2.0659398607101047,0.9587108211966137,2.061807877022249,0.18050161272834003,-0.6540684677740707,-0.8644330224870201,-1.261133780633743,-1.1276839315268843,-0.8470709717782499,-0.8077457919626311,0.0022270729652858353,1.266205085899191,0.9466066247483059,0.0931235624221537,-0.6925655411798486,0.23552797185724408,-0.7126173671952934,-0.4802895517750804,-1.0320031452653156,-0.6525272343747045,0.6660110832512804]},{\"boxpoints\":false,\"line\":{\"width\":1.3},\"marker\":{\"color\":\"rgba(55, 128, 191, 1.0)\"},\"name\":\"B\",\"orientation\":\"v\",\"type\":\"box\",\"y\":[1.0586797192233903,-1.2488855889850787,1.0700151137375091,0.2686994557666863,1.3465290941441121,0.3186439119999515,-0.26028613353663094,1.9624262321531245,0.794702271935496,1.4578086509674228,0.8172558401456013,0.2187013708779096,-0.74633696389924,-0.6733073789184151,-0.44481066657090934,1.0312849971810147,0.4182887878043122,0.18075131754173723,-2.0632733329402897,-0.8721967137920469,-0.9573519080715821,-0.8861931972275268,-1.7326911974350716,-0.9429172488362749,-1.141069187838,-0.18520134114365153,-0.5886045112319811,-0.4412941810900815,0.8285074424484511,0.13457702058627252,0.47559709859240257,0.24770049355141352,0.9973592817712069,0.531818650682605,0.25726486227163997,1.328493993017877,-0.11100689228117118,-0.22650857209597733,-0.7144840251026895,-1.0416718983455615,1.0736890893435829,-0.4950066633518595,-0.4348511389029561,2.8329467756340896,-0.4304483343702159,1.168993274249435,-0.6489183721758839,1.919777073493157,-0.7889677310786267,0.18372995625021743,-0.8774390102542554,-1.3138910309500251,0.32224629900799545,0.6853772906954757,-0.4782068224275819,-1.564547761029822,-1.456102616980963,-0.21772121032784514,-0.45293861005754127,1.3668566239085884,0.8204827551253541,-0.8789693591255126,0.2218945456519545,0.194766032165579,-0.32635090654867477,-1.3788456354471674,0.47301453080933087,-2.1463860553599283,0.588115532577788,-0.12100941076370306,1.1149475486037261,0.4065778223793015,-1.2420822666880773,0.6070864401924375,-2.151910704876458,0.3346452250376028,1.2624867269449833,-2.5315629613213484,-0.8227144688835754,-0.1236309975200574,-0.49219807187445436,-1.2097029964449502,-1.3727932974505603,0.44527990572978465,0.5434203966297816,0.3391141018642361,1.753647349388627,-0.5326619816135323,-0.12867178804487858,0.4902779339654576,0.35554607301596713,0.9779360084073613,-0.5302310144497281,-0.7591554389356049,-0.7203209807891244,-0.019652813053141524,0.6442268447826572,-1.6223502424253848,-0.03034172033845018,-0.28111681045492665]},{\"boxpoints\":false,\"line\":{\"width\":1.3},\"marker\":{\"color\":\"rgba(50, 171, 96, 1.0)\"},\"name\":\"C\",\"orientation\":\"v\",\"type\":\"box\",\"y\":[0.09917702010193938,-0.46868047378474087,0.5949258159527525,1.6478485545586035,0.3016248921654869,-0.8080545672660209,-2.1188095478004194,0.8594606141495871,0.8292713997862055,1.6708518995476391,0.6120160203798393,1.5105163218286823,0.5691135987249639,0.6566471882172462,0.3420156550263439,-0.4411683654275913,-0.5886111554302329,-0.8152751218926938,0.49222463660246707,-0.5787344819819856,0.9561174625326011,-0.2707188791419852,-0.9802168713123773,-0.8240596503995492,0.7306962433522558,-0.32022539754106777,-2.065587528649272,-0.5821224629582098,0.15838323425199727,0.4008578989668309,-0.18106622772390113,-0.8351912950136509,0.1605906289721576,1.7713399993433627,0.30021576059131483,-1.403086030515181,-0.9456893256670308,-0.1274608908419728,0.6687598195192176,-0.15279778369058775,-0.7032641280087182,0.6226349957776174,-1.5951450098353386,-0.4496120801166754,-1.1965836774969432,1.2269657530813707,-1.7517447424622514,0.9834862575215471,-0.664789843670582,0.9152075389812178,0.9414936511533228,-1.4453352420094756,-1.155291790632457,-1.0316997278674849,1.4125048571850645,0.5357529211449548,-0.045837813489790165,0.03524703430738961,-0.6368800449488092,0.2651462582503736,0.09590123572694538,-1.4972271631117675,-0.5199780684951362,-0.6794392215132271,-2.1882799431084554,0.7599944699495044,0.00888997446505838,-1.8118637679374485,0.14709105894657584,1.5635608902256173,0.6676910824154867,-1.1655002104708385,0.15816334667031878,1.245076980434046,-0.46496843467443283,0.5584954767846282,-1.2595251830606093,-2.109463298689511,-0.4884882503365179,0.36945478638890505,-0.2835026746618209,1.9612149864328858,-0.28221348203405405,1.2145113824373808,1.6022224227901656,1.120229211567683,-0.9748024396170659,-0.6855566993709195,0.7366107876685423,-1.9299127824094022,0.05242176138607656,1.1617503304511858,-0.09244602594364117,-0.22654313084700278,0.1727337173584885,-0.9415680809762029,0.41917688707654654,0.4338937059023062,0.8101871452055606,0.7584141241022428]},{\"boxpoints\":false,\"line\":{\"width\":1.3},\"marker\":{\"color\":\"rgba(128, 0, 128, 1.0)\"},\"name\":\"D\",\"orientation\":\"v\",\"type\":\"box\",\"y\":[-0.7085764894821942,-0.12915596758117723,1.3172587618783858,-1.434581059426418,-0.5343845626238716,0.2963979887680206,-2.3099078313240735,0.9468857900174137,-1.80818273972675,2.0225585686938827,0.44527819315356876,-0.039819258406981826,-0.7335374950541147,-0.7010732066261021,-0.6914191854133498,0.21037132856512575,0.7620439811861314,0.7969968342643269,0.030268152765737032,0.7434993182659309,-0.41594825213294334,-0.7626181029290856,-0.13327570589827753,-1.5537410595079655,0.7524074375738093,-0.8536074246875737,-0.4313570789876109,-1.8134330879451837,-1.5141183234637954,0.11473398957600751,0.400572368646464,-1.3184649942211804,0.00789963373835907,0.835337081456911,0.4979578374503871,-0.18896623637387774,0.16668450259382533,0.6547664981254644,0.3213322939511967,-0.6429313558805019,-1.0906747283947604,1.2374908623069434,0.7061125642011822,-0.33538235234826197,0.9630669422011241,0.3800838916165655,0.8731901071528915,-0.36209218992689013,-0.16770296458616146,0.4284768480639033,-0.4960932025170286,0.8390499321671847,0.5602216160464017,-1.3310451997228332,0.31779034947570123,1.0051198755817332,0.3206099059933247,-0.759959837701889,0.38904095125384286,0.9604032308369037,0.8912906278613976,0.17020413245218363,-0.11859066127221107,2.1759486814385967,-0.9157247903908146,0.7573043903288208,0.8525082219100658,1.3775684363359804,-0.5209718415557739,-2.271597731691821,-0.08398480077020003,-0.33718677545218095,-0.27604931305172253,-0.7962034207852795,-0.49027841665655486,-1.0982775229569983,-0.042387243843414746,0.5163102500542561,1.7785466583410598,-1.3416949295418166,-1.6311082373778638,1.492610190134358,0.972863037543592,-0.6384898322851272,-0.7730175292304294,-0.6079456151824305,1.9926044487338437,-0.874650338449589,0.9522178493738911,-0.5919446595493946,0.7568928517585953,-0.49669195137704325,0.8175348807418468,-0.4609442296110568,-2.152141830296282,-1.7698027759212958,0.5207224965560626,0.676301420293525,0.8236286175459849,-0.050725899405311005]}],                        {\"legend\":{\"bgcolor\":\"#F5F6F9\",\"font\":{\"color\":\"#4D5663\"}},\"paper_bgcolor\":\"#F5F6F9\",\"plot_bgcolor\":\"#F5F6F9\",\"template\":{\"data\":{\"bar\":[{\"error_x\":{\"color\":\"#2a3f5f\"},\"error_y\":{\"color\":\"#2a3f5f\"},\"marker\":{\"line\":{\"color\":\"#E5ECF6\",\"width\":0.5},\"pattern\":{\"fillmode\":\"overlay\",\"size\":10,\"solidity\":0.2}},\"type\":\"bar\"}],\"barpolar\":[{\"marker\":{\"line\":{\"color\":\"#E5ECF6\",\"width\":0.5},\"pattern\":{\"fillmode\":\"overlay\",\"size\":10,\"solidity\":0.2}},\"type\":\"barpolar\"}],\"carpet\":[{\"aaxis\":{\"endlinecolor\":\"#2a3f5f\",\"gridcolor\":\"white\",\"linecolor\":\"white\",\"minorgridcolor\":\"white\",\"startlinecolor\":\"#2a3f5f\"},\"baxis\":{\"endlinecolor\":\"#2a3f5f\",\"gridcolor\":\"white\",\"linecolor\":\"white\",\"minorgridcolor\":\"white\",\"startlinecolor\":\"#2a3f5f\"},\"type\":\"carpet\"}],\"choropleth\":[{\"colorbar\":{\"outlinewidth\":0,\"ticks\":\"\"},\"type\":\"choropleth\"}],\"contour\":[{\"colorbar\":{\"outlinewidth\":0,\"ticks\":\"\"},\"colorscale\":[[0.0,\"#0d0887\"],[0.1111111111111111,\"#46039f\"],[0.2222222222222222,\"#7201a8\"],[0.3333333333333333,\"#9c179e\"],[0.4444444444444444,\"#bd3786\"],[0.5555555555555556,\"#d8576b\"],[0.6666666666666666,\"#ed7953\"],[0.7777777777777778,\"#fb9f3a\"],[0.8888888888888888,\"#fdca26\"],[1.0,\"#f0f921\"]],\"type\":\"contour\"}],\"contourcarpet\":[{\"colorbar\":{\"outlinewidth\":0,\"ticks\":\"\"},\"type\":\"contourcarpet\"}],\"heatmap\":[{\"colorbar\":{\"outlinewidth\":0,\"ticks\":\"\"},\"colorscale\":[[0.0,\"#0d0887\"],[0.1111111111111111,\"#46039f\"],[0.2222222222222222,\"#7201a8\"],[0.3333333333333333,\"#9c179e\"],[0.4444444444444444,\"#bd3786\"],[0.5555555555555556,\"#d8576b\"],[0.6666666666666666,\"#ed7953\"],[0.7777777777777778,\"#fb9f3a\"],[0.8888888888888888,\"#fdca26\"],[1.0,\"#f0f921\"]],\"type\":\"heatmap\"}],\"heatmapgl\":[{\"colorbar\":{\"outlinewidth\":0,\"ticks\":\"\"},\"colorscale\":[[0.0,\"#0d0887\"],[0.1111111111111111,\"#46039f\"],[0.2222222222222222,\"#7201a8\"],[0.3333333333333333,\"#9c179e\"],[0.4444444444444444,\"#bd3786\"],[0.5555555555555556,\"#d8576b\"],[0.6666666666666666,\"#ed7953\"],[0.7777777777777778,\"#fb9f3a\"],[0.8888888888888888,\"#fdca26\"],[1.0,\"#f0f921\"]],\"type\":\"heatmapgl\"}],\"histogram\":[{\"marker\":{\"pattern\":{\"fillmode\":\"overlay\",\"size\":10,\"solidity\":0.2}},\"type\":\"histogram\"}],\"histogram2d\":[{\"colorbar\":{\"outlinewidth\":0,\"ticks\":\"\"},\"colorscale\":[[0.0,\"#0d0887\"],[0.1111111111111111,\"#46039f\"],[0.2222222222222222,\"#7201a8\"],[0.3333333333333333,\"#9c179e\"],[0.4444444444444444,\"#bd3786\"],[0.5555555555555556,\"#d8576b\"],[0.6666666666666666,\"#ed7953\"],[0.7777777777777778,\"#fb9f3a\"],[0.8888888888888888,\"#fdca26\"],[1.0,\"#f0f921\"]],\"type\":\"histogram2d\"}],\"histogram2dcontour\":[{\"colorbar\":{\"outlinewidth\":0,\"ticks\":\"\"},\"colorscale\":[[0.0,\"#0d0887\"],[0.1111111111111111,\"#46039f\"],[0.2222222222222222,\"#7201a8\"],[0.3333333333333333,\"#9c179e\"],[0.4444444444444444,\"#bd3786\"],[0.5555555555555556,\"#d8576b\"],[0.6666666666666666,\"#ed7953\"],[0.7777777777777778,\"#fb9f3a\"],[0.8888888888888888,\"#fdca26\"],[1.0,\"#f0f921\"]],\"type\":\"histogram2dcontour\"}],\"mesh3d\":[{\"colorbar\":{\"outlinewidth\":0,\"ticks\":\"\"},\"type\":\"mesh3d\"}],\"parcoords\":[{\"line\":{\"colorbar\":{\"outlinewidth\":0,\"ticks\":\"\"}},\"type\":\"parcoords\"}],\"pie\":[{\"automargin\":true,\"type\":\"pie\"}],\"scatter\":[{\"marker\":{\"colorbar\":{\"outlinewidth\":0,\"ticks\":\"\"}},\"type\":\"scatter\"}],\"scatter3d\":[{\"line\":{\"colorbar\":{\"outlinewidth\":0,\"ticks\":\"\"}},\"marker\":{\"colorbar\":{\"outlinewidth\":0,\"ticks\":\"\"}},\"type\":\"scatter3d\"}],\"scattercarpet\":[{\"marker\":{\"colorbar\":{\"outlinewidth\":0,\"ticks\":\"\"}},\"type\":\"scattercarpet\"}],\"scattergeo\":[{\"marker\":{\"colorbar\":{\"outlinewidth\":0,\"ticks\":\"\"}},\"type\":\"scattergeo\"}],\"scattergl\":[{\"marker\":{\"colorbar\":{\"outlinewidth\":0,\"ticks\":\"\"}},\"type\":\"scattergl\"}],\"scattermapbox\":[{\"marker\":{\"colorbar\":{\"outlinewidth\":0,\"ticks\":\"\"}},\"type\":\"scattermapbox\"}],\"scatterpolar\":[{\"marker\":{\"colorbar\":{\"outlinewidth\":0,\"ticks\":\"\"}},\"type\":\"scatterpolar\"}],\"scatterpolargl\":[{\"marker\":{\"colorbar\":{\"outlinewidth\":0,\"ticks\":\"\"}},\"type\":\"scatterpolargl\"}],\"scatterternary\":[{\"marker\":{\"colorbar\":{\"outlinewidth\":0,\"ticks\":\"\"}},\"type\":\"scatterternary\"}],\"surface\":[{\"colorbar\":{\"outlinewidth\":0,\"ticks\":\"\"},\"colorscale\":[[0.0,\"#0d0887\"],[0.1111111111111111,\"#46039f\"],[0.2222222222222222,\"#7201a8\"],[0.3333333333333333,\"#9c179e\"],[0.4444444444444444,\"#bd3786\"],[0.5555555555555556,\"#d8576b\"],[0.6666666666666666,\"#ed7953\"],[0.7777777777777778,\"#fb9f3a\"],[0.8888888888888888,\"#fdca26\"],[1.0,\"#f0f921\"]],\"type\":\"surface\"}],\"table\":[{\"cells\":{\"fill\":{\"color\":\"#EBF0F8\"},\"line\":{\"color\":\"white\"}},\"header\":{\"fill\":{\"color\":\"#C8D4E3\"},\"line\":{\"color\":\"white\"}},\"type\":\"table\"}]},\"layout\":{\"annotationdefaults\":{\"arrowcolor\":\"#2a3f5f\",\"arrowhead\":0,\"arrowwidth\":1},\"autotypenumbers\":\"strict\",\"coloraxis\":{\"colorbar\":{\"outlinewidth\":0,\"ticks\":\"\"}},\"colorscale\":{\"diverging\":[[0,\"#8e0152\"],[0.1,\"#c51b7d\"],[0.2,\"#de77ae\"],[0.3,\"#f1b6da\"],[0.4,\"#fde0ef\"],[0.5,\"#f7f7f7\"],[0.6,\"#e6f5d0\"],[0.7,\"#b8e186\"],[0.8,\"#7fbc41\"],[0.9,\"#4d9221\"],[1,\"#276419\"]],\"sequential\":[[0.0,\"#0d0887\"],[0.1111111111111111,\"#46039f\"],[0.2222222222222222,\"#7201a8\"],[0.3333333333333333,\"#9c179e\"],[0.4444444444444444,\"#bd3786\"],[0.5555555555555556,\"#d8576b\"],[0.6666666666666666,\"#ed7953\"],[0.7777777777777778,\"#fb9f3a\"],[0.8888888888888888,\"#fdca26\"],[1.0,\"#f0f921\"]],\"sequentialminus\":[[0.0,\"#0d0887\"],[0.1111111111111111,\"#46039f\"],[0.2222222222222222,\"#7201a8\"],[0.3333333333333333,\"#9c179e\"],[0.4444444444444444,\"#bd3786\"],[0.5555555555555556,\"#d8576b\"],[0.6666666666666666,\"#ed7953\"],[0.7777777777777778,\"#fb9f3a\"],[0.8888888888888888,\"#fdca26\"],[1.0,\"#f0f921\"]]},\"colorway\":[\"#636efa\",\"#EF553B\",\"#00cc96\",\"#ab63fa\",\"#FFA15A\",\"#19d3f3\",\"#FF6692\",\"#B6E880\",\"#FF97FF\",\"#FECB52\"],\"font\":{\"color\":\"#2a3f5f\"},\"geo\":{\"bgcolor\":\"white\",\"lakecolor\":\"white\",\"landcolor\":\"#E5ECF6\",\"showlakes\":true,\"showland\":true,\"subunitcolor\":\"white\"},\"hoverlabel\":{\"align\":\"left\"},\"hovermode\":\"closest\",\"mapbox\":{\"style\":\"light\"},\"paper_bgcolor\":\"white\",\"plot_bgcolor\":\"#E5ECF6\",\"polar\":{\"angularaxis\":{\"gridcolor\":\"white\",\"linecolor\":\"white\",\"ticks\":\"\"},\"bgcolor\":\"#E5ECF6\",\"radialaxis\":{\"gridcolor\":\"white\",\"linecolor\":\"white\",\"ticks\":\"\"}},\"scene\":{\"xaxis\":{\"backgroundcolor\":\"#E5ECF6\",\"gridcolor\":\"white\",\"gridwidth\":2,\"linecolor\":\"white\",\"showbackground\":true,\"ticks\":\"\",\"zerolinecolor\":\"white\"},\"yaxis\":{\"backgroundcolor\":\"#E5ECF6\",\"gridcolor\":\"white\",\"gridwidth\":2,\"linecolor\":\"white\",\"showbackground\":true,\"ticks\":\"\",\"zerolinecolor\":\"white\"},\"zaxis\":{\"backgroundcolor\":\"#E5ECF6\",\"gridcolor\":\"white\",\"gridwidth\":2,\"linecolor\":\"white\",\"showbackground\":true,\"ticks\":\"\",\"zerolinecolor\":\"white\"}},\"shapedefaults\":{\"line\":{\"color\":\"#2a3f5f\"}},\"ternary\":{\"aaxis\":{\"gridcolor\":\"white\",\"linecolor\":\"white\",\"ticks\":\"\"},\"baxis\":{\"gridcolor\":\"white\",\"linecolor\":\"white\",\"ticks\":\"\"},\"bgcolor\":\"#E5ECF6\",\"caxis\":{\"gridcolor\":\"white\",\"linecolor\":\"white\",\"ticks\":\"\"}},\"title\":{\"x\":0.05},\"xaxis\":{\"automargin\":true,\"gridcolor\":\"white\",\"linecolor\":\"white\",\"ticks\":\"\",\"title\":{\"standoff\":15},\"zerolinecolor\":\"white\",\"zerolinewidth\":2},\"yaxis\":{\"automargin\":true,\"gridcolor\":\"white\",\"linecolor\":\"white\",\"ticks\":\"\",\"title\":{\"standoff\":15},\"zerolinecolor\":\"white\",\"zerolinewidth\":2}}},\"title\":{\"font\":{\"color\":\"#4D5663\"}},\"xaxis\":{\"gridcolor\":\"#E1E5ED\",\"showgrid\":true,\"tickfont\":{\"color\":\"#4D5663\"},\"title\":{\"font\":{\"color\":\"#4D5663\"},\"text\":\"\"},\"zerolinecolor\":\"#E1E5ED\"},\"yaxis\":{\"gridcolor\":\"#E1E5ED\",\"showgrid\":true,\"tickfont\":{\"color\":\"#4D5663\"},\"title\":{\"font\":{\"color\":\"#4D5663\"},\"text\":\"\"},\"zerolinecolor\":\"#E1E5ED\"}},                        {\"showLink\": true, \"linkText\": \"Export to plot.ly\", \"plotlyServerURL\": \"https://plot.ly\", \"responsive\": true}                    ).then(function(){\n",
       "                            \n",
       "var gd = document.getElementById('1ecaaa09-49a7-4ddc-b71e-eaf8788d5cb0');\n",
       "var x = new MutationObserver(function (mutations, observer) {{\n",
       "        var display = window.getComputedStyle(gd).display;\n",
       "        if (!display || display === 'none') {{\n",
       "            console.log([gd, 'removed!']);\n",
       "            Plotly.purge(gd);\n",
       "            observer.disconnect();\n",
       "        }}\n",
       "}});\n",
       "\n",
       "// Listen for the removal of the full notebook cells\n",
       "var notebookContainer = gd.closest('#notebook-container');\n",
       "if (notebookContainer) {{\n",
       "    x.observe(notebookContainer, {childList: true});\n",
       "}}\n",
       "\n",
       "// Listen for the clearing of the current output cell\n",
       "var outputEl = gd.closest('.output');\n",
       "if (outputEl) {{\n",
       "    x.observe(outputEl, {childList: true});\n",
       "}}\n",
       "\n",
       "                        })                };                });            </script>        </div>"
      ]
     },
     "metadata": {}
    }
   ],
   "metadata": {}
  },
  {
   "cell_type": "markdown",
   "source": [
    "## 3d Surface"
   ],
   "metadata": {}
  },
  {
   "cell_type": "code",
   "execution_count": 28,
   "source": [
    "df3 = pd.DataFrame(\n",
    "    {\"x\": [1, 2, 3, 4, 5], \"y\": [10, 20, 30, 20, 10], \"z\": [5, 4, 3, 2, 1]}\n",
    ")\n",
    "df3.iplot(kind=\"surface\", colorscale=\"rdylbu\")\n"
   ],
   "outputs": [
    {
     "output_type": "display_data",
     "data": {
      "application/vnd.plotly.v1+json": {
       "config": {
        "linkText": "Export to plot.ly",
        "plotlyServerURL": "https://plot.ly",
        "showLink": true
       },
       "data": [
        {
         "colorscale": [
          [
           0,
           "rgb(165,0,38)"
          ],
          [
           0.1,
           "rgb(215,48,39)"
          ],
          [
           0.2,
           "rgb(244,109,67)"
          ],
          [
           0.3,
           "rgb(253,174,97)"
          ],
          [
           0.4,
           "rgb(254,224,144)"
          ],
          [
           0.5,
           "rgb(255,255,191)"
          ],
          [
           0.6,
           "rgb(224,243,248)"
          ],
          [
           0.7,
           "rgb(171,217,233)"
          ],
          [
           0.8,
           "rgb(116,173,209)"
          ],
          [
           0.9,
           "rgb(69,117,180)"
          ],
          [
           1,
           "rgb(49,54,149)"
          ]
         ],
         "type": "surface",
         "x": [
          0,
          1,
          2,
          3,
          4
         ],
         "y": [
          "x",
          "y",
          "z"
         ],
         "z": [
          [
           1,
           2,
           3,
           4,
           5
          ],
          [
           10,
           20,
           30,
           20,
           10
          ],
          [
           5,
           4,
           3,
           2,
           1
          ]
         ]
        }
       ],
       "layout": {
        "legend": {
         "bgcolor": "#F5F6F9",
         "font": {
          "color": "#4D5663"
         }
        },
        "paper_bgcolor": "#F5F6F9",
        "plot_bgcolor": "#F5F6F9",
        "template": {
         "data": {
          "bar": [
           {
            "error_x": {
             "color": "#2a3f5f"
            },
            "error_y": {
             "color": "#2a3f5f"
            },
            "marker": {
             "line": {
              "color": "#E5ECF6",
              "width": 0.5
             },
             "pattern": {
              "fillmode": "overlay",
              "size": 10,
              "solidity": 0.2
             }
            },
            "type": "bar"
           }
          ],
          "barpolar": [
           {
            "marker": {
             "line": {
              "color": "#E5ECF6",
              "width": 0.5
             },
             "pattern": {
              "fillmode": "overlay",
              "size": 10,
              "solidity": 0.2
             }
            },
            "type": "barpolar"
           }
          ],
          "carpet": [
           {
            "aaxis": {
             "endlinecolor": "#2a3f5f",
             "gridcolor": "white",
             "linecolor": "white",
             "minorgridcolor": "white",
             "startlinecolor": "#2a3f5f"
            },
            "baxis": {
             "endlinecolor": "#2a3f5f",
             "gridcolor": "white",
             "linecolor": "white",
             "minorgridcolor": "white",
             "startlinecolor": "#2a3f5f"
            },
            "type": "carpet"
           }
          ],
          "choropleth": [
           {
            "colorbar": {
             "outlinewidth": 0,
             "ticks": ""
            },
            "type": "choropleth"
           }
          ],
          "contour": [
           {
            "colorbar": {
             "outlinewidth": 0,
             "ticks": ""
            },
            "colorscale": [
             [
              0,
              "#0d0887"
             ],
             [
              0.1111111111111111,
              "#46039f"
             ],
             [
              0.2222222222222222,
              "#7201a8"
             ],
             [
              0.3333333333333333,
              "#9c179e"
             ],
             [
              0.4444444444444444,
              "#bd3786"
             ],
             [
              0.5555555555555556,
              "#d8576b"
             ],
             [
              0.6666666666666666,
              "#ed7953"
             ],
             [
              0.7777777777777778,
              "#fb9f3a"
             ],
             [
              0.8888888888888888,
              "#fdca26"
             ],
             [
              1,
              "#f0f921"
             ]
            ],
            "type": "contour"
           }
          ],
          "contourcarpet": [
           {
            "colorbar": {
             "outlinewidth": 0,
             "ticks": ""
            },
            "type": "contourcarpet"
           }
          ],
          "heatmap": [
           {
            "colorbar": {
             "outlinewidth": 0,
             "ticks": ""
            },
            "colorscale": [
             [
              0,
              "#0d0887"
             ],
             [
              0.1111111111111111,
              "#46039f"
             ],
             [
              0.2222222222222222,
              "#7201a8"
             ],
             [
              0.3333333333333333,
              "#9c179e"
             ],
             [
              0.4444444444444444,
              "#bd3786"
             ],
             [
              0.5555555555555556,
              "#d8576b"
             ],
             [
              0.6666666666666666,
              "#ed7953"
             ],
             [
              0.7777777777777778,
              "#fb9f3a"
             ],
             [
              0.8888888888888888,
              "#fdca26"
             ],
             [
              1,
              "#f0f921"
             ]
            ],
            "type": "heatmap"
           }
          ],
          "heatmapgl": [
           {
            "colorbar": {
             "outlinewidth": 0,
             "ticks": ""
            },
            "colorscale": [
             [
              0,
              "#0d0887"
             ],
             [
              0.1111111111111111,
              "#46039f"
             ],
             [
              0.2222222222222222,
              "#7201a8"
             ],
             [
              0.3333333333333333,
              "#9c179e"
             ],
             [
              0.4444444444444444,
              "#bd3786"
             ],
             [
              0.5555555555555556,
              "#d8576b"
             ],
             [
              0.6666666666666666,
              "#ed7953"
             ],
             [
              0.7777777777777778,
              "#fb9f3a"
             ],
             [
              0.8888888888888888,
              "#fdca26"
             ],
             [
              1,
              "#f0f921"
             ]
            ],
            "type": "heatmapgl"
           }
          ],
          "histogram": [
           {
            "marker": {
             "pattern": {
              "fillmode": "overlay",
              "size": 10,
              "solidity": 0.2
             }
            },
            "type": "histogram"
           }
          ],
          "histogram2d": [
           {
            "colorbar": {
             "outlinewidth": 0,
             "ticks": ""
            },
            "colorscale": [
             [
              0,
              "#0d0887"
             ],
             [
              0.1111111111111111,
              "#46039f"
             ],
             [
              0.2222222222222222,
              "#7201a8"
             ],
             [
              0.3333333333333333,
              "#9c179e"
             ],
             [
              0.4444444444444444,
              "#bd3786"
             ],
             [
              0.5555555555555556,
              "#d8576b"
             ],
             [
              0.6666666666666666,
              "#ed7953"
             ],
             [
              0.7777777777777778,
              "#fb9f3a"
             ],
             [
              0.8888888888888888,
              "#fdca26"
             ],
             [
              1,
              "#f0f921"
             ]
            ],
            "type": "histogram2d"
           }
          ],
          "histogram2dcontour": [
           {
            "colorbar": {
             "outlinewidth": 0,
             "ticks": ""
            },
            "colorscale": [
             [
              0,
              "#0d0887"
             ],
             [
              0.1111111111111111,
              "#46039f"
             ],
             [
              0.2222222222222222,
              "#7201a8"
             ],
             [
              0.3333333333333333,
              "#9c179e"
             ],
             [
              0.4444444444444444,
              "#bd3786"
             ],
             [
              0.5555555555555556,
              "#d8576b"
             ],
             [
              0.6666666666666666,
              "#ed7953"
             ],
             [
              0.7777777777777778,
              "#fb9f3a"
             ],
             [
              0.8888888888888888,
              "#fdca26"
             ],
             [
              1,
              "#f0f921"
             ]
            ],
            "type": "histogram2dcontour"
           }
          ],
          "mesh3d": [
           {
            "colorbar": {
             "outlinewidth": 0,
             "ticks": ""
            },
            "type": "mesh3d"
           }
          ],
          "parcoords": [
           {
            "line": {
             "colorbar": {
              "outlinewidth": 0,
              "ticks": ""
             }
            },
            "type": "parcoords"
           }
          ],
          "pie": [
           {
            "automargin": true,
            "type": "pie"
           }
          ],
          "scatter": [
           {
            "marker": {
             "colorbar": {
              "outlinewidth": 0,
              "ticks": ""
             }
            },
            "type": "scatter"
           }
          ],
          "scatter3d": [
           {
            "line": {
             "colorbar": {
              "outlinewidth": 0,
              "ticks": ""
             }
            },
            "marker": {
             "colorbar": {
              "outlinewidth": 0,
              "ticks": ""
             }
            },
            "type": "scatter3d"
           }
          ],
          "scattercarpet": [
           {
            "marker": {
             "colorbar": {
              "outlinewidth": 0,
              "ticks": ""
             }
            },
            "type": "scattercarpet"
           }
          ],
          "scattergeo": [
           {
            "marker": {
             "colorbar": {
              "outlinewidth": 0,
              "ticks": ""
             }
            },
            "type": "scattergeo"
           }
          ],
          "scattergl": [
           {
            "marker": {
             "colorbar": {
              "outlinewidth": 0,
              "ticks": ""
             }
            },
            "type": "scattergl"
           }
          ],
          "scattermapbox": [
           {
            "marker": {
             "colorbar": {
              "outlinewidth": 0,
              "ticks": ""
             }
            },
            "type": "scattermapbox"
           }
          ],
          "scatterpolar": [
           {
            "marker": {
             "colorbar": {
              "outlinewidth": 0,
              "ticks": ""
             }
            },
            "type": "scatterpolar"
           }
          ],
          "scatterpolargl": [
           {
            "marker": {
             "colorbar": {
              "outlinewidth": 0,
              "ticks": ""
             }
            },
            "type": "scatterpolargl"
           }
          ],
          "scatterternary": [
           {
            "marker": {
             "colorbar": {
              "outlinewidth": 0,
              "ticks": ""
             }
            },
            "type": "scatterternary"
           }
          ],
          "surface": [
           {
            "colorbar": {
             "outlinewidth": 0,
             "ticks": ""
            },
            "colorscale": [
             [
              0,
              "#0d0887"
             ],
             [
              0.1111111111111111,
              "#46039f"
             ],
             [
              0.2222222222222222,
              "#7201a8"
             ],
             [
              0.3333333333333333,
              "#9c179e"
             ],
             [
              0.4444444444444444,
              "#bd3786"
             ],
             [
              0.5555555555555556,
              "#d8576b"
             ],
             [
              0.6666666666666666,
              "#ed7953"
             ],
             [
              0.7777777777777778,
              "#fb9f3a"
             ],
             [
              0.8888888888888888,
              "#fdca26"
             ],
             [
              1,
              "#f0f921"
             ]
            ],
            "type": "surface"
           }
          ],
          "table": [
           {
            "cells": {
             "fill": {
              "color": "#EBF0F8"
             },
             "line": {
              "color": "white"
             }
            },
            "header": {
             "fill": {
              "color": "#C8D4E3"
             },
             "line": {
              "color": "white"
             }
            },
            "type": "table"
           }
          ]
         },
         "layout": {
          "annotationdefaults": {
           "arrowcolor": "#2a3f5f",
           "arrowhead": 0,
           "arrowwidth": 1
          },
          "autotypenumbers": "strict",
          "coloraxis": {
           "colorbar": {
            "outlinewidth": 0,
            "ticks": ""
           }
          },
          "colorscale": {
           "diverging": [
            [
             0,
             "#8e0152"
            ],
            [
             0.1,
             "#c51b7d"
            ],
            [
             0.2,
             "#de77ae"
            ],
            [
             0.3,
             "#f1b6da"
            ],
            [
             0.4,
             "#fde0ef"
            ],
            [
             0.5,
             "#f7f7f7"
            ],
            [
             0.6,
             "#e6f5d0"
            ],
            [
             0.7,
             "#b8e186"
            ],
            [
             0.8,
             "#7fbc41"
            ],
            [
             0.9,
             "#4d9221"
            ],
            [
             1,
             "#276419"
            ]
           ],
           "sequential": [
            [
             0,
             "#0d0887"
            ],
            [
             0.1111111111111111,
             "#46039f"
            ],
            [
             0.2222222222222222,
             "#7201a8"
            ],
            [
             0.3333333333333333,
             "#9c179e"
            ],
            [
             0.4444444444444444,
             "#bd3786"
            ],
            [
             0.5555555555555556,
             "#d8576b"
            ],
            [
             0.6666666666666666,
             "#ed7953"
            ],
            [
             0.7777777777777778,
             "#fb9f3a"
            ],
            [
             0.8888888888888888,
             "#fdca26"
            ],
            [
             1,
             "#f0f921"
            ]
           ],
           "sequentialminus": [
            [
             0,
             "#0d0887"
            ],
            [
             0.1111111111111111,
             "#46039f"
            ],
            [
             0.2222222222222222,
             "#7201a8"
            ],
            [
             0.3333333333333333,
             "#9c179e"
            ],
            [
             0.4444444444444444,
             "#bd3786"
            ],
            [
             0.5555555555555556,
             "#d8576b"
            ],
            [
             0.6666666666666666,
             "#ed7953"
            ],
            [
             0.7777777777777778,
             "#fb9f3a"
            ],
            [
             0.8888888888888888,
             "#fdca26"
            ],
            [
             1,
             "#f0f921"
            ]
           ]
          },
          "colorway": [
           "#636efa",
           "#EF553B",
           "#00cc96",
           "#ab63fa",
           "#FFA15A",
           "#19d3f3",
           "#FF6692",
           "#B6E880",
           "#FF97FF",
           "#FECB52"
          ],
          "font": {
           "color": "#2a3f5f"
          },
          "geo": {
           "bgcolor": "white",
           "lakecolor": "white",
           "landcolor": "#E5ECF6",
           "showlakes": true,
           "showland": true,
           "subunitcolor": "white"
          },
          "hoverlabel": {
           "align": "left"
          },
          "hovermode": "closest",
          "mapbox": {
           "style": "light"
          },
          "paper_bgcolor": "white",
          "plot_bgcolor": "#E5ECF6",
          "polar": {
           "angularaxis": {
            "gridcolor": "white",
            "linecolor": "white",
            "ticks": ""
           },
           "bgcolor": "#E5ECF6",
           "radialaxis": {
            "gridcolor": "white",
            "linecolor": "white",
            "ticks": ""
           }
          },
          "scene": {
           "xaxis": {
            "backgroundcolor": "#E5ECF6",
            "gridcolor": "white",
            "gridwidth": 2,
            "linecolor": "white",
            "showbackground": true,
            "ticks": "",
            "zerolinecolor": "white"
           },
           "yaxis": {
            "backgroundcolor": "#E5ECF6",
            "gridcolor": "white",
            "gridwidth": 2,
            "linecolor": "white",
            "showbackground": true,
            "ticks": "",
            "zerolinecolor": "white"
           },
           "zaxis": {
            "backgroundcolor": "#E5ECF6",
            "gridcolor": "white",
            "gridwidth": 2,
            "linecolor": "white",
            "showbackground": true,
            "ticks": "",
            "zerolinecolor": "white"
           }
          },
          "shapedefaults": {
           "line": {
            "color": "#2a3f5f"
           }
          },
          "ternary": {
           "aaxis": {
            "gridcolor": "white",
            "linecolor": "white",
            "ticks": ""
           },
           "baxis": {
            "gridcolor": "white",
            "linecolor": "white",
            "ticks": ""
           },
           "bgcolor": "#E5ECF6",
           "caxis": {
            "gridcolor": "white",
            "linecolor": "white",
            "ticks": ""
           }
          },
          "title": {
           "x": 0.05
          },
          "xaxis": {
           "automargin": true,
           "gridcolor": "white",
           "linecolor": "white",
           "ticks": "",
           "title": {
            "standoff": 15
           },
           "zerolinecolor": "white",
           "zerolinewidth": 2
          },
          "yaxis": {
           "automargin": true,
           "gridcolor": "white",
           "linecolor": "white",
           "ticks": "",
           "title": {
            "standoff": 15
           },
           "zerolinecolor": "white",
           "zerolinewidth": 2
          }
         }
        },
        "title": {
         "font": {
          "color": "#4D5663"
         }
        },
        "xaxis": {
         "gridcolor": "#E1E5ED",
         "showgrid": true,
         "tickfont": {
          "color": "#4D5663"
         },
         "title": {
          "font": {
           "color": "#4D5663"
          },
          "text": ""
         },
         "zerolinecolor": "#E1E5ED"
        },
        "yaxis": {
         "gridcolor": "#E1E5ED",
         "showgrid": true,
         "tickfont": {
          "color": "#4D5663"
         },
         "title": {
          "font": {
           "color": "#4D5663"
          },
          "text": ""
         },
         "zerolinecolor": "#E1E5ED"
        }
       }
      },
      "text/html": [
       "<div>                            <div id=\"231aadfd-67bf-4a8a-a144-f1c916e70dbf\" class=\"plotly-graph-div\" style=\"height:525px; width:100%;\"></div>            <script type=\"text/javascript\">                require([\"plotly\"], function(Plotly) {                    window.PLOTLYENV=window.PLOTLYENV || {};\n",
       "                    window.PLOTLYENV.BASE_URL='https://plot.ly';                                    if (document.getElementById(\"231aadfd-67bf-4a8a-a144-f1c916e70dbf\")) {                    Plotly.newPlot(                        \"231aadfd-67bf-4a8a-a144-f1c916e70dbf\",                        [{\"colorscale\":[[0.0,\"rgb(165,0,38)\"],[0.1,\"rgb(215,48,39)\"],[0.2,\"rgb(244,109,67)\"],[0.3,\"rgb(253,174,97)\"],[0.4,\"rgb(254,224,144)\"],[0.5,\"rgb(255,255,191)\"],[0.6,\"rgb(224,243,248)\"],[0.7,\"rgb(171,217,233)\"],[0.8,\"rgb(116,173,209)\"],[0.9,\"rgb(69,117,180)\"],[1.0,\"rgb(49,54,149)\"]],\"type\":\"surface\",\"x\":[0,1,2,3,4],\"y\":[\"x\",\"y\",\"z\"],\"z\":[[1,2,3,4,5],[10,20,30,20,10],[5,4,3,2,1]]}],                        {\"legend\":{\"bgcolor\":\"#F5F6F9\",\"font\":{\"color\":\"#4D5663\"}},\"paper_bgcolor\":\"#F5F6F9\",\"plot_bgcolor\":\"#F5F6F9\",\"template\":{\"data\":{\"bar\":[{\"error_x\":{\"color\":\"#2a3f5f\"},\"error_y\":{\"color\":\"#2a3f5f\"},\"marker\":{\"line\":{\"color\":\"#E5ECF6\",\"width\":0.5},\"pattern\":{\"fillmode\":\"overlay\",\"size\":10,\"solidity\":0.2}},\"type\":\"bar\"}],\"barpolar\":[{\"marker\":{\"line\":{\"color\":\"#E5ECF6\",\"width\":0.5},\"pattern\":{\"fillmode\":\"overlay\",\"size\":10,\"solidity\":0.2}},\"type\":\"barpolar\"}],\"carpet\":[{\"aaxis\":{\"endlinecolor\":\"#2a3f5f\",\"gridcolor\":\"white\",\"linecolor\":\"white\",\"minorgridcolor\":\"white\",\"startlinecolor\":\"#2a3f5f\"},\"baxis\":{\"endlinecolor\":\"#2a3f5f\",\"gridcolor\":\"white\",\"linecolor\":\"white\",\"minorgridcolor\":\"white\",\"startlinecolor\":\"#2a3f5f\"},\"type\":\"carpet\"}],\"choropleth\":[{\"colorbar\":{\"outlinewidth\":0,\"ticks\":\"\"},\"type\":\"choropleth\"}],\"contour\":[{\"colorbar\":{\"outlinewidth\":0,\"ticks\":\"\"},\"colorscale\":[[0.0,\"#0d0887\"],[0.1111111111111111,\"#46039f\"],[0.2222222222222222,\"#7201a8\"],[0.3333333333333333,\"#9c179e\"],[0.4444444444444444,\"#bd3786\"],[0.5555555555555556,\"#d8576b\"],[0.6666666666666666,\"#ed7953\"],[0.7777777777777778,\"#fb9f3a\"],[0.8888888888888888,\"#fdca26\"],[1.0,\"#f0f921\"]],\"type\":\"contour\"}],\"contourcarpet\":[{\"colorbar\":{\"outlinewidth\":0,\"ticks\":\"\"},\"type\":\"contourcarpet\"}],\"heatmap\":[{\"colorbar\":{\"outlinewidth\":0,\"ticks\":\"\"},\"colorscale\":[[0.0,\"#0d0887\"],[0.1111111111111111,\"#46039f\"],[0.2222222222222222,\"#7201a8\"],[0.3333333333333333,\"#9c179e\"],[0.4444444444444444,\"#bd3786\"],[0.5555555555555556,\"#d8576b\"],[0.6666666666666666,\"#ed7953\"],[0.7777777777777778,\"#fb9f3a\"],[0.8888888888888888,\"#fdca26\"],[1.0,\"#f0f921\"]],\"type\":\"heatmap\"}],\"heatmapgl\":[{\"colorbar\":{\"outlinewidth\":0,\"ticks\":\"\"},\"colorscale\":[[0.0,\"#0d0887\"],[0.1111111111111111,\"#46039f\"],[0.2222222222222222,\"#7201a8\"],[0.3333333333333333,\"#9c179e\"],[0.4444444444444444,\"#bd3786\"],[0.5555555555555556,\"#d8576b\"],[0.6666666666666666,\"#ed7953\"],[0.7777777777777778,\"#fb9f3a\"],[0.8888888888888888,\"#fdca26\"],[1.0,\"#f0f921\"]],\"type\":\"heatmapgl\"}],\"histogram\":[{\"marker\":{\"pattern\":{\"fillmode\":\"overlay\",\"size\":10,\"solidity\":0.2}},\"type\":\"histogram\"}],\"histogram2d\":[{\"colorbar\":{\"outlinewidth\":0,\"ticks\":\"\"},\"colorscale\":[[0.0,\"#0d0887\"],[0.1111111111111111,\"#46039f\"],[0.2222222222222222,\"#7201a8\"],[0.3333333333333333,\"#9c179e\"],[0.4444444444444444,\"#bd3786\"],[0.5555555555555556,\"#d8576b\"],[0.6666666666666666,\"#ed7953\"],[0.7777777777777778,\"#fb9f3a\"],[0.8888888888888888,\"#fdca26\"],[1.0,\"#f0f921\"]],\"type\":\"histogram2d\"}],\"histogram2dcontour\":[{\"colorbar\":{\"outlinewidth\":0,\"ticks\":\"\"},\"colorscale\":[[0.0,\"#0d0887\"],[0.1111111111111111,\"#46039f\"],[0.2222222222222222,\"#7201a8\"],[0.3333333333333333,\"#9c179e\"],[0.4444444444444444,\"#bd3786\"],[0.5555555555555556,\"#d8576b\"],[0.6666666666666666,\"#ed7953\"],[0.7777777777777778,\"#fb9f3a\"],[0.8888888888888888,\"#fdca26\"],[1.0,\"#f0f921\"]],\"type\":\"histogram2dcontour\"}],\"mesh3d\":[{\"colorbar\":{\"outlinewidth\":0,\"ticks\":\"\"},\"type\":\"mesh3d\"}],\"parcoords\":[{\"line\":{\"colorbar\":{\"outlinewidth\":0,\"ticks\":\"\"}},\"type\":\"parcoords\"}],\"pie\":[{\"automargin\":true,\"type\":\"pie\"}],\"scatter\":[{\"marker\":{\"colorbar\":{\"outlinewidth\":0,\"ticks\":\"\"}},\"type\":\"scatter\"}],\"scatter3d\":[{\"line\":{\"colorbar\":{\"outlinewidth\":0,\"ticks\":\"\"}},\"marker\":{\"colorbar\":{\"outlinewidth\":0,\"ticks\":\"\"}},\"type\":\"scatter3d\"}],\"scattercarpet\":[{\"marker\":{\"colorbar\":{\"outlinewidth\":0,\"ticks\":\"\"}},\"type\":\"scattercarpet\"}],\"scattergeo\":[{\"marker\":{\"colorbar\":{\"outlinewidth\":0,\"ticks\":\"\"}},\"type\":\"scattergeo\"}],\"scattergl\":[{\"marker\":{\"colorbar\":{\"outlinewidth\":0,\"ticks\":\"\"}},\"type\":\"scattergl\"}],\"scattermapbox\":[{\"marker\":{\"colorbar\":{\"outlinewidth\":0,\"ticks\":\"\"}},\"type\":\"scattermapbox\"}],\"scatterpolar\":[{\"marker\":{\"colorbar\":{\"outlinewidth\":0,\"ticks\":\"\"}},\"type\":\"scatterpolar\"}],\"scatterpolargl\":[{\"marker\":{\"colorbar\":{\"outlinewidth\":0,\"ticks\":\"\"}},\"type\":\"scatterpolargl\"}],\"scatterternary\":[{\"marker\":{\"colorbar\":{\"outlinewidth\":0,\"ticks\":\"\"}},\"type\":\"scatterternary\"}],\"surface\":[{\"colorbar\":{\"outlinewidth\":0,\"ticks\":\"\"},\"colorscale\":[[0.0,\"#0d0887\"],[0.1111111111111111,\"#46039f\"],[0.2222222222222222,\"#7201a8\"],[0.3333333333333333,\"#9c179e\"],[0.4444444444444444,\"#bd3786\"],[0.5555555555555556,\"#d8576b\"],[0.6666666666666666,\"#ed7953\"],[0.7777777777777778,\"#fb9f3a\"],[0.8888888888888888,\"#fdca26\"],[1.0,\"#f0f921\"]],\"type\":\"surface\"}],\"table\":[{\"cells\":{\"fill\":{\"color\":\"#EBF0F8\"},\"line\":{\"color\":\"white\"}},\"header\":{\"fill\":{\"color\":\"#C8D4E3\"},\"line\":{\"color\":\"white\"}},\"type\":\"table\"}]},\"layout\":{\"annotationdefaults\":{\"arrowcolor\":\"#2a3f5f\",\"arrowhead\":0,\"arrowwidth\":1},\"autotypenumbers\":\"strict\",\"coloraxis\":{\"colorbar\":{\"outlinewidth\":0,\"ticks\":\"\"}},\"colorscale\":{\"diverging\":[[0,\"#8e0152\"],[0.1,\"#c51b7d\"],[0.2,\"#de77ae\"],[0.3,\"#f1b6da\"],[0.4,\"#fde0ef\"],[0.5,\"#f7f7f7\"],[0.6,\"#e6f5d0\"],[0.7,\"#b8e186\"],[0.8,\"#7fbc41\"],[0.9,\"#4d9221\"],[1,\"#276419\"]],\"sequential\":[[0.0,\"#0d0887\"],[0.1111111111111111,\"#46039f\"],[0.2222222222222222,\"#7201a8\"],[0.3333333333333333,\"#9c179e\"],[0.4444444444444444,\"#bd3786\"],[0.5555555555555556,\"#d8576b\"],[0.6666666666666666,\"#ed7953\"],[0.7777777777777778,\"#fb9f3a\"],[0.8888888888888888,\"#fdca26\"],[1.0,\"#f0f921\"]],\"sequentialminus\":[[0.0,\"#0d0887\"],[0.1111111111111111,\"#46039f\"],[0.2222222222222222,\"#7201a8\"],[0.3333333333333333,\"#9c179e\"],[0.4444444444444444,\"#bd3786\"],[0.5555555555555556,\"#d8576b\"],[0.6666666666666666,\"#ed7953\"],[0.7777777777777778,\"#fb9f3a\"],[0.8888888888888888,\"#fdca26\"],[1.0,\"#f0f921\"]]},\"colorway\":[\"#636efa\",\"#EF553B\",\"#00cc96\",\"#ab63fa\",\"#FFA15A\",\"#19d3f3\",\"#FF6692\",\"#B6E880\",\"#FF97FF\",\"#FECB52\"],\"font\":{\"color\":\"#2a3f5f\"},\"geo\":{\"bgcolor\":\"white\",\"lakecolor\":\"white\",\"landcolor\":\"#E5ECF6\",\"showlakes\":true,\"showland\":true,\"subunitcolor\":\"white\"},\"hoverlabel\":{\"align\":\"left\"},\"hovermode\":\"closest\",\"mapbox\":{\"style\":\"light\"},\"paper_bgcolor\":\"white\",\"plot_bgcolor\":\"#E5ECF6\",\"polar\":{\"angularaxis\":{\"gridcolor\":\"white\",\"linecolor\":\"white\",\"ticks\":\"\"},\"bgcolor\":\"#E5ECF6\",\"radialaxis\":{\"gridcolor\":\"white\",\"linecolor\":\"white\",\"ticks\":\"\"}},\"scene\":{\"xaxis\":{\"backgroundcolor\":\"#E5ECF6\",\"gridcolor\":\"white\",\"gridwidth\":2,\"linecolor\":\"white\",\"showbackground\":true,\"ticks\":\"\",\"zerolinecolor\":\"white\"},\"yaxis\":{\"backgroundcolor\":\"#E5ECF6\",\"gridcolor\":\"white\",\"gridwidth\":2,\"linecolor\":\"white\",\"showbackground\":true,\"ticks\":\"\",\"zerolinecolor\":\"white\"},\"zaxis\":{\"backgroundcolor\":\"#E5ECF6\",\"gridcolor\":\"white\",\"gridwidth\":2,\"linecolor\":\"white\",\"showbackground\":true,\"ticks\":\"\",\"zerolinecolor\":\"white\"}},\"shapedefaults\":{\"line\":{\"color\":\"#2a3f5f\"}},\"ternary\":{\"aaxis\":{\"gridcolor\":\"white\",\"linecolor\":\"white\",\"ticks\":\"\"},\"baxis\":{\"gridcolor\":\"white\",\"linecolor\":\"white\",\"ticks\":\"\"},\"bgcolor\":\"#E5ECF6\",\"caxis\":{\"gridcolor\":\"white\",\"linecolor\":\"white\",\"ticks\":\"\"}},\"title\":{\"x\":0.05},\"xaxis\":{\"automargin\":true,\"gridcolor\":\"white\",\"linecolor\":\"white\",\"ticks\":\"\",\"title\":{\"standoff\":15},\"zerolinecolor\":\"white\",\"zerolinewidth\":2},\"yaxis\":{\"automargin\":true,\"gridcolor\":\"white\",\"linecolor\":\"white\",\"ticks\":\"\",\"title\":{\"standoff\":15},\"zerolinecolor\":\"white\",\"zerolinewidth\":2}}},\"title\":{\"font\":{\"color\":\"#4D5663\"}},\"xaxis\":{\"gridcolor\":\"#E1E5ED\",\"showgrid\":true,\"tickfont\":{\"color\":\"#4D5663\"},\"title\":{\"font\":{\"color\":\"#4D5663\"},\"text\":\"\"},\"zerolinecolor\":\"#E1E5ED\"},\"yaxis\":{\"gridcolor\":\"#E1E5ED\",\"showgrid\":true,\"tickfont\":{\"color\":\"#4D5663\"},\"title\":{\"font\":{\"color\":\"#4D5663\"},\"text\":\"\"},\"zerolinecolor\":\"#E1E5ED\"}},                        {\"showLink\": true, \"linkText\": \"Export to plot.ly\", \"plotlyServerURL\": \"https://plot.ly\", \"responsive\": true}                    ).then(function(){\n",
       "                            \n",
       "var gd = document.getElementById('231aadfd-67bf-4a8a-a144-f1c916e70dbf');\n",
       "var x = new MutationObserver(function (mutations, observer) {{\n",
       "        var display = window.getComputedStyle(gd).display;\n",
       "        if (!display || display === 'none') {{\n",
       "            console.log([gd, 'removed!']);\n",
       "            Plotly.purge(gd);\n",
       "            observer.disconnect();\n",
       "        }}\n",
       "}});\n",
       "\n",
       "// Listen for the removal of the full notebook cells\n",
       "var notebookContainer = gd.closest('#notebook-container');\n",
       "if (notebookContainer) {{\n",
       "    x.observe(notebookContainer, {childList: true});\n",
       "}}\n",
       "\n",
       "// Listen for the clearing of the current output cell\n",
       "var outputEl = gd.closest('.output');\n",
       "if (outputEl) {{\n",
       "    x.observe(outputEl, {childList: true});\n",
       "}}\n",
       "\n",
       "                        })                };                });            </script>        </div>"
      ]
     },
     "metadata": {}
    }
   ],
   "metadata": {}
  },
  {
   "cell_type": "markdown",
   "source": [
    "## Spread"
   ],
   "metadata": {}
  },
  {
   "cell_type": "code",
   "execution_count": 35,
   "source": [
    "df[[\"A\", \"B\"]].iplot(kind=\"spread\")\n"
   ],
   "outputs": [
    {
     "output_type": "display_data",
     "data": {
      "application/vnd.plotly.v1+json": {
       "config": {
        "linkText": "Export to plot.ly",
        "plotlyServerURL": "https://plot.ly",
        "showLink": true
       },
       "data": [
        {
         "line": {
          "color": "rgba(255, 153, 51, 1.0)",
          "dash": "solid",
          "shape": "linear",
          "width": 1.3
         },
         "mode": "lines",
         "name": "A",
         "text": "",
         "type": "scatter",
         "x": [
          0,
          1,
          2,
          3,
          4,
          5,
          6,
          7,
          8,
          9,
          10,
          11,
          12,
          13,
          14,
          15,
          16,
          17,
          18,
          19,
          20,
          21,
          22,
          23,
          24,
          25,
          26,
          27,
          28,
          29,
          30,
          31,
          32,
          33,
          34,
          35,
          36,
          37,
          38,
          39,
          40,
          41,
          42,
          43,
          44,
          45,
          46,
          47,
          48,
          49,
          50,
          51,
          52,
          53,
          54,
          55,
          56,
          57,
          58,
          59,
          60,
          61,
          62,
          63,
          64,
          65,
          66,
          67,
          68,
          69,
          70,
          71,
          72,
          73,
          74,
          75,
          76,
          77,
          78,
          79,
          80,
          81,
          82,
          83,
          84,
          85,
          86,
          87,
          88,
          89,
          90,
          91,
          92,
          93,
          94,
          95,
          96,
          97,
          98,
          99
         ],
         "y": [
          -1.8554435537542446,
          -0.3341474199101263,
          0.6857288575880798,
          0.12905925770490762,
          -0.13012084534391954,
          0.31598165716367344,
          -0.6814310339065305,
          -1.1857454279657653,
          0.16250831411290528,
          -0.23503431588320337,
          -0.6957583990035138,
          1.2656447012812229,
          0.7895454890395617,
          2.0102173729408683,
          0.45824801008669885,
          -0.5925775507399346,
          -0.41533289809186974,
          -0.4731233300668129,
          0.6843718826788863,
          0.5391706433363241,
          -1.1002556394218257,
          1.2609445362966492,
          -1.7026894192926318,
          0.8280922879606232,
          -0.47841132251611046,
          1.354448480034928,
          0.018522114685147483,
          -1.3413367864778607,
          -0.8895958524461421,
          -0.020608380047677472,
          -1.7240966400672362,
          0.28458344629001064,
          0.21661681618247094,
          1.2179864561575975,
          0.8482671466620583,
          -0.4077952273242937,
          -0.8049643523268022,
          -0.9176116556344076,
          -0.9356801704572217,
          -0.9699739380556349,
          0.650589802528572,
          2.547846456025026,
          -0.7096211873633143,
          -0.9174229907763136,
          1.1386671385820821,
          -1.369325539411084,
          -0.9842603474076804,
          0.5945869819604048,
          -0.23886050975260292,
          -0.46923690573927296,
          -1.142607594480248,
          -0.3611762312877647,
          -0.39933525169718176,
          2.2769382620127003,
          -0.8380458528707962,
          -0.6124392004285225,
          0.6961616835141131,
          -1.2277256681748399,
          -0.6165936577607377,
          1.4531742490758173,
          0.8324616086776321,
          0.08734935814075497,
          -0.27779001599273256,
          -0.386556029563755,
          0.5076935684905723,
          0.023459583819070404,
          0.7011956785778897,
          -2.064037457273387,
          0.5982278808302534,
          -0.24015821493527018,
          -0.20554533443737275,
          -0.28217079271367657,
          -1.7845227166301205,
          -0.5601415555592549,
          0.8084747503072853,
          0.37966132136188563,
          -0.6195525229757263,
          0.3758208757878301,
          1.4200248431796674,
          2.0659398607101047,
          0.9587108211966137,
          2.061807877022249,
          0.18050161272834003,
          -0.6540684677740707,
          -0.8644330224870201,
          -1.261133780633743,
          -1.1276839315268843,
          -0.8470709717782499,
          -0.8077457919626311,
          0.0022270729652858353,
          1.266205085899191,
          0.9466066247483059,
          0.0931235624221537,
          -0.6925655411798486,
          0.23552797185724408,
          -0.7126173671952934,
          -0.4802895517750804,
          -1.0320031452653156,
          -0.6525272343747045,
          0.6660110832512804
         ]
        },
        {
         "line": {
          "color": "rgba(55, 128, 191, 1.0)",
          "dash": "solid",
          "shape": "linear",
          "width": 1.3
         },
         "mode": "lines",
         "name": "B",
         "text": "",
         "type": "scatter",
         "x": [
          0,
          1,
          2,
          3,
          4,
          5,
          6,
          7,
          8,
          9,
          10,
          11,
          12,
          13,
          14,
          15,
          16,
          17,
          18,
          19,
          20,
          21,
          22,
          23,
          24,
          25,
          26,
          27,
          28,
          29,
          30,
          31,
          32,
          33,
          34,
          35,
          36,
          37,
          38,
          39,
          40,
          41,
          42,
          43,
          44,
          45,
          46,
          47,
          48,
          49,
          50,
          51,
          52,
          53,
          54,
          55,
          56,
          57,
          58,
          59,
          60,
          61,
          62,
          63,
          64,
          65,
          66,
          67,
          68,
          69,
          70,
          71,
          72,
          73,
          74,
          75,
          76,
          77,
          78,
          79,
          80,
          81,
          82,
          83,
          84,
          85,
          86,
          87,
          88,
          89,
          90,
          91,
          92,
          93,
          94,
          95,
          96,
          97,
          98,
          99
         ],
         "y": [
          1.0586797192233903,
          -1.2488855889850787,
          1.0700151137375091,
          0.2686994557666863,
          1.3465290941441121,
          0.3186439119999515,
          -0.26028613353663094,
          1.9624262321531245,
          0.794702271935496,
          1.4578086509674228,
          0.8172558401456013,
          0.2187013708779096,
          -0.74633696389924,
          -0.6733073789184151,
          -0.44481066657090934,
          1.0312849971810147,
          0.4182887878043122,
          0.18075131754173723,
          -2.0632733329402897,
          -0.8721967137920469,
          -0.9573519080715821,
          -0.8861931972275268,
          -1.7326911974350716,
          -0.9429172488362749,
          -1.141069187838,
          -0.18520134114365153,
          -0.5886045112319811,
          -0.4412941810900815,
          0.8285074424484511,
          0.13457702058627252,
          0.47559709859240257,
          0.24770049355141352,
          0.9973592817712069,
          0.531818650682605,
          0.25726486227163997,
          1.328493993017877,
          -0.11100689228117118,
          -0.22650857209597733,
          -0.7144840251026895,
          -1.0416718983455615,
          1.0736890893435829,
          -0.4950066633518595,
          -0.4348511389029561,
          2.8329467756340896,
          -0.4304483343702159,
          1.168993274249435,
          -0.6489183721758839,
          1.919777073493157,
          -0.7889677310786267,
          0.18372995625021743,
          -0.8774390102542554,
          -1.3138910309500251,
          0.32224629900799545,
          0.6853772906954757,
          -0.4782068224275819,
          -1.564547761029822,
          -1.456102616980963,
          -0.21772121032784514,
          -0.45293861005754127,
          1.3668566239085884,
          0.8204827551253541,
          -0.8789693591255126,
          0.2218945456519545,
          0.194766032165579,
          -0.32635090654867477,
          -1.3788456354471674,
          0.47301453080933087,
          -2.1463860553599283,
          0.588115532577788,
          -0.12100941076370306,
          1.1149475486037261,
          0.4065778223793015,
          -1.2420822666880773,
          0.6070864401924375,
          -2.151910704876458,
          0.3346452250376028,
          1.2624867269449833,
          -2.5315629613213484,
          -0.8227144688835754,
          -0.1236309975200574,
          -0.49219807187445436,
          -1.2097029964449502,
          -1.3727932974505603,
          0.44527990572978465,
          0.5434203966297816,
          0.3391141018642361,
          1.753647349388627,
          -0.5326619816135323,
          -0.12867178804487858,
          0.4902779339654576,
          0.35554607301596713,
          0.9779360084073613,
          -0.5302310144497281,
          -0.7591554389356049,
          -0.7203209807891244,
          -0.019652813053141524,
          0.6442268447826572,
          -1.6223502424253848,
          -0.03034172033845018,
          -0.28111681045492665
         ]
        },
        {
         "connectgaps": false,
         "fill": "tozeroy",
         "line": {
          "color": "green",
          "dash": "solid",
          "shape": "linear",
          "width": 0.5
         },
         "mode": "lines",
         "name": "Spread",
         "showlegend": false,
         "type": "scatter",
         "x": [
          0,
          1,
          2,
          3,
          4,
          5,
          6,
          7,
          8,
          9,
          10,
          11,
          12,
          13,
          14,
          15,
          16,
          17,
          18,
          19,
          20,
          21,
          22,
          23,
          24,
          25,
          26,
          27,
          28,
          29,
          30,
          31,
          32,
          33,
          34,
          35,
          36,
          37,
          38,
          39,
          40,
          41,
          42,
          43,
          44,
          45,
          46,
          47,
          48,
          49,
          50,
          51,
          52,
          53,
          54,
          55,
          56,
          57,
          58,
          59,
          60,
          61,
          62,
          63,
          64,
          65,
          66,
          67,
          68,
          69,
          70,
          71,
          72,
          73,
          74,
          75,
          76,
          77,
          78,
          79,
          80,
          81,
          82,
          83,
          84,
          85,
          86,
          87,
          88,
          89,
          90,
          91,
          92,
          93,
          94,
          95,
          96,
          97,
          98,
          99
         ],
         "xaxis": "x2",
         "y": [
          "",
          0.9147381690749524,
          "",
          "",
          "",
          "",
          "",
          "",
          "",
          "",
          "",
          1.0469433304033133,
          1.5358824529388015,
          2.6835247518592835,
          0.9030586766576082,
          "",
          "",
          "",
          2.747645215619176,
          1.4113673571283711,
          "",
          2.147137733524176,
          0.03000177814243976,
          1.771009536796898,
          0.6626578653218895,
          1.5396498211785794,
          0.6071266259171286,
          "",
          "",
          "",
          "",
          0.036882952738597125,
          "",
          0.6861678054749925,
          0.5910022843904184,
          "",
          "",
          "",
          "",
          0.07169796028992659,
          "",
          3.0428531193768853,
          "",
          "",
          1.569115472952298,
          "",
          "",
          "",
          0.5501072213260239,
          "",
          "",
          0.9527147996622605,
          "",
          1.5915609713172247,
          "",
          0.9521085606012994,
          2.152264300495076,
          "",
          "",
          0.08631762516722885,
          0.011978853552278013,
          0.9663187172662675,
          "",
          "",
          0.8340444750392471,
          1.4023052192662377,
          0.2281811477685588,
          0.08234859808654127,
          0.01011234825246532,
          "",
          "",
          "",
          "",
          "",
          2.9603854551837436,
          0.04501609632428283,
          "",
          2.9073838371091787,
          2.2427393120632426,
          2.1895708582301623,
          1.450908893071068,
          3.271510873467199,
          1.5532949101789004,
          "",
          "",
          "",
          "",
          "",
          "",
          "",
          0.9106590128832237,
          "",
          0.6233545768718818,
          0.0665898977557563,
          0.9558489526463685,
          "",
          "",
          0.5903470971600693,
          "",
          0.9471278937062071
         ],
         "yaxis": "y2"
        },
        {
         "connectgaps": false,
         "fill": "tozeroy",
         "line": {
          "color": "red",
          "dash": "solid",
          "shape": "linear",
          "width": 0.5
         },
         "mode": "lines",
         "name": "Spread",
         "showlegend": false,
         "type": "scatter",
         "x": [
          0,
          1,
          2,
          3,
          4,
          5,
          6,
          7,
          8,
          9,
          10,
          11,
          12,
          13,
          14,
          15,
          16,
          17,
          18,
          19,
          20,
          21,
          22,
          23,
          24,
          25,
          26,
          27,
          28,
          29,
          30,
          31,
          32,
          33,
          34,
          35,
          36,
          37,
          38,
          39,
          40,
          41,
          42,
          43,
          44,
          45,
          46,
          47,
          48,
          49,
          50,
          51,
          52,
          53,
          54,
          55,
          56,
          57,
          58,
          59,
          60,
          61,
          62,
          63,
          64,
          65,
          66,
          67,
          68,
          69,
          70,
          71,
          72,
          73,
          74,
          75,
          76,
          77,
          78,
          79,
          80,
          81,
          82,
          83,
          84,
          85,
          86,
          87,
          88,
          89,
          90,
          91,
          92,
          93,
          94,
          95,
          96,
          97,
          98,
          99
         ],
         "xaxis": "x2",
         "y": [
          -2.914123272977635,
          "",
          -0.38428625614942935,
          -0.1396401980617787,
          -1.4766499394880317,
          -0.0026622548362780774,
          -0.42114490036989954,
          -3.14817166011889,
          -0.6321939578225908,
          -1.6928429668506262,
          -1.513014239149115,
          "",
          "",
          "",
          "",
          -1.6238625479209494,
          -0.833621685896182,
          -0.6538746476085502,
          "",
          "",
          -0.1429037313502436,
          "",
          "",
          "",
          "",
          "",
          "",
          -0.9000426053877792,
          -1.7181032948945933,
          -0.15518540063395,
          -2.1996937386596387,
          "",
          -0.780742465588736,
          "",
          "",
          -1.7362892203421707,
          -0.693957460045631,
          -0.6911030835384303,
          -0.22119614535453225,
          "",
          -0.42309928681501086,
          "",
          -0.27477004846035813,
          -3.750369766410403,
          "",
          -2.538318813660519,
          -0.33534197523179654,
          -1.3251900915327521,
          "",
          -0.6529668619894904,
          -0.26516858422599265,
          "",
          -0.7215815507051773,
          "",
          -0.35983903044321436,
          "",
          "",
          -1.0100044578469947,
          -0.16365504770319644,
          "",
          "",
          "",
          -0.49968456164468705,
          -0.581322061729334,
          "",
          "",
          "",
          "",
          "",
          -0.11914880417156712,
          -1.320492883041099,
          -0.688748615092978,
          -0.5424404499420432,
          -1.1672279957516924,
          "",
          "",
          -1.8820392499207097,
          "",
          "",
          "",
          "",
          "",
          "",
          -1.0993483735038554,
          -1.4078534191168017,
          -1.6002478824979791,
          -2.8813312809155116,
          -0.31440899016471757,
          -0.6790740039177525,
          -0.48805086100017175,
          "",
          -0.031329383659055354,
          "",
          "",
          "",
          -0.692964554142152,
          -1.1245163965577376,
          "",
          -0.6221855140362543,
          ""
         ],
         "yaxis": "y2"
        }
       ],
       "layout": {
        "hovermode": "x",
        "legend": {
         "bgcolor": "#F5F6F9",
         "font": {
          "color": "#4D5663"
         }
        },
        "paper_bgcolor": "#F5F6F9",
        "plot_bgcolor": "#F5F6F9",
        "template": {
         "data": {
          "bar": [
           {
            "error_x": {
             "color": "#2a3f5f"
            },
            "error_y": {
             "color": "#2a3f5f"
            },
            "marker": {
             "line": {
              "color": "#E5ECF6",
              "width": 0.5
             },
             "pattern": {
              "fillmode": "overlay",
              "size": 10,
              "solidity": 0.2
             }
            },
            "type": "bar"
           }
          ],
          "barpolar": [
           {
            "marker": {
             "line": {
              "color": "#E5ECF6",
              "width": 0.5
             },
             "pattern": {
              "fillmode": "overlay",
              "size": 10,
              "solidity": 0.2
             }
            },
            "type": "barpolar"
           }
          ],
          "carpet": [
           {
            "aaxis": {
             "endlinecolor": "#2a3f5f",
             "gridcolor": "white",
             "linecolor": "white",
             "minorgridcolor": "white",
             "startlinecolor": "#2a3f5f"
            },
            "baxis": {
             "endlinecolor": "#2a3f5f",
             "gridcolor": "white",
             "linecolor": "white",
             "minorgridcolor": "white",
             "startlinecolor": "#2a3f5f"
            },
            "type": "carpet"
           }
          ],
          "choropleth": [
           {
            "colorbar": {
             "outlinewidth": 0,
             "ticks": ""
            },
            "type": "choropleth"
           }
          ],
          "contour": [
           {
            "colorbar": {
             "outlinewidth": 0,
             "ticks": ""
            },
            "colorscale": [
             [
              0,
              "#0d0887"
             ],
             [
              0.1111111111111111,
              "#46039f"
             ],
             [
              0.2222222222222222,
              "#7201a8"
             ],
             [
              0.3333333333333333,
              "#9c179e"
             ],
             [
              0.4444444444444444,
              "#bd3786"
             ],
             [
              0.5555555555555556,
              "#d8576b"
             ],
             [
              0.6666666666666666,
              "#ed7953"
             ],
             [
              0.7777777777777778,
              "#fb9f3a"
             ],
             [
              0.8888888888888888,
              "#fdca26"
             ],
             [
              1,
              "#f0f921"
             ]
            ],
            "type": "contour"
           }
          ],
          "contourcarpet": [
           {
            "colorbar": {
             "outlinewidth": 0,
             "ticks": ""
            },
            "type": "contourcarpet"
           }
          ],
          "heatmap": [
           {
            "colorbar": {
             "outlinewidth": 0,
             "ticks": ""
            },
            "colorscale": [
             [
              0,
              "#0d0887"
             ],
             [
              0.1111111111111111,
              "#46039f"
             ],
             [
              0.2222222222222222,
              "#7201a8"
             ],
             [
              0.3333333333333333,
              "#9c179e"
             ],
             [
              0.4444444444444444,
              "#bd3786"
             ],
             [
              0.5555555555555556,
              "#d8576b"
             ],
             [
              0.6666666666666666,
              "#ed7953"
             ],
             [
              0.7777777777777778,
              "#fb9f3a"
             ],
             [
              0.8888888888888888,
              "#fdca26"
             ],
             [
              1,
              "#f0f921"
             ]
            ],
            "type": "heatmap"
           }
          ],
          "heatmapgl": [
           {
            "colorbar": {
             "outlinewidth": 0,
             "ticks": ""
            },
            "colorscale": [
             [
              0,
              "#0d0887"
             ],
             [
              0.1111111111111111,
              "#46039f"
             ],
             [
              0.2222222222222222,
              "#7201a8"
             ],
             [
              0.3333333333333333,
              "#9c179e"
             ],
             [
              0.4444444444444444,
              "#bd3786"
             ],
             [
              0.5555555555555556,
              "#d8576b"
             ],
             [
              0.6666666666666666,
              "#ed7953"
             ],
             [
              0.7777777777777778,
              "#fb9f3a"
             ],
             [
              0.8888888888888888,
              "#fdca26"
             ],
             [
              1,
              "#f0f921"
             ]
            ],
            "type": "heatmapgl"
           }
          ],
          "histogram": [
           {
            "marker": {
             "pattern": {
              "fillmode": "overlay",
              "size": 10,
              "solidity": 0.2
             }
            },
            "type": "histogram"
           }
          ],
          "histogram2d": [
           {
            "colorbar": {
             "outlinewidth": 0,
             "ticks": ""
            },
            "colorscale": [
             [
              0,
              "#0d0887"
             ],
             [
              0.1111111111111111,
              "#46039f"
             ],
             [
              0.2222222222222222,
              "#7201a8"
             ],
             [
              0.3333333333333333,
              "#9c179e"
             ],
             [
              0.4444444444444444,
              "#bd3786"
             ],
             [
              0.5555555555555556,
              "#d8576b"
             ],
             [
              0.6666666666666666,
              "#ed7953"
             ],
             [
              0.7777777777777778,
              "#fb9f3a"
             ],
             [
              0.8888888888888888,
              "#fdca26"
             ],
             [
              1,
              "#f0f921"
             ]
            ],
            "type": "histogram2d"
           }
          ],
          "histogram2dcontour": [
           {
            "colorbar": {
             "outlinewidth": 0,
             "ticks": ""
            },
            "colorscale": [
             [
              0,
              "#0d0887"
             ],
             [
              0.1111111111111111,
              "#46039f"
             ],
             [
              0.2222222222222222,
              "#7201a8"
             ],
             [
              0.3333333333333333,
              "#9c179e"
             ],
             [
              0.4444444444444444,
              "#bd3786"
             ],
             [
              0.5555555555555556,
              "#d8576b"
             ],
             [
              0.6666666666666666,
              "#ed7953"
             ],
             [
              0.7777777777777778,
              "#fb9f3a"
             ],
             [
              0.8888888888888888,
              "#fdca26"
             ],
             [
              1,
              "#f0f921"
             ]
            ],
            "type": "histogram2dcontour"
           }
          ],
          "mesh3d": [
           {
            "colorbar": {
             "outlinewidth": 0,
             "ticks": ""
            },
            "type": "mesh3d"
           }
          ],
          "parcoords": [
           {
            "line": {
             "colorbar": {
              "outlinewidth": 0,
              "ticks": ""
             }
            },
            "type": "parcoords"
           }
          ],
          "pie": [
           {
            "automargin": true,
            "type": "pie"
           }
          ],
          "scatter": [
           {
            "marker": {
             "colorbar": {
              "outlinewidth": 0,
              "ticks": ""
             }
            },
            "type": "scatter"
           }
          ],
          "scatter3d": [
           {
            "line": {
             "colorbar": {
              "outlinewidth": 0,
              "ticks": ""
             }
            },
            "marker": {
             "colorbar": {
              "outlinewidth": 0,
              "ticks": ""
             }
            },
            "type": "scatter3d"
           }
          ],
          "scattercarpet": [
           {
            "marker": {
             "colorbar": {
              "outlinewidth": 0,
              "ticks": ""
             }
            },
            "type": "scattercarpet"
           }
          ],
          "scattergeo": [
           {
            "marker": {
             "colorbar": {
              "outlinewidth": 0,
              "ticks": ""
             }
            },
            "type": "scattergeo"
           }
          ],
          "scattergl": [
           {
            "marker": {
             "colorbar": {
              "outlinewidth": 0,
              "ticks": ""
             }
            },
            "type": "scattergl"
           }
          ],
          "scattermapbox": [
           {
            "marker": {
             "colorbar": {
              "outlinewidth": 0,
              "ticks": ""
             }
            },
            "type": "scattermapbox"
           }
          ],
          "scatterpolar": [
           {
            "marker": {
             "colorbar": {
              "outlinewidth": 0,
              "ticks": ""
             }
            },
            "type": "scatterpolar"
           }
          ],
          "scatterpolargl": [
           {
            "marker": {
             "colorbar": {
              "outlinewidth": 0,
              "ticks": ""
             }
            },
            "type": "scatterpolargl"
           }
          ],
          "scatterternary": [
           {
            "marker": {
             "colorbar": {
              "outlinewidth": 0,
              "ticks": ""
             }
            },
            "type": "scatterternary"
           }
          ],
          "surface": [
           {
            "colorbar": {
             "outlinewidth": 0,
             "ticks": ""
            },
            "colorscale": [
             [
              0,
              "#0d0887"
             ],
             [
              0.1111111111111111,
              "#46039f"
             ],
             [
              0.2222222222222222,
              "#7201a8"
             ],
             [
              0.3333333333333333,
              "#9c179e"
             ],
             [
              0.4444444444444444,
              "#bd3786"
             ],
             [
              0.5555555555555556,
              "#d8576b"
             ],
             [
              0.6666666666666666,
              "#ed7953"
             ],
             [
              0.7777777777777778,
              "#fb9f3a"
             ],
             [
              0.8888888888888888,
              "#fdca26"
             ],
             [
              1,
              "#f0f921"
             ]
            ],
            "type": "surface"
           }
          ],
          "table": [
           {
            "cells": {
             "fill": {
              "color": "#EBF0F8"
             },
             "line": {
              "color": "white"
             }
            },
            "header": {
             "fill": {
              "color": "#C8D4E3"
             },
             "line": {
              "color": "white"
             }
            },
            "type": "table"
           }
          ]
         },
         "layout": {
          "annotationdefaults": {
           "arrowcolor": "#2a3f5f",
           "arrowhead": 0,
           "arrowwidth": 1
          },
          "autotypenumbers": "strict",
          "coloraxis": {
           "colorbar": {
            "outlinewidth": 0,
            "ticks": ""
           }
          },
          "colorscale": {
           "diverging": [
            [
             0,
             "#8e0152"
            ],
            [
             0.1,
             "#c51b7d"
            ],
            [
             0.2,
             "#de77ae"
            ],
            [
             0.3,
             "#f1b6da"
            ],
            [
             0.4,
             "#fde0ef"
            ],
            [
             0.5,
             "#f7f7f7"
            ],
            [
             0.6,
             "#e6f5d0"
            ],
            [
             0.7,
             "#b8e186"
            ],
            [
             0.8,
             "#7fbc41"
            ],
            [
             0.9,
             "#4d9221"
            ],
            [
             1,
             "#276419"
            ]
           ],
           "sequential": [
            [
             0,
             "#0d0887"
            ],
            [
             0.1111111111111111,
             "#46039f"
            ],
            [
             0.2222222222222222,
             "#7201a8"
            ],
            [
             0.3333333333333333,
             "#9c179e"
            ],
            [
             0.4444444444444444,
             "#bd3786"
            ],
            [
             0.5555555555555556,
             "#d8576b"
            ],
            [
             0.6666666666666666,
             "#ed7953"
            ],
            [
             0.7777777777777778,
             "#fb9f3a"
            ],
            [
             0.8888888888888888,
             "#fdca26"
            ],
            [
             1,
             "#f0f921"
            ]
           ],
           "sequentialminus": [
            [
             0,
             "#0d0887"
            ],
            [
             0.1111111111111111,
             "#46039f"
            ],
            [
             0.2222222222222222,
             "#7201a8"
            ],
            [
             0.3333333333333333,
             "#9c179e"
            ],
            [
             0.4444444444444444,
             "#bd3786"
            ],
            [
             0.5555555555555556,
             "#d8576b"
            ],
            [
             0.6666666666666666,
             "#ed7953"
            ],
            [
             0.7777777777777778,
             "#fb9f3a"
            ],
            [
             0.8888888888888888,
             "#fdca26"
            ],
            [
             1,
             "#f0f921"
            ]
           ]
          },
          "colorway": [
           "#636efa",
           "#EF553B",
           "#00cc96",
           "#ab63fa",
           "#FFA15A",
           "#19d3f3",
           "#FF6692",
           "#B6E880",
           "#FF97FF",
           "#FECB52"
          ],
          "font": {
           "color": "#2a3f5f"
          },
          "geo": {
           "bgcolor": "white",
           "lakecolor": "white",
           "landcolor": "#E5ECF6",
           "showlakes": true,
           "showland": true,
           "subunitcolor": "white"
          },
          "hoverlabel": {
           "align": "left"
          },
          "hovermode": "closest",
          "mapbox": {
           "style": "light"
          },
          "paper_bgcolor": "white",
          "plot_bgcolor": "#E5ECF6",
          "polar": {
           "angularaxis": {
            "gridcolor": "white",
            "linecolor": "white",
            "ticks": ""
           },
           "bgcolor": "#E5ECF6",
           "radialaxis": {
            "gridcolor": "white",
            "linecolor": "white",
            "ticks": ""
           }
          },
          "scene": {
           "xaxis": {
            "backgroundcolor": "#E5ECF6",
            "gridcolor": "white",
            "gridwidth": 2,
            "linecolor": "white",
            "showbackground": true,
            "ticks": "",
            "zerolinecolor": "white"
           },
           "yaxis": {
            "backgroundcolor": "#E5ECF6",
            "gridcolor": "white",
            "gridwidth": 2,
            "linecolor": "white",
            "showbackground": true,
            "ticks": "",
            "zerolinecolor": "white"
           },
           "zaxis": {
            "backgroundcolor": "#E5ECF6",
            "gridcolor": "white",
            "gridwidth": 2,
            "linecolor": "white",
            "showbackground": true,
            "ticks": "",
            "zerolinecolor": "white"
           }
          },
          "shapedefaults": {
           "line": {
            "color": "#2a3f5f"
           }
          },
          "ternary": {
           "aaxis": {
            "gridcolor": "white",
            "linecolor": "white",
            "ticks": ""
           },
           "baxis": {
            "gridcolor": "white",
            "linecolor": "white",
            "ticks": ""
           },
           "bgcolor": "#E5ECF6",
           "caxis": {
            "gridcolor": "white",
            "linecolor": "white",
            "ticks": ""
           }
          },
          "title": {
           "x": 0.05
          },
          "xaxis": {
           "automargin": true,
           "gridcolor": "white",
           "linecolor": "white",
           "ticks": "",
           "title": {
            "standoff": 15
           },
           "zerolinecolor": "white",
           "zerolinewidth": 2
          },
          "yaxis": {
           "automargin": true,
           "gridcolor": "white",
           "linecolor": "white",
           "ticks": "",
           "title": {
            "standoff": 15
           },
           "zerolinecolor": "white",
           "zerolinewidth": 2
          }
         }
        },
        "title": {
         "font": {
          "color": "#4D5663"
         }
        },
        "xaxis": {
         "gridcolor": "#E1E5ED",
         "showgrid": true,
         "tickfont": {
          "color": "#4D5663"
         },
         "title": {
          "font": {
           "color": "#4D5663"
          },
          "text": ""
         },
         "zerolinecolor": "#E1E5ED"
        },
        "xaxis2": {
         "anchor": "y2",
         "gridcolor": "#E1E5ED",
         "showgrid": true,
         "showticklabels": false,
         "tickfont": {
          "color": "#4D5663"
         },
         "title": {
          "font": {
           "color": "#4D5663"
          },
          "text": ""
         },
         "zerolinecolor": "#E1E5ED"
        },
        "yaxis": {
         "domain": [
          0.3,
          1
         ],
         "gridcolor": "#E1E5ED",
         "showgrid": true,
         "tickfont": {
          "color": "#4D5663"
         },
         "title": {
          "font": {
           "color": "#4D5663"
          },
          "text": ""
         },
         "zerolinecolor": "#E1E5ED"
        },
        "yaxis2": {
         "domain": [
          0,
          0.25
         ],
         "gridcolor": "#E1E5ED",
         "showgrid": true,
         "tickfont": {
          "color": "#4D5663"
         },
         "title": {
          "font": {
           "color": "#4D5663"
          },
          "text": "Spread"
         },
         "zerolinecolor": "#E1E5ED"
        }
       }
      },
      "text/html": [
       "<div>                            <div id=\"e24d9e1c-0792-4718-9f89-7c8ffe03de93\" class=\"plotly-graph-div\" style=\"height:525px; width:100%;\"></div>            <script type=\"text/javascript\">                require([\"plotly\"], function(Plotly) {                    window.PLOTLYENV=window.PLOTLYENV || {};\n",
       "                    window.PLOTLYENV.BASE_URL='https://plot.ly';                                    if (document.getElementById(\"e24d9e1c-0792-4718-9f89-7c8ffe03de93\")) {                    Plotly.newPlot(                        \"e24d9e1c-0792-4718-9f89-7c8ffe03de93\",                        [{\"line\":{\"color\":\"rgba(255, 153, 51, 1.0)\",\"dash\":\"solid\",\"shape\":\"linear\",\"width\":1.3},\"mode\":\"lines\",\"name\":\"A\",\"text\":\"\",\"type\":\"scatter\",\"x\":[0,1,2,3,4,5,6,7,8,9,10,11,12,13,14,15,16,17,18,19,20,21,22,23,24,25,26,27,28,29,30,31,32,33,34,35,36,37,38,39,40,41,42,43,44,45,46,47,48,49,50,51,52,53,54,55,56,57,58,59,60,61,62,63,64,65,66,67,68,69,70,71,72,73,74,75,76,77,78,79,80,81,82,83,84,85,86,87,88,89,90,91,92,93,94,95,96,97,98,99],\"y\":[-1.8554435537542446,-0.3341474199101263,0.6857288575880798,0.12905925770490762,-0.13012084534391954,0.31598165716367344,-0.6814310339065305,-1.1857454279657653,0.16250831411290528,-0.23503431588320337,-0.6957583990035138,1.2656447012812229,0.7895454890395617,2.0102173729408683,0.45824801008669885,-0.5925775507399346,-0.41533289809186974,-0.4731233300668129,0.6843718826788863,0.5391706433363241,-1.1002556394218257,1.2609445362966492,-1.7026894192926318,0.8280922879606232,-0.47841132251611046,1.354448480034928,0.018522114685147483,-1.3413367864778607,-0.8895958524461421,-0.020608380047677472,-1.7240966400672362,0.28458344629001064,0.21661681618247094,1.2179864561575975,0.8482671466620583,-0.4077952273242937,-0.8049643523268022,-0.9176116556344076,-0.9356801704572217,-0.9699739380556349,0.650589802528572,2.547846456025026,-0.7096211873633143,-0.9174229907763136,1.1386671385820821,-1.369325539411084,-0.9842603474076804,0.5945869819604048,-0.23886050975260292,-0.46923690573927296,-1.142607594480248,-0.3611762312877647,-0.39933525169718176,2.2769382620127003,-0.8380458528707962,-0.6124392004285225,0.6961616835141131,-1.2277256681748399,-0.6165936577607377,1.4531742490758173,0.8324616086776321,0.08734935814075497,-0.27779001599273256,-0.386556029563755,0.5076935684905723,0.023459583819070404,0.7011956785778897,-2.064037457273387,0.5982278808302534,-0.24015821493527018,-0.20554533443737275,-0.28217079271367657,-1.7845227166301205,-0.5601415555592549,0.8084747503072853,0.37966132136188563,-0.6195525229757263,0.3758208757878301,1.4200248431796674,2.0659398607101047,0.9587108211966137,2.061807877022249,0.18050161272834003,-0.6540684677740707,-0.8644330224870201,-1.261133780633743,-1.1276839315268843,-0.8470709717782499,-0.8077457919626311,0.0022270729652858353,1.266205085899191,0.9466066247483059,0.0931235624221537,-0.6925655411798486,0.23552797185724408,-0.7126173671952934,-0.4802895517750804,-1.0320031452653156,-0.6525272343747045,0.6660110832512804]},{\"line\":{\"color\":\"rgba(55, 128, 191, 1.0)\",\"dash\":\"solid\",\"shape\":\"linear\",\"width\":1.3},\"mode\":\"lines\",\"name\":\"B\",\"text\":\"\",\"type\":\"scatter\",\"x\":[0,1,2,3,4,5,6,7,8,9,10,11,12,13,14,15,16,17,18,19,20,21,22,23,24,25,26,27,28,29,30,31,32,33,34,35,36,37,38,39,40,41,42,43,44,45,46,47,48,49,50,51,52,53,54,55,56,57,58,59,60,61,62,63,64,65,66,67,68,69,70,71,72,73,74,75,76,77,78,79,80,81,82,83,84,85,86,87,88,89,90,91,92,93,94,95,96,97,98,99],\"y\":[1.0586797192233903,-1.2488855889850787,1.0700151137375091,0.2686994557666863,1.3465290941441121,0.3186439119999515,-0.26028613353663094,1.9624262321531245,0.794702271935496,1.4578086509674228,0.8172558401456013,0.2187013708779096,-0.74633696389924,-0.6733073789184151,-0.44481066657090934,1.0312849971810147,0.4182887878043122,0.18075131754173723,-2.0632733329402897,-0.8721967137920469,-0.9573519080715821,-0.8861931972275268,-1.7326911974350716,-0.9429172488362749,-1.141069187838,-0.18520134114365153,-0.5886045112319811,-0.4412941810900815,0.8285074424484511,0.13457702058627252,0.47559709859240257,0.24770049355141352,0.9973592817712069,0.531818650682605,0.25726486227163997,1.328493993017877,-0.11100689228117118,-0.22650857209597733,-0.7144840251026895,-1.0416718983455615,1.0736890893435829,-0.4950066633518595,-0.4348511389029561,2.8329467756340896,-0.4304483343702159,1.168993274249435,-0.6489183721758839,1.919777073493157,-0.7889677310786267,0.18372995625021743,-0.8774390102542554,-1.3138910309500251,0.32224629900799545,0.6853772906954757,-0.4782068224275819,-1.564547761029822,-1.456102616980963,-0.21772121032784514,-0.45293861005754127,1.3668566239085884,0.8204827551253541,-0.8789693591255126,0.2218945456519545,0.194766032165579,-0.32635090654867477,-1.3788456354471674,0.47301453080933087,-2.1463860553599283,0.588115532577788,-0.12100941076370306,1.1149475486037261,0.4065778223793015,-1.2420822666880773,0.6070864401924375,-2.151910704876458,0.3346452250376028,1.2624867269449833,-2.5315629613213484,-0.8227144688835754,-0.1236309975200574,-0.49219807187445436,-1.2097029964449502,-1.3727932974505603,0.44527990572978465,0.5434203966297816,0.3391141018642361,1.753647349388627,-0.5326619816135323,-0.12867178804487858,0.4902779339654576,0.35554607301596713,0.9779360084073613,-0.5302310144497281,-0.7591554389356049,-0.7203209807891244,-0.019652813053141524,0.6442268447826572,-1.6223502424253848,-0.03034172033845018,-0.28111681045492665]},{\"connectgaps\":false,\"fill\":\"tozeroy\",\"line\":{\"color\":\"green\",\"dash\":\"solid\",\"shape\":\"linear\",\"width\":0.5},\"mode\":\"lines\",\"name\":\"Spread\",\"showlegend\":false,\"type\":\"scatter\",\"x\":[0,1,2,3,4,5,6,7,8,9,10,11,12,13,14,15,16,17,18,19,20,21,22,23,24,25,26,27,28,29,30,31,32,33,34,35,36,37,38,39,40,41,42,43,44,45,46,47,48,49,50,51,52,53,54,55,56,57,58,59,60,61,62,63,64,65,66,67,68,69,70,71,72,73,74,75,76,77,78,79,80,81,82,83,84,85,86,87,88,89,90,91,92,93,94,95,96,97,98,99],\"xaxis\":\"x2\",\"y\":[\"\",0.9147381690749524,\"\",\"\",\"\",\"\",\"\",\"\",\"\",\"\",\"\",1.0469433304033133,1.5358824529388015,2.6835247518592835,0.9030586766576082,\"\",\"\",\"\",2.747645215619176,1.4113673571283711,\"\",2.147137733524176,0.03000177814243976,1.771009536796898,0.6626578653218895,1.5396498211785794,0.6071266259171286,\"\",\"\",\"\",\"\",0.036882952738597125,\"\",0.6861678054749925,0.5910022843904184,\"\",\"\",\"\",\"\",0.07169796028992659,\"\",3.0428531193768853,\"\",\"\",1.569115472952298,\"\",\"\",\"\",0.5501072213260239,\"\",\"\",0.9527147996622605,\"\",1.5915609713172247,\"\",0.9521085606012994,2.152264300495076,\"\",\"\",0.08631762516722885,0.011978853552278013,0.9663187172662675,\"\",\"\",0.8340444750392471,1.4023052192662377,0.2281811477685588,0.08234859808654127,0.01011234825246532,\"\",\"\",\"\",\"\",\"\",2.9603854551837436,0.04501609632428283,\"\",2.9073838371091787,2.2427393120632426,2.1895708582301623,1.450908893071068,3.271510873467199,1.5532949101789004,\"\",\"\",\"\",\"\",\"\",\"\",\"\",0.9106590128832237,\"\",0.6233545768718818,0.0665898977557563,0.9558489526463685,\"\",\"\",0.5903470971600693,\"\",0.9471278937062071],\"yaxis\":\"y2\"},{\"connectgaps\":false,\"fill\":\"tozeroy\",\"line\":{\"color\":\"red\",\"dash\":\"solid\",\"shape\":\"linear\",\"width\":0.5},\"mode\":\"lines\",\"name\":\"Spread\",\"showlegend\":false,\"type\":\"scatter\",\"x\":[0,1,2,3,4,5,6,7,8,9,10,11,12,13,14,15,16,17,18,19,20,21,22,23,24,25,26,27,28,29,30,31,32,33,34,35,36,37,38,39,40,41,42,43,44,45,46,47,48,49,50,51,52,53,54,55,56,57,58,59,60,61,62,63,64,65,66,67,68,69,70,71,72,73,74,75,76,77,78,79,80,81,82,83,84,85,86,87,88,89,90,91,92,93,94,95,96,97,98,99],\"xaxis\":\"x2\",\"y\":[-2.914123272977635,\"\",-0.38428625614942935,-0.1396401980617787,-1.4766499394880317,-0.0026622548362780774,-0.42114490036989954,-3.14817166011889,-0.6321939578225908,-1.6928429668506262,-1.513014239149115,\"\",\"\",\"\",\"\",-1.6238625479209494,-0.833621685896182,-0.6538746476085502,\"\",\"\",-0.1429037313502436,\"\",\"\",\"\",\"\",\"\",\"\",-0.9000426053877792,-1.7181032948945933,-0.15518540063395,-2.1996937386596387,\"\",-0.780742465588736,\"\",\"\",-1.7362892203421707,-0.693957460045631,-0.6911030835384303,-0.22119614535453225,\"\",-0.42309928681501086,\"\",-0.27477004846035813,-3.750369766410403,\"\",-2.538318813660519,-0.33534197523179654,-1.3251900915327521,\"\",-0.6529668619894904,-0.26516858422599265,\"\",-0.7215815507051773,\"\",-0.35983903044321436,\"\",\"\",-1.0100044578469947,-0.16365504770319644,\"\",\"\",\"\",-0.49968456164468705,-0.581322061729334,\"\",\"\",\"\",\"\",\"\",-0.11914880417156712,-1.320492883041099,-0.688748615092978,-0.5424404499420432,-1.1672279957516924,\"\",\"\",-1.8820392499207097,\"\",\"\",\"\",\"\",\"\",\"\",-1.0993483735038554,-1.4078534191168017,-1.6002478824979791,-2.8813312809155116,-0.31440899016471757,-0.6790740039177525,-0.48805086100017175,\"\",-0.031329383659055354,\"\",\"\",\"\",-0.692964554142152,-1.1245163965577376,\"\",-0.6221855140362543,\"\"],\"yaxis\":\"y2\"}],                        {\"hovermode\":\"x\",\"legend\":{\"bgcolor\":\"#F5F6F9\",\"font\":{\"color\":\"#4D5663\"}},\"paper_bgcolor\":\"#F5F6F9\",\"plot_bgcolor\":\"#F5F6F9\",\"template\":{\"data\":{\"bar\":[{\"error_x\":{\"color\":\"#2a3f5f\"},\"error_y\":{\"color\":\"#2a3f5f\"},\"marker\":{\"line\":{\"color\":\"#E5ECF6\",\"width\":0.5},\"pattern\":{\"fillmode\":\"overlay\",\"size\":10,\"solidity\":0.2}},\"type\":\"bar\"}],\"barpolar\":[{\"marker\":{\"line\":{\"color\":\"#E5ECF6\",\"width\":0.5},\"pattern\":{\"fillmode\":\"overlay\",\"size\":10,\"solidity\":0.2}},\"type\":\"barpolar\"}],\"carpet\":[{\"aaxis\":{\"endlinecolor\":\"#2a3f5f\",\"gridcolor\":\"white\",\"linecolor\":\"white\",\"minorgridcolor\":\"white\",\"startlinecolor\":\"#2a3f5f\"},\"baxis\":{\"endlinecolor\":\"#2a3f5f\",\"gridcolor\":\"white\",\"linecolor\":\"white\",\"minorgridcolor\":\"white\",\"startlinecolor\":\"#2a3f5f\"},\"type\":\"carpet\"}],\"choropleth\":[{\"colorbar\":{\"outlinewidth\":0,\"ticks\":\"\"},\"type\":\"choropleth\"}],\"contour\":[{\"colorbar\":{\"outlinewidth\":0,\"ticks\":\"\"},\"colorscale\":[[0.0,\"#0d0887\"],[0.1111111111111111,\"#46039f\"],[0.2222222222222222,\"#7201a8\"],[0.3333333333333333,\"#9c179e\"],[0.4444444444444444,\"#bd3786\"],[0.5555555555555556,\"#d8576b\"],[0.6666666666666666,\"#ed7953\"],[0.7777777777777778,\"#fb9f3a\"],[0.8888888888888888,\"#fdca26\"],[1.0,\"#f0f921\"]],\"type\":\"contour\"}],\"contourcarpet\":[{\"colorbar\":{\"outlinewidth\":0,\"ticks\":\"\"},\"type\":\"contourcarpet\"}],\"heatmap\":[{\"colorbar\":{\"outlinewidth\":0,\"ticks\":\"\"},\"colorscale\":[[0.0,\"#0d0887\"],[0.1111111111111111,\"#46039f\"],[0.2222222222222222,\"#7201a8\"],[0.3333333333333333,\"#9c179e\"],[0.4444444444444444,\"#bd3786\"],[0.5555555555555556,\"#d8576b\"],[0.6666666666666666,\"#ed7953\"],[0.7777777777777778,\"#fb9f3a\"],[0.8888888888888888,\"#fdca26\"],[1.0,\"#f0f921\"]],\"type\":\"heatmap\"}],\"heatmapgl\":[{\"colorbar\":{\"outlinewidth\":0,\"ticks\":\"\"},\"colorscale\":[[0.0,\"#0d0887\"],[0.1111111111111111,\"#46039f\"],[0.2222222222222222,\"#7201a8\"],[0.3333333333333333,\"#9c179e\"],[0.4444444444444444,\"#bd3786\"],[0.5555555555555556,\"#d8576b\"],[0.6666666666666666,\"#ed7953\"],[0.7777777777777778,\"#fb9f3a\"],[0.8888888888888888,\"#fdca26\"],[1.0,\"#f0f921\"]],\"type\":\"heatmapgl\"}],\"histogram\":[{\"marker\":{\"pattern\":{\"fillmode\":\"overlay\",\"size\":10,\"solidity\":0.2}},\"type\":\"histogram\"}],\"histogram2d\":[{\"colorbar\":{\"outlinewidth\":0,\"ticks\":\"\"},\"colorscale\":[[0.0,\"#0d0887\"],[0.1111111111111111,\"#46039f\"],[0.2222222222222222,\"#7201a8\"],[0.3333333333333333,\"#9c179e\"],[0.4444444444444444,\"#bd3786\"],[0.5555555555555556,\"#d8576b\"],[0.6666666666666666,\"#ed7953\"],[0.7777777777777778,\"#fb9f3a\"],[0.8888888888888888,\"#fdca26\"],[1.0,\"#f0f921\"]],\"type\":\"histogram2d\"}],\"histogram2dcontour\":[{\"colorbar\":{\"outlinewidth\":0,\"ticks\":\"\"},\"colorscale\":[[0.0,\"#0d0887\"],[0.1111111111111111,\"#46039f\"],[0.2222222222222222,\"#7201a8\"],[0.3333333333333333,\"#9c179e\"],[0.4444444444444444,\"#bd3786\"],[0.5555555555555556,\"#d8576b\"],[0.6666666666666666,\"#ed7953\"],[0.7777777777777778,\"#fb9f3a\"],[0.8888888888888888,\"#fdca26\"],[1.0,\"#f0f921\"]],\"type\":\"histogram2dcontour\"}],\"mesh3d\":[{\"colorbar\":{\"outlinewidth\":0,\"ticks\":\"\"},\"type\":\"mesh3d\"}],\"parcoords\":[{\"line\":{\"colorbar\":{\"outlinewidth\":0,\"ticks\":\"\"}},\"type\":\"parcoords\"}],\"pie\":[{\"automargin\":true,\"type\":\"pie\"}],\"scatter\":[{\"marker\":{\"colorbar\":{\"outlinewidth\":0,\"ticks\":\"\"}},\"type\":\"scatter\"}],\"scatter3d\":[{\"line\":{\"colorbar\":{\"outlinewidth\":0,\"ticks\":\"\"}},\"marker\":{\"colorbar\":{\"outlinewidth\":0,\"ticks\":\"\"}},\"type\":\"scatter3d\"}],\"scattercarpet\":[{\"marker\":{\"colorbar\":{\"outlinewidth\":0,\"ticks\":\"\"}},\"type\":\"scattercarpet\"}],\"scattergeo\":[{\"marker\":{\"colorbar\":{\"outlinewidth\":0,\"ticks\":\"\"}},\"type\":\"scattergeo\"}],\"scattergl\":[{\"marker\":{\"colorbar\":{\"outlinewidth\":0,\"ticks\":\"\"}},\"type\":\"scattergl\"}],\"scattermapbox\":[{\"marker\":{\"colorbar\":{\"outlinewidth\":0,\"ticks\":\"\"}},\"type\":\"scattermapbox\"}],\"scatterpolar\":[{\"marker\":{\"colorbar\":{\"outlinewidth\":0,\"ticks\":\"\"}},\"type\":\"scatterpolar\"}],\"scatterpolargl\":[{\"marker\":{\"colorbar\":{\"outlinewidth\":0,\"ticks\":\"\"}},\"type\":\"scatterpolargl\"}],\"scatterternary\":[{\"marker\":{\"colorbar\":{\"outlinewidth\":0,\"ticks\":\"\"}},\"type\":\"scatterternary\"}],\"surface\":[{\"colorbar\":{\"outlinewidth\":0,\"ticks\":\"\"},\"colorscale\":[[0.0,\"#0d0887\"],[0.1111111111111111,\"#46039f\"],[0.2222222222222222,\"#7201a8\"],[0.3333333333333333,\"#9c179e\"],[0.4444444444444444,\"#bd3786\"],[0.5555555555555556,\"#d8576b\"],[0.6666666666666666,\"#ed7953\"],[0.7777777777777778,\"#fb9f3a\"],[0.8888888888888888,\"#fdca26\"],[1.0,\"#f0f921\"]],\"type\":\"surface\"}],\"table\":[{\"cells\":{\"fill\":{\"color\":\"#EBF0F8\"},\"line\":{\"color\":\"white\"}},\"header\":{\"fill\":{\"color\":\"#C8D4E3\"},\"line\":{\"color\":\"white\"}},\"type\":\"table\"}]},\"layout\":{\"annotationdefaults\":{\"arrowcolor\":\"#2a3f5f\",\"arrowhead\":0,\"arrowwidth\":1},\"autotypenumbers\":\"strict\",\"coloraxis\":{\"colorbar\":{\"outlinewidth\":0,\"ticks\":\"\"}},\"colorscale\":{\"diverging\":[[0,\"#8e0152\"],[0.1,\"#c51b7d\"],[0.2,\"#de77ae\"],[0.3,\"#f1b6da\"],[0.4,\"#fde0ef\"],[0.5,\"#f7f7f7\"],[0.6,\"#e6f5d0\"],[0.7,\"#b8e186\"],[0.8,\"#7fbc41\"],[0.9,\"#4d9221\"],[1,\"#276419\"]],\"sequential\":[[0.0,\"#0d0887\"],[0.1111111111111111,\"#46039f\"],[0.2222222222222222,\"#7201a8\"],[0.3333333333333333,\"#9c179e\"],[0.4444444444444444,\"#bd3786\"],[0.5555555555555556,\"#d8576b\"],[0.6666666666666666,\"#ed7953\"],[0.7777777777777778,\"#fb9f3a\"],[0.8888888888888888,\"#fdca26\"],[1.0,\"#f0f921\"]],\"sequentialminus\":[[0.0,\"#0d0887\"],[0.1111111111111111,\"#46039f\"],[0.2222222222222222,\"#7201a8\"],[0.3333333333333333,\"#9c179e\"],[0.4444444444444444,\"#bd3786\"],[0.5555555555555556,\"#d8576b\"],[0.6666666666666666,\"#ed7953\"],[0.7777777777777778,\"#fb9f3a\"],[0.8888888888888888,\"#fdca26\"],[1.0,\"#f0f921\"]]},\"colorway\":[\"#636efa\",\"#EF553B\",\"#00cc96\",\"#ab63fa\",\"#FFA15A\",\"#19d3f3\",\"#FF6692\",\"#B6E880\",\"#FF97FF\",\"#FECB52\"],\"font\":{\"color\":\"#2a3f5f\"},\"geo\":{\"bgcolor\":\"white\",\"lakecolor\":\"white\",\"landcolor\":\"#E5ECF6\",\"showlakes\":true,\"showland\":true,\"subunitcolor\":\"white\"},\"hoverlabel\":{\"align\":\"left\"},\"hovermode\":\"closest\",\"mapbox\":{\"style\":\"light\"},\"paper_bgcolor\":\"white\",\"plot_bgcolor\":\"#E5ECF6\",\"polar\":{\"angularaxis\":{\"gridcolor\":\"white\",\"linecolor\":\"white\",\"ticks\":\"\"},\"bgcolor\":\"#E5ECF6\",\"radialaxis\":{\"gridcolor\":\"white\",\"linecolor\":\"white\",\"ticks\":\"\"}},\"scene\":{\"xaxis\":{\"backgroundcolor\":\"#E5ECF6\",\"gridcolor\":\"white\",\"gridwidth\":2,\"linecolor\":\"white\",\"showbackground\":true,\"ticks\":\"\",\"zerolinecolor\":\"white\"},\"yaxis\":{\"backgroundcolor\":\"#E5ECF6\",\"gridcolor\":\"white\",\"gridwidth\":2,\"linecolor\":\"white\",\"showbackground\":true,\"ticks\":\"\",\"zerolinecolor\":\"white\"},\"zaxis\":{\"backgroundcolor\":\"#E5ECF6\",\"gridcolor\":\"white\",\"gridwidth\":2,\"linecolor\":\"white\",\"showbackground\":true,\"ticks\":\"\",\"zerolinecolor\":\"white\"}},\"shapedefaults\":{\"line\":{\"color\":\"#2a3f5f\"}},\"ternary\":{\"aaxis\":{\"gridcolor\":\"white\",\"linecolor\":\"white\",\"ticks\":\"\"},\"baxis\":{\"gridcolor\":\"white\",\"linecolor\":\"white\",\"ticks\":\"\"},\"bgcolor\":\"#E5ECF6\",\"caxis\":{\"gridcolor\":\"white\",\"linecolor\":\"white\",\"ticks\":\"\"}},\"title\":{\"x\":0.05},\"xaxis\":{\"automargin\":true,\"gridcolor\":\"white\",\"linecolor\":\"white\",\"ticks\":\"\",\"title\":{\"standoff\":15},\"zerolinecolor\":\"white\",\"zerolinewidth\":2},\"yaxis\":{\"automargin\":true,\"gridcolor\":\"white\",\"linecolor\":\"white\",\"ticks\":\"\",\"title\":{\"standoff\":15},\"zerolinecolor\":\"white\",\"zerolinewidth\":2}}},\"title\":{\"font\":{\"color\":\"#4D5663\"}},\"xaxis\":{\"gridcolor\":\"#E1E5ED\",\"showgrid\":true,\"tickfont\":{\"color\":\"#4D5663\"},\"title\":{\"font\":{\"color\":\"#4D5663\"},\"text\":\"\"},\"zerolinecolor\":\"#E1E5ED\"},\"xaxis2\":{\"anchor\":\"y2\",\"gridcolor\":\"#E1E5ED\",\"showgrid\":true,\"showticklabels\":false,\"tickfont\":{\"color\":\"#4D5663\"},\"title\":{\"font\":{\"color\":\"#4D5663\"},\"text\":\"\"},\"zerolinecolor\":\"#E1E5ED\"},\"yaxis\":{\"domain\":[0.3,1],\"gridcolor\":\"#E1E5ED\",\"showgrid\":true,\"tickfont\":{\"color\":\"#4D5663\"},\"title\":{\"font\":{\"color\":\"#4D5663\"},\"text\":\"\"},\"zerolinecolor\":\"#E1E5ED\"},\"yaxis2\":{\"domain\":[0,0.25],\"gridcolor\":\"#E1E5ED\",\"showgrid\":true,\"tickfont\":{\"color\":\"#4D5663\"},\"title\":{\"font\":{\"color\":\"#4D5663\"},\"text\":\"Spread\"},\"zerolinecolor\":\"#E1E5ED\"}},                        {\"showLink\": true, \"linkText\": \"Export to plot.ly\", \"plotlyServerURL\": \"https://plot.ly\", \"responsive\": true}                    ).then(function(){\n",
       "                            \n",
       "var gd = document.getElementById('e24d9e1c-0792-4718-9f89-7c8ffe03de93');\n",
       "var x = new MutationObserver(function (mutations, observer) {{\n",
       "        var display = window.getComputedStyle(gd).display;\n",
       "        if (!display || display === 'none') {{\n",
       "            console.log([gd, 'removed!']);\n",
       "            Plotly.purge(gd);\n",
       "            observer.disconnect();\n",
       "        }}\n",
       "}});\n",
       "\n",
       "// Listen for the removal of the full notebook cells\n",
       "var notebookContainer = gd.closest('#notebook-container');\n",
       "if (notebookContainer) {{\n",
       "    x.observe(notebookContainer, {childList: true});\n",
       "}}\n",
       "\n",
       "// Listen for the clearing of the current output cell\n",
       "var outputEl = gd.closest('.output');\n",
       "if (outputEl) {{\n",
       "    x.observe(outputEl, {childList: true});\n",
       "}}\n",
       "\n",
       "                        })                };                });            </script>        </div>"
      ]
     },
     "metadata": {}
    }
   ],
   "metadata": {}
  },
  {
   "cell_type": "markdown",
   "source": [
    "## histogram"
   ],
   "metadata": {}
  },
  {
   "cell_type": "code",
   "execution_count": 36,
   "source": [
    "df[\"A\"].iplot(kind=\"hist\", bins=25)\n"
   ],
   "outputs": [
    {
     "output_type": "display_data",
     "data": {
      "application/vnd.plotly.v1+json": {
       "config": {
        "linkText": "Export to plot.ly",
        "plotlyServerURL": "https://plot.ly",
        "showLink": true
       },
       "data": [
        {
         "histfunc": "count",
         "histnorm": "",
         "marker": {
          "color": "rgba(255, 153, 51, 1.0)",
          "line": {
           "color": "#4D5663",
           "width": 1.3
          }
         },
         "name": "A",
         "nbinsx": 25,
         "opacity": 0.8,
         "orientation": "v",
         "type": "histogram",
         "x": [
          -1.8554435537542446,
          -0.3341474199101263,
          0.6857288575880798,
          0.12905925770490762,
          -0.13012084534391954,
          0.31598165716367344,
          -0.6814310339065305,
          -1.1857454279657653,
          0.16250831411290528,
          -0.23503431588320337,
          -0.6957583990035138,
          1.2656447012812229,
          0.7895454890395617,
          2.0102173729408683,
          0.45824801008669885,
          -0.5925775507399346,
          -0.41533289809186974,
          -0.4731233300668129,
          0.6843718826788863,
          0.5391706433363241,
          -1.1002556394218257,
          1.2609445362966492,
          -1.7026894192926318,
          0.8280922879606232,
          -0.47841132251611046,
          1.354448480034928,
          0.018522114685147483,
          -1.3413367864778607,
          -0.8895958524461421,
          -0.020608380047677472,
          -1.7240966400672362,
          0.28458344629001064,
          0.21661681618247094,
          1.2179864561575975,
          0.8482671466620583,
          -0.4077952273242937,
          -0.8049643523268022,
          -0.9176116556344076,
          -0.9356801704572217,
          -0.9699739380556349,
          0.650589802528572,
          2.547846456025026,
          -0.7096211873633143,
          -0.9174229907763136,
          1.1386671385820821,
          -1.369325539411084,
          -0.9842603474076804,
          0.5945869819604048,
          -0.23886050975260292,
          -0.46923690573927296,
          -1.142607594480248,
          -0.3611762312877647,
          -0.39933525169718176,
          2.2769382620127003,
          -0.8380458528707962,
          -0.6124392004285225,
          0.6961616835141131,
          -1.2277256681748399,
          -0.6165936577607377,
          1.4531742490758173,
          0.8324616086776321,
          0.08734935814075497,
          -0.27779001599273256,
          -0.386556029563755,
          0.5076935684905723,
          0.023459583819070404,
          0.7011956785778897,
          -2.064037457273387,
          0.5982278808302534,
          -0.24015821493527018,
          -0.20554533443737275,
          -0.28217079271367657,
          -1.7845227166301205,
          -0.5601415555592549,
          0.8084747503072853,
          0.37966132136188563,
          -0.6195525229757263,
          0.3758208757878301,
          1.4200248431796674,
          2.0659398607101047,
          0.9587108211966137,
          2.061807877022249,
          0.18050161272834003,
          -0.6540684677740707,
          -0.8644330224870201,
          -1.261133780633743,
          -1.1276839315268843,
          -0.8470709717782499,
          -0.8077457919626311,
          0.0022270729652858353,
          1.266205085899191,
          0.9466066247483059,
          0.0931235624221537,
          -0.6925655411798486,
          0.23552797185724408,
          -0.7126173671952934,
          -0.4802895517750804,
          -1.0320031452653156,
          -0.6525272343747045,
          0.6660110832512804
         ]
        }
       ],
       "layout": {
        "barmode": "overlay",
        "legend": {
         "bgcolor": "#F5F6F9",
         "font": {
          "color": "#4D5663"
         }
        },
        "paper_bgcolor": "#F5F6F9",
        "plot_bgcolor": "#F5F6F9",
        "template": {
         "data": {
          "bar": [
           {
            "error_x": {
             "color": "#2a3f5f"
            },
            "error_y": {
             "color": "#2a3f5f"
            },
            "marker": {
             "line": {
              "color": "#E5ECF6",
              "width": 0.5
             },
             "pattern": {
              "fillmode": "overlay",
              "size": 10,
              "solidity": 0.2
             }
            },
            "type": "bar"
           }
          ],
          "barpolar": [
           {
            "marker": {
             "line": {
              "color": "#E5ECF6",
              "width": 0.5
             },
             "pattern": {
              "fillmode": "overlay",
              "size": 10,
              "solidity": 0.2
             }
            },
            "type": "barpolar"
           }
          ],
          "carpet": [
           {
            "aaxis": {
             "endlinecolor": "#2a3f5f",
             "gridcolor": "white",
             "linecolor": "white",
             "minorgridcolor": "white",
             "startlinecolor": "#2a3f5f"
            },
            "baxis": {
             "endlinecolor": "#2a3f5f",
             "gridcolor": "white",
             "linecolor": "white",
             "minorgridcolor": "white",
             "startlinecolor": "#2a3f5f"
            },
            "type": "carpet"
           }
          ],
          "choropleth": [
           {
            "colorbar": {
             "outlinewidth": 0,
             "ticks": ""
            },
            "type": "choropleth"
           }
          ],
          "contour": [
           {
            "colorbar": {
             "outlinewidth": 0,
             "ticks": ""
            },
            "colorscale": [
             [
              0,
              "#0d0887"
             ],
             [
              0.1111111111111111,
              "#46039f"
             ],
             [
              0.2222222222222222,
              "#7201a8"
             ],
             [
              0.3333333333333333,
              "#9c179e"
             ],
             [
              0.4444444444444444,
              "#bd3786"
             ],
             [
              0.5555555555555556,
              "#d8576b"
             ],
             [
              0.6666666666666666,
              "#ed7953"
             ],
             [
              0.7777777777777778,
              "#fb9f3a"
             ],
             [
              0.8888888888888888,
              "#fdca26"
             ],
             [
              1,
              "#f0f921"
             ]
            ],
            "type": "contour"
           }
          ],
          "contourcarpet": [
           {
            "colorbar": {
             "outlinewidth": 0,
             "ticks": ""
            },
            "type": "contourcarpet"
           }
          ],
          "heatmap": [
           {
            "colorbar": {
             "outlinewidth": 0,
             "ticks": ""
            },
            "colorscale": [
             [
              0,
              "#0d0887"
             ],
             [
              0.1111111111111111,
              "#46039f"
             ],
             [
              0.2222222222222222,
              "#7201a8"
             ],
             [
              0.3333333333333333,
              "#9c179e"
             ],
             [
              0.4444444444444444,
              "#bd3786"
             ],
             [
              0.5555555555555556,
              "#d8576b"
             ],
             [
              0.6666666666666666,
              "#ed7953"
             ],
             [
              0.7777777777777778,
              "#fb9f3a"
             ],
             [
              0.8888888888888888,
              "#fdca26"
             ],
             [
              1,
              "#f0f921"
             ]
            ],
            "type": "heatmap"
           }
          ],
          "heatmapgl": [
           {
            "colorbar": {
             "outlinewidth": 0,
             "ticks": ""
            },
            "colorscale": [
             [
              0,
              "#0d0887"
             ],
             [
              0.1111111111111111,
              "#46039f"
             ],
             [
              0.2222222222222222,
              "#7201a8"
             ],
             [
              0.3333333333333333,
              "#9c179e"
             ],
             [
              0.4444444444444444,
              "#bd3786"
             ],
             [
              0.5555555555555556,
              "#d8576b"
             ],
             [
              0.6666666666666666,
              "#ed7953"
             ],
             [
              0.7777777777777778,
              "#fb9f3a"
             ],
             [
              0.8888888888888888,
              "#fdca26"
             ],
             [
              1,
              "#f0f921"
             ]
            ],
            "type": "heatmapgl"
           }
          ],
          "histogram": [
           {
            "marker": {
             "pattern": {
              "fillmode": "overlay",
              "size": 10,
              "solidity": 0.2
             }
            },
            "type": "histogram"
           }
          ],
          "histogram2d": [
           {
            "colorbar": {
             "outlinewidth": 0,
             "ticks": ""
            },
            "colorscale": [
             [
              0,
              "#0d0887"
             ],
             [
              0.1111111111111111,
              "#46039f"
             ],
             [
              0.2222222222222222,
              "#7201a8"
             ],
             [
              0.3333333333333333,
              "#9c179e"
             ],
             [
              0.4444444444444444,
              "#bd3786"
             ],
             [
              0.5555555555555556,
              "#d8576b"
             ],
             [
              0.6666666666666666,
              "#ed7953"
             ],
             [
              0.7777777777777778,
              "#fb9f3a"
             ],
             [
              0.8888888888888888,
              "#fdca26"
             ],
             [
              1,
              "#f0f921"
             ]
            ],
            "type": "histogram2d"
           }
          ],
          "histogram2dcontour": [
           {
            "colorbar": {
             "outlinewidth": 0,
             "ticks": ""
            },
            "colorscale": [
             [
              0,
              "#0d0887"
             ],
             [
              0.1111111111111111,
              "#46039f"
             ],
             [
              0.2222222222222222,
              "#7201a8"
             ],
             [
              0.3333333333333333,
              "#9c179e"
             ],
             [
              0.4444444444444444,
              "#bd3786"
             ],
             [
              0.5555555555555556,
              "#d8576b"
             ],
             [
              0.6666666666666666,
              "#ed7953"
             ],
             [
              0.7777777777777778,
              "#fb9f3a"
             ],
             [
              0.8888888888888888,
              "#fdca26"
             ],
             [
              1,
              "#f0f921"
             ]
            ],
            "type": "histogram2dcontour"
           }
          ],
          "mesh3d": [
           {
            "colorbar": {
             "outlinewidth": 0,
             "ticks": ""
            },
            "type": "mesh3d"
           }
          ],
          "parcoords": [
           {
            "line": {
             "colorbar": {
              "outlinewidth": 0,
              "ticks": ""
             }
            },
            "type": "parcoords"
           }
          ],
          "pie": [
           {
            "automargin": true,
            "type": "pie"
           }
          ],
          "scatter": [
           {
            "marker": {
             "colorbar": {
              "outlinewidth": 0,
              "ticks": ""
             }
            },
            "type": "scatter"
           }
          ],
          "scatter3d": [
           {
            "line": {
             "colorbar": {
              "outlinewidth": 0,
              "ticks": ""
             }
            },
            "marker": {
             "colorbar": {
              "outlinewidth": 0,
              "ticks": ""
             }
            },
            "type": "scatter3d"
           }
          ],
          "scattercarpet": [
           {
            "marker": {
             "colorbar": {
              "outlinewidth": 0,
              "ticks": ""
             }
            },
            "type": "scattercarpet"
           }
          ],
          "scattergeo": [
           {
            "marker": {
             "colorbar": {
              "outlinewidth": 0,
              "ticks": ""
             }
            },
            "type": "scattergeo"
           }
          ],
          "scattergl": [
           {
            "marker": {
             "colorbar": {
              "outlinewidth": 0,
              "ticks": ""
             }
            },
            "type": "scattergl"
           }
          ],
          "scattermapbox": [
           {
            "marker": {
             "colorbar": {
              "outlinewidth": 0,
              "ticks": ""
             }
            },
            "type": "scattermapbox"
           }
          ],
          "scatterpolar": [
           {
            "marker": {
             "colorbar": {
              "outlinewidth": 0,
              "ticks": ""
             }
            },
            "type": "scatterpolar"
           }
          ],
          "scatterpolargl": [
           {
            "marker": {
             "colorbar": {
              "outlinewidth": 0,
              "ticks": ""
             }
            },
            "type": "scatterpolargl"
           }
          ],
          "scatterternary": [
           {
            "marker": {
             "colorbar": {
              "outlinewidth": 0,
              "ticks": ""
             }
            },
            "type": "scatterternary"
           }
          ],
          "surface": [
           {
            "colorbar": {
             "outlinewidth": 0,
             "ticks": ""
            },
            "colorscale": [
             [
              0,
              "#0d0887"
             ],
             [
              0.1111111111111111,
              "#46039f"
             ],
             [
              0.2222222222222222,
              "#7201a8"
             ],
             [
              0.3333333333333333,
              "#9c179e"
             ],
             [
              0.4444444444444444,
              "#bd3786"
             ],
             [
              0.5555555555555556,
              "#d8576b"
             ],
             [
              0.6666666666666666,
              "#ed7953"
             ],
             [
              0.7777777777777778,
              "#fb9f3a"
             ],
             [
              0.8888888888888888,
              "#fdca26"
             ],
             [
              1,
              "#f0f921"
             ]
            ],
            "type": "surface"
           }
          ],
          "table": [
           {
            "cells": {
             "fill": {
              "color": "#EBF0F8"
             },
             "line": {
              "color": "white"
             }
            },
            "header": {
             "fill": {
              "color": "#C8D4E3"
             },
             "line": {
              "color": "white"
             }
            },
            "type": "table"
           }
          ]
         },
         "layout": {
          "annotationdefaults": {
           "arrowcolor": "#2a3f5f",
           "arrowhead": 0,
           "arrowwidth": 1
          },
          "autotypenumbers": "strict",
          "coloraxis": {
           "colorbar": {
            "outlinewidth": 0,
            "ticks": ""
           }
          },
          "colorscale": {
           "diverging": [
            [
             0,
             "#8e0152"
            ],
            [
             0.1,
             "#c51b7d"
            ],
            [
             0.2,
             "#de77ae"
            ],
            [
             0.3,
             "#f1b6da"
            ],
            [
             0.4,
             "#fde0ef"
            ],
            [
             0.5,
             "#f7f7f7"
            ],
            [
             0.6,
             "#e6f5d0"
            ],
            [
             0.7,
             "#b8e186"
            ],
            [
             0.8,
             "#7fbc41"
            ],
            [
             0.9,
             "#4d9221"
            ],
            [
             1,
             "#276419"
            ]
           ],
           "sequential": [
            [
             0,
             "#0d0887"
            ],
            [
             0.1111111111111111,
             "#46039f"
            ],
            [
             0.2222222222222222,
             "#7201a8"
            ],
            [
             0.3333333333333333,
             "#9c179e"
            ],
            [
             0.4444444444444444,
             "#bd3786"
            ],
            [
             0.5555555555555556,
             "#d8576b"
            ],
            [
             0.6666666666666666,
             "#ed7953"
            ],
            [
             0.7777777777777778,
             "#fb9f3a"
            ],
            [
             0.8888888888888888,
             "#fdca26"
            ],
            [
             1,
             "#f0f921"
            ]
           ],
           "sequentialminus": [
            [
             0,
             "#0d0887"
            ],
            [
             0.1111111111111111,
             "#46039f"
            ],
            [
             0.2222222222222222,
             "#7201a8"
            ],
            [
             0.3333333333333333,
             "#9c179e"
            ],
            [
             0.4444444444444444,
             "#bd3786"
            ],
            [
             0.5555555555555556,
             "#d8576b"
            ],
            [
             0.6666666666666666,
             "#ed7953"
            ],
            [
             0.7777777777777778,
             "#fb9f3a"
            ],
            [
             0.8888888888888888,
             "#fdca26"
            ],
            [
             1,
             "#f0f921"
            ]
           ]
          },
          "colorway": [
           "#636efa",
           "#EF553B",
           "#00cc96",
           "#ab63fa",
           "#FFA15A",
           "#19d3f3",
           "#FF6692",
           "#B6E880",
           "#FF97FF",
           "#FECB52"
          ],
          "font": {
           "color": "#2a3f5f"
          },
          "geo": {
           "bgcolor": "white",
           "lakecolor": "white",
           "landcolor": "#E5ECF6",
           "showlakes": true,
           "showland": true,
           "subunitcolor": "white"
          },
          "hoverlabel": {
           "align": "left"
          },
          "hovermode": "closest",
          "mapbox": {
           "style": "light"
          },
          "paper_bgcolor": "white",
          "plot_bgcolor": "#E5ECF6",
          "polar": {
           "angularaxis": {
            "gridcolor": "white",
            "linecolor": "white",
            "ticks": ""
           },
           "bgcolor": "#E5ECF6",
           "radialaxis": {
            "gridcolor": "white",
            "linecolor": "white",
            "ticks": ""
           }
          },
          "scene": {
           "xaxis": {
            "backgroundcolor": "#E5ECF6",
            "gridcolor": "white",
            "gridwidth": 2,
            "linecolor": "white",
            "showbackground": true,
            "ticks": "",
            "zerolinecolor": "white"
           },
           "yaxis": {
            "backgroundcolor": "#E5ECF6",
            "gridcolor": "white",
            "gridwidth": 2,
            "linecolor": "white",
            "showbackground": true,
            "ticks": "",
            "zerolinecolor": "white"
           },
           "zaxis": {
            "backgroundcolor": "#E5ECF6",
            "gridcolor": "white",
            "gridwidth": 2,
            "linecolor": "white",
            "showbackground": true,
            "ticks": "",
            "zerolinecolor": "white"
           }
          },
          "shapedefaults": {
           "line": {
            "color": "#2a3f5f"
           }
          },
          "ternary": {
           "aaxis": {
            "gridcolor": "white",
            "linecolor": "white",
            "ticks": ""
           },
           "baxis": {
            "gridcolor": "white",
            "linecolor": "white",
            "ticks": ""
           },
           "bgcolor": "#E5ECF6",
           "caxis": {
            "gridcolor": "white",
            "linecolor": "white",
            "ticks": ""
           }
          },
          "title": {
           "x": 0.05
          },
          "xaxis": {
           "automargin": true,
           "gridcolor": "white",
           "linecolor": "white",
           "ticks": "",
           "title": {
            "standoff": 15
           },
           "zerolinecolor": "white",
           "zerolinewidth": 2
          },
          "yaxis": {
           "automargin": true,
           "gridcolor": "white",
           "linecolor": "white",
           "ticks": "",
           "title": {
            "standoff": 15
           },
           "zerolinecolor": "white",
           "zerolinewidth": 2
          }
         }
        },
        "title": {
         "font": {
          "color": "#4D5663"
         }
        },
        "xaxis": {
         "gridcolor": "#E1E5ED",
         "showgrid": true,
         "tickfont": {
          "color": "#4D5663"
         },
         "title": {
          "font": {
           "color": "#4D5663"
          },
          "text": ""
         },
         "zerolinecolor": "#E1E5ED"
        },
        "yaxis": {
         "gridcolor": "#E1E5ED",
         "showgrid": true,
         "tickfont": {
          "color": "#4D5663"
         },
         "title": {
          "font": {
           "color": "#4D5663"
          },
          "text": ""
         },
         "zerolinecolor": "#E1E5ED"
        }
       }
      },
      "text/html": [
       "<div>                            <div id=\"8fc39ded-a6fc-4eee-9c41-c24566e444c4\" class=\"plotly-graph-div\" style=\"height:525px; width:100%;\"></div>            <script type=\"text/javascript\">                require([\"plotly\"], function(Plotly) {                    window.PLOTLYENV=window.PLOTLYENV || {};\n",
       "                    window.PLOTLYENV.BASE_URL='https://plot.ly';                                    if (document.getElementById(\"8fc39ded-a6fc-4eee-9c41-c24566e444c4\")) {                    Plotly.newPlot(                        \"8fc39ded-a6fc-4eee-9c41-c24566e444c4\",                        [{\"histfunc\":\"count\",\"histnorm\":\"\",\"marker\":{\"color\":\"rgba(255, 153, 51, 1.0)\",\"line\":{\"color\":\"#4D5663\",\"width\":1.3}},\"name\":\"A\",\"nbinsx\":25,\"opacity\":0.8,\"orientation\":\"v\",\"type\":\"histogram\",\"x\":[-1.8554435537542446,-0.3341474199101263,0.6857288575880798,0.12905925770490762,-0.13012084534391954,0.31598165716367344,-0.6814310339065305,-1.1857454279657653,0.16250831411290528,-0.23503431588320337,-0.6957583990035138,1.2656447012812229,0.7895454890395617,2.0102173729408683,0.45824801008669885,-0.5925775507399346,-0.41533289809186974,-0.4731233300668129,0.6843718826788863,0.5391706433363241,-1.1002556394218257,1.2609445362966492,-1.7026894192926318,0.8280922879606232,-0.47841132251611046,1.354448480034928,0.018522114685147483,-1.3413367864778607,-0.8895958524461421,-0.020608380047677472,-1.7240966400672362,0.28458344629001064,0.21661681618247094,1.2179864561575975,0.8482671466620583,-0.4077952273242937,-0.8049643523268022,-0.9176116556344076,-0.9356801704572217,-0.9699739380556349,0.650589802528572,2.547846456025026,-0.7096211873633143,-0.9174229907763136,1.1386671385820821,-1.369325539411084,-0.9842603474076804,0.5945869819604048,-0.23886050975260292,-0.46923690573927296,-1.142607594480248,-0.3611762312877647,-0.39933525169718176,2.2769382620127003,-0.8380458528707962,-0.6124392004285225,0.6961616835141131,-1.2277256681748399,-0.6165936577607377,1.4531742490758173,0.8324616086776321,0.08734935814075497,-0.27779001599273256,-0.386556029563755,0.5076935684905723,0.023459583819070404,0.7011956785778897,-2.064037457273387,0.5982278808302534,-0.24015821493527018,-0.20554533443737275,-0.28217079271367657,-1.7845227166301205,-0.5601415555592549,0.8084747503072853,0.37966132136188563,-0.6195525229757263,0.3758208757878301,1.4200248431796674,2.0659398607101047,0.9587108211966137,2.061807877022249,0.18050161272834003,-0.6540684677740707,-0.8644330224870201,-1.261133780633743,-1.1276839315268843,-0.8470709717782499,-0.8077457919626311,0.0022270729652858353,1.266205085899191,0.9466066247483059,0.0931235624221537,-0.6925655411798486,0.23552797185724408,-0.7126173671952934,-0.4802895517750804,-1.0320031452653156,-0.6525272343747045,0.6660110832512804]}],                        {\"barmode\":\"overlay\",\"legend\":{\"bgcolor\":\"#F5F6F9\",\"font\":{\"color\":\"#4D5663\"}},\"paper_bgcolor\":\"#F5F6F9\",\"plot_bgcolor\":\"#F5F6F9\",\"template\":{\"data\":{\"bar\":[{\"error_x\":{\"color\":\"#2a3f5f\"},\"error_y\":{\"color\":\"#2a3f5f\"},\"marker\":{\"line\":{\"color\":\"#E5ECF6\",\"width\":0.5},\"pattern\":{\"fillmode\":\"overlay\",\"size\":10,\"solidity\":0.2}},\"type\":\"bar\"}],\"barpolar\":[{\"marker\":{\"line\":{\"color\":\"#E5ECF6\",\"width\":0.5},\"pattern\":{\"fillmode\":\"overlay\",\"size\":10,\"solidity\":0.2}},\"type\":\"barpolar\"}],\"carpet\":[{\"aaxis\":{\"endlinecolor\":\"#2a3f5f\",\"gridcolor\":\"white\",\"linecolor\":\"white\",\"minorgridcolor\":\"white\",\"startlinecolor\":\"#2a3f5f\"},\"baxis\":{\"endlinecolor\":\"#2a3f5f\",\"gridcolor\":\"white\",\"linecolor\":\"white\",\"minorgridcolor\":\"white\",\"startlinecolor\":\"#2a3f5f\"},\"type\":\"carpet\"}],\"choropleth\":[{\"colorbar\":{\"outlinewidth\":0,\"ticks\":\"\"},\"type\":\"choropleth\"}],\"contour\":[{\"colorbar\":{\"outlinewidth\":0,\"ticks\":\"\"},\"colorscale\":[[0.0,\"#0d0887\"],[0.1111111111111111,\"#46039f\"],[0.2222222222222222,\"#7201a8\"],[0.3333333333333333,\"#9c179e\"],[0.4444444444444444,\"#bd3786\"],[0.5555555555555556,\"#d8576b\"],[0.6666666666666666,\"#ed7953\"],[0.7777777777777778,\"#fb9f3a\"],[0.8888888888888888,\"#fdca26\"],[1.0,\"#f0f921\"]],\"type\":\"contour\"}],\"contourcarpet\":[{\"colorbar\":{\"outlinewidth\":0,\"ticks\":\"\"},\"type\":\"contourcarpet\"}],\"heatmap\":[{\"colorbar\":{\"outlinewidth\":0,\"ticks\":\"\"},\"colorscale\":[[0.0,\"#0d0887\"],[0.1111111111111111,\"#46039f\"],[0.2222222222222222,\"#7201a8\"],[0.3333333333333333,\"#9c179e\"],[0.4444444444444444,\"#bd3786\"],[0.5555555555555556,\"#d8576b\"],[0.6666666666666666,\"#ed7953\"],[0.7777777777777778,\"#fb9f3a\"],[0.8888888888888888,\"#fdca26\"],[1.0,\"#f0f921\"]],\"type\":\"heatmap\"}],\"heatmapgl\":[{\"colorbar\":{\"outlinewidth\":0,\"ticks\":\"\"},\"colorscale\":[[0.0,\"#0d0887\"],[0.1111111111111111,\"#46039f\"],[0.2222222222222222,\"#7201a8\"],[0.3333333333333333,\"#9c179e\"],[0.4444444444444444,\"#bd3786\"],[0.5555555555555556,\"#d8576b\"],[0.6666666666666666,\"#ed7953\"],[0.7777777777777778,\"#fb9f3a\"],[0.8888888888888888,\"#fdca26\"],[1.0,\"#f0f921\"]],\"type\":\"heatmapgl\"}],\"histogram\":[{\"marker\":{\"pattern\":{\"fillmode\":\"overlay\",\"size\":10,\"solidity\":0.2}},\"type\":\"histogram\"}],\"histogram2d\":[{\"colorbar\":{\"outlinewidth\":0,\"ticks\":\"\"},\"colorscale\":[[0.0,\"#0d0887\"],[0.1111111111111111,\"#46039f\"],[0.2222222222222222,\"#7201a8\"],[0.3333333333333333,\"#9c179e\"],[0.4444444444444444,\"#bd3786\"],[0.5555555555555556,\"#d8576b\"],[0.6666666666666666,\"#ed7953\"],[0.7777777777777778,\"#fb9f3a\"],[0.8888888888888888,\"#fdca26\"],[1.0,\"#f0f921\"]],\"type\":\"histogram2d\"}],\"histogram2dcontour\":[{\"colorbar\":{\"outlinewidth\":0,\"ticks\":\"\"},\"colorscale\":[[0.0,\"#0d0887\"],[0.1111111111111111,\"#46039f\"],[0.2222222222222222,\"#7201a8\"],[0.3333333333333333,\"#9c179e\"],[0.4444444444444444,\"#bd3786\"],[0.5555555555555556,\"#d8576b\"],[0.6666666666666666,\"#ed7953\"],[0.7777777777777778,\"#fb9f3a\"],[0.8888888888888888,\"#fdca26\"],[1.0,\"#f0f921\"]],\"type\":\"histogram2dcontour\"}],\"mesh3d\":[{\"colorbar\":{\"outlinewidth\":0,\"ticks\":\"\"},\"type\":\"mesh3d\"}],\"parcoords\":[{\"line\":{\"colorbar\":{\"outlinewidth\":0,\"ticks\":\"\"}},\"type\":\"parcoords\"}],\"pie\":[{\"automargin\":true,\"type\":\"pie\"}],\"scatter\":[{\"marker\":{\"colorbar\":{\"outlinewidth\":0,\"ticks\":\"\"}},\"type\":\"scatter\"}],\"scatter3d\":[{\"line\":{\"colorbar\":{\"outlinewidth\":0,\"ticks\":\"\"}},\"marker\":{\"colorbar\":{\"outlinewidth\":0,\"ticks\":\"\"}},\"type\":\"scatter3d\"}],\"scattercarpet\":[{\"marker\":{\"colorbar\":{\"outlinewidth\":0,\"ticks\":\"\"}},\"type\":\"scattercarpet\"}],\"scattergeo\":[{\"marker\":{\"colorbar\":{\"outlinewidth\":0,\"ticks\":\"\"}},\"type\":\"scattergeo\"}],\"scattergl\":[{\"marker\":{\"colorbar\":{\"outlinewidth\":0,\"ticks\":\"\"}},\"type\":\"scattergl\"}],\"scattermapbox\":[{\"marker\":{\"colorbar\":{\"outlinewidth\":0,\"ticks\":\"\"}},\"type\":\"scattermapbox\"}],\"scatterpolar\":[{\"marker\":{\"colorbar\":{\"outlinewidth\":0,\"ticks\":\"\"}},\"type\":\"scatterpolar\"}],\"scatterpolargl\":[{\"marker\":{\"colorbar\":{\"outlinewidth\":0,\"ticks\":\"\"}},\"type\":\"scatterpolargl\"}],\"scatterternary\":[{\"marker\":{\"colorbar\":{\"outlinewidth\":0,\"ticks\":\"\"}},\"type\":\"scatterternary\"}],\"surface\":[{\"colorbar\":{\"outlinewidth\":0,\"ticks\":\"\"},\"colorscale\":[[0.0,\"#0d0887\"],[0.1111111111111111,\"#46039f\"],[0.2222222222222222,\"#7201a8\"],[0.3333333333333333,\"#9c179e\"],[0.4444444444444444,\"#bd3786\"],[0.5555555555555556,\"#d8576b\"],[0.6666666666666666,\"#ed7953\"],[0.7777777777777778,\"#fb9f3a\"],[0.8888888888888888,\"#fdca26\"],[1.0,\"#f0f921\"]],\"type\":\"surface\"}],\"table\":[{\"cells\":{\"fill\":{\"color\":\"#EBF0F8\"},\"line\":{\"color\":\"white\"}},\"header\":{\"fill\":{\"color\":\"#C8D4E3\"},\"line\":{\"color\":\"white\"}},\"type\":\"table\"}]},\"layout\":{\"annotationdefaults\":{\"arrowcolor\":\"#2a3f5f\",\"arrowhead\":0,\"arrowwidth\":1},\"autotypenumbers\":\"strict\",\"coloraxis\":{\"colorbar\":{\"outlinewidth\":0,\"ticks\":\"\"}},\"colorscale\":{\"diverging\":[[0,\"#8e0152\"],[0.1,\"#c51b7d\"],[0.2,\"#de77ae\"],[0.3,\"#f1b6da\"],[0.4,\"#fde0ef\"],[0.5,\"#f7f7f7\"],[0.6,\"#e6f5d0\"],[0.7,\"#b8e186\"],[0.8,\"#7fbc41\"],[0.9,\"#4d9221\"],[1,\"#276419\"]],\"sequential\":[[0.0,\"#0d0887\"],[0.1111111111111111,\"#46039f\"],[0.2222222222222222,\"#7201a8\"],[0.3333333333333333,\"#9c179e\"],[0.4444444444444444,\"#bd3786\"],[0.5555555555555556,\"#d8576b\"],[0.6666666666666666,\"#ed7953\"],[0.7777777777777778,\"#fb9f3a\"],[0.8888888888888888,\"#fdca26\"],[1.0,\"#f0f921\"]],\"sequentialminus\":[[0.0,\"#0d0887\"],[0.1111111111111111,\"#46039f\"],[0.2222222222222222,\"#7201a8\"],[0.3333333333333333,\"#9c179e\"],[0.4444444444444444,\"#bd3786\"],[0.5555555555555556,\"#d8576b\"],[0.6666666666666666,\"#ed7953\"],[0.7777777777777778,\"#fb9f3a\"],[0.8888888888888888,\"#fdca26\"],[1.0,\"#f0f921\"]]},\"colorway\":[\"#636efa\",\"#EF553B\",\"#00cc96\",\"#ab63fa\",\"#FFA15A\",\"#19d3f3\",\"#FF6692\",\"#B6E880\",\"#FF97FF\",\"#FECB52\"],\"font\":{\"color\":\"#2a3f5f\"},\"geo\":{\"bgcolor\":\"white\",\"lakecolor\":\"white\",\"landcolor\":\"#E5ECF6\",\"showlakes\":true,\"showland\":true,\"subunitcolor\":\"white\"},\"hoverlabel\":{\"align\":\"left\"},\"hovermode\":\"closest\",\"mapbox\":{\"style\":\"light\"},\"paper_bgcolor\":\"white\",\"plot_bgcolor\":\"#E5ECF6\",\"polar\":{\"angularaxis\":{\"gridcolor\":\"white\",\"linecolor\":\"white\",\"ticks\":\"\"},\"bgcolor\":\"#E5ECF6\",\"radialaxis\":{\"gridcolor\":\"white\",\"linecolor\":\"white\",\"ticks\":\"\"}},\"scene\":{\"xaxis\":{\"backgroundcolor\":\"#E5ECF6\",\"gridcolor\":\"white\",\"gridwidth\":2,\"linecolor\":\"white\",\"showbackground\":true,\"ticks\":\"\",\"zerolinecolor\":\"white\"},\"yaxis\":{\"backgroundcolor\":\"#E5ECF6\",\"gridcolor\":\"white\",\"gridwidth\":2,\"linecolor\":\"white\",\"showbackground\":true,\"ticks\":\"\",\"zerolinecolor\":\"white\"},\"zaxis\":{\"backgroundcolor\":\"#E5ECF6\",\"gridcolor\":\"white\",\"gridwidth\":2,\"linecolor\":\"white\",\"showbackground\":true,\"ticks\":\"\",\"zerolinecolor\":\"white\"}},\"shapedefaults\":{\"line\":{\"color\":\"#2a3f5f\"}},\"ternary\":{\"aaxis\":{\"gridcolor\":\"white\",\"linecolor\":\"white\",\"ticks\":\"\"},\"baxis\":{\"gridcolor\":\"white\",\"linecolor\":\"white\",\"ticks\":\"\"},\"bgcolor\":\"#E5ECF6\",\"caxis\":{\"gridcolor\":\"white\",\"linecolor\":\"white\",\"ticks\":\"\"}},\"title\":{\"x\":0.05},\"xaxis\":{\"automargin\":true,\"gridcolor\":\"white\",\"linecolor\":\"white\",\"ticks\":\"\",\"title\":{\"standoff\":15},\"zerolinecolor\":\"white\",\"zerolinewidth\":2},\"yaxis\":{\"automargin\":true,\"gridcolor\":\"white\",\"linecolor\":\"white\",\"ticks\":\"\",\"title\":{\"standoff\":15},\"zerolinecolor\":\"white\",\"zerolinewidth\":2}}},\"title\":{\"font\":{\"color\":\"#4D5663\"}},\"xaxis\":{\"gridcolor\":\"#E1E5ED\",\"showgrid\":true,\"tickfont\":{\"color\":\"#4D5663\"},\"title\":{\"font\":{\"color\":\"#4D5663\"},\"text\":\"\"},\"zerolinecolor\":\"#E1E5ED\"},\"yaxis\":{\"gridcolor\":\"#E1E5ED\",\"showgrid\":true,\"tickfont\":{\"color\":\"#4D5663\"},\"title\":{\"font\":{\"color\":\"#4D5663\"},\"text\":\"\"},\"zerolinecolor\":\"#E1E5ED\"}},                        {\"showLink\": true, \"linkText\": \"Export to plot.ly\", \"plotlyServerURL\": \"https://plot.ly\", \"responsive\": true}                    ).then(function(){\n",
       "                            \n",
       "var gd = document.getElementById('8fc39ded-a6fc-4eee-9c41-c24566e444c4');\n",
       "var x = new MutationObserver(function (mutations, observer) {{\n",
       "        var display = window.getComputedStyle(gd).display;\n",
       "        if (!display || display === 'none') {{\n",
       "            console.log([gd, 'removed!']);\n",
       "            Plotly.purge(gd);\n",
       "            observer.disconnect();\n",
       "        }}\n",
       "}});\n",
       "\n",
       "// Listen for the removal of the full notebook cells\n",
       "var notebookContainer = gd.closest('#notebook-container');\n",
       "if (notebookContainer) {{\n",
       "    x.observe(notebookContainer, {childList: true});\n",
       "}}\n",
       "\n",
       "// Listen for the clearing of the current output cell\n",
       "var outputEl = gd.closest('.output');\n",
       "if (outputEl) {{\n",
       "    x.observe(outputEl, {childList: true});\n",
       "}}\n",
       "\n",
       "                        })                };                });            </script>        </div>"
      ]
     },
     "metadata": {}
    }
   ],
   "metadata": {}
  },
  {
   "cell_type": "code",
   "execution_count": 37,
   "source": [
    "df.iplot(kind=\"bubble\", x=\"A\", y=\"B\", size=\"C\")\n"
   ],
   "outputs": [
    {
     "output_type": "display_data",
     "data": {
      "application/vnd.plotly.v1+json": {
       "config": {
        "linkText": "Export to plot.ly",
        "plotlyServerURL": "https://plot.ly",
        "showLink": true
       },
       "data": [
        {
         "marker": {
          "color": [
           "rgb(255, 153, 51)",
           "rgb(55, 128, 191)",
           "rgb(50, 171, 96)",
           "rgb(128, 0, 128)",
           "rgb(219, 64, 82)",
           "rgb(0, 128, 128)",
           "rgb(255, 255, 51)",
           "rgb(128, 128, 0)",
           "rgb(251, 128, 114)",
           "rgb(128, 177, 211)"
          ],
          "line": {
           "width": 1.3
          },
          "size": [
           67,
           53,
           79,
           104,
           72,
           45,
           13,
           85,
           84,
           105,
           79,
           101,
           78,
           80,
           72,
           54,
           50,
           45,
           76,
           50,
           87,
           58,
           41,
           44,
           82,
           57,
           14,
           50,
           68,
           74,
           60,
           44,
           68,
           107,
           71,
           30,
           41,
           61,
           80,
           61,
           47,
           79,
           26,
           53,
           35,
           94,
           22,
           88,
           48,
           86,
           87,
           29,
           36,
           39,
           98,
           77,
           63,
           65,
           49,
           71,
           67,
           28,
           52,
           48,
           12,
           83,
           64,
           21,
           68,
           102,
           80,
           36,
           68,
           94,
           53,
           78,
           34,
           13,
           52,
           73,
           57,
           112,
           57,
           94,
           103,
           91,
           41,
           48,
           82,
           18,
           65,
           92,
           62,
           59,
           68,
           42,
           74,
           75,
           84,
           83
          ],
          "symbol": "circle"
         },
         "mode": "markers",
         "text": "",
         "type": "scatter",
         "x": [
          -1.8554435537542446,
          -0.3341474199101263,
          0.6857288575880798,
          0.12905925770490762,
          -0.13012084534391954,
          0.31598165716367344,
          -0.6814310339065305,
          -1.1857454279657653,
          0.16250831411290528,
          -0.23503431588320337,
          -0.6957583990035138,
          1.2656447012812229,
          0.7895454890395617,
          2.0102173729408683,
          0.45824801008669885,
          -0.5925775507399346,
          -0.41533289809186974,
          -0.4731233300668129,
          0.6843718826788863,
          0.5391706433363241,
          -1.1002556394218257,
          1.2609445362966492,
          -1.7026894192926318,
          0.8280922879606232,
          -0.47841132251611046,
          1.354448480034928,
          0.018522114685147483,
          -1.3413367864778607,
          -0.8895958524461421,
          -0.020608380047677472,
          -1.7240966400672362,
          0.28458344629001064,
          0.21661681618247094,
          1.2179864561575975,
          0.8482671466620583,
          -0.4077952273242937,
          -0.8049643523268022,
          -0.9176116556344076,
          -0.9356801704572217,
          -0.9699739380556349,
          0.650589802528572,
          2.547846456025026,
          -0.7096211873633143,
          -0.9174229907763136,
          1.1386671385820821,
          -1.369325539411084,
          -0.9842603474076804,
          0.5945869819604048,
          -0.23886050975260292,
          -0.46923690573927296,
          -1.142607594480248,
          -0.3611762312877647,
          -0.39933525169718176,
          2.2769382620127003,
          -0.8380458528707962,
          -0.6124392004285225,
          0.6961616835141131,
          -1.2277256681748399,
          -0.6165936577607377,
          1.4531742490758173,
          0.8324616086776321,
          0.08734935814075497,
          -0.27779001599273256,
          -0.386556029563755,
          0.5076935684905723,
          0.023459583819070404,
          0.7011956785778897,
          -2.064037457273387,
          0.5982278808302534,
          -0.24015821493527018,
          -0.20554533443737275,
          -0.28217079271367657,
          -1.7845227166301205,
          -0.5601415555592549,
          0.8084747503072853,
          0.37966132136188563,
          -0.6195525229757263,
          0.3758208757878301,
          1.4200248431796674,
          2.0659398607101047,
          0.9587108211966137,
          2.061807877022249,
          0.18050161272834003,
          -0.6540684677740707,
          -0.8644330224870201,
          -1.261133780633743,
          -1.1276839315268843,
          -0.8470709717782499,
          -0.8077457919626311,
          0.0022270729652858353,
          1.266205085899191,
          0.9466066247483059,
          0.0931235624221537,
          -0.6925655411798486,
          0.23552797185724408,
          -0.7126173671952934,
          -0.4802895517750804,
          -1.0320031452653156,
          -0.6525272343747045,
          0.6660110832512804
         ],
         "y": [
          1.0586797192233903,
          -1.2488855889850787,
          1.0700151137375091,
          0.2686994557666863,
          1.3465290941441121,
          0.3186439119999515,
          -0.26028613353663094,
          1.9624262321531245,
          0.794702271935496,
          1.4578086509674228,
          0.8172558401456013,
          0.2187013708779096,
          -0.74633696389924,
          -0.6733073789184151,
          -0.44481066657090934,
          1.0312849971810147,
          0.4182887878043122,
          0.18075131754173723,
          -2.0632733329402897,
          -0.8721967137920469,
          -0.9573519080715821,
          -0.8861931972275268,
          -1.7326911974350716,
          -0.9429172488362749,
          -1.141069187838,
          -0.18520134114365153,
          -0.5886045112319811,
          -0.4412941810900815,
          0.8285074424484511,
          0.13457702058627252,
          0.47559709859240257,
          0.24770049355141352,
          0.9973592817712069,
          0.531818650682605,
          0.25726486227163997,
          1.328493993017877,
          -0.11100689228117118,
          -0.22650857209597733,
          -0.7144840251026895,
          -1.0416718983455615,
          1.0736890893435829,
          -0.4950066633518595,
          -0.4348511389029561,
          2.8329467756340896,
          -0.4304483343702159,
          1.168993274249435,
          -0.6489183721758839,
          1.919777073493157,
          -0.7889677310786267,
          0.18372995625021743,
          -0.8774390102542554,
          -1.3138910309500251,
          0.32224629900799545,
          0.6853772906954757,
          -0.4782068224275819,
          -1.564547761029822,
          -1.456102616980963,
          -0.21772121032784514,
          -0.45293861005754127,
          1.3668566239085884,
          0.8204827551253541,
          -0.8789693591255126,
          0.2218945456519545,
          0.194766032165579,
          -0.32635090654867477,
          -1.3788456354471674,
          0.47301453080933087,
          -2.1463860553599283,
          0.588115532577788,
          -0.12100941076370306,
          1.1149475486037261,
          0.4065778223793015,
          -1.2420822666880773,
          0.6070864401924375,
          -2.151910704876458,
          0.3346452250376028,
          1.2624867269449833,
          -2.5315629613213484,
          -0.8227144688835754,
          -0.1236309975200574,
          -0.49219807187445436,
          -1.2097029964449502,
          -1.3727932974505603,
          0.44527990572978465,
          0.5434203966297816,
          0.3391141018642361,
          1.753647349388627,
          -0.5326619816135323,
          -0.12867178804487858,
          0.4902779339654576,
          0.35554607301596713,
          0.9779360084073613,
          -0.5302310144497281,
          -0.7591554389356049,
          -0.7203209807891244,
          -0.019652813053141524,
          0.6442268447826572,
          -1.6223502424253848,
          -0.03034172033845018,
          -0.28111681045492665
         ]
        }
       ],
       "layout": {
        "legend": {
         "bgcolor": "#F5F6F9",
         "font": {
          "color": "#4D5663"
         }
        },
        "paper_bgcolor": "#F5F6F9",
        "plot_bgcolor": "#F5F6F9",
        "template": {
         "data": {
          "bar": [
           {
            "error_x": {
             "color": "#2a3f5f"
            },
            "error_y": {
             "color": "#2a3f5f"
            },
            "marker": {
             "line": {
              "color": "#E5ECF6",
              "width": 0.5
             },
             "pattern": {
              "fillmode": "overlay",
              "size": 10,
              "solidity": 0.2
             }
            },
            "type": "bar"
           }
          ],
          "barpolar": [
           {
            "marker": {
             "line": {
              "color": "#E5ECF6",
              "width": 0.5
             },
             "pattern": {
              "fillmode": "overlay",
              "size": 10,
              "solidity": 0.2
             }
            },
            "type": "barpolar"
           }
          ],
          "carpet": [
           {
            "aaxis": {
             "endlinecolor": "#2a3f5f",
             "gridcolor": "white",
             "linecolor": "white",
             "minorgridcolor": "white",
             "startlinecolor": "#2a3f5f"
            },
            "baxis": {
             "endlinecolor": "#2a3f5f",
             "gridcolor": "white",
             "linecolor": "white",
             "minorgridcolor": "white",
             "startlinecolor": "#2a3f5f"
            },
            "type": "carpet"
           }
          ],
          "choropleth": [
           {
            "colorbar": {
             "outlinewidth": 0,
             "ticks": ""
            },
            "type": "choropleth"
           }
          ],
          "contour": [
           {
            "colorbar": {
             "outlinewidth": 0,
             "ticks": ""
            },
            "colorscale": [
             [
              0,
              "#0d0887"
             ],
             [
              0.1111111111111111,
              "#46039f"
             ],
             [
              0.2222222222222222,
              "#7201a8"
             ],
             [
              0.3333333333333333,
              "#9c179e"
             ],
             [
              0.4444444444444444,
              "#bd3786"
             ],
             [
              0.5555555555555556,
              "#d8576b"
             ],
             [
              0.6666666666666666,
              "#ed7953"
             ],
             [
              0.7777777777777778,
              "#fb9f3a"
             ],
             [
              0.8888888888888888,
              "#fdca26"
             ],
             [
              1,
              "#f0f921"
             ]
            ],
            "type": "contour"
           }
          ],
          "contourcarpet": [
           {
            "colorbar": {
             "outlinewidth": 0,
             "ticks": ""
            },
            "type": "contourcarpet"
           }
          ],
          "heatmap": [
           {
            "colorbar": {
             "outlinewidth": 0,
             "ticks": ""
            },
            "colorscale": [
             [
              0,
              "#0d0887"
             ],
             [
              0.1111111111111111,
              "#46039f"
             ],
             [
              0.2222222222222222,
              "#7201a8"
             ],
             [
              0.3333333333333333,
              "#9c179e"
             ],
             [
              0.4444444444444444,
              "#bd3786"
             ],
             [
              0.5555555555555556,
              "#d8576b"
             ],
             [
              0.6666666666666666,
              "#ed7953"
             ],
             [
              0.7777777777777778,
              "#fb9f3a"
             ],
             [
              0.8888888888888888,
              "#fdca26"
             ],
             [
              1,
              "#f0f921"
             ]
            ],
            "type": "heatmap"
           }
          ],
          "heatmapgl": [
           {
            "colorbar": {
             "outlinewidth": 0,
             "ticks": ""
            },
            "colorscale": [
             [
              0,
              "#0d0887"
             ],
             [
              0.1111111111111111,
              "#46039f"
             ],
             [
              0.2222222222222222,
              "#7201a8"
             ],
             [
              0.3333333333333333,
              "#9c179e"
             ],
             [
              0.4444444444444444,
              "#bd3786"
             ],
             [
              0.5555555555555556,
              "#d8576b"
             ],
             [
              0.6666666666666666,
              "#ed7953"
             ],
             [
              0.7777777777777778,
              "#fb9f3a"
             ],
             [
              0.8888888888888888,
              "#fdca26"
             ],
             [
              1,
              "#f0f921"
             ]
            ],
            "type": "heatmapgl"
           }
          ],
          "histogram": [
           {
            "marker": {
             "pattern": {
              "fillmode": "overlay",
              "size": 10,
              "solidity": 0.2
             }
            },
            "type": "histogram"
           }
          ],
          "histogram2d": [
           {
            "colorbar": {
             "outlinewidth": 0,
             "ticks": ""
            },
            "colorscale": [
             [
              0,
              "#0d0887"
             ],
             [
              0.1111111111111111,
              "#46039f"
             ],
             [
              0.2222222222222222,
              "#7201a8"
             ],
             [
              0.3333333333333333,
              "#9c179e"
             ],
             [
              0.4444444444444444,
              "#bd3786"
             ],
             [
              0.5555555555555556,
              "#d8576b"
             ],
             [
              0.6666666666666666,
              "#ed7953"
             ],
             [
              0.7777777777777778,
              "#fb9f3a"
             ],
             [
              0.8888888888888888,
              "#fdca26"
             ],
             [
              1,
              "#f0f921"
             ]
            ],
            "type": "histogram2d"
           }
          ],
          "histogram2dcontour": [
           {
            "colorbar": {
             "outlinewidth": 0,
             "ticks": ""
            },
            "colorscale": [
             [
              0,
              "#0d0887"
             ],
             [
              0.1111111111111111,
              "#46039f"
             ],
             [
              0.2222222222222222,
              "#7201a8"
             ],
             [
              0.3333333333333333,
              "#9c179e"
             ],
             [
              0.4444444444444444,
              "#bd3786"
             ],
             [
              0.5555555555555556,
              "#d8576b"
             ],
             [
              0.6666666666666666,
              "#ed7953"
             ],
             [
              0.7777777777777778,
              "#fb9f3a"
             ],
             [
              0.8888888888888888,
              "#fdca26"
             ],
             [
              1,
              "#f0f921"
             ]
            ],
            "type": "histogram2dcontour"
           }
          ],
          "mesh3d": [
           {
            "colorbar": {
             "outlinewidth": 0,
             "ticks": ""
            },
            "type": "mesh3d"
           }
          ],
          "parcoords": [
           {
            "line": {
             "colorbar": {
              "outlinewidth": 0,
              "ticks": ""
             }
            },
            "type": "parcoords"
           }
          ],
          "pie": [
           {
            "automargin": true,
            "type": "pie"
           }
          ],
          "scatter": [
           {
            "marker": {
             "colorbar": {
              "outlinewidth": 0,
              "ticks": ""
             }
            },
            "type": "scatter"
           }
          ],
          "scatter3d": [
           {
            "line": {
             "colorbar": {
              "outlinewidth": 0,
              "ticks": ""
             }
            },
            "marker": {
             "colorbar": {
              "outlinewidth": 0,
              "ticks": ""
             }
            },
            "type": "scatter3d"
           }
          ],
          "scattercarpet": [
           {
            "marker": {
             "colorbar": {
              "outlinewidth": 0,
              "ticks": ""
             }
            },
            "type": "scattercarpet"
           }
          ],
          "scattergeo": [
           {
            "marker": {
             "colorbar": {
              "outlinewidth": 0,
              "ticks": ""
             }
            },
            "type": "scattergeo"
           }
          ],
          "scattergl": [
           {
            "marker": {
             "colorbar": {
              "outlinewidth": 0,
              "ticks": ""
             }
            },
            "type": "scattergl"
           }
          ],
          "scattermapbox": [
           {
            "marker": {
             "colorbar": {
              "outlinewidth": 0,
              "ticks": ""
             }
            },
            "type": "scattermapbox"
           }
          ],
          "scatterpolar": [
           {
            "marker": {
             "colorbar": {
              "outlinewidth": 0,
              "ticks": ""
             }
            },
            "type": "scatterpolar"
           }
          ],
          "scatterpolargl": [
           {
            "marker": {
             "colorbar": {
              "outlinewidth": 0,
              "ticks": ""
             }
            },
            "type": "scatterpolargl"
           }
          ],
          "scatterternary": [
           {
            "marker": {
             "colorbar": {
              "outlinewidth": 0,
              "ticks": ""
             }
            },
            "type": "scatterternary"
           }
          ],
          "surface": [
           {
            "colorbar": {
             "outlinewidth": 0,
             "ticks": ""
            },
            "colorscale": [
             [
              0,
              "#0d0887"
             ],
             [
              0.1111111111111111,
              "#46039f"
             ],
             [
              0.2222222222222222,
              "#7201a8"
             ],
             [
              0.3333333333333333,
              "#9c179e"
             ],
             [
              0.4444444444444444,
              "#bd3786"
             ],
             [
              0.5555555555555556,
              "#d8576b"
             ],
             [
              0.6666666666666666,
              "#ed7953"
             ],
             [
              0.7777777777777778,
              "#fb9f3a"
             ],
             [
              0.8888888888888888,
              "#fdca26"
             ],
             [
              1,
              "#f0f921"
             ]
            ],
            "type": "surface"
           }
          ],
          "table": [
           {
            "cells": {
             "fill": {
              "color": "#EBF0F8"
             },
             "line": {
              "color": "white"
             }
            },
            "header": {
             "fill": {
              "color": "#C8D4E3"
             },
             "line": {
              "color": "white"
             }
            },
            "type": "table"
           }
          ]
         },
         "layout": {
          "annotationdefaults": {
           "arrowcolor": "#2a3f5f",
           "arrowhead": 0,
           "arrowwidth": 1
          },
          "autotypenumbers": "strict",
          "coloraxis": {
           "colorbar": {
            "outlinewidth": 0,
            "ticks": ""
           }
          },
          "colorscale": {
           "diverging": [
            [
             0,
             "#8e0152"
            ],
            [
             0.1,
             "#c51b7d"
            ],
            [
             0.2,
             "#de77ae"
            ],
            [
             0.3,
             "#f1b6da"
            ],
            [
             0.4,
             "#fde0ef"
            ],
            [
             0.5,
             "#f7f7f7"
            ],
            [
             0.6,
             "#e6f5d0"
            ],
            [
             0.7,
             "#b8e186"
            ],
            [
             0.8,
             "#7fbc41"
            ],
            [
             0.9,
             "#4d9221"
            ],
            [
             1,
             "#276419"
            ]
           ],
           "sequential": [
            [
             0,
             "#0d0887"
            ],
            [
             0.1111111111111111,
             "#46039f"
            ],
            [
             0.2222222222222222,
             "#7201a8"
            ],
            [
             0.3333333333333333,
             "#9c179e"
            ],
            [
             0.4444444444444444,
             "#bd3786"
            ],
            [
             0.5555555555555556,
             "#d8576b"
            ],
            [
             0.6666666666666666,
             "#ed7953"
            ],
            [
             0.7777777777777778,
             "#fb9f3a"
            ],
            [
             0.8888888888888888,
             "#fdca26"
            ],
            [
             1,
             "#f0f921"
            ]
           ],
           "sequentialminus": [
            [
             0,
             "#0d0887"
            ],
            [
             0.1111111111111111,
             "#46039f"
            ],
            [
             0.2222222222222222,
             "#7201a8"
            ],
            [
             0.3333333333333333,
             "#9c179e"
            ],
            [
             0.4444444444444444,
             "#bd3786"
            ],
            [
             0.5555555555555556,
             "#d8576b"
            ],
            [
             0.6666666666666666,
             "#ed7953"
            ],
            [
             0.7777777777777778,
             "#fb9f3a"
            ],
            [
             0.8888888888888888,
             "#fdca26"
            ],
            [
             1,
             "#f0f921"
            ]
           ]
          },
          "colorway": [
           "#636efa",
           "#EF553B",
           "#00cc96",
           "#ab63fa",
           "#FFA15A",
           "#19d3f3",
           "#FF6692",
           "#B6E880",
           "#FF97FF",
           "#FECB52"
          ],
          "font": {
           "color": "#2a3f5f"
          },
          "geo": {
           "bgcolor": "white",
           "lakecolor": "white",
           "landcolor": "#E5ECF6",
           "showlakes": true,
           "showland": true,
           "subunitcolor": "white"
          },
          "hoverlabel": {
           "align": "left"
          },
          "hovermode": "closest",
          "mapbox": {
           "style": "light"
          },
          "paper_bgcolor": "white",
          "plot_bgcolor": "#E5ECF6",
          "polar": {
           "angularaxis": {
            "gridcolor": "white",
            "linecolor": "white",
            "ticks": ""
           },
           "bgcolor": "#E5ECF6",
           "radialaxis": {
            "gridcolor": "white",
            "linecolor": "white",
            "ticks": ""
           }
          },
          "scene": {
           "xaxis": {
            "backgroundcolor": "#E5ECF6",
            "gridcolor": "white",
            "gridwidth": 2,
            "linecolor": "white",
            "showbackground": true,
            "ticks": "",
            "zerolinecolor": "white"
           },
           "yaxis": {
            "backgroundcolor": "#E5ECF6",
            "gridcolor": "white",
            "gridwidth": 2,
            "linecolor": "white",
            "showbackground": true,
            "ticks": "",
            "zerolinecolor": "white"
           },
           "zaxis": {
            "backgroundcolor": "#E5ECF6",
            "gridcolor": "white",
            "gridwidth": 2,
            "linecolor": "white",
            "showbackground": true,
            "ticks": "",
            "zerolinecolor": "white"
           }
          },
          "shapedefaults": {
           "line": {
            "color": "#2a3f5f"
           }
          },
          "ternary": {
           "aaxis": {
            "gridcolor": "white",
            "linecolor": "white",
            "ticks": ""
           },
           "baxis": {
            "gridcolor": "white",
            "linecolor": "white",
            "ticks": ""
           },
           "bgcolor": "#E5ECF6",
           "caxis": {
            "gridcolor": "white",
            "linecolor": "white",
            "ticks": ""
           }
          },
          "title": {
           "x": 0.05
          },
          "xaxis": {
           "automargin": true,
           "gridcolor": "white",
           "linecolor": "white",
           "ticks": "",
           "title": {
            "standoff": 15
           },
           "zerolinecolor": "white",
           "zerolinewidth": 2
          },
          "yaxis": {
           "automargin": true,
           "gridcolor": "white",
           "linecolor": "white",
           "ticks": "",
           "title": {
            "standoff": 15
           },
           "zerolinecolor": "white",
           "zerolinewidth": 2
          }
         }
        },
        "title": {
         "font": {
          "color": "#4D5663"
         }
        },
        "xaxis": {
         "gridcolor": "#E1E5ED",
         "showgrid": true,
         "tickfont": {
          "color": "#4D5663"
         },
         "title": {
          "font": {
           "color": "#4D5663"
          },
          "text": ""
         },
         "zerolinecolor": "#E1E5ED"
        },
        "yaxis": {
         "gridcolor": "#E1E5ED",
         "showgrid": true,
         "tickfont": {
          "color": "#4D5663"
         },
         "title": {
          "font": {
           "color": "#4D5663"
          },
          "text": ""
         },
         "zerolinecolor": "#E1E5ED"
        }
       }
      },
      "text/html": [
       "<div>                            <div id=\"7bee2274-41b9-4684-9e14-02ed7ec29027\" class=\"plotly-graph-div\" style=\"height:525px; width:100%;\"></div>            <script type=\"text/javascript\">                require([\"plotly\"], function(Plotly) {                    window.PLOTLYENV=window.PLOTLYENV || {};\n",
       "                    window.PLOTLYENV.BASE_URL='https://plot.ly';                                    if (document.getElementById(\"7bee2274-41b9-4684-9e14-02ed7ec29027\")) {                    Plotly.newPlot(                        \"7bee2274-41b9-4684-9e14-02ed7ec29027\",                        [{\"marker\":{\"color\":[\"rgb(255, 153, 51)\",\"rgb(55, 128, 191)\",\"rgb(50, 171, 96)\",\"rgb(128, 0, 128)\",\"rgb(219, 64, 82)\",\"rgb(0, 128, 128)\",\"rgb(255, 255, 51)\",\"rgb(128, 128, 0)\",\"rgb(251, 128, 114)\",\"rgb(128, 177, 211)\"],\"line\":{\"width\":1.3},\"size\":[67,53,79,104,72,45,13,85,84,105,79,101,78,80,72,54,50,45,76,50,87,58,41,44,82,57,14,50,68,74,60,44,68,107,71,30,41,61,80,61,47,79,26,53,35,94,22,88,48,86,87,29,36,39,98,77,63,65,49,71,67,28,52,48,12,83,64,21,68,102,80,36,68,94,53,78,34,13,52,73,57,112,57,94,103,91,41,48,82,18,65,92,62,59,68,42,74,75,84,83],\"symbol\":\"circle\"},\"mode\":\"markers\",\"text\":\"\",\"type\":\"scatter\",\"x\":[-1.8554435537542446,-0.3341474199101263,0.6857288575880798,0.12905925770490762,-0.13012084534391954,0.31598165716367344,-0.6814310339065305,-1.1857454279657653,0.16250831411290528,-0.23503431588320337,-0.6957583990035138,1.2656447012812229,0.7895454890395617,2.0102173729408683,0.45824801008669885,-0.5925775507399346,-0.41533289809186974,-0.4731233300668129,0.6843718826788863,0.5391706433363241,-1.1002556394218257,1.2609445362966492,-1.7026894192926318,0.8280922879606232,-0.47841132251611046,1.354448480034928,0.018522114685147483,-1.3413367864778607,-0.8895958524461421,-0.020608380047677472,-1.7240966400672362,0.28458344629001064,0.21661681618247094,1.2179864561575975,0.8482671466620583,-0.4077952273242937,-0.8049643523268022,-0.9176116556344076,-0.9356801704572217,-0.9699739380556349,0.650589802528572,2.547846456025026,-0.7096211873633143,-0.9174229907763136,1.1386671385820821,-1.369325539411084,-0.9842603474076804,0.5945869819604048,-0.23886050975260292,-0.46923690573927296,-1.142607594480248,-0.3611762312877647,-0.39933525169718176,2.2769382620127003,-0.8380458528707962,-0.6124392004285225,0.6961616835141131,-1.2277256681748399,-0.6165936577607377,1.4531742490758173,0.8324616086776321,0.08734935814075497,-0.27779001599273256,-0.386556029563755,0.5076935684905723,0.023459583819070404,0.7011956785778897,-2.064037457273387,0.5982278808302534,-0.24015821493527018,-0.20554533443737275,-0.28217079271367657,-1.7845227166301205,-0.5601415555592549,0.8084747503072853,0.37966132136188563,-0.6195525229757263,0.3758208757878301,1.4200248431796674,2.0659398607101047,0.9587108211966137,2.061807877022249,0.18050161272834003,-0.6540684677740707,-0.8644330224870201,-1.261133780633743,-1.1276839315268843,-0.8470709717782499,-0.8077457919626311,0.0022270729652858353,1.266205085899191,0.9466066247483059,0.0931235624221537,-0.6925655411798486,0.23552797185724408,-0.7126173671952934,-0.4802895517750804,-1.0320031452653156,-0.6525272343747045,0.6660110832512804],\"y\":[1.0586797192233903,-1.2488855889850787,1.0700151137375091,0.2686994557666863,1.3465290941441121,0.3186439119999515,-0.26028613353663094,1.9624262321531245,0.794702271935496,1.4578086509674228,0.8172558401456013,0.2187013708779096,-0.74633696389924,-0.6733073789184151,-0.44481066657090934,1.0312849971810147,0.4182887878043122,0.18075131754173723,-2.0632733329402897,-0.8721967137920469,-0.9573519080715821,-0.8861931972275268,-1.7326911974350716,-0.9429172488362749,-1.141069187838,-0.18520134114365153,-0.5886045112319811,-0.4412941810900815,0.8285074424484511,0.13457702058627252,0.47559709859240257,0.24770049355141352,0.9973592817712069,0.531818650682605,0.25726486227163997,1.328493993017877,-0.11100689228117118,-0.22650857209597733,-0.7144840251026895,-1.0416718983455615,1.0736890893435829,-0.4950066633518595,-0.4348511389029561,2.8329467756340896,-0.4304483343702159,1.168993274249435,-0.6489183721758839,1.919777073493157,-0.7889677310786267,0.18372995625021743,-0.8774390102542554,-1.3138910309500251,0.32224629900799545,0.6853772906954757,-0.4782068224275819,-1.564547761029822,-1.456102616980963,-0.21772121032784514,-0.45293861005754127,1.3668566239085884,0.8204827551253541,-0.8789693591255126,0.2218945456519545,0.194766032165579,-0.32635090654867477,-1.3788456354471674,0.47301453080933087,-2.1463860553599283,0.588115532577788,-0.12100941076370306,1.1149475486037261,0.4065778223793015,-1.2420822666880773,0.6070864401924375,-2.151910704876458,0.3346452250376028,1.2624867269449833,-2.5315629613213484,-0.8227144688835754,-0.1236309975200574,-0.49219807187445436,-1.2097029964449502,-1.3727932974505603,0.44527990572978465,0.5434203966297816,0.3391141018642361,1.753647349388627,-0.5326619816135323,-0.12867178804487858,0.4902779339654576,0.35554607301596713,0.9779360084073613,-0.5302310144497281,-0.7591554389356049,-0.7203209807891244,-0.019652813053141524,0.6442268447826572,-1.6223502424253848,-0.03034172033845018,-0.28111681045492665]}],                        {\"legend\":{\"bgcolor\":\"#F5F6F9\",\"font\":{\"color\":\"#4D5663\"}},\"paper_bgcolor\":\"#F5F6F9\",\"plot_bgcolor\":\"#F5F6F9\",\"template\":{\"data\":{\"bar\":[{\"error_x\":{\"color\":\"#2a3f5f\"},\"error_y\":{\"color\":\"#2a3f5f\"},\"marker\":{\"line\":{\"color\":\"#E5ECF6\",\"width\":0.5},\"pattern\":{\"fillmode\":\"overlay\",\"size\":10,\"solidity\":0.2}},\"type\":\"bar\"}],\"barpolar\":[{\"marker\":{\"line\":{\"color\":\"#E5ECF6\",\"width\":0.5},\"pattern\":{\"fillmode\":\"overlay\",\"size\":10,\"solidity\":0.2}},\"type\":\"barpolar\"}],\"carpet\":[{\"aaxis\":{\"endlinecolor\":\"#2a3f5f\",\"gridcolor\":\"white\",\"linecolor\":\"white\",\"minorgridcolor\":\"white\",\"startlinecolor\":\"#2a3f5f\"},\"baxis\":{\"endlinecolor\":\"#2a3f5f\",\"gridcolor\":\"white\",\"linecolor\":\"white\",\"minorgridcolor\":\"white\",\"startlinecolor\":\"#2a3f5f\"},\"type\":\"carpet\"}],\"choropleth\":[{\"colorbar\":{\"outlinewidth\":0,\"ticks\":\"\"},\"type\":\"choropleth\"}],\"contour\":[{\"colorbar\":{\"outlinewidth\":0,\"ticks\":\"\"},\"colorscale\":[[0.0,\"#0d0887\"],[0.1111111111111111,\"#46039f\"],[0.2222222222222222,\"#7201a8\"],[0.3333333333333333,\"#9c179e\"],[0.4444444444444444,\"#bd3786\"],[0.5555555555555556,\"#d8576b\"],[0.6666666666666666,\"#ed7953\"],[0.7777777777777778,\"#fb9f3a\"],[0.8888888888888888,\"#fdca26\"],[1.0,\"#f0f921\"]],\"type\":\"contour\"}],\"contourcarpet\":[{\"colorbar\":{\"outlinewidth\":0,\"ticks\":\"\"},\"type\":\"contourcarpet\"}],\"heatmap\":[{\"colorbar\":{\"outlinewidth\":0,\"ticks\":\"\"},\"colorscale\":[[0.0,\"#0d0887\"],[0.1111111111111111,\"#46039f\"],[0.2222222222222222,\"#7201a8\"],[0.3333333333333333,\"#9c179e\"],[0.4444444444444444,\"#bd3786\"],[0.5555555555555556,\"#d8576b\"],[0.6666666666666666,\"#ed7953\"],[0.7777777777777778,\"#fb9f3a\"],[0.8888888888888888,\"#fdca26\"],[1.0,\"#f0f921\"]],\"type\":\"heatmap\"}],\"heatmapgl\":[{\"colorbar\":{\"outlinewidth\":0,\"ticks\":\"\"},\"colorscale\":[[0.0,\"#0d0887\"],[0.1111111111111111,\"#46039f\"],[0.2222222222222222,\"#7201a8\"],[0.3333333333333333,\"#9c179e\"],[0.4444444444444444,\"#bd3786\"],[0.5555555555555556,\"#d8576b\"],[0.6666666666666666,\"#ed7953\"],[0.7777777777777778,\"#fb9f3a\"],[0.8888888888888888,\"#fdca26\"],[1.0,\"#f0f921\"]],\"type\":\"heatmapgl\"}],\"histogram\":[{\"marker\":{\"pattern\":{\"fillmode\":\"overlay\",\"size\":10,\"solidity\":0.2}},\"type\":\"histogram\"}],\"histogram2d\":[{\"colorbar\":{\"outlinewidth\":0,\"ticks\":\"\"},\"colorscale\":[[0.0,\"#0d0887\"],[0.1111111111111111,\"#46039f\"],[0.2222222222222222,\"#7201a8\"],[0.3333333333333333,\"#9c179e\"],[0.4444444444444444,\"#bd3786\"],[0.5555555555555556,\"#d8576b\"],[0.6666666666666666,\"#ed7953\"],[0.7777777777777778,\"#fb9f3a\"],[0.8888888888888888,\"#fdca26\"],[1.0,\"#f0f921\"]],\"type\":\"histogram2d\"}],\"histogram2dcontour\":[{\"colorbar\":{\"outlinewidth\":0,\"ticks\":\"\"},\"colorscale\":[[0.0,\"#0d0887\"],[0.1111111111111111,\"#46039f\"],[0.2222222222222222,\"#7201a8\"],[0.3333333333333333,\"#9c179e\"],[0.4444444444444444,\"#bd3786\"],[0.5555555555555556,\"#d8576b\"],[0.6666666666666666,\"#ed7953\"],[0.7777777777777778,\"#fb9f3a\"],[0.8888888888888888,\"#fdca26\"],[1.0,\"#f0f921\"]],\"type\":\"histogram2dcontour\"}],\"mesh3d\":[{\"colorbar\":{\"outlinewidth\":0,\"ticks\":\"\"},\"type\":\"mesh3d\"}],\"parcoords\":[{\"line\":{\"colorbar\":{\"outlinewidth\":0,\"ticks\":\"\"}},\"type\":\"parcoords\"}],\"pie\":[{\"automargin\":true,\"type\":\"pie\"}],\"scatter\":[{\"marker\":{\"colorbar\":{\"outlinewidth\":0,\"ticks\":\"\"}},\"type\":\"scatter\"}],\"scatter3d\":[{\"line\":{\"colorbar\":{\"outlinewidth\":0,\"ticks\":\"\"}},\"marker\":{\"colorbar\":{\"outlinewidth\":0,\"ticks\":\"\"}},\"type\":\"scatter3d\"}],\"scattercarpet\":[{\"marker\":{\"colorbar\":{\"outlinewidth\":0,\"ticks\":\"\"}},\"type\":\"scattercarpet\"}],\"scattergeo\":[{\"marker\":{\"colorbar\":{\"outlinewidth\":0,\"ticks\":\"\"}},\"type\":\"scattergeo\"}],\"scattergl\":[{\"marker\":{\"colorbar\":{\"outlinewidth\":0,\"ticks\":\"\"}},\"type\":\"scattergl\"}],\"scattermapbox\":[{\"marker\":{\"colorbar\":{\"outlinewidth\":0,\"ticks\":\"\"}},\"type\":\"scattermapbox\"}],\"scatterpolar\":[{\"marker\":{\"colorbar\":{\"outlinewidth\":0,\"ticks\":\"\"}},\"type\":\"scatterpolar\"}],\"scatterpolargl\":[{\"marker\":{\"colorbar\":{\"outlinewidth\":0,\"ticks\":\"\"}},\"type\":\"scatterpolargl\"}],\"scatterternary\":[{\"marker\":{\"colorbar\":{\"outlinewidth\":0,\"ticks\":\"\"}},\"type\":\"scatterternary\"}],\"surface\":[{\"colorbar\":{\"outlinewidth\":0,\"ticks\":\"\"},\"colorscale\":[[0.0,\"#0d0887\"],[0.1111111111111111,\"#46039f\"],[0.2222222222222222,\"#7201a8\"],[0.3333333333333333,\"#9c179e\"],[0.4444444444444444,\"#bd3786\"],[0.5555555555555556,\"#d8576b\"],[0.6666666666666666,\"#ed7953\"],[0.7777777777777778,\"#fb9f3a\"],[0.8888888888888888,\"#fdca26\"],[1.0,\"#f0f921\"]],\"type\":\"surface\"}],\"table\":[{\"cells\":{\"fill\":{\"color\":\"#EBF0F8\"},\"line\":{\"color\":\"white\"}},\"header\":{\"fill\":{\"color\":\"#C8D4E3\"},\"line\":{\"color\":\"white\"}},\"type\":\"table\"}]},\"layout\":{\"annotationdefaults\":{\"arrowcolor\":\"#2a3f5f\",\"arrowhead\":0,\"arrowwidth\":1},\"autotypenumbers\":\"strict\",\"coloraxis\":{\"colorbar\":{\"outlinewidth\":0,\"ticks\":\"\"}},\"colorscale\":{\"diverging\":[[0,\"#8e0152\"],[0.1,\"#c51b7d\"],[0.2,\"#de77ae\"],[0.3,\"#f1b6da\"],[0.4,\"#fde0ef\"],[0.5,\"#f7f7f7\"],[0.6,\"#e6f5d0\"],[0.7,\"#b8e186\"],[0.8,\"#7fbc41\"],[0.9,\"#4d9221\"],[1,\"#276419\"]],\"sequential\":[[0.0,\"#0d0887\"],[0.1111111111111111,\"#46039f\"],[0.2222222222222222,\"#7201a8\"],[0.3333333333333333,\"#9c179e\"],[0.4444444444444444,\"#bd3786\"],[0.5555555555555556,\"#d8576b\"],[0.6666666666666666,\"#ed7953\"],[0.7777777777777778,\"#fb9f3a\"],[0.8888888888888888,\"#fdca26\"],[1.0,\"#f0f921\"]],\"sequentialminus\":[[0.0,\"#0d0887\"],[0.1111111111111111,\"#46039f\"],[0.2222222222222222,\"#7201a8\"],[0.3333333333333333,\"#9c179e\"],[0.4444444444444444,\"#bd3786\"],[0.5555555555555556,\"#d8576b\"],[0.6666666666666666,\"#ed7953\"],[0.7777777777777778,\"#fb9f3a\"],[0.8888888888888888,\"#fdca26\"],[1.0,\"#f0f921\"]]},\"colorway\":[\"#636efa\",\"#EF553B\",\"#00cc96\",\"#ab63fa\",\"#FFA15A\",\"#19d3f3\",\"#FF6692\",\"#B6E880\",\"#FF97FF\",\"#FECB52\"],\"font\":{\"color\":\"#2a3f5f\"},\"geo\":{\"bgcolor\":\"white\",\"lakecolor\":\"white\",\"landcolor\":\"#E5ECF6\",\"showlakes\":true,\"showland\":true,\"subunitcolor\":\"white\"},\"hoverlabel\":{\"align\":\"left\"},\"hovermode\":\"closest\",\"mapbox\":{\"style\":\"light\"},\"paper_bgcolor\":\"white\",\"plot_bgcolor\":\"#E5ECF6\",\"polar\":{\"angularaxis\":{\"gridcolor\":\"white\",\"linecolor\":\"white\",\"ticks\":\"\"},\"bgcolor\":\"#E5ECF6\",\"radialaxis\":{\"gridcolor\":\"white\",\"linecolor\":\"white\",\"ticks\":\"\"}},\"scene\":{\"xaxis\":{\"backgroundcolor\":\"#E5ECF6\",\"gridcolor\":\"white\",\"gridwidth\":2,\"linecolor\":\"white\",\"showbackground\":true,\"ticks\":\"\",\"zerolinecolor\":\"white\"},\"yaxis\":{\"backgroundcolor\":\"#E5ECF6\",\"gridcolor\":\"white\",\"gridwidth\":2,\"linecolor\":\"white\",\"showbackground\":true,\"ticks\":\"\",\"zerolinecolor\":\"white\"},\"zaxis\":{\"backgroundcolor\":\"#E5ECF6\",\"gridcolor\":\"white\",\"gridwidth\":2,\"linecolor\":\"white\",\"showbackground\":true,\"ticks\":\"\",\"zerolinecolor\":\"white\"}},\"shapedefaults\":{\"line\":{\"color\":\"#2a3f5f\"}},\"ternary\":{\"aaxis\":{\"gridcolor\":\"white\",\"linecolor\":\"white\",\"ticks\":\"\"},\"baxis\":{\"gridcolor\":\"white\",\"linecolor\":\"white\",\"ticks\":\"\"},\"bgcolor\":\"#E5ECF6\",\"caxis\":{\"gridcolor\":\"white\",\"linecolor\":\"white\",\"ticks\":\"\"}},\"title\":{\"x\":0.05},\"xaxis\":{\"automargin\":true,\"gridcolor\":\"white\",\"linecolor\":\"white\",\"ticks\":\"\",\"title\":{\"standoff\":15},\"zerolinecolor\":\"white\",\"zerolinewidth\":2},\"yaxis\":{\"automargin\":true,\"gridcolor\":\"white\",\"linecolor\":\"white\",\"ticks\":\"\",\"title\":{\"standoff\":15},\"zerolinecolor\":\"white\",\"zerolinewidth\":2}}},\"title\":{\"font\":{\"color\":\"#4D5663\"}},\"xaxis\":{\"gridcolor\":\"#E1E5ED\",\"showgrid\":true,\"tickfont\":{\"color\":\"#4D5663\"},\"title\":{\"font\":{\"color\":\"#4D5663\"},\"text\":\"\"},\"zerolinecolor\":\"#E1E5ED\"},\"yaxis\":{\"gridcolor\":\"#E1E5ED\",\"showgrid\":true,\"tickfont\":{\"color\":\"#4D5663\"},\"title\":{\"font\":{\"color\":\"#4D5663\"},\"text\":\"\"},\"zerolinecolor\":\"#E1E5ED\"}},                        {\"showLink\": true, \"linkText\": \"Export to plot.ly\", \"plotlyServerURL\": \"https://plot.ly\", \"responsive\": true}                    ).then(function(){\n",
       "                            \n",
       "var gd = document.getElementById('7bee2274-41b9-4684-9e14-02ed7ec29027');\n",
       "var x = new MutationObserver(function (mutations, observer) {{\n",
       "        var display = window.getComputedStyle(gd).display;\n",
       "        if (!display || display === 'none') {{\n",
       "            console.log([gd, 'removed!']);\n",
       "            Plotly.purge(gd);\n",
       "            observer.disconnect();\n",
       "        }}\n",
       "}});\n",
       "\n",
       "// Listen for the removal of the full notebook cells\n",
       "var notebookContainer = gd.closest('#notebook-container');\n",
       "if (notebookContainer) {{\n",
       "    x.observe(notebookContainer, {childList: true});\n",
       "}}\n",
       "\n",
       "// Listen for the clearing of the current output cell\n",
       "var outputEl = gd.closest('.output');\n",
       "if (outputEl) {{\n",
       "    x.observe(outputEl, {childList: true});\n",
       "}}\n",
       "\n",
       "                        })                };                });            </script>        </div>"
      ]
     },
     "metadata": {}
    }
   ],
   "metadata": {}
  },
  {
   "cell_type": "markdown",
   "source": [
    "## scatter_matrix()"
   ],
   "metadata": {}
  },
  {
   "cell_type": "code",
   "execution_count": 38,
   "source": [
    "df.scatter_matrix()\n"
   ],
   "outputs": [
    {
     "output_type": "display_data",
     "data": {
      "application/vnd.plotly.v1+json": {
       "config": {
        "linkText": "Export to plot.ly",
        "plotlyServerURL": "https://plot.ly",
        "showLink": true
       },
       "data": [
        {
         "histfunc": "count",
         "histnorm": "",
         "marker": {
          "color": "rgba(255, 153, 51, 1.0)",
          "line": {
           "color": "#4D5663",
           "width": 1.3
          }
         },
         "name": "A",
         "nbinsx": 10,
         "opacity": 0.8,
         "orientation": "v",
         "type": "histogram",
         "x": [
          -1.8554435537542446,
          -0.3341474199101263,
          0.6857288575880798,
          0.12905925770490762,
          -0.13012084534391954,
          0.31598165716367344,
          -0.6814310339065305,
          -1.1857454279657653,
          0.16250831411290528,
          -0.23503431588320337,
          -0.6957583990035138,
          1.2656447012812229,
          0.7895454890395617,
          2.0102173729408683,
          0.45824801008669885,
          -0.5925775507399346,
          -0.41533289809186974,
          -0.4731233300668129,
          0.6843718826788863,
          0.5391706433363241,
          -1.1002556394218257,
          1.2609445362966492,
          -1.7026894192926318,
          0.8280922879606232,
          -0.47841132251611046,
          1.354448480034928,
          0.018522114685147483,
          -1.3413367864778607,
          -0.8895958524461421,
          -0.020608380047677472,
          -1.7240966400672362,
          0.28458344629001064,
          0.21661681618247094,
          1.2179864561575975,
          0.8482671466620583,
          -0.4077952273242937,
          -0.8049643523268022,
          -0.9176116556344076,
          -0.9356801704572217,
          -0.9699739380556349,
          0.650589802528572,
          2.547846456025026,
          -0.7096211873633143,
          -0.9174229907763136,
          1.1386671385820821,
          -1.369325539411084,
          -0.9842603474076804,
          0.5945869819604048,
          -0.23886050975260292,
          -0.46923690573927296,
          -1.142607594480248,
          -0.3611762312877647,
          -0.39933525169718176,
          2.2769382620127003,
          -0.8380458528707962,
          -0.6124392004285225,
          0.6961616835141131,
          -1.2277256681748399,
          -0.6165936577607377,
          1.4531742490758173,
          0.8324616086776321,
          0.08734935814075497,
          -0.27779001599273256,
          -0.386556029563755,
          0.5076935684905723,
          0.023459583819070404,
          0.7011956785778897,
          -2.064037457273387,
          0.5982278808302534,
          -0.24015821493527018,
          -0.20554533443737275,
          -0.28217079271367657,
          -1.7845227166301205,
          -0.5601415555592549,
          0.8084747503072853,
          0.37966132136188563,
          -0.6195525229757263,
          0.3758208757878301,
          1.4200248431796674,
          2.0659398607101047,
          0.9587108211966137,
          2.061807877022249,
          0.18050161272834003,
          -0.6540684677740707,
          -0.8644330224870201,
          -1.261133780633743,
          -1.1276839315268843,
          -0.8470709717782499,
          -0.8077457919626311,
          0.0022270729652858353,
          1.266205085899191,
          0.9466066247483059,
          0.0931235624221537,
          -0.6925655411798486,
          0.23552797185724408,
          -0.7126173671952934,
          -0.4802895517750804,
          -1.0320031452653156,
          -0.6525272343747045,
          0.6660110832512804
         ],
         "xaxis": "x",
         "yaxis": "y"
        },
        {
         "line": {
          "color": "rgba(128, 128, 128, 1.0)",
          "dash": "solid",
          "shape": "linear",
          "width": 1.3
         },
         "marker": {
          "size": 2,
          "symbol": "circle"
         },
         "mode": "markers",
         "name": "A",
         "text": "",
         "type": "scatter",
         "x": [
          1.0586797192233903,
          -1.2488855889850787,
          1.0700151137375091,
          0.2686994557666863,
          1.3465290941441121,
          0.3186439119999515,
          -0.26028613353663094,
          1.9624262321531245,
          0.794702271935496,
          1.4578086509674228,
          0.8172558401456013,
          0.2187013708779096,
          -0.74633696389924,
          -0.6733073789184151,
          -0.44481066657090934,
          1.0312849971810147,
          0.4182887878043122,
          0.18075131754173723,
          -2.0632733329402897,
          -0.8721967137920469,
          -0.9573519080715821,
          -0.8861931972275268,
          -1.7326911974350716,
          -0.9429172488362749,
          -1.141069187838,
          -0.18520134114365153,
          -0.5886045112319811,
          -0.4412941810900815,
          0.8285074424484511,
          0.13457702058627252,
          0.47559709859240257,
          0.24770049355141352,
          0.9973592817712069,
          0.531818650682605,
          0.25726486227163997,
          1.328493993017877,
          -0.11100689228117118,
          -0.22650857209597733,
          -0.7144840251026895,
          -1.0416718983455615,
          1.0736890893435829,
          -0.4950066633518595,
          -0.4348511389029561,
          2.8329467756340896,
          -0.4304483343702159,
          1.168993274249435,
          -0.6489183721758839,
          1.919777073493157,
          -0.7889677310786267,
          0.18372995625021743,
          -0.8774390102542554,
          -1.3138910309500251,
          0.32224629900799545,
          0.6853772906954757,
          -0.4782068224275819,
          -1.564547761029822,
          -1.456102616980963,
          -0.21772121032784514,
          -0.45293861005754127,
          1.3668566239085884,
          0.8204827551253541,
          -0.8789693591255126,
          0.2218945456519545,
          0.194766032165579,
          -0.32635090654867477,
          -1.3788456354471674,
          0.47301453080933087,
          -2.1463860553599283,
          0.588115532577788,
          -0.12100941076370306,
          1.1149475486037261,
          0.4065778223793015,
          -1.2420822666880773,
          0.6070864401924375,
          -2.151910704876458,
          0.3346452250376028,
          1.2624867269449833,
          -2.5315629613213484,
          -0.8227144688835754,
          -0.1236309975200574,
          -0.49219807187445436,
          -1.2097029964449502,
          -1.3727932974505603,
          0.44527990572978465,
          0.5434203966297816,
          0.3391141018642361,
          1.753647349388627,
          -0.5326619816135323,
          -0.12867178804487858,
          0.4902779339654576,
          0.35554607301596713,
          0.9779360084073613,
          -0.5302310144497281,
          -0.7591554389356049,
          -0.7203209807891244,
          -0.019652813053141524,
          0.6442268447826572,
          -1.6223502424253848,
          -0.03034172033845018,
          -0.28111681045492665
         ],
         "xaxis": "x2",
         "y": [
          -1.8554435537542446,
          -0.3341474199101263,
          0.6857288575880798,
          0.12905925770490762,
          -0.13012084534391954,
          0.31598165716367344,
          -0.6814310339065305,
          -1.1857454279657653,
          0.16250831411290528,
          -0.23503431588320337,
          -0.6957583990035138,
          1.2656447012812229,
          0.7895454890395617,
          2.0102173729408683,
          0.45824801008669885,
          -0.5925775507399346,
          -0.41533289809186974,
          -0.4731233300668129,
          0.6843718826788863,
          0.5391706433363241,
          -1.1002556394218257,
          1.2609445362966492,
          -1.7026894192926318,
          0.8280922879606232,
          -0.47841132251611046,
          1.354448480034928,
          0.018522114685147483,
          -1.3413367864778607,
          -0.8895958524461421,
          -0.020608380047677472,
          -1.7240966400672362,
          0.28458344629001064,
          0.21661681618247094,
          1.2179864561575975,
          0.8482671466620583,
          -0.4077952273242937,
          -0.8049643523268022,
          -0.9176116556344076,
          -0.9356801704572217,
          -0.9699739380556349,
          0.650589802528572,
          2.547846456025026,
          -0.7096211873633143,
          -0.9174229907763136,
          1.1386671385820821,
          -1.369325539411084,
          -0.9842603474076804,
          0.5945869819604048,
          -0.23886050975260292,
          -0.46923690573927296,
          -1.142607594480248,
          -0.3611762312877647,
          -0.39933525169718176,
          2.2769382620127003,
          -0.8380458528707962,
          -0.6124392004285225,
          0.6961616835141131,
          -1.2277256681748399,
          -0.6165936577607377,
          1.4531742490758173,
          0.8324616086776321,
          0.08734935814075497,
          -0.27779001599273256,
          -0.386556029563755,
          0.5076935684905723,
          0.023459583819070404,
          0.7011956785778897,
          -2.064037457273387,
          0.5982278808302534,
          -0.24015821493527018,
          -0.20554533443737275,
          -0.28217079271367657,
          -1.7845227166301205,
          -0.5601415555592549,
          0.8084747503072853,
          0.37966132136188563,
          -0.6195525229757263,
          0.3758208757878301,
          1.4200248431796674,
          2.0659398607101047,
          0.9587108211966137,
          2.061807877022249,
          0.18050161272834003,
          -0.6540684677740707,
          -0.8644330224870201,
          -1.261133780633743,
          -1.1276839315268843,
          -0.8470709717782499,
          -0.8077457919626311,
          0.0022270729652858353,
          1.266205085899191,
          0.9466066247483059,
          0.0931235624221537,
          -0.6925655411798486,
          0.23552797185724408,
          -0.7126173671952934,
          -0.4802895517750804,
          -1.0320031452653156,
          -0.6525272343747045,
          0.6660110832512804
         ],
         "yaxis": "y2"
        },
        {
         "line": {
          "color": "rgba(128, 128, 128, 1.0)",
          "dash": "solid",
          "shape": "linear",
          "width": 1.3
         },
         "marker": {
          "size": 2,
          "symbol": "circle"
         },
         "mode": "markers",
         "name": "A",
         "text": "",
         "type": "scatter",
         "x": [
          0.09917702010193938,
          -0.46868047378474087,
          0.5949258159527525,
          1.6478485545586035,
          0.3016248921654869,
          -0.8080545672660209,
          -2.1188095478004194,
          0.8594606141495871,
          0.8292713997862055,
          1.6708518995476391,
          0.6120160203798393,
          1.5105163218286823,
          0.5691135987249639,
          0.6566471882172462,
          0.3420156550263439,
          -0.4411683654275913,
          -0.5886111554302329,
          -0.8152751218926938,
          0.49222463660246707,
          -0.5787344819819856,
          0.9561174625326011,
          -0.2707188791419852,
          -0.9802168713123773,
          -0.8240596503995492,
          0.7306962433522558,
          -0.32022539754106777,
          -2.065587528649272,
          -0.5821224629582098,
          0.15838323425199727,
          0.4008578989668309,
          -0.18106622772390113,
          -0.8351912950136509,
          0.1605906289721576,
          1.7713399993433627,
          0.30021576059131483,
          -1.403086030515181,
          -0.9456893256670308,
          -0.1274608908419728,
          0.6687598195192176,
          -0.15279778369058775,
          -0.7032641280087182,
          0.6226349957776174,
          -1.5951450098353386,
          -0.4496120801166754,
          -1.1965836774969432,
          1.2269657530813707,
          -1.7517447424622514,
          0.9834862575215471,
          -0.664789843670582,
          0.9152075389812178,
          0.9414936511533228,
          -1.4453352420094756,
          -1.155291790632457,
          -1.0316997278674849,
          1.4125048571850645,
          0.5357529211449548,
          -0.045837813489790165,
          0.03524703430738961,
          -0.6368800449488092,
          0.2651462582503736,
          0.09590123572694538,
          -1.4972271631117675,
          -0.5199780684951362,
          -0.6794392215132271,
          -2.1882799431084554,
          0.7599944699495044,
          0.00888997446505838,
          -1.8118637679374485,
          0.14709105894657584,
          1.5635608902256173,
          0.6676910824154867,
          -1.1655002104708385,
          0.15816334667031878,
          1.245076980434046,
          -0.46496843467443283,
          0.5584954767846282,
          -1.2595251830606093,
          -2.109463298689511,
          -0.4884882503365179,
          0.36945478638890505,
          -0.2835026746618209,
          1.9612149864328858,
          -0.28221348203405405,
          1.2145113824373808,
          1.6022224227901656,
          1.120229211567683,
          -0.9748024396170659,
          -0.6855566993709195,
          0.7366107876685423,
          -1.9299127824094022,
          0.05242176138607656,
          1.1617503304511858,
          -0.09244602594364117,
          -0.22654313084700278,
          0.1727337173584885,
          -0.9415680809762029,
          0.41917688707654654,
          0.4338937059023062,
          0.8101871452055606,
          0.7584141241022428
         ],
         "xaxis": "x3",
         "y": [
          -1.8554435537542446,
          -0.3341474199101263,
          0.6857288575880798,
          0.12905925770490762,
          -0.13012084534391954,
          0.31598165716367344,
          -0.6814310339065305,
          -1.1857454279657653,
          0.16250831411290528,
          -0.23503431588320337,
          -0.6957583990035138,
          1.2656447012812229,
          0.7895454890395617,
          2.0102173729408683,
          0.45824801008669885,
          -0.5925775507399346,
          -0.41533289809186974,
          -0.4731233300668129,
          0.6843718826788863,
          0.5391706433363241,
          -1.1002556394218257,
          1.2609445362966492,
          -1.7026894192926318,
          0.8280922879606232,
          -0.47841132251611046,
          1.354448480034928,
          0.018522114685147483,
          -1.3413367864778607,
          -0.8895958524461421,
          -0.020608380047677472,
          -1.7240966400672362,
          0.28458344629001064,
          0.21661681618247094,
          1.2179864561575975,
          0.8482671466620583,
          -0.4077952273242937,
          -0.8049643523268022,
          -0.9176116556344076,
          -0.9356801704572217,
          -0.9699739380556349,
          0.650589802528572,
          2.547846456025026,
          -0.7096211873633143,
          -0.9174229907763136,
          1.1386671385820821,
          -1.369325539411084,
          -0.9842603474076804,
          0.5945869819604048,
          -0.23886050975260292,
          -0.46923690573927296,
          -1.142607594480248,
          -0.3611762312877647,
          -0.39933525169718176,
          2.2769382620127003,
          -0.8380458528707962,
          -0.6124392004285225,
          0.6961616835141131,
          -1.2277256681748399,
          -0.6165936577607377,
          1.4531742490758173,
          0.8324616086776321,
          0.08734935814075497,
          -0.27779001599273256,
          -0.386556029563755,
          0.5076935684905723,
          0.023459583819070404,
          0.7011956785778897,
          -2.064037457273387,
          0.5982278808302534,
          -0.24015821493527018,
          -0.20554533443737275,
          -0.28217079271367657,
          -1.7845227166301205,
          -0.5601415555592549,
          0.8084747503072853,
          0.37966132136188563,
          -0.6195525229757263,
          0.3758208757878301,
          1.4200248431796674,
          2.0659398607101047,
          0.9587108211966137,
          2.061807877022249,
          0.18050161272834003,
          -0.6540684677740707,
          -0.8644330224870201,
          -1.261133780633743,
          -1.1276839315268843,
          -0.8470709717782499,
          -0.8077457919626311,
          0.0022270729652858353,
          1.266205085899191,
          0.9466066247483059,
          0.0931235624221537,
          -0.6925655411798486,
          0.23552797185724408,
          -0.7126173671952934,
          -0.4802895517750804,
          -1.0320031452653156,
          -0.6525272343747045,
          0.6660110832512804
         ],
         "yaxis": "y3"
        },
        {
         "line": {
          "color": "rgba(128, 128, 128, 1.0)",
          "dash": "solid",
          "shape": "linear",
          "width": 1.3
         },
         "marker": {
          "size": 2,
          "symbol": "circle"
         },
         "mode": "markers",
         "name": "A",
         "text": "",
         "type": "scatter",
         "x": [
          -0.7085764894821942,
          -0.12915596758117723,
          1.3172587618783858,
          -1.434581059426418,
          -0.5343845626238716,
          0.2963979887680206,
          -2.3099078313240735,
          0.9468857900174137,
          -1.80818273972675,
          2.0225585686938827,
          0.44527819315356876,
          -0.039819258406981826,
          -0.7335374950541147,
          -0.7010732066261021,
          -0.6914191854133498,
          0.21037132856512575,
          0.7620439811861314,
          0.7969968342643269,
          0.030268152765737032,
          0.7434993182659309,
          -0.41594825213294334,
          -0.7626181029290856,
          -0.13327570589827753,
          -1.5537410595079655,
          0.7524074375738093,
          -0.8536074246875737,
          -0.4313570789876109,
          -1.8134330879451837,
          -1.5141183234637954,
          0.11473398957600751,
          0.400572368646464,
          -1.3184649942211804,
          0.00789963373835907,
          0.835337081456911,
          0.4979578374503871,
          -0.18896623637387774,
          0.16668450259382533,
          0.6547664981254644,
          0.3213322939511967,
          -0.6429313558805019,
          -1.0906747283947604,
          1.2374908623069434,
          0.7061125642011822,
          -0.33538235234826197,
          0.9630669422011241,
          0.3800838916165655,
          0.8731901071528915,
          -0.36209218992689013,
          -0.16770296458616146,
          0.4284768480639033,
          -0.4960932025170286,
          0.8390499321671847,
          0.5602216160464017,
          -1.3310451997228332,
          0.31779034947570123,
          1.0051198755817332,
          0.3206099059933247,
          -0.759959837701889,
          0.38904095125384286,
          0.9604032308369037,
          0.8912906278613976,
          0.17020413245218363,
          -0.11859066127221107,
          2.1759486814385967,
          -0.9157247903908146,
          0.7573043903288208,
          0.8525082219100658,
          1.3775684363359804,
          -0.5209718415557739,
          -2.271597731691821,
          -0.08398480077020003,
          -0.33718677545218095,
          -0.27604931305172253,
          -0.7962034207852795,
          -0.49027841665655486,
          -1.0982775229569983,
          -0.042387243843414746,
          0.5163102500542561,
          1.7785466583410598,
          -1.3416949295418166,
          -1.6311082373778638,
          1.492610190134358,
          0.972863037543592,
          -0.6384898322851272,
          -0.7730175292304294,
          -0.6079456151824305,
          1.9926044487338437,
          -0.874650338449589,
          0.9522178493738911,
          -0.5919446595493946,
          0.7568928517585953,
          -0.49669195137704325,
          0.8175348807418468,
          -0.4609442296110568,
          -2.152141830296282,
          -1.7698027759212958,
          0.5207224965560626,
          0.676301420293525,
          0.8236286175459849,
          -0.050725899405311005
         ],
         "xaxis": "x4",
         "y": [
          -1.8554435537542446,
          -0.3341474199101263,
          0.6857288575880798,
          0.12905925770490762,
          -0.13012084534391954,
          0.31598165716367344,
          -0.6814310339065305,
          -1.1857454279657653,
          0.16250831411290528,
          -0.23503431588320337,
          -0.6957583990035138,
          1.2656447012812229,
          0.7895454890395617,
          2.0102173729408683,
          0.45824801008669885,
          -0.5925775507399346,
          -0.41533289809186974,
          -0.4731233300668129,
          0.6843718826788863,
          0.5391706433363241,
          -1.1002556394218257,
          1.2609445362966492,
          -1.7026894192926318,
          0.8280922879606232,
          -0.47841132251611046,
          1.354448480034928,
          0.018522114685147483,
          -1.3413367864778607,
          -0.8895958524461421,
          -0.020608380047677472,
          -1.7240966400672362,
          0.28458344629001064,
          0.21661681618247094,
          1.2179864561575975,
          0.8482671466620583,
          -0.4077952273242937,
          -0.8049643523268022,
          -0.9176116556344076,
          -0.9356801704572217,
          -0.9699739380556349,
          0.650589802528572,
          2.547846456025026,
          -0.7096211873633143,
          -0.9174229907763136,
          1.1386671385820821,
          -1.369325539411084,
          -0.9842603474076804,
          0.5945869819604048,
          -0.23886050975260292,
          -0.46923690573927296,
          -1.142607594480248,
          -0.3611762312877647,
          -0.39933525169718176,
          2.2769382620127003,
          -0.8380458528707962,
          -0.6124392004285225,
          0.6961616835141131,
          -1.2277256681748399,
          -0.6165936577607377,
          1.4531742490758173,
          0.8324616086776321,
          0.08734935814075497,
          -0.27779001599273256,
          -0.386556029563755,
          0.5076935684905723,
          0.023459583819070404,
          0.7011956785778897,
          -2.064037457273387,
          0.5982278808302534,
          -0.24015821493527018,
          -0.20554533443737275,
          -0.28217079271367657,
          -1.7845227166301205,
          -0.5601415555592549,
          0.8084747503072853,
          0.37966132136188563,
          -0.6195525229757263,
          0.3758208757878301,
          1.4200248431796674,
          2.0659398607101047,
          0.9587108211966137,
          2.061807877022249,
          0.18050161272834003,
          -0.6540684677740707,
          -0.8644330224870201,
          -1.261133780633743,
          -1.1276839315268843,
          -0.8470709717782499,
          -0.8077457919626311,
          0.0022270729652858353,
          1.266205085899191,
          0.9466066247483059,
          0.0931235624221537,
          -0.6925655411798486,
          0.23552797185724408,
          -0.7126173671952934,
          -0.4802895517750804,
          -1.0320031452653156,
          -0.6525272343747045,
          0.6660110832512804
         ],
         "yaxis": "y4"
        },
        {
         "line": {
          "color": "rgba(128, 128, 128, 1.0)",
          "dash": "solid",
          "shape": "linear",
          "width": 1.3
         },
         "marker": {
          "size": 2,
          "symbol": "circle"
         },
         "mode": "markers",
         "name": "B",
         "text": "",
         "type": "scatter",
         "x": [
          -1.8554435537542446,
          -0.3341474199101263,
          0.6857288575880798,
          0.12905925770490762,
          -0.13012084534391954,
          0.31598165716367344,
          -0.6814310339065305,
          -1.1857454279657653,
          0.16250831411290528,
          -0.23503431588320337,
          -0.6957583990035138,
          1.2656447012812229,
          0.7895454890395617,
          2.0102173729408683,
          0.45824801008669885,
          -0.5925775507399346,
          -0.41533289809186974,
          -0.4731233300668129,
          0.6843718826788863,
          0.5391706433363241,
          -1.1002556394218257,
          1.2609445362966492,
          -1.7026894192926318,
          0.8280922879606232,
          -0.47841132251611046,
          1.354448480034928,
          0.018522114685147483,
          -1.3413367864778607,
          -0.8895958524461421,
          -0.020608380047677472,
          -1.7240966400672362,
          0.28458344629001064,
          0.21661681618247094,
          1.2179864561575975,
          0.8482671466620583,
          -0.4077952273242937,
          -0.8049643523268022,
          -0.9176116556344076,
          -0.9356801704572217,
          -0.9699739380556349,
          0.650589802528572,
          2.547846456025026,
          -0.7096211873633143,
          -0.9174229907763136,
          1.1386671385820821,
          -1.369325539411084,
          -0.9842603474076804,
          0.5945869819604048,
          -0.23886050975260292,
          -0.46923690573927296,
          -1.142607594480248,
          -0.3611762312877647,
          -0.39933525169718176,
          2.2769382620127003,
          -0.8380458528707962,
          -0.6124392004285225,
          0.6961616835141131,
          -1.2277256681748399,
          -0.6165936577607377,
          1.4531742490758173,
          0.8324616086776321,
          0.08734935814075497,
          -0.27779001599273256,
          -0.386556029563755,
          0.5076935684905723,
          0.023459583819070404,
          0.7011956785778897,
          -2.064037457273387,
          0.5982278808302534,
          -0.24015821493527018,
          -0.20554533443737275,
          -0.28217079271367657,
          -1.7845227166301205,
          -0.5601415555592549,
          0.8084747503072853,
          0.37966132136188563,
          -0.6195525229757263,
          0.3758208757878301,
          1.4200248431796674,
          2.0659398607101047,
          0.9587108211966137,
          2.061807877022249,
          0.18050161272834003,
          -0.6540684677740707,
          -0.8644330224870201,
          -1.261133780633743,
          -1.1276839315268843,
          -0.8470709717782499,
          -0.8077457919626311,
          0.0022270729652858353,
          1.266205085899191,
          0.9466066247483059,
          0.0931235624221537,
          -0.6925655411798486,
          0.23552797185724408,
          -0.7126173671952934,
          -0.4802895517750804,
          -1.0320031452653156,
          -0.6525272343747045,
          0.6660110832512804
         ],
         "xaxis": "x5",
         "y": [
          1.0586797192233903,
          -1.2488855889850787,
          1.0700151137375091,
          0.2686994557666863,
          1.3465290941441121,
          0.3186439119999515,
          -0.26028613353663094,
          1.9624262321531245,
          0.794702271935496,
          1.4578086509674228,
          0.8172558401456013,
          0.2187013708779096,
          -0.74633696389924,
          -0.6733073789184151,
          -0.44481066657090934,
          1.0312849971810147,
          0.4182887878043122,
          0.18075131754173723,
          -2.0632733329402897,
          -0.8721967137920469,
          -0.9573519080715821,
          -0.8861931972275268,
          -1.7326911974350716,
          -0.9429172488362749,
          -1.141069187838,
          -0.18520134114365153,
          -0.5886045112319811,
          -0.4412941810900815,
          0.8285074424484511,
          0.13457702058627252,
          0.47559709859240257,
          0.24770049355141352,
          0.9973592817712069,
          0.531818650682605,
          0.25726486227163997,
          1.328493993017877,
          -0.11100689228117118,
          -0.22650857209597733,
          -0.7144840251026895,
          -1.0416718983455615,
          1.0736890893435829,
          -0.4950066633518595,
          -0.4348511389029561,
          2.8329467756340896,
          -0.4304483343702159,
          1.168993274249435,
          -0.6489183721758839,
          1.919777073493157,
          -0.7889677310786267,
          0.18372995625021743,
          -0.8774390102542554,
          -1.3138910309500251,
          0.32224629900799545,
          0.6853772906954757,
          -0.4782068224275819,
          -1.564547761029822,
          -1.456102616980963,
          -0.21772121032784514,
          -0.45293861005754127,
          1.3668566239085884,
          0.8204827551253541,
          -0.8789693591255126,
          0.2218945456519545,
          0.194766032165579,
          -0.32635090654867477,
          -1.3788456354471674,
          0.47301453080933087,
          -2.1463860553599283,
          0.588115532577788,
          -0.12100941076370306,
          1.1149475486037261,
          0.4065778223793015,
          -1.2420822666880773,
          0.6070864401924375,
          -2.151910704876458,
          0.3346452250376028,
          1.2624867269449833,
          -2.5315629613213484,
          -0.8227144688835754,
          -0.1236309975200574,
          -0.49219807187445436,
          -1.2097029964449502,
          -1.3727932974505603,
          0.44527990572978465,
          0.5434203966297816,
          0.3391141018642361,
          1.753647349388627,
          -0.5326619816135323,
          -0.12867178804487858,
          0.4902779339654576,
          0.35554607301596713,
          0.9779360084073613,
          -0.5302310144497281,
          -0.7591554389356049,
          -0.7203209807891244,
          -0.019652813053141524,
          0.6442268447826572,
          -1.6223502424253848,
          -0.03034172033845018,
          -0.28111681045492665
         ],
         "yaxis": "y5"
        },
        {
         "histfunc": "count",
         "histnorm": "",
         "marker": {
          "color": "rgba(55, 128, 191, 1.0)",
          "line": {
           "color": "#4D5663",
           "width": 1.3
          }
         },
         "name": "B",
         "nbinsx": 10,
         "opacity": 0.8,
         "orientation": "v",
         "type": "histogram",
         "x": [
          1.0586797192233903,
          -1.2488855889850787,
          1.0700151137375091,
          0.2686994557666863,
          1.3465290941441121,
          0.3186439119999515,
          -0.26028613353663094,
          1.9624262321531245,
          0.794702271935496,
          1.4578086509674228,
          0.8172558401456013,
          0.2187013708779096,
          -0.74633696389924,
          -0.6733073789184151,
          -0.44481066657090934,
          1.0312849971810147,
          0.4182887878043122,
          0.18075131754173723,
          -2.0632733329402897,
          -0.8721967137920469,
          -0.9573519080715821,
          -0.8861931972275268,
          -1.7326911974350716,
          -0.9429172488362749,
          -1.141069187838,
          -0.18520134114365153,
          -0.5886045112319811,
          -0.4412941810900815,
          0.8285074424484511,
          0.13457702058627252,
          0.47559709859240257,
          0.24770049355141352,
          0.9973592817712069,
          0.531818650682605,
          0.25726486227163997,
          1.328493993017877,
          -0.11100689228117118,
          -0.22650857209597733,
          -0.7144840251026895,
          -1.0416718983455615,
          1.0736890893435829,
          -0.4950066633518595,
          -0.4348511389029561,
          2.8329467756340896,
          -0.4304483343702159,
          1.168993274249435,
          -0.6489183721758839,
          1.919777073493157,
          -0.7889677310786267,
          0.18372995625021743,
          -0.8774390102542554,
          -1.3138910309500251,
          0.32224629900799545,
          0.6853772906954757,
          -0.4782068224275819,
          -1.564547761029822,
          -1.456102616980963,
          -0.21772121032784514,
          -0.45293861005754127,
          1.3668566239085884,
          0.8204827551253541,
          -0.8789693591255126,
          0.2218945456519545,
          0.194766032165579,
          -0.32635090654867477,
          -1.3788456354471674,
          0.47301453080933087,
          -2.1463860553599283,
          0.588115532577788,
          -0.12100941076370306,
          1.1149475486037261,
          0.4065778223793015,
          -1.2420822666880773,
          0.6070864401924375,
          -2.151910704876458,
          0.3346452250376028,
          1.2624867269449833,
          -2.5315629613213484,
          -0.8227144688835754,
          -0.1236309975200574,
          -0.49219807187445436,
          -1.2097029964449502,
          -1.3727932974505603,
          0.44527990572978465,
          0.5434203966297816,
          0.3391141018642361,
          1.753647349388627,
          -0.5326619816135323,
          -0.12867178804487858,
          0.4902779339654576,
          0.35554607301596713,
          0.9779360084073613,
          -0.5302310144497281,
          -0.7591554389356049,
          -0.7203209807891244,
          -0.019652813053141524,
          0.6442268447826572,
          -1.6223502424253848,
          -0.03034172033845018,
          -0.28111681045492665
         ],
         "xaxis": "x6",
         "yaxis": "y6"
        },
        {
         "line": {
          "color": "rgba(128, 128, 128, 1.0)",
          "dash": "solid",
          "shape": "linear",
          "width": 1.3
         },
         "marker": {
          "size": 2,
          "symbol": "circle"
         },
         "mode": "markers",
         "name": "B",
         "text": "",
         "type": "scatter",
         "x": [
          0.09917702010193938,
          -0.46868047378474087,
          0.5949258159527525,
          1.6478485545586035,
          0.3016248921654869,
          -0.8080545672660209,
          -2.1188095478004194,
          0.8594606141495871,
          0.8292713997862055,
          1.6708518995476391,
          0.6120160203798393,
          1.5105163218286823,
          0.5691135987249639,
          0.6566471882172462,
          0.3420156550263439,
          -0.4411683654275913,
          -0.5886111554302329,
          -0.8152751218926938,
          0.49222463660246707,
          -0.5787344819819856,
          0.9561174625326011,
          -0.2707188791419852,
          -0.9802168713123773,
          -0.8240596503995492,
          0.7306962433522558,
          -0.32022539754106777,
          -2.065587528649272,
          -0.5821224629582098,
          0.15838323425199727,
          0.4008578989668309,
          -0.18106622772390113,
          -0.8351912950136509,
          0.1605906289721576,
          1.7713399993433627,
          0.30021576059131483,
          -1.403086030515181,
          -0.9456893256670308,
          -0.1274608908419728,
          0.6687598195192176,
          -0.15279778369058775,
          -0.7032641280087182,
          0.6226349957776174,
          -1.5951450098353386,
          -0.4496120801166754,
          -1.1965836774969432,
          1.2269657530813707,
          -1.7517447424622514,
          0.9834862575215471,
          -0.664789843670582,
          0.9152075389812178,
          0.9414936511533228,
          -1.4453352420094756,
          -1.155291790632457,
          -1.0316997278674849,
          1.4125048571850645,
          0.5357529211449548,
          -0.045837813489790165,
          0.03524703430738961,
          -0.6368800449488092,
          0.2651462582503736,
          0.09590123572694538,
          -1.4972271631117675,
          -0.5199780684951362,
          -0.6794392215132271,
          -2.1882799431084554,
          0.7599944699495044,
          0.00888997446505838,
          -1.8118637679374485,
          0.14709105894657584,
          1.5635608902256173,
          0.6676910824154867,
          -1.1655002104708385,
          0.15816334667031878,
          1.245076980434046,
          -0.46496843467443283,
          0.5584954767846282,
          -1.2595251830606093,
          -2.109463298689511,
          -0.4884882503365179,
          0.36945478638890505,
          -0.2835026746618209,
          1.9612149864328858,
          -0.28221348203405405,
          1.2145113824373808,
          1.6022224227901656,
          1.120229211567683,
          -0.9748024396170659,
          -0.6855566993709195,
          0.7366107876685423,
          -1.9299127824094022,
          0.05242176138607656,
          1.1617503304511858,
          -0.09244602594364117,
          -0.22654313084700278,
          0.1727337173584885,
          -0.9415680809762029,
          0.41917688707654654,
          0.4338937059023062,
          0.8101871452055606,
          0.7584141241022428
         ],
         "xaxis": "x7",
         "y": [
          1.0586797192233903,
          -1.2488855889850787,
          1.0700151137375091,
          0.2686994557666863,
          1.3465290941441121,
          0.3186439119999515,
          -0.26028613353663094,
          1.9624262321531245,
          0.794702271935496,
          1.4578086509674228,
          0.8172558401456013,
          0.2187013708779096,
          -0.74633696389924,
          -0.6733073789184151,
          -0.44481066657090934,
          1.0312849971810147,
          0.4182887878043122,
          0.18075131754173723,
          -2.0632733329402897,
          -0.8721967137920469,
          -0.9573519080715821,
          -0.8861931972275268,
          -1.7326911974350716,
          -0.9429172488362749,
          -1.141069187838,
          -0.18520134114365153,
          -0.5886045112319811,
          -0.4412941810900815,
          0.8285074424484511,
          0.13457702058627252,
          0.47559709859240257,
          0.24770049355141352,
          0.9973592817712069,
          0.531818650682605,
          0.25726486227163997,
          1.328493993017877,
          -0.11100689228117118,
          -0.22650857209597733,
          -0.7144840251026895,
          -1.0416718983455615,
          1.0736890893435829,
          -0.4950066633518595,
          -0.4348511389029561,
          2.8329467756340896,
          -0.4304483343702159,
          1.168993274249435,
          -0.6489183721758839,
          1.919777073493157,
          -0.7889677310786267,
          0.18372995625021743,
          -0.8774390102542554,
          -1.3138910309500251,
          0.32224629900799545,
          0.6853772906954757,
          -0.4782068224275819,
          -1.564547761029822,
          -1.456102616980963,
          -0.21772121032784514,
          -0.45293861005754127,
          1.3668566239085884,
          0.8204827551253541,
          -0.8789693591255126,
          0.2218945456519545,
          0.194766032165579,
          -0.32635090654867477,
          -1.3788456354471674,
          0.47301453080933087,
          -2.1463860553599283,
          0.588115532577788,
          -0.12100941076370306,
          1.1149475486037261,
          0.4065778223793015,
          -1.2420822666880773,
          0.6070864401924375,
          -2.151910704876458,
          0.3346452250376028,
          1.2624867269449833,
          -2.5315629613213484,
          -0.8227144688835754,
          -0.1236309975200574,
          -0.49219807187445436,
          -1.2097029964449502,
          -1.3727932974505603,
          0.44527990572978465,
          0.5434203966297816,
          0.3391141018642361,
          1.753647349388627,
          -0.5326619816135323,
          -0.12867178804487858,
          0.4902779339654576,
          0.35554607301596713,
          0.9779360084073613,
          -0.5302310144497281,
          -0.7591554389356049,
          -0.7203209807891244,
          -0.019652813053141524,
          0.6442268447826572,
          -1.6223502424253848,
          -0.03034172033845018,
          -0.28111681045492665
         ],
         "yaxis": "y7"
        },
        {
         "line": {
          "color": "rgba(128, 128, 128, 1.0)",
          "dash": "solid",
          "shape": "linear",
          "width": 1.3
         },
         "marker": {
          "size": 2,
          "symbol": "circle"
         },
         "mode": "markers",
         "name": "B",
         "text": "",
         "type": "scatter",
         "x": [
          -0.7085764894821942,
          -0.12915596758117723,
          1.3172587618783858,
          -1.434581059426418,
          -0.5343845626238716,
          0.2963979887680206,
          -2.3099078313240735,
          0.9468857900174137,
          -1.80818273972675,
          2.0225585686938827,
          0.44527819315356876,
          -0.039819258406981826,
          -0.7335374950541147,
          -0.7010732066261021,
          -0.6914191854133498,
          0.21037132856512575,
          0.7620439811861314,
          0.7969968342643269,
          0.030268152765737032,
          0.7434993182659309,
          -0.41594825213294334,
          -0.7626181029290856,
          -0.13327570589827753,
          -1.5537410595079655,
          0.7524074375738093,
          -0.8536074246875737,
          -0.4313570789876109,
          -1.8134330879451837,
          -1.5141183234637954,
          0.11473398957600751,
          0.400572368646464,
          -1.3184649942211804,
          0.00789963373835907,
          0.835337081456911,
          0.4979578374503871,
          -0.18896623637387774,
          0.16668450259382533,
          0.6547664981254644,
          0.3213322939511967,
          -0.6429313558805019,
          -1.0906747283947604,
          1.2374908623069434,
          0.7061125642011822,
          -0.33538235234826197,
          0.9630669422011241,
          0.3800838916165655,
          0.8731901071528915,
          -0.36209218992689013,
          -0.16770296458616146,
          0.4284768480639033,
          -0.4960932025170286,
          0.8390499321671847,
          0.5602216160464017,
          -1.3310451997228332,
          0.31779034947570123,
          1.0051198755817332,
          0.3206099059933247,
          -0.759959837701889,
          0.38904095125384286,
          0.9604032308369037,
          0.8912906278613976,
          0.17020413245218363,
          -0.11859066127221107,
          2.1759486814385967,
          -0.9157247903908146,
          0.7573043903288208,
          0.8525082219100658,
          1.3775684363359804,
          -0.5209718415557739,
          -2.271597731691821,
          -0.08398480077020003,
          -0.33718677545218095,
          -0.27604931305172253,
          -0.7962034207852795,
          -0.49027841665655486,
          -1.0982775229569983,
          -0.042387243843414746,
          0.5163102500542561,
          1.7785466583410598,
          -1.3416949295418166,
          -1.6311082373778638,
          1.492610190134358,
          0.972863037543592,
          -0.6384898322851272,
          -0.7730175292304294,
          -0.6079456151824305,
          1.9926044487338437,
          -0.874650338449589,
          0.9522178493738911,
          -0.5919446595493946,
          0.7568928517585953,
          -0.49669195137704325,
          0.8175348807418468,
          -0.4609442296110568,
          -2.152141830296282,
          -1.7698027759212958,
          0.5207224965560626,
          0.676301420293525,
          0.8236286175459849,
          -0.050725899405311005
         ],
         "xaxis": "x8",
         "y": [
          1.0586797192233903,
          -1.2488855889850787,
          1.0700151137375091,
          0.2686994557666863,
          1.3465290941441121,
          0.3186439119999515,
          -0.26028613353663094,
          1.9624262321531245,
          0.794702271935496,
          1.4578086509674228,
          0.8172558401456013,
          0.2187013708779096,
          -0.74633696389924,
          -0.6733073789184151,
          -0.44481066657090934,
          1.0312849971810147,
          0.4182887878043122,
          0.18075131754173723,
          -2.0632733329402897,
          -0.8721967137920469,
          -0.9573519080715821,
          -0.8861931972275268,
          -1.7326911974350716,
          -0.9429172488362749,
          -1.141069187838,
          -0.18520134114365153,
          -0.5886045112319811,
          -0.4412941810900815,
          0.8285074424484511,
          0.13457702058627252,
          0.47559709859240257,
          0.24770049355141352,
          0.9973592817712069,
          0.531818650682605,
          0.25726486227163997,
          1.328493993017877,
          -0.11100689228117118,
          -0.22650857209597733,
          -0.7144840251026895,
          -1.0416718983455615,
          1.0736890893435829,
          -0.4950066633518595,
          -0.4348511389029561,
          2.8329467756340896,
          -0.4304483343702159,
          1.168993274249435,
          -0.6489183721758839,
          1.919777073493157,
          -0.7889677310786267,
          0.18372995625021743,
          -0.8774390102542554,
          -1.3138910309500251,
          0.32224629900799545,
          0.6853772906954757,
          -0.4782068224275819,
          -1.564547761029822,
          -1.456102616980963,
          -0.21772121032784514,
          -0.45293861005754127,
          1.3668566239085884,
          0.8204827551253541,
          -0.8789693591255126,
          0.2218945456519545,
          0.194766032165579,
          -0.32635090654867477,
          -1.3788456354471674,
          0.47301453080933087,
          -2.1463860553599283,
          0.588115532577788,
          -0.12100941076370306,
          1.1149475486037261,
          0.4065778223793015,
          -1.2420822666880773,
          0.6070864401924375,
          -2.151910704876458,
          0.3346452250376028,
          1.2624867269449833,
          -2.5315629613213484,
          -0.8227144688835754,
          -0.1236309975200574,
          -0.49219807187445436,
          -1.2097029964449502,
          -1.3727932974505603,
          0.44527990572978465,
          0.5434203966297816,
          0.3391141018642361,
          1.753647349388627,
          -0.5326619816135323,
          -0.12867178804487858,
          0.4902779339654576,
          0.35554607301596713,
          0.9779360084073613,
          -0.5302310144497281,
          -0.7591554389356049,
          -0.7203209807891244,
          -0.019652813053141524,
          0.6442268447826572,
          -1.6223502424253848,
          -0.03034172033845018,
          -0.28111681045492665
         ],
         "yaxis": "y8"
        },
        {
         "line": {
          "color": "rgba(128, 128, 128, 1.0)",
          "dash": "solid",
          "shape": "linear",
          "width": 1.3
         },
         "marker": {
          "size": 2,
          "symbol": "circle"
         },
         "mode": "markers",
         "name": "C",
         "text": "",
         "type": "scatter",
         "x": [
          -1.8554435537542446,
          -0.3341474199101263,
          0.6857288575880798,
          0.12905925770490762,
          -0.13012084534391954,
          0.31598165716367344,
          -0.6814310339065305,
          -1.1857454279657653,
          0.16250831411290528,
          -0.23503431588320337,
          -0.6957583990035138,
          1.2656447012812229,
          0.7895454890395617,
          2.0102173729408683,
          0.45824801008669885,
          -0.5925775507399346,
          -0.41533289809186974,
          -0.4731233300668129,
          0.6843718826788863,
          0.5391706433363241,
          -1.1002556394218257,
          1.2609445362966492,
          -1.7026894192926318,
          0.8280922879606232,
          -0.47841132251611046,
          1.354448480034928,
          0.018522114685147483,
          -1.3413367864778607,
          -0.8895958524461421,
          -0.020608380047677472,
          -1.7240966400672362,
          0.28458344629001064,
          0.21661681618247094,
          1.2179864561575975,
          0.8482671466620583,
          -0.4077952273242937,
          -0.8049643523268022,
          -0.9176116556344076,
          -0.9356801704572217,
          -0.9699739380556349,
          0.650589802528572,
          2.547846456025026,
          -0.7096211873633143,
          -0.9174229907763136,
          1.1386671385820821,
          -1.369325539411084,
          -0.9842603474076804,
          0.5945869819604048,
          -0.23886050975260292,
          -0.46923690573927296,
          -1.142607594480248,
          -0.3611762312877647,
          -0.39933525169718176,
          2.2769382620127003,
          -0.8380458528707962,
          -0.6124392004285225,
          0.6961616835141131,
          -1.2277256681748399,
          -0.6165936577607377,
          1.4531742490758173,
          0.8324616086776321,
          0.08734935814075497,
          -0.27779001599273256,
          -0.386556029563755,
          0.5076935684905723,
          0.023459583819070404,
          0.7011956785778897,
          -2.064037457273387,
          0.5982278808302534,
          -0.24015821493527018,
          -0.20554533443737275,
          -0.28217079271367657,
          -1.7845227166301205,
          -0.5601415555592549,
          0.8084747503072853,
          0.37966132136188563,
          -0.6195525229757263,
          0.3758208757878301,
          1.4200248431796674,
          2.0659398607101047,
          0.9587108211966137,
          2.061807877022249,
          0.18050161272834003,
          -0.6540684677740707,
          -0.8644330224870201,
          -1.261133780633743,
          -1.1276839315268843,
          -0.8470709717782499,
          -0.8077457919626311,
          0.0022270729652858353,
          1.266205085899191,
          0.9466066247483059,
          0.0931235624221537,
          -0.6925655411798486,
          0.23552797185724408,
          -0.7126173671952934,
          -0.4802895517750804,
          -1.0320031452653156,
          -0.6525272343747045,
          0.6660110832512804
         ],
         "xaxis": "x9",
         "y": [
          0.09917702010193938,
          -0.46868047378474087,
          0.5949258159527525,
          1.6478485545586035,
          0.3016248921654869,
          -0.8080545672660209,
          -2.1188095478004194,
          0.8594606141495871,
          0.8292713997862055,
          1.6708518995476391,
          0.6120160203798393,
          1.5105163218286823,
          0.5691135987249639,
          0.6566471882172462,
          0.3420156550263439,
          -0.4411683654275913,
          -0.5886111554302329,
          -0.8152751218926938,
          0.49222463660246707,
          -0.5787344819819856,
          0.9561174625326011,
          -0.2707188791419852,
          -0.9802168713123773,
          -0.8240596503995492,
          0.7306962433522558,
          -0.32022539754106777,
          -2.065587528649272,
          -0.5821224629582098,
          0.15838323425199727,
          0.4008578989668309,
          -0.18106622772390113,
          -0.8351912950136509,
          0.1605906289721576,
          1.7713399993433627,
          0.30021576059131483,
          -1.403086030515181,
          -0.9456893256670308,
          -0.1274608908419728,
          0.6687598195192176,
          -0.15279778369058775,
          -0.7032641280087182,
          0.6226349957776174,
          -1.5951450098353386,
          -0.4496120801166754,
          -1.1965836774969432,
          1.2269657530813707,
          -1.7517447424622514,
          0.9834862575215471,
          -0.664789843670582,
          0.9152075389812178,
          0.9414936511533228,
          -1.4453352420094756,
          -1.155291790632457,
          -1.0316997278674849,
          1.4125048571850645,
          0.5357529211449548,
          -0.045837813489790165,
          0.03524703430738961,
          -0.6368800449488092,
          0.2651462582503736,
          0.09590123572694538,
          -1.4972271631117675,
          -0.5199780684951362,
          -0.6794392215132271,
          -2.1882799431084554,
          0.7599944699495044,
          0.00888997446505838,
          -1.8118637679374485,
          0.14709105894657584,
          1.5635608902256173,
          0.6676910824154867,
          -1.1655002104708385,
          0.15816334667031878,
          1.245076980434046,
          -0.46496843467443283,
          0.5584954767846282,
          -1.2595251830606093,
          -2.109463298689511,
          -0.4884882503365179,
          0.36945478638890505,
          -0.2835026746618209,
          1.9612149864328858,
          -0.28221348203405405,
          1.2145113824373808,
          1.6022224227901656,
          1.120229211567683,
          -0.9748024396170659,
          -0.6855566993709195,
          0.7366107876685423,
          -1.9299127824094022,
          0.05242176138607656,
          1.1617503304511858,
          -0.09244602594364117,
          -0.22654313084700278,
          0.1727337173584885,
          -0.9415680809762029,
          0.41917688707654654,
          0.4338937059023062,
          0.8101871452055606,
          0.7584141241022428
         ],
         "yaxis": "y9"
        },
        {
         "line": {
          "color": "rgba(128, 128, 128, 1.0)",
          "dash": "solid",
          "shape": "linear",
          "width": 1.3
         },
         "marker": {
          "size": 2,
          "symbol": "circle"
         },
         "mode": "markers",
         "name": "C",
         "text": "",
         "type": "scatter",
         "x": [
          1.0586797192233903,
          -1.2488855889850787,
          1.0700151137375091,
          0.2686994557666863,
          1.3465290941441121,
          0.3186439119999515,
          -0.26028613353663094,
          1.9624262321531245,
          0.794702271935496,
          1.4578086509674228,
          0.8172558401456013,
          0.2187013708779096,
          -0.74633696389924,
          -0.6733073789184151,
          -0.44481066657090934,
          1.0312849971810147,
          0.4182887878043122,
          0.18075131754173723,
          -2.0632733329402897,
          -0.8721967137920469,
          -0.9573519080715821,
          -0.8861931972275268,
          -1.7326911974350716,
          -0.9429172488362749,
          -1.141069187838,
          -0.18520134114365153,
          -0.5886045112319811,
          -0.4412941810900815,
          0.8285074424484511,
          0.13457702058627252,
          0.47559709859240257,
          0.24770049355141352,
          0.9973592817712069,
          0.531818650682605,
          0.25726486227163997,
          1.328493993017877,
          -0.11100689228117118,
          -0.22650857209597733,
          -0.7144840251026895,
          -1.0416718983455615,
          1.0736890893435829,
          -0.4950066633518595,
          -0.4348511389029561,
          2.8329467756340896,
          -0.4304483343702159,
          1.168993274249435,
          -0.6489183721758839,
          1.919777073493157,
          -0.7889677310786267,
          0.18372995625021743,
          -0.8774390102542554,
          -1.3138910309500251,
          0.32224629900799545,
          0.6853772906954757,
          -0.4782068224275819,
          -1.564547761029822,
          -1.456102616980963,
          -0.21772121032784514,
          -0.45293861005754127,
          1.3668566239085884,
          0.8204827551253541,
          -0.8789693591255126,
          0.2218945456519545,
          0.194766032165579,
          -0.32635090654867477,
          -1.3788456354471674,
          0.47301453080933087,
          -2.1463860553599283,
          0.588115532577788,
          -0.12100941076370306,
          1.1149475486037261,
          0.4065778223793015,
          -1.2420822666880773,
          0.6070864401924375,
          -2.151910704876458,
          0.3346452250376028,
          1.2624867269449833,
          -2.5315629613213484,
          -0.8227144688835754,
          -0.1236309975200574,
          -0.49219807187445436,
          -1.2097029964449502,
          -1.3727932974505603,
          0.44527990572978465,
          0.5434203966297816,
          0.3391141018642361,
          1.753647349388627,
          -0.5326619816135323,
          -0.12867178804487858,
          0.4902779339654576,
          0.35554607301596713,
          0.9779360084073613,
          -0.5302310144497281,
          -0.7591554389356049,
          -0.7203209807891244,
          -0.019652813053141524,
          0.6442268447826572,
          -1.6223502424253848,
          -0.03034172033845018,
          -0.28111681045492665
         ],
         "xaxis": "x10",
         "y": [
          0.09917702010193938,
          -0.46868047378474087,
          0.5949258159527525,
          1.6478485545586035,
          0.3016248921654869,
          -0.8080545672660209,
          -2.1188095478004194,
          0.8594606141495871,
          0.8292713997862055,
          1.6708518995476391,
          0.6120160203798393,
          1.5105163218286823,
          0.5691135987249639,
          0.6566471882172462,
          0.3420156550263439,
          -0.4411683654275913,
          -0.5886111554302329,
          -0.8152751218926938,
          0.49222463660246707,
          -0.5787344819819856,
          0.9561174625326011,
          -0.2707188791419852,
          -0.9802168713123773,
          -0.8240596503995492,
          0.7306962433522558,
          -0.32022539754106777,
          -2.065587528649272,
          -0.5821224629582098,
          0.15838323425199727,
          0.4008578989668309,
          -0.18106622772390113,
          -0.8351912950136509,
          0.1605906289721576,
          1.7713399993433627,
          0.30021576059131483,
          -1.403086030515181,
          -0.9456893256670308,
          -0.1274608908419728,
          0.6687598195192176,
          -0.15279778369058775,
          -0.7032641280087182,
          0.6226349957776174,
          -1.5951450098353386,
          -0.4496120801166754,
          -1.1965836774969432,
          1.2269657530813707,
          -1.7517447424622514,
          0.9834862575215471,
          -0.664789843670582,
          0.9152075389812178,
          0.9414936511533228,
          -1.4453352420094756,
          -1.155291790632457,
          -1.0316997278674849,
          1.4125048571850645,
          0.5357529211449548,
          -0.045837813489790165,
          0.03524703430738961,
          -0.6368800449488092,
          0.2651462582503736,
          0.09590123572694538,
          -1.4972271631117675,
          -0.5199780684951362,
          -0.6794392215132271,
          -2.1882799431084554,
          0.7599944699495044,
          0.00888997446505838,
          -1.8118637679374485,
          0.14709105894657584,
          1.5635608902256173,
          0.6676910824154867,
          -1.1655002104708385,
          0.15816334667031878,
          1.245076980434046,
          -0.46496843467443283,
          0.5584954767846282,
          -1.2595251830606093,
          -2.109463298689511,
          -0.4884882503365179,
          0.36945478638890505,
          -0.2835026746618209,
          1.9612149864328858,
          -0.28221348203405405,
          1.2145113824373808,
          1.6022224227901656,
          1.120229211567683,
          -0.9748024396170659,
          -0.6855566993709195,
          0.7366107876685423,
          -1.9299127824094022,
          0.05242176138607656,
          1.1617503304511858,
          -0.09244602594364117,
          -0.22654313084700278,
          0.1727337173584885,
          -0.9415680809762029,
          0.41917688707654654,
          0.4338937059023062,
          0.8101871452055606,
          0.7584141241022428
         ],
         "yaxis": "y10"
        },
        {
         "histfunc": "count",
         "histnorm": "",
         "marker": {
          "color": "rgba(50, 171, 96, 1.0)",
          "line": {
           "color": "#4D5663",
           "width": 1.3
          }
         },
         "name": "C",
         "nbinsx": 10,
         "opacity": 0.8,
         "orientation": "v",
         "type": "histogram",
         "x": [
          0.09917702010193938,
          -0.46868047378474087,
          0.5949258159527525,
          1.6478485545586035,
          0.3016248921654869,
          -0.8080545672660209,
          -2.1188095478004194,
          0.8594606141495871,
          0.8292713997862055,
          1.6708518995476391,
          0.6120160203798393,
          1.5105163218286823,
          0.5691135987249639,
          0.6566471882172462,
          0.3420156550263439,
          -0.4411683654275913,
          -0.5886111554302329,
          -0.8152751218926938,
          0.49222463660246707,
          -0.5787344819819856,
          0.9561174625326011,
          -0.2707188791419852,
          -0.9802168713123773,
          -0.8240596503995492,
          0.7306962433522558,
          -0.32022539754106777,
          -2.065587528649272,
          -0.5821224629582098,
          0.15838323425199727,
          0.4008578989668309,
          -0.18106622772390113,
          -0.8351912950136509,
          0.1605906289721576,
          1.7713399993433627,
          0.30021576059131483,
          -1.403086030515181,
          -0.9456893256670308,
          -0.1274608908419728,
          0.6687598195192176,
          -0.15279778369058775,
          -0.7032641280087182,
          0.6226349957776174,
          -1.5951450098353386,
          -0.4496120801166754,
          -1.1965836774969432,
          1.2269657530813707,
          -1.7517447424622514,
          0.9834862575215471,
          -0.664789843670582,
          0.9152075389812178,
          0.9414936511533228,
          -1.4453352420094756,
          -1.155291790632457,
          -1.0316997278674849,
          1.4125048571850645,
          0.5357529211449548,
          -0.045837813489790165,
          0.03524703430738961,
          -0.6368800449488092,
          0.2651462582503736,
          0.09590123572694538,
          -1.4972271631117675,
          -0.5199780684951362,
          -0.6794392215132271,
          -2.1882799431084554,
          0.7599944699495044,
          0.00888997446505838,
          -1.8118637679374485,
          0.14709105894657584,
          1.5635608902256173,
          0.6676910824154867,
          -1.1655002104708385,
          0.15816334667031878,
          1.245076980434046,
          -0.46496843467443283,
          0.5584954767846282,
          -1.2595251830606093,
          -2.109463298689511,
          -0.4884882503365179,
          0.36945478638890505,
          -0.2835026746618209,
          1.9612149864328858,
          -0.28221348203405405,
          1.2145113824373808,
          1.6022224227901656,
          1.120229211567683,
          -0.9748024396170659,
          -0.6855566993709195,
          0.7366107876685423,
          -1.9299127824094022,
          0.05242176138607656,
          1.1617503304511858,
          -0.09244602594364117,
          -0.22654313084700278,
          0.1727337173584885,
          -0.9415680809762029,
          0.41917688707654654,
          0.4338937059023062,
          0.8101871452055606,
          0.7584141241022428
         ],
         "xaxis": "x11",
         "yaxis": "y11"
        },
        {
         "line": {
          "color": "rgba(128, 128, 128, 1.0)",
          "dash": "solid",
          "shape": "linear",
          "width": 1.3
         },
         "marker": {
          "size": 2,
          "symbol": "circle"
         },
         "mode": "markers",
         "name": "C",
         "text": "",
         "type": "scatter",
         "x": [
          -0.7085764894821942,
          -0.12915596758117723,
          1.3172587618783858,
          -1.434581059426418,
          -0.5343845626238716,
          0.2963979887680206,
          -2.3099078313240735,
          0.9468857900174137,
          -1.80818273972675,
          2.0225585686938827,
          0.44527819315356876,
          -0.039819258406981826,
          -0.7335374950541147,
          -0.7010732066261021,
          -0.6914191854133498,
          0.21037132856512575,
          0.7620439811861314,
          0.7969968342643269,
          0.030268152765737032,
          0.7434993182659309,
          -0.41594825213294334,
          -0.7626181029290856,
          -0.13327570589827753,
          -1.5537410595079655,
          0.7524074375738093,
          -0.8536074246875737,
          -0.4313570789876109,
          -1.8134330879451837,
          -1.5141183234637954,
          0.11473398957600751,
          0.400572368646464,
          -1.3184649942211804,
          0.00789963373835907,
          0.835337081456911,
          0.4979578374503871,
          -0.18896623637387774,
          0.16668450259382533,
          0.6547664981254644,
          0.3213322939511967,
          -0.6429313558805019,
          -1.0906747283947604,
          1.2374908623069434,
          0.7061125642011822,
          -0.33538235234826197,
          0.9630669422011241,
          0.3800838916165655,
          0.8731901071528915,
          -0.36209218992689013,
          -0.16770296458616146,
          0.4284768480639033,
          -0.4960932025170286,
          0.8390499321671847,
          0.5602216160464017,
          -1.3310451997228332,
          0.31779034947570123,
          1.0051198755817332,
          0.3206099059933247,
          -0.759959837701889,
          0.38904095125384286,
          0.9604032308369037,
          0.8912906278613976,
          0.17020413245218363,
          -0.11859066127221107,
          2.1759486814385967,
          -0.9157247903908146,
          0.7573043903288208,
          0.8525082219100658,
          1.3775684363359804,
          -0.5209718415557739,
          -2.271597731691821,
          -0.08398480077020003,
          -0.33718677545218095,
          -0.27604931305172253,
          -0.7962034207852795,
          -0.49027841665655486,
          -1.0982775229569983,
          -0.042387243843414746,
          0.5163102500542561,
          1.7785466583410598,
          -1.3416949295418166,
          -1.6311082373778638,
          1.492610190134358,
          0.972863037543592,
          -0.6384898322851272,
          -0.7730175292304294,
          -0.6079456151824305,
          1.9926044487338437,
          -0.874650338449589,
          0.9522178493738911,
          -0.5919446595493946,
          0.7568928517585953,
          -0.49669195137704325,
          0.8175348807418468,
          -0.4609442296110568,
          -2.152141830296282,
          -1.7698027759212958,
          0.5207224965560626,
          0.676301420293525,
          0.8236286175459849,
          -0.050725899405311005
         ],
         "xaxis": "x12",
         "y": [
          0.09917702010193938,
          -0.46868047378474087,
          0.5949258159527525,
          1.6478485545586035,
          0.3016248921654869,
          -0.8080545672660209,
          -2.1188095478004194,
          0.8594606141495871,
          0.8292713997862055,
          1.6708518995476391,
          0.6120160203798393,
          1.5105163218286823,
          0.5691135987249639,
          0.6566471882172462,
          0.3420156550263439,
          -0.4411683654275913,
          -0.5886111554302329,
          -0.8152751218926938,
          0.49222463660246707,
          -0.5787344819819856,
          0.9561174625326011,
          -0.2707188791419852,
          -0.9802168713123773,
          -0.8240596503995492,
          0.7306962433522558,
          -0.32022539754106777,
          -2.065587528649272,
          -0.5821224629582098,
          0.15838323425199727,
          0.4008578989668309,
          -0.18106622772390113,
          -0.8351912950136509,
          0.1605906289721576,
          1.7713399993433627,
          0.30021576059131483,
          -1.403086030515181,
          -0.9456893256670308,
          -0.1274608908419728,
          0.6687598195192176,
          -0.15279778369058775,
          -0.7032641280087182,
          0.6226349957776174,
          -1.5951450098353386,
          -0.4496120801166754,
          -1.1965836774969432,
          1.2269657530813707,
          -1.7517447424622514,
          0.9834862575215471,
          -0.664789843670582,
          0.9152075389812178,
          0.9414936511533228,
          -1.4453352420094756,
          -1.155291790632457,
          -1.0316997278674849,
          1.4125048571850645,
          0.5357529211449548,
          -0.045837813489790165,
          0.03524703430738961,
          -0.6368800449488092,
          0.2651462582503736,
          0.09590123572694538,
          -1.4972271631117675,
          -0.5199780684951362,
          -0.6794392215132271,
          -2.1882799431084554,
          0.7599944699495044,
          0.00888997446505838,
          -1.8118637679374485,
          0.14709105894657584,
          1.5635608902256173,
          0.6676910824154867,
          -1.1655002104708385,
          0.15816334667031878,
          1.245076980434046,
          -0.46496843467443283,
          0.5584954767846282,
          -1.2595251830606093,
          -2.109463298689511,
          -0.4884882503365179,
          0.36945478638890505,
          -0.2835026746618209,
          1.9612149864328858,
          -0.28221348203405405,
          1.2145113824373808,
          1.6022224227901656,
          1.120229211567683,
          -0.9748024396170659,
          -0.6855566993709195,
          0.7366107876685423,
          -1.9299127824094022,
          0.05242176138607656,
          1.1617503304511858,
          -0.09244602594364117,
          -0.22654313084700278,
          0.1727337173584885,
          -0.9415680809762029,
          0.41917688707654654,
          0.4338937059023062,
          0.8101871452055606,
          0.7584141241022428
         ],
         "yaxis": "y12"
        },
        {
         "line": {
          "color": "rgba(128, 128, 128, 1.0)",
          "dash": "solid",
          "shape": "linear",
          "width": 1.3
         },
         "marker": {
          "size": 2,
          "symbol": "circle"
         },
         "mode": "markers",
         "name": "D",
         "text": "",
         "type": "scatter",
         "x": [
          -1.8554435537542446,
          -0.3341474199101263,
          0.6857288575880798,
          0.12905925770490762,
          -0.13012084534391954,
          0.31598165716367344,
          -0.6814310339065305,
          -1.1857454279657653,
          0.16250831411290528,
          -0.23503431588320337,
          -0.6957583990035138,
          1.2656447012812229,
          0.7895454890395617,
          2.0102173729408683,
          0.45824801008669885,
          -0.5925775507399346,
          -0.41533289809186974,
          -0.4731233300668129,
          0.6843718826788863,
          0.5391706433363241,
          -1.1002556394218257,
          1.2609445362966492,
          -1.7026894192926318,
          0.8280922879606232,
          -0.47841132251611046,
          1.354448480034928,
          0.018522114685147483,
          -1.3413367864778607,
          -0.8895958524461421,
          -0.020608380047677472,
          -1.7240966400672362,
          0.28458344629001064,
          0.21661681618247094,
          1.2179864561575975,
          0.8482671466620583,
          -0.4077952273242937,
          -0.8049643523268022,
          -0.9176116556344076,
          -0.9356801704572217,
          -0.9699739380556349,
          0.650589802528572,
          2.547846456025026,
          -0.7096211873633143,
          -0.9174229907763136,
          1.1386671385820821,
          -1.369325539411084,
          -0.9842603474076804,
          0.5945869819604048,
          -0.23886050975260292,
          -0.46923690573927296,
          -1.142607594480248,
          -0.3611762312877647,
          -0.39933525169718176,
          2.2769382620127003,
          -0.8380458528707962,
          -0.6124392004285225,
          0.6961616835141131,
          -1.2277256681748399,
          -0.6165936577607377,
          1.4531742490758173,
          0.8324616086776321,
          0.08734935814075497,
          -0.27779001599273256,
          -0.386556029563755,
          0.5076935684905723,
          0.023459583819070404,
          0.7011956785778897,
          -2.064037457273387,
          0.5982278808302534,
          -0.24015821493527018,
          -0.20554533443737275,
          -0.28217079271367657,
          -1.7845227166301205,
          -0.5601415555592549,
          0.8084747503072853,
          0.37966132136188563,
          -0.6195525229757263,
          0.3758208757878301,
          1.4200248431796674,
          2.0659398607101047,
          0.9587108211966137,
          2.061807877022249,
          0.18050161272834003,
          -0.6540684677740707,
          -0.8644330224870201,
          -1.261133780633743,
          -1.1276839315268843,
          -0.8470709717782499,
          -0.8077457919626311,
          0.0022270729652858353,
          1.266205085899191,
          0.9466066247483059,
          0.0931235624221537,
          -0.6925655411798486,
          0.23552797185724408,
          -0.7126173671952934,
          -0.4802895517750804,
          -1.0320031452653156,
          -0.6525272343747045,
          0.6660110832512804
         ],
         "xaxis": "x13",
         "y": [
          -0.7085764894821942,
          -0.12915596758117723,
          1.3172587618783858,
          -1.434581059426418,
          -0.5343845626238716,
          0.2963979887680206,
          -2.3099078313240735,
          0.9468857900174137,
          -1.80818273972675,
          2.0225585686938827,
          0.44527819315356876,
          -0.039819258406981826,
          -0.7335374950541147,
          -0.7010732066261021,
          -0.6914191854133498,
          0.21037132856512575,
          0.7620439811861314,
          0.7969968342643269,
          0.030268152765737032,
          0.7434993182659309,
          -0.41594825213294334,
          -0.7626181029290856,
          -0.13327570589827753,
          -1.5537410595079655,
          0.7524074375738093,
          -0.8536074246875737,
          -0.4313570789876109,
          -1.8134330879451837,
          -1.5141183234637954,
          0.11473398957600751,
          0.400572368646464,
          -1.3184649942211804,
          0.00789963373835907,
          0.835337081456911,
          0.4979578374503871,
          -0.18896623637387774,
          0.16668450259382533,
          0.6547664981254644,
          0.3213322939511967,
          -0.6429313558805019,
          -1.0906747283947604,
          1.2374908623069434,
          0.7061125642011822,
          -0.33538235234826197,
          0.9630669422011241,
          0.3800838916165655,
          0.8731901071528915,
          -0.36209218992689013,
          -0.16770296458616146,
          0.4284768480639033,
          -0.4960932025170286,
          0.8390499321671847,
          0.5602216160464017,
          -1.3310451997228332,
          0.31779034947570123,
          1.0051198755817332,
          0.3206099059933247,
          -0.759959837701889,
          0.38904095125384286,
          0.9604032308369037,
          0.8912906278613976,
          0.17020413245218363,
          -0.11859066127221107,
          2.1759486814385967,
          -0.9157247903908146,
          0.7573043903288208,
          0.8525082219100658,
          1.3775684363359804,
          -0.5209718415557739,
          -2.271597731691821,
          -0.08398480077020003,
          -0.33718677545218095,
          -0.27604931305172253,
          -0.7962034207852795,
          -0.49027841665655486,
          -1.0982775229569983,
          -0.042387243843414746,
          0.5163102500542561,
          1.7785466583410598,
          -1.3416949295418166,
          -1.6311082373778638,
          1.492610190134358,
          0.972863037543592,
          -0.6384898322851272,
          -0.7730175292304294,
          -0.6079456151824305,
          1.9926044487338437,
          -0.874650338449589,
          0.9522178493738911,
          -0.5919446595493946,
          0.7568928517585953,
          -0.49669195137704325,
          0.8175348807418468,
          -0.4609442296110568,
          -2.152141830296282,
          -1.7698027759212958,
          0.5207224965560626,
          0.676301420293525,
          0.8236286175459849,
          -0.050725899405311005
         ],
         "yaxis": "y13"
        },
        {
         "line": {
          "color": "rgba(128, 128, 128, 1.0)",
          "dash": "solid",
          "shape": "linear",
          "width": 1.3
         },
         "marker": {
          "size": 2,
          "symbol": "circle"
         },
         "mode": "markers",
         "name": "D",
         "text": "",
         "type": "scatter",
         "x": [
          1.0586797192233903,
          -1.2488855889850787,
          1.0700151137375091,
          0.2686994557666863,
          1.3465290941441121,
          0.3186439119999515,
          -0.26028613353663094,
          1.9624262321531245,
          0.794702271935496,
          1.4578086509674228,
          0.8172558401456013,
          0.2187013708779096,
          -0.74633696389924,
          -0.6733073789184151,
          -0.44481066657090934,
          1.0312849971810147,
          0.4182887878043122,
          0.18075131754173723,
          -2.0632733329402897,
          -0.8721967137920469,
          -0.9573519080715821,
          -0.8861931972275268,
          -1.7326911974350716,
          -0.9429172488362749,
          -1.141069187838,
          -0.18520134114365153,
          -0.5886045112319811,
          -0.4412941810900815,
          0.8285074424484511,
          0.13457702058627252,
          0.47559709859240257,
          0.24770049355141352,
          0.9973592817712069,
          0.531818650682605,
          0.25726486227163997,
          1.328493993017877,
          -0.11100689228117118,
          -0.22650857209597733,
          -0.7144840251026895,
          -1.0416718983455615,
          1.0736890893435829,
          -0.4950066633518595,
          -0.4348511389029561,
          2.8329467756340896,
          -0.4304483343702159,
          1.168993274249435,
          -0.6489183721758839,
          1.919777073493157,
          -0.7889677310786267,
          0.18372995625021743,
          -0.8774390102542554,
          -1.3138910309500251,
          0.32224629900799545,
          0.6853772906954757,
          -0.4782068224275819,
          -1.564547761029822,
          -1.456102616980963,
          -0.21772121032784514,
          -0.45293861005754127,
          1.3668566239085884,
          0.8204827551253541,
          -0.8789693591255126,
          0.2218945456519545,
          0.194766032165579,
          -0.32635090654867477,
          -1.3788456354471674,
          0.47301453080933087,
          -2.1463860553599283,
          0.588115532577788,
          -0.12100941076370306,
          1.1149475486037261,
          0.4065778223793015,
          -1.2420822666880773,
          0.6070864401924375,
          -2.151910704876458,
          0.3346452250376028,
          1.2624867269449833,
          -2.5315629613213484,
          -0.8227144688835754,
          -0.1236309975200574,
          -0.49219807187445436,
          -1.2097029964449502,
          -1.3727932974505603,
          0.44527990572978465,
          0.5434203966297816,
          0.3391141018642361,
          1.753647349388627,
          -0.5326619816135323,
          -0.12867178804487858,
          0.4902779339654576,
          0.35554607301596713,
          0.9779360084073613,
          -0.5302310144497281,
          -0.7591554389356049,
          -0.7203209807891244,
          -0.019652813053141524,
          0.6442268447826572,
          -1.6223502424253848,
          -0.03034172033845018,
          -0.28111681045492665
         ],
         "xaxis": "x14",
         "y": [
          -0.7085764894821942,
          -0.12915596758117723,
          1.3172587618783858,
          -1.434581059426418,
          -0.5343845626238716,
          0.2963979887680206,
          -2.3099078313240735,
          0.9468857900174137,
          -1.80818273972675,
          2.0225585686938827,
          0.44527819315356876,
          -0.039819258406981826,
          -0.7335374950541147,
          -0.7010732066261021,
          -0.6914191854133498,
          0.21037132856512575,
          0.7620439811861314,
          0.7969968342643269,
          0.030268152765737032,
          0.7434993182659309,
          -0.41594825213294334,
          -0.7626181029290856,
          -0.13327570589827753,
          -1.5537410595079655,
          0.7524074375738093,
          -0.8536074246875737,
          -0.4313570789876109,
          -1.8134330879451837,
          -1.5141183234637954,
          0.11473398957600751,
          0.400572368646464,
          -1.3184649942211804,
          0.00789963373835907,
          0.835337081456911,
          0.4979578374503871,
          -0.18896623637387774,
          0.16668450259382533,
          0.6547664981254644,
          0.3213322939511967,
          -0.6429313558805019,
          -1.0906747283947604,
          1.2374908623069434,
          0.7061125642011822,
          -0.33538235234826197,
          0.9630669422011241,
          0.3800838916165655,
          0.8731901071528915,
          -0.36209218992689013,
          -0.16770296458616146,
          0.4284768480639033,
          -0.4960932025170286,
          0.8390499321671847,
          0.5602216160464017,
          -1.3310451997228332,
          0.31779034947570123,
          1.0051198755817332,
          0.3206099059933247,
          -0.759959837701889,
          0.38904095125384286,
          0.9604032308369037,
          0.8912906278613976,
          0.17020413245218363,
          -0.11859066127221107,
          2.1759486814385967,
          -0.9157247903908146,
          0.7573043903288208,
          0.8525082219100658,
          1.3775684363359804,
          -0.5209718415557739,
          -2.271597731691821,
          -0.08398480077020003,
          -0.33718677545218095,
          -0.27604931305172253,
          -0.7962034207852795,
          -0.49027841665655486,
          -1.0982775229569983,
          -0.042387243843414746,
          0.5163102500542561,
          1.7785466583410598,
          -1.3416949295418166,
          -1.6311082373778638,
          1.492610190134358,
          0.972863037543592,
          -0.6384898322851272,
          -0.7730175292304294,
          -0.6079456151824305,
          1.9926044487338437,
          -0.874650338449589,
          0.9522178493738911,
          -0.5919446595493946,
          0.7568928517585953,
          -0.49669195137704325,
          0.8175348807418468,
          -0.4609442296110568,
          -2.152141830296282,
          -1.7698027759212958,
          0.5207224965560626,
          0.676301420293525,
          0.8236286175459849,
          -0.050725899405311005
         ],
         "yaxis": "y14"
        },
        {
         "line": {
          "color": "rgba(128, 128, 128, 1.0)",
          "dash": "solid",
          "shape": "linear",
          "width": 1.3
         },
         "marker": {
          "size": 2,
          "symbol": "circle"
         },
         "mode": "markers",
         "name": "D",
         "text": "",
         "type": "scatter",
         "x": [
          0.09917702010193938,
          -0.46868047378474087,
          0.5949258159527525,
          1.6478485545586035,
          0.3016248921654869,
          -0.8080545672660209,
          -2.1188095478004194,
          0.8594606141495871,
          0.8292713997862055,
          1.6708518995476391,
          0.6120160203798393,
          1.5105163218286823,
          0.5691135987249639,
          0.6566471882172462,
          0.3420156550263439,
          -0.4411683654275913,
          -0.5886111554302329,
          -0.8152751218926938,
          0.49222463660246707,
          -0.5787344819819856,
          0.9561174625326011,
          -0.2707188791419852,
          -0.9802168713123773,
          -0.8240596503995492,
          0.7306962433522558,
          -0.32022539754106777,
          -2.065587528649272,
          -0.5821224629582098,
          0.15838323425199727,
          0.4008578989668309,
          -0.18106622772390113,
          -0.8351912950136509,
          0.1605906289721576,
          1.7713399993433627,
          0.30021576059131483,
          -1.403086030515181,
          -0.9456893256670308,
          -0.1274608908419728,
          0.6687598195192176,
          -0.15279778369058775,
          -0.7032641280087182,
          0.6226349957776174,
          -1.5951450098353386,
          -0.4496120801166754,
          -1.1965836774969432,
          1.2269657530813707,
          -1.7517447424622514,
          0.9834862575215471,
          -0.664789843670582,
          0.9152075389812178,
          0.9414936511533228,
          -1.4453352420094756,
          -1.155291790632457,
          -1.0316997278674849,
          1.4125048571850645,
          0.5357529211449548,
          -0.045837813489790165,
          0.03524703430738961,
          -0.6368800449488092,
          0.2651462582503736,
          0.09590123572694538,
          -1.4972271631117675,
          -0.5199780684951362,
          -0.6794392215132271,
          -2.1882799431084554,
          0.7599944699495044,
          0.00888997446505838,
          -1.8118637679374485,
          0.14709105894657584,
          1.5635608902256173,
          0.6676910824154867,
          -1.1655002104708385,
          0.15816334667031878,
          1.245076980434046,
          -0.46496843467443283,
          0.5584954767846282,
          -1.2595251830606093,
          -2.109463298689511,
          -0.4884882503365179,
          0.36945478638890505,
          -0.2835026746618209,
          1.9612149864328858,
          -0.28221348203405405,
          1.2145113824373808,
          1.6022224227901656,
          1.120229211567683,
          -0.9748024396170659,
          -0.6855566993709195,
          0.7366107876685423,
          -1.9299127824094022,
          0.05242176138607656,
          1.1617503304511858,
          -0.09244602594364117,
          -0.22654313084700278,
          0.1727337173584885,
          -0.9415680809762029,
          0.41917688707654654,
          0.4338937059023062,
          0.8101871452055606,
          0.7584141241022428
         ],
         "xaxis": "x15",
         "y": [
          -0.7085764894821942,
          -0.12915596758117723,
          1.3172587618783858,
          -1.434581059426418,
          -0.5343845626238716,
          0.2963979887680206,
          -2.3099078313240735,
          0.9468857900174137,
          -1.80818273972675,
          2.0225585686938827,
          0.44527819315356876,
          -0.039819258406981826,
          -0.7335374950541147,
          -0.7010732066261021,
          -0.6914191854133498,
          0.21037132856512575,
          0.7620439811861314,
          0.7969968342643269,
          0.030268152765737032,
          0.7434993182659309,
          -0.41594825213294334,
          -0.7626181029290856,
          -0.13327570589827753,
          -1.5537410595079655,
          0.7524074375738093,
          -0.8536074246875737,
          -0.4313570789876109,
          -1.8134330879451837,
          -1.5141183234637954,
          0.11473398957600751,
          0.400572368646464,
          -1.3184649942211804,
          0.00789963373835907,
          0.835337081456911,
          0.4979578374503871,
          -0.18896623637387774,
          0.16668450259382533,
          0.6547664981254644,
          0.3213322939511967,
          -0.6429313558805019,
          -1.0906747283947604,
          1.2374908623069434,
          0.7061125642011822,
          -0.33538235234826197,
          0.9630669422011241,
          0.3800838916165655,
          0.8731901071528915,
          -0.36209218992689013,
          -0.16770296458616146,
          0.4284768480639033,
          -0.4960932025170286,
          0.8390499321671847,
          0.5602216160464017,
          -1.3310451997228332,
          0.31779034947570123,
          1.0051198755817332,
          0.3206099059933247,
          -0.759959837701889,
          0.38904095125384286,
          0.9604032308369037,
          0.8912906278613976,
          0.17020413245218363,
          -0.11859066127221107,
          2.1759486814385967,
          -0.9157247903908146,
          0.7573043903288208,
          0.8525082219100658,
          1.3775684363359804,
          -0.5209718415557739,
          -2.271597731691821,
          -0.08398480077020003,
          -0.33718677545218095,
          -0.27604931305172253,
          -0.7962034207852795,
          -0.49027841665655486,
          -1.0982775229569983,
          -0.042387243843414746,
          0.5163102500542561,
          1.7785466583410598,
          -1.3416949295418166,
          -1.6311082373778638,
          1.492610190134358,
          0.972863037543592,
          -0.6384898322851272,
          -0.7730175292304294,
          -0.6079456151824305,
          1.9926044487338437,
          -0.874650338449589,
          0.9522178493738911,
          -0.5919446595493946,
          0.7568928517585953,
          -0.49669195137704325,
          0.8175348807418468,
          -0.4609442296110568,
          -2.152141830296282,
          -1.7698027759212958,
          0.5207224965560626,
          0.676301420293525,
          0.8236286175459849,
          -0.050725899405311005
         ],
         "yaxis": "y15"
        },
        {
         "histfunc": "count",
         "histnorm": "",
         "marker": {
          "color": "rgba(128, 0, 128, 1.0)",
          "line": {
           "color": "#4D5663",
           "width": 1.3
          }
         },
         "name": "D",
         "nbinsx": 10,
         "opacity": 0.8,
         "orientation": "v",
         "type": "histogram",
         "x": [
          -0.7085764894821942,
          -0.12915596758117723,
          1.3172587618783858,
          -1.434581059426418,
          -0.5343845626238716,
          0.2963979887680206,
          -2.3099078313240735,
          0.9468857900174137,
          -1.80818273972675,
          2.0225585686938827,
          0.44527819315356876,
          -0.039819258406981826,
          -0.7335374950541147,
          -0.7010732066261021,
          -0.6914191854133498,
          0.21037132856512575,
          0.7620439811861314,
          0.7969968342643269,
          0.030268152765737032,
          0.7434993182659309,
          -0.41594825213294334,
          -0.7626181029290856,
          -0.13327570589827753,
          -1.5537410595079655,
          0.7524074375738093,
          -0.8536074246875737,
          -0.4313570789876109,
          -1.8134330879451837,
          -1.5141183234637954,
          0.11473398957600751,
          0.400572368646464,
          -1.3184649942211804,
          0.00789963373835907,
          0.835337081456911,
          0.4979578374503871,
          -0.18896623637387774,
          0.16668450259382533,
          0.6547664981254644,
          0.3213322939511967,
          -0.6429313558805019,
          -1.0906747283947604,
          1.2374908623069434,
          0.7061125642011822,
          -0.33538235234826197,
          0.9630669422011241,
          0.3800838916165655,
          0.8731901071528915,
          -0.36209218992689013,
          -0.16770296458616146,
          0.4284768480639033,
          -0.4960932025170286,
          0.8390499321671847,
          0.5602216160464017,
          -1.3310451997228332,
          0.31779034947570123,
          1.0051198755817332,
          0.3206099059933247,
          -0.759959837701889,
          0.38904095125384286,
          0.9604032308369037,
          0.8912906278613976,
          0.17020413245218363,
          -0.11859066127221107,
          2.1759486814385967,
          -0.9157247903908146,
          0.7573043903288208,
          0.8525082219100658,
          1.3775684363359804,
          -0.5209718415557739,
          -2.271597731691821,
          -0.08398480077020003,
          -0.33718677545218095,
          -0.27604931305172253,
          -0.7962034207852795,
          -0.49027841665655486,
          -1.0982775229569983,
          -0.042387243843414746,
          0.5163102500542561,
          1.7785466583410598,
          -1.3416949295418166,
          -1.6311082373778638,
          1.492610190134358,
          0.972863037543592,
          -0.6384898322851272,
          -0.7730175292304294,
          -0.6079456151824305,
          1.9926044487338437,
          -0.874650338449589,
          0.9522178493738911,
          -0.5919446595493946,
          0.7568928517585953,
          -0.49669195137704325,
          0.8175348807418468,
          -0.4609442296110568,
          -2.152141830296282,
          -1.7698027759212958,
          0.5207224965560626,
          0.676301420293525,
          0.8236286175459849,
          -0.050725899405311005
         ],
         "xaxis": "x16",
         "yaxis": "y16"
        }
       ],
       "layout": {
        "bargap": 0.02,
        "legend": {
         "bgcolor": "#F5F6F9",
         "font": {
          "color": "#4D5663"
         }
        },
        "paper_bgcolor": "#F5F6F9",
        "plot_bgcolor": "#F5F6F9",
        "showlegend": false,
        "template": {
         "data": {
          "bar": [
           {
            "error_x": {
             "color": "#2a3f5f"
            },
            "error_y": {
             "color": "#2a3f5f"
            },
            "marker": {
             "line": {
              "color": "#E5ECF6",
              "width": 0.5
             },
             "pattern": {
              "fillmode": "overlay",
              "size": 10,
              "solidity": 0.2
             }
            },
            "type": "bar"
           }
          ],
          "barpolar": [
           {
            "marker": {
             "line": {
              "color": "#E5ECF6",
              "width": 0.5
             },
             "pattern": {
              "fillmode": "overlay",
              "size": 10,
              "solidity": 0.2
             }
            },
            "type": "barpolar"
           }
          ],
          "carpet": [
           {
            "aaxis": {
             "endlinecolor": "#2a3f5f",
             "gridcolor": "white",
             "linecolor": "white",
             "minorgridcolor": "white",
             "startlinecolor": "#2a3f5f"
            },
            "baxis": {
             "endlinecolor": "#2a3f5f",
             "gridcolor": "white",
             "linecolor": "white",
             "minorgridcolor": "white",
             "startlinecolor": "#2a3f5f"
            },
            "type": "carpet"
           }
          ],
          "choropleth": [
           {
            "colorbar": {
             "outlinewidth": 0,
             "ticks": ""
            },
            "type": "choropleth"
           }
          ],
          "contour": [
           {
            "colorbar": {
             "outlinewidth": 0,
             "ticks": ""
            },
            "colorscale": [
             [
              0,
              "#0d0887"
             ],
             [
              0.1111111111111111,
              "#46039f"
             ],
             [
              0.2222222222222222,
              "#7201a8"
             ],
             [
              0.3333333333333333,
              "#9c179e"
             ],
             [
              0.4444444444444444,
              "#bd3786"
             ],
             [
              0.5555555555555556,
              "#d8576b"
             ],
             [
              0.6666666666666666,
              "#ed7953"
             ],
             [
              0.7777777777777778,
              "#fb9f3a"
             ],
             [
              0.8888888888888888,
              "#fdca26"
             ],
             [
              1,
              "#f0f921"
             ]
            ],
            "type": "contour"
           }
          ],
          "contourcarpet": [
           {
            "colorbar": {
             "outlinewidth": 0,
             "ticks": ""
            },
            "type": "contourcarpet"
           }
          ],
          "heatmap": [
           {
            "colorbar": {
             "outlinewidth": 0,
             "ticks": ""
            },
            "colorscale": [
             [
              0,
              "#0d0887"
             ],
             [
              0.1111111111111111,
              "#46039f"
             ],
             [
              0.2222222222222222,
              "#7201a8"
             ],
             [
              0.3333333333333333,
              "#9c179e"
             ],
             [
              0.4444444444444444,
              "#bd3786"
             ],
             [
              0.5555555555555556,
              "#d8576b"
             ],
             [
              0.6666666666666666,
              "#ed7953"
             ],
             [
              0.7777777777777778,
              "#fb9f3a"
             ],
             [
              0.8888888888888888,
              "#fdca26"
             ],
             [
              1,
              "#f0f921"
             ]
            ],
            "type": "heatmap"
           }
          ],
          "heatmapgl": [
           {
            "colorbar": {
             "outlinewidth": 0,
             "ticks": ""
            },
            "colorscale": [
             [
              0,
              "#0d0887"
             ],
             [
              0.1111111111111111,
              "#46039f"
             ],
             [
              0.2222222222222222,
              "#7201a8"
             ],
             [
              0.3333333333333333,
              "#9c179e"
             ],
             [
              0.4444444444444444,
              "#bd3786"
             ],
             [
              0.5555555555555556,
              "#d8576b"
             ],
             [
              0.6666666666666666,
              "#ed7953"
             ],
             [
              0.7777777777777778,
              "#fb9f3a"
             ],
             [
              0.8888888888888888,
              "#fdca26"
             ],
             [
              1,
              "#f0f921"
             ]
            ],
            "type": "heatmapgl"
           }
          ],
          "histogram": [
           {
            "marker": {
             "pattern": {
              "fillmode": "overlay",
              "size": 10,
              "solidity": 0.2
             }
            },
            "type": "histogram"
           }
          ],
          "histogram2d": [
           {
            "colorbar": {
             "outlinewidth": 0,
             "ticks": ""
            },
            "colorscale": [
             [
              0,
              "#0d0887"
             ],
             [
              0.1111111111111111,
              "#46039f"
             ],
             [
              0.2222222222222222,
              "#7201a8"
             ],
             [
              0.3333333333333333,
              "#9c179e"
             ],
             [
              0.4444444444444444,
              "#bd3786"
             ],
             [
              0.5555555555555556,
              "#d8576b"
             ],
             [
              0.6666666666666666,
              "#ed7953"
             ],
             [
              0.7777777777777778,
              "#fb9f3a"
             ],
             [
              0.8888888888888888,
              "#fdca26"
             ],
             [
              1,
              "#f0f921"
             ]
            ],
            "type": "histogram2d"
           }
          ],
          "histogram2dcontour": [
           {
            "colorbar": {
             "outlinewidth": 0,
             "ticks": ""
            },
            "colorscale": [
             [
              0,
              "#0d0887"
             ],
             [
              0.1111111111111111,
              "#46039f"
             ],
             [
              0.2222222222222222,
              "#7201a8"
             ],
             [
              0.3333333333333333,
              "#9c179e"
             ],
             [
              0.4444444444444444,
              "#bd3786"
             ],
             [
              0.5555555555555556,
              "#d8576b"
             ],
             [
              0.6666666666666666,
              "#ed7953"
             ],
             [
              0.7777777777777778,
              "#fb9f3a"
             ],
             [
              0.8888888888888888,
              "#fdca26"
             ],
             [
              1,
              "#f0f921"
             ]
            ],
            "type": "histogram2dcontour"
           }
          ],
          "mesh3d": [
           {
            "colorbar": {
             "outlinewidth": 0,
             "ticks": ""
            },
            "type": "mesh3d"
           }
          ],
          "parcoords": [
           {
            "line": {
             "colorbar": {
              "outlinewidth": 0,
              "ticks": ""
             }
            },
            "type": "parcoords"
           }
          ],
          "pie": [
           {
            "automargin": true,
            "type": "pie"
           }
          ],
          "scatter": [
           {
            "marker": {
             "colorbar": {
              "outlinewidth": 0,
              "ticks": ""
             }
            },
            "type": "scatter"
           }
          ],
          "scatter3d": [
           {
            "line": {
             "colorbar": {
              "outlinewidth": 0,
              "ticks": ""
             }
            },
            "marker": {
             "colorbar": {
              "outlinewidth": 0,
              "ticks": ""
             }
            },
            "type": "scatter3d"
           }
          ],
          "scattercarpet": [
           {
            "marker": {
             "colorbar": {
              "outlinewidth": 0,
              "ticks": ""
             }
            },
            "type": "scattercarpet"
           }
          ],
          "scattergeo": [
           {
            "marker": {
             "colorbar": {
              "outlinewidth": 0,
              "ticks": ""
             }
            },
            "type": "scattergeo"
           }
          ],
          "scattergl": [
           {
            "marker": {
             "colorbar": {
              "outlinewidth": 0,
              "ticks": ""
             }
            },
            "type": "scattergl"
           }
          ],
          "scattermapbox": [
           {
            "marker": {
             "colorbar": {
              "outlinewidth": 0,
              "ticks": ""
             }
            },
            "type": "scattermapbox"
           }
          ],
          "scatterpolar": [
           {
            "marker": {
             "colorbar": {
              "outlinewidth": 0,
              "ticks": ""
             }
            },
            "type": "scatterpolar"
           }
          ],
          "scatterpolargl": [
           {
            "marker": {
             "colorbar": {
              "outlinewidth": 0,
              "ticks": ""
             }
            },
            "type": "scatterpolargl"
           }
          ],
          "scatterternary": [
           {
            "marker": {
             "colorbar": {
              "outlinewidth": 0,
              "ticks": ""
             }
            },
            "type": "scatterternary"
           }
          ],
          "surface": [
           {
            "colorbar": {
             "outlinewidth": 0,
             "ticks": ""
            },
            "colorscale": [
             [
              0,
              "#0d0887"
             ],
             [
              0.1111111111111111,
              "#46039f"
             ],
             [
              0.2222222222222222,
              "#7201a8"
             ],
             [
              0.3333333333333333,
              "#9c179e"
             ],
             [
              0.4444444444444444,
              "#bd3786"
             ],
             [
              0.5555555555555556,
              "#d8576b"
             ],
             [
              0.6666666666666666,
              "#ed7953"
             ],
             [
              0.7777777777777778,
              "#fb9f3a"
             ],
             [
              0.8888888888888888,
              "#fdca26"
             ],
             [
              1,
              "#f0f921"
             ]
            ],
            "type": "surface"
           }
          ],
          "table": [
           {
            "cells": {
             "fill": {
              "color": "#EBF0F8"
             },
             "line": {
              "color": "white"
             }
            },
            "header": {
             "fill": {
              "color": "#C8D4E3"
             },
             "line": {
              "color": "white"
             }
            },
            "type": "table"
           }
          ]
         },
         "layout": {
          "annotationdefaults": {
           "arrowcolor": "#2a3f5f",
           "arrowhead": 0,
           "arrowwidth": 1
          },
          "autotypenumbers": "strict",
          "coloraxis": {
           "colorbar": {
            "outlinewidth": 0,
            "ticks": ""
           }
          },
          "colorscale": {
           "diverging": [
            [
             0,
             "#8e0152"
            ],
            [
             0.1,
             "#c51b7d"
            ],
            [
             0.2,
             "#de77ae"
            ],
            [
             0.3,
             "#f1b6da"
            ],
            [
             0.4,
             "#fde0ef"
            ],
            [
             0.5,
             "#f7f7f7"
            ],
            [
             0.6,
             "#e6f5d0"
            ],
            [
             0.7,
             "#b8e186"
            ],
            [
             0.8,
             "#7fbc41"
            ],
            [
             0.9,
             "#4d9221"
            ],
            [
             1,
             "#276419"
            ]
           ],
           "sequential": [
            [
             0,
             "#0d0887"
            ],
            [
             0.1111111111111111,
             "#46039f"
            ],
            [
             0.2222222222222222,
             "#7201a8"
            ],
            [
             0.3333333333333333,
             "#9c179e"
            ],
            [
             0.4444444444444444,
             "#bd3786"
            ],
            [
             0.5555555555555556,
             "#d8576b"
            ],
            [
             0.6666666666666666,
             "#ed7953"
            ],
            [
             0.7777777777777778,
             "#fb9f3a"
            ],
            [
             0.8888888888888888,
             "#fdca26"
            ],
            [
             1,
             "#f0f921"
            ]
           ],
           "sequentialminus": [
            [
             0,
             "#0d0887"
            ],
            [
             0.1111111111111111,
             "#46039f"
            ],
            [
             0.2222222222222222,
             "#7201a8"
            ],
            [
             0.3333333333333333,
             "#9c179e"
            ],
            [
             0.4444444444444444,
             "#bd3786"
            ],
            [
             0.5555555555555556,
             "#d8576b"
            ],
            [
             0.6666666666666666,
             "#ed7953"
            ],
            [
             0.7777777777777778,
             "#fb9f3a"
            ],
            [
             0.8888888888888888,
             "#fdca26"
            ],
            [
             1,
             "#f0f921"
            ]
           ]
          },
          "colorway": [
           "#636efa",
           "#EF553B",
           "#00cc96",
           "#ab63fa",
           "#FFA15A",
           "#19d3f3",
           "#FF6692",
           "#B6E880",
           "#FF97FF",
           "#FECB52"
          ],
          "font": {
           "color": "#2a3f5f"
          },
          "geo": {
           "bgcolor": "white",
           "lakecolor": "white",
           "landcolor": "#E5ECF6",
           "showlakes": true,
           "showland": true,
           "subunitcolor": "white"
          },
          "hoverlabel": {
           "align": "left"
          },
          "hovermode": "closest",
          "mapbox": {
           "style": "light"
          },
          "paper_bgcolor": "white",
          "plot_bgcolor": "#E5ECF6",
          "polar": {
           "angularaxis": {
            "gridcolor": "white",
            "linecolor": "white",
            "ticks": ""
           },
           "bgcolor": "#E5ECF6",
           "radialaxis": {
            "gridcolor": "white",
            "linecolor": "white",
            "ticks": ""
           }
          },
          "scene": {
           "xaxis": {
            "backgroundcolor": "#E5ECF6",
            "gridcolor": "white",
            "gridwidth": 2,
            "linecolor": "white",
            "showbackground": true,
            "ticks": "",
            "zerolinecolor": "white"
           },
           "yaxis": {
            "backgroundcolor": "#E5ECF6",
            "gridcolor": "white",
            "gridwidth": 2,
            "linecolor": "white",
            "showbackground": true,
            "ticks": "",
            "zerolinecolor": "white"
           },
           "zaxis": {
            "backgroundcolor": "#E5ECF6",
            "gridcolor": "white",
            "gridwidth": 2,
            "linecolor": "white",
            "showbackground": true,
            "ticks": "",
            "zerolinecolor": "white"
           }
          },
          "shapedefaults": {
           "line": {
            "color": "#2a3f5f"
           }
          },
          "ternary": {
           "aaxis": {
            "gridcolor": "white",
            "linecolor": "white",
            "ticks": ""
           },
           "baxis": {
            "gridcolor": "white",
            "linecolor": "white",
            "ticks": ""
           },
           "bgcolor": "#E5ECF6",
           "caxis": {
            "gridcolor": "white",
            "linecolor": "white",
            "ticks": ""
           }
          },
          "title": {
           "x": 0.05
          },
          "xaxis": {
           "automargin": true,
           "gridcolor": "white",
           "linecolor": "white",
           "ticks": "",
           "title": {
            "standoff": 15
           },
           "zerolinecolor": "white",
           "zerolinewidth": 2
          },
          "yaxis": {
           "automargin": true,
           "gridcolor": "white",
           "linecolor": "white",
           "ticks": "",
           "title": {
            "standoff": 15
           },
           "zerolinecolor": "white",
           "zerolinewidth": 2
          }
         }
        },
        "title": {
         "font": {
          "color": "#4D5663"
         }
        },
        "xaxis": {
         "anchor": "y",
         "domain": [
          0,
          0.2125
         ],
         "gridcolor": "#E1E5ED",
         "showgrid": false,
         "tickfont": {
          "color": "#4D5663"
         },
         "title": {
          "font": {
           "color": "#4D5663"
          },
          "text": ""
         },
         "zerolinecolor": "#E1E5ED"
        },
        "xaxis10": {
         "anchor": "y10",
         "domain": [
          0.2625,
          0.475
         ],
         "gridcolor": "#E1E5ED",
         "showgrid": false,
         "tickfont": {
          "color": "#4D5663"
         },
         "title": {
          "font": {
           "color": "#4D5663"
          },
          "text": ""
         },
         "zerolinecolor": "#E1E5ED"
        },
        "xaxis11": {
         "anchor": "y11",
         "domain": [
          0.525,
          0.7375
         ],
         "gridcolor": "#E1E5ED",
         "showgrid": false,
         "tickfont": {
          "color": "#4D5663"
         },
         "title": {
          "font": {
           "color": "#4D5663"
          },
          "text": ""
         },
         "zerolinecolor": "#E1E5ED"
        },
        "xaxis12": {
         "anchor": "y12",
         "domain": [
          0.7875,
          1
         ],
         "gridcolor": "#E1E5ED",
         "showgrid": false,
         "tickfont": {
          "color": "#4D5663"
         },
         "title": {
          "font": {
           "color": "#4D5663"
          },
          "text": ""
         },
         "zerolinecolor": "#E1E5ED"
        },
        "xaxis13": {
         "anchor": "y13",
         "domain": [
          0,
          0.2125
         ],
         "gridcolor": "#E1E5ED",
         "showgrid": false,
         "tickfont": {
          "color": "#4D5663"
         },
         "title": {
          "font": {
           "color": "#4D5663"
          },
          "text": ""
         },
         "zerolinecolor": "#E1E5ED"
        },
        "xaxis14": {
         "anchor": "y14",
         "domain": [
          0.2625,
          0.475
         ],
         "gridcolor": "#E1E5ED",
         "showgrid": false,
         "tickfont": {
          "color": "#4D5663"
         },
         "title": {
          "font": {
           "color": "#4D5663"
          },
          "text": ""
         },
         "zerolinecolor": "#E1E5ED"
        },
        "xaxis15": {
         "anchor": "y15",
         "domain": [
          0.525,
          0.7375
         ],
         "gridcolor": "#E1E5ED",
         "showgrid": false,
         "tickfont": {
          "color": "#4D5663"
         },
         "title": {
          "font": {
           "color": "#4D5663"
          },
          "text": ""
         },
         "zerolinecolor": "#E1E5ED"
        },
        "xaxis16": {
         "anchor": "y16",
         "domain": [
          0.7875,
          1
         ],
         "gridcolor": "#E1E5ED",
         "showgrid": false,
         "tickfont": {
          "color": "#4D5663"
         },
         "title": {
          "font": {
           "color": "#4D5663"
          },
          "text": ""
         },
         "zerolinecolor": "#E1E5ED"
        },
        "xaxis2": {
         "anchor": "y2",
         "domain": [
          0.2625,
          0.475
         ],
         "gridcolor": "#E1E5ED",
         "showgrid": false,
         "tickfont": {
          "color": "#4D5663"
         },
         "title": {
          "font": {
           "color": "#4D5663"
          },
          "text": ""
         },
         "zerolinecolor": "#E1E5ED"
        },
        "xaxis3": {
         "anchor": "y3",
         "domain": [
          0.525,
          0.7375
         ],
         "gridcolor": "#E1E5ED",
         "showgrid": false,
         "tickfont": {
          "color": "#4D5663"
         },
         "title": {
          "font": {
           "color": "#4D5663"
          },
          "text": ""
         },
         "zerolinecolor": "#E1E5ED"
        },
        "xaxis4": {
         "anchor": "y4",
         "domain": [
          0.7875,
          1
         ],
         "gridcolor": "#E1E5ED",
         "showgrid": false,
         "tickfont": {
          "color": "#4D5663"
         },
         "title": {
          "font": {
           "color": "#4D5663"
          },
          "text": ""
         },
         "zerolinecolor": "#E1E5ED"
        },
        "xaxis5": {
         "anchor": "y5",
         "domain": [
          0,
          0.2125
         ],
         "gridcolor": "#E1E5ED",
         "showgrid": false,
         "tickfont": {
          "color": "#4D5663"
         },
         "title": {
          "font": {
           "color": "#4D5663"
          },
          "text": ""
         },
         "zerolinecolor": "#E1E5ED"
        },
        "xaxis6": {
         "anchor": "y6",
         "domain": [
          0.2625,
          0.475
         ],
         "gridcolor": "#E1E5ED",
         "showgrid": false,
         "tickfont": {
          "color": "#4D5663"
         },
         "title": {
          "font": {
           "color": "#4D5663"
          },
          "text": ""
         },
         "zerolinecolor": "#E1E5ED"
        },
        "xaxis7": {
         "anchor": "y7",
         "domain": [
          0.525,
          0.7375
         ],
         "gridcolor": "#E1E5ED",
         "showgrid": false,
         "tickfont": {
          "color": "#4D5663"
         },
         "title": {
          "font": {
           "color": "#4D5663"
          },
          "text": ""
         },
         "zerolinecolor": "#E1E5ED"
        },
        "xaxis8": {
         "anchor": "y8",
         "domain": [
          0.7875,
          1
         ],
         "gridcolor": "#E1E5ED",
         "showgrid": false,
         "tickfont": {
          "color": "#4D5663"
         },
         "title": {
          "font": {
           "color": "#4D5663"
          },
          "text": ""
         },
         "zerolinecolor": "#E1E5ED"
        },
        "xaxis9": {
         "anchor": "y9",
         "domain": [
          0,
          0.2125
         ],
         "gridcolor": "#E1E5ED",
         "showgrid": false,
         "tickfont": {
          "color": "#4D5663"
         },
         "title": {
          "font": {
           "color": "#4D5663"
          },
          "text": ""
         },
         "zerolinecolor": "#E1E5ED"
        },
        "yaxis": {
         "anchor": "x",
         "domain": [
          0.8025,
          1
         ],
         "gridcolor": "#E1E5ED",
         "showgrid": false,
         "tickfont": {
          "color": "#4D5663"
         },
         "title": {
          "font": {
           "color": "#4D5663"
          },
          "text": ""
         },
         "zerolinecolor": "#E1E5ED"
        },
        "yaxis10": {
         "anchor": "x10",
         "domain": [
          0.2675,
          0.465
         ],
         "gridcolor": "#E1E5ED",
         "showgrid": false,
         "tickfont": {
          "color": "#4D5663"
         },
         "title": {
          "font": {
           "color": "#4D5663"
          },
          "text": ""
         },
         "zerolinecolor": "#E1E5ED"
        },
        "yaxis11": {
         "anchor": "x11",
         "domain": [
          0.2675,
          0.465
         ],
         "gridcolor": "#E1E5ED",
         "showgrid": false,
         "tickfont": {
          "color": "#4D5663"
         },
         "title": {
          "font": {
           "color": "#4D5663"
          },
          "text": ""
         },
         "zerolinecolor": "#E1E5ED"
        },
        "yaxis12": {
         "anchor": "x12",
         "domain": [
          0.2675,
          0.465
         ],
         "gridcolor": "#E1E5ED",
         "showgrid": false,
         "tickfont": {
          "color": "#4D5663"
         },
         "title": {
          "font": {
           "color": "#4D5663"
          },
          "text": ""
         },
         "zerolinecolor": "#E1E5ED"
        },
        "yaxis13": {
         "anchor": "x13",
         "domain": [
          0,
          0.1975
         ],
         "gridcolor": "#E1E5ED",
         "showgrid": false,
         "tickfont": {
          "color": "#4D5663"
         },
         "title": {
          "font": {
           "color": "#4D5663"
          },
          "text": ""
         },
         "zerolinecolor": "#E1E5ED"
        },
        "yaxis14": {
         "anchor": "x14",
         "domain": [
          0,
          0.1975
         ],
         "gridcolor": "#E1E5ED",
         "showgrid": false,
         "tickfont": {
          "color": "#4D5663"
         },
         "title": {
          "font": {
           "color": "#4D5663"
          },
          "text": ""
         },
         "zerolinecolor": "#E1E5ED"
        },
        "yaxis15": {
         "anchor": "x15",
         "domain": [
          0,
          0.1975
         ],
         "gridcolor": "#E1E5ED",
         "showgrid": false,
         "tickfont": {
          "color": "#4D5663"
         },
         "title": {
          "font": {
           "color": "#4D5663"
          },
          "text": ""
         },
         "zerolinecolor": "#E1E5ED"
        },
        "yaxis16": {
         "anchor": "x16",
         "domain": [
          0,
          0.1975
         ],
         "gridcolor": "#E1E5ED",
         "showgrid": false,
         "tickfont": {
          "color": "#4D5663"
         },
         "title": {
          "font": {
           "color": "#4D5663"
          },
          "text": ""
         },
         "zerolinecolor": "#E1E5ED"
        },
        "yaxis2": {
         "anchor": "x2",
         "domain": [
          0.8025,
          1
         ],
         "gridcolor": "#E1E5ED",
         "showgrid": false,
         "tickfont": {
          "color": "#4D5663"
         },
         "title": {
          "font": {
           "color": "#4D5663"
          },
          "text": ""
         },
         "zerolinecolor": "#E1E5ED"
        },
        "yaxis3": {
         "anchor": "x3",
         "domain": [
          0.8025,
          1
         ],
         "gridcolor": "#E1E5ED",
         "showgrid": false,
         "tickfont": {
          "color": "#4D5663"
         },
         "title": {
          "font": {
           "color": "#4D5663"
          },
          "text": ""
         },
         "zerolinecolor": "#E1E5ED"
        },
        "yaxis4": {
         "anchor": "x4",
         "domain": [
          0.8025,
          1
         ],
         "gridcolor": "#E1E5ED",
         "showgrid": false,
         "tickfont": {
          "color": "#4D5663"
         },
         "title": {
          "font": {
           "color": "#4D5663"
          },
          "text": ""
         },
         "zerolinecolor": "#E1E5ED"
        },
        "yaxis5": {
         "anchor": "x5",
         "domain": [
          0.535,
          0.7325
         ],
         "gridcolor": "#E1E5ED",
         "showgrid": false,
         "tickfont": {
          "color": "#4D5663"
         },
         "title": {
          "font": {
           "color": "#4D5663"
          },
          "text": ""
         },
         "zerolinecolor": "#E1E5ED"
        },
        "yaxis6": {
         "anchor": "x6",
         "domain": [
          0.535,
          0.7325
         ],
         "gridcolor": "#E1E5ED",
         "showgrid": false,
         "tickfont": {
          "color": "#4D5663"
         },
         "title": {
          "font": {
           "color": "#4D5663"
          },
          "text": ""
         },
         "zerolinecolor": "#E1E5ED"
        },
        "yaxis7": {
         "anchor": "x7",
         "domain": [
          0.535,
          0.7325
         ],
         "gridcolor": "#E1E5ED",
         "showgrid": false,
         "tickfont": {
          "color": "#4D5663"
         },
         "title": {
          "font": {
           "color": "#4D5663"
          },
          "text": ""
         },
         "zerolinecolor": "#E1E5ED"
        },
        "yaxis8": {
         "anchor": "x8",
         "domain": [
          0.535,
          0.7325
         ],
         "gridcolor": "#E1E5ED",
         "showgrid": false,
         "tickfont": {
          "color": "#4D5663"
         },
         "title": {
          "font": {
           "color": "#4D5663"
          },
          "text": ""
         },
         "zerolinecolor": "#E1E5ED"
        },
        "yaxis9": {
         "anchor": "x9",
         "domain": [
          0.2675,
          0.465
         ],
         "gridcolor": "#E1E5ED",
         "showgrid": false,
         "tickfont": {
          "color": "#4D5663"
         },
         "title": {
          "font": {
           "color": "#4D5663"
          },
          "text": ""
         },
         "zerolinecolor": "#E1E5ED"
        }
       }
      },
      "text/html": [
       "<div>                            <div id=\"7cb72aa1-f611-493d-bf33-fddfd1c889dd\" class=\"plotly-graph-div\" style=\"height:525px; width:100%;\"></div>            <script type=\"text/javascript\">                require([\"plotly\"], function(Plotly) {                    window.PLOTLYENV=window.PLOTLYENV || {};\n",
       "                    window.PLOTLYENV.BASE_URL='https://plot.ly';                                    if (document.getElementById(\"7cb72aa1-f611-493d-bf33-fddfd1c889dd\")) {                    Plotly.newPlot(                        \"7cb72aa1-f611-493d-bf33-fddfd1c889dd\",                        [{\"histfunc\":\"count\",\"histnorm\":\"\",\"marker\":{\"color\":\"rgba(255, 153, 51, 1.0)\",\"line\":{\"color\":\"#4D5663\",\"width\":1.3}},\"name\":\"A\",\"nbinsx\":10,\"opacity\":0.8,\"orientation\":\"v\",\"type\":\"histogram\",\"x\":[-1.8554435537542446,-0.3341474199101263,0.6857288575880798,0.12905925770490762,-0.13012084534391954,0.31598165716367344,-0.6814310339065305,-1.1857454279657653,0.16250831411290528,-0.23503431588320337,-0.6957583990035138,1.2656447012812229,0.7895454890395617,2.0102173729408683,0.45824801008669885,-0.5925775507399346,-0.41533289809186974,-0.4731233300668129,0.6843718826788863,0.5391706433363241,-1.1002556394218257,1.2609445362966492,-1.7026894192926318,0.8280922879606232,-0.47841132251611046,1.354448480034928,0.018522114685147483,-1.3413367864778607,-0.8895958524461421,-0.020608380047677472,-1.7240966400672362,0.28458344629001064,0.21661681618247094,1.2179864561575975,0.8482671466620583,-0.4077952273242937,-0.8049643523268022,-0.9176116556344076,-0.9356801704572217,-0.9699739380556349,0.650589802528572,2.547846456025026,-0.7096211873633143,-0.9174229907763136,1.1386671385820821,-1.369325539411084,-0.9842603474076804,0.5945869819604048,-0.23886050975260292,-0.46923690573927296,-1.142607594480248,-0.3611762312877647,-0.39933525169718176,2.2769382620127003,-0.8380458528707962,-0.6124392004285225,0.6961616835141131,-1.2277256681748399,-0.6165936577607377,1.4531742490758173,0.8324616086776321,0.08734935814075497,-0.27779001599273256,-0.386556029563755,0.5076935684905723,0.023459583819070404,0.7011956785778897,-2.064037457273387,0.5982278808302534,-0.24015821493527018,-0.20554533443737275,-0.28217079271367657,-1.7845227166301205,-0.5601415555592549,0.8084747503072853,0.37966132136188563,-0.6195525229757263,0.3758208757878301,1.4200248431796674,2.0659398607101047,0.9587108211966137,2.061807877022249,0.18050161272834003,-0.6540684677740707,-0.8644330224870201,-1.261133780633743,-1.1276839315268843,-0.8470709717782499,-0.8077457919626311,0.0022270729652858353,1.266205085899191,0.9466066247483059,0.0931235624221537,-0.6925655411798486,0.23552797185724408,-0.7126173671952934,-0.4802895517750804,-1.0320031452653156,-0.6525272343747045,0.6660110832512804],\"xaxis\":\"x\",\"yaxis\":\"y\"},{\"line\":{\"color\":\"rgba(128, 128, 128, 1.0)\",\"dash\":\"solid\",\"shape\":\"linear\",\"width\":1.3},\"marker\":{\"size\":2,\"symbol\":\"circle\"},\"mode\":\"markers\",\"name\":\"A\",\"text\":\"\",\"type\":\"scatter\",\"x\":[1.0586797192233903,-1.2488855889850787,1.0700151137375091,0.2686994557666863,1.3465290941441121,0.3186439119999515,-0.26028613353663094,1.9624262321531245,0.794702271935496,1.4578086509674228,0.8172558401456013,0.2187013708779096,-0.74633696389924,-0.6733073789184151,-0.44481066657090934,1.0312849971810147,0.4182887878043122,0.18075131754173723,-2.0632733329402897,-0.8721967137920469,-0.9573519080715821,-0.8861931972275268,-1.7326911974350716,-0.9429172488362749,-1.141069187838,-0.18520134114365153,-0.5886045112319811,-0.4412941810900815,0.8285074424484511,0.13457702058627252,0.47559709859240257,0.24770049355141352,0.9973592817712069,0.531818650682605,0.25726486227163997,1.328493993017877,-0.11100689228117118,-0.22650857209597733,-0.7144840251026895,-1.0416718983455615,1.0736890893435829,-0.4950066633518595,-0.4348511389029561,2.8329467756340896,-0.4304483343702159,1.168993274249435,-0.6489183721758839,1.919777073493157,-0.7889677310786267,0.18372995625021743,-0.8774390102542554,-1.3138910309500251,0.32224629900799545,0.6853772906954757,-0.4782068224275819,-1.564547761029822,-1.456102616980963,-0.21772121032784514,-0.45293861005754127,1.3668566239085884,0.8204827551253541,-0.8789693591255126,0.2218945456519545,0.194766032165579,-0.32635090654867477,-1.3788456354471674,0.47301453080933087,-2.1463860553599283,0.588115532577788,-0.12100941076370306,1.1149475486037261,0.4065778223793015,-1.2420822666880773,0.6070864401924375,-2.151910704876458,0.3346452250376028,1.2624867269449833,-2.5315629613213484,-0.8227144688835754,-0.1236309975200574,-0.49219807187445436,-1.2097029964449502,-1.3727932974505603,0.44527990572978465,0.5434203966297816,0.3391141018642361,1.753647349388627,-0.5326619816135323,-0.12867178804487858,0.4902779339654576,0.35554607301596713,0.9779360084073613,-0.5302310144497281,-0.7591554389356049,-0.7203209807891244,-0.019652813053141524,0.6442268447826572,-1.6223502424253848,-0.03034172033845018,-0.28111681045492665],\"xaxis\":\"x2\",\"y\":[-1.8554435537542446,-0.3341474199101263,0.6857288575880798,0.12905925770490762,-0.13012084534391954,0.31598165716367344,-0.6814310339065305,-1.1857454279657653,0.16250831411290528,-0.23503431588320337,-0.6957583990035138,1.2656447012812229,0.7895454890395617,2.0102173729408683,0.45824801008669885,-0.5925775507399346,-0.41533289809186974,-0.4731233300668129,0.6843718826788863,0.5391706433363241,-1.1002556394218257,1.2609445362966492,-1.7026894192926318,0.8280922879606232,-0.47841132251611046,1.354448480034928,0.018522114685147483,-1.3413367864778607,-0.8895958524461421,-0.020608380047677472,-1.7240966400672362,0.28458344629001064,0.21661681618247094,1.2179864561575975,0.8482671466620583,-0.4077952273242937,-0.8049643523268022,-0.9176116556344076,-0.9356801704572217,-0.9699739380556349,0.650589802528572,2.547846456025026,-0.7096211873633143,-0.9174229907763136,1.1386671385820821,-1.369325539411084,-0.9842603474076804,0.5945869819604048,-0.23886050975260292,-0.46923690573927296,-1.142607594480248,-0.3611762312877647,-0.39933525169718176,2.2769382620127003,-0.8380458528707962,-0.6124392004285225,0.6961616835141131,-1.2277256681748399,-0.6165936577607377,1.4531742490758173,0.8324616086776321,0.08734935814075497,-0.27779001599273256,-0.386556029563755,0.5076935684905723,0.023459583819070404,0.7011956785778897,-2.064037457273387,0.5982278808302534,-0.24015821493527018,-0.20554533443737275,-0.28217079271367657,-1.7845227166301205,-0.5601415555592549,0.8084747503072853,0.37966132136188563,-0.6195525229757263,0.3758208757878301,1.4200248431796674,2.0659398607101047,0.9587108211966137,2.061807877022249,0.18050161272834003,-0.6540684677740707,-0.8644330224870201,-1.261133780633743,-1.1276839315268843,-0.8470709717782499,-0.8077457919626311,0.0022270729652858353,1.266205085899191,0.9466066247483059,0.0931235624221537,-0.6925655411798486,0.23552797185724408,-0.7126173671952934,-0.4802895517750804,-1.0320031452653156,-0.6525272343747045,0.6660110832512804],\"yaxis\":\"y2\"},{\"line\":{\"color\":\"rgba(128, 128, 128, 1.0)\",\"dash\":\"solid\",\"shape\":\"linear\",\"width\":1.3},\"marker\":{\"size\":2,\"symbol\":\"circle\"},\"mode\":\"markers\",\"name\":\"A\",\"text\":\"\",\"type\":\"scatter\",\"x\":[0.09917702010193938,-0.46868047378474087,0.5949258159527525,1.6478485545586035,0.3016248921654869,-0.8080545672660209,-2.1188095478004194,0.8594606141495871,0.8292713997862055,1.6708518995476391,0.6120160203798393,1.5105163218286823,0.5691135987249639,0.6566471882172462,0.3420156550263439,-0.4411683654275913,-0.5886111554302329,-0.8152751218926938,0.49222463660246707,-0.5787344819819856,0.9561174625326011,-0.2707188791419852,-0.9802168713123773,-0.8240596503995492,0.7306962433522558,-0.32022539754106777,-2.065587528649272,-0.5821224629582098,0.15838323425199727,0.4008578989668309,-0.18106622772390113,-0.8351912950136509,0.1605906289721576,1.7713399993433627,0.30021576059131483,-1.403086030515181,-0.9456893256670308,-0.1274608908419728,0.6687598195192176,-0.15279778369058775,-0.7032641280087182,0.6226349957776174,-1.5951450098353386,-0.4496120801166754,-1.1965836774969432,1.2269657530813707,-1.7517447424622514,0.9834862575215471,-0.664789843670582,0.9152075389812178,0.9414936511533228,-1.4453352420094756,-1.155291790632457,-1.0316997278674849,1.4125048571850645,0.5357529211449548,-0.045837813489790165,0.03524703430738961,-0.6368800449488092,0.2651462582503736,0.09590123572694538,-1.4972271631117675,-0.5199780684951362,-0.6794392215132271,-2.1882799431084554,0.7599944699495044,0.00888997446505838,-1.8118637679374485,0.14709105894657584,1.5635608902256173,0.6676910824154867,-1.1655002104708385,0.15816334667031878,1.245076980434046,-0.46496843467443283,0.5584954767846282,-1.2595251830606093,-2.109463298689511,-0.4884882503365179,0.36945478638890505,-0.2835026746618209,1.9612149864328858,-0.28221348203405405,1.2145113824373808,1.6022224227901656,1.120229211567683,-0.9748024396170659,-0.6855566993709195,0.7366107876685423,-1.9299127824094022,0.05242176138607656,1.1617503304511858,-0.09244602594364117,-0.22654313084700278,0.1727337173584885,-0.9415680809762029,0.41917688707654654,0.4338937059023062,0.8101871452055606,0.7584141241022428],\"xaxis\":\"x3\",\"y\":[-1.8554435537542446,-0.3341474199101263,0.6857288575880798,0.12905925770490762,-0.13012084534391954,0.31598165716367344,-0.6814310339065305,-1.1857454279657653,0.16250831411290528,-0.23503431588320337,-0.6957583990035138,1.2656447012812229,0.7895454890395617,2.0102173729408683,0.45824801008669885,-0.5925775507399346,-0.41533289809186974,-0.4731233300668129,0.6843718826788863,0.5391706433363241,-1.1002556394218257,1.2609445362966492,-1.7026894192926318,0.8280922879606232,-0.47841132251611046,1.354448480034928,0.018522114685147483,-1.3413367864778607,-0.8895958524461421,-0.020608380047677472,-1.7240966400672362,0.28458344629001064,0.21661681618247094,1.2179864561575975,0.8482671466620583,-0.4077952273242937,-0.8049643523268022,-0.9176116556344076,-0.9356801704572217,-0.9699739380556349,0.650589802528572,2.547846456025026,-0.7096211873633143,-0.9174229907763136,1.1386671385820821,-1.369325539411084,-0.9842603474076804,0.5945869819604048,-0.23886050975260292,-0.46923690573927296,-1.142607594480248,-0.3611762312877647,-0.39933525169718176,2.2769382620127003,-0.8380458528707962,-0.6124392004285225,0.6961616835141131,-1.2277256681748399,-0.6165936577607377,1.4531742490758173,0.8324616086776321,0.08734935814075497,-0.27779001599273256,-0.386556029563755,0.5076935684905723,0.023459583819070404,0.7011956785778897,-2.064037457273387,0.5982278808302534,-0.24015821493527018,-0.20554533443737275,-0.28217079271367657,-1.7845227166301205,-0.5601415555592549,0.8084747503072853,0.37966132136188563,-0.6195525229757263,0.3758208757878301,1.4200248431796674,2.0659398607101047,0.9587108211966137,2.061807877022249,0.18050161272834003,-0.6540684677740707,-0.8644330224870201,-1.261133780633743,-1.1276839315268843,-0.8470709717782499,-0.8077457919626311,0.0022270729652858353,1.266205085899191,0.9466066247483059,0.0931235624221537,-0.6925655411798486,0.23552797185724408,-0.7126173671952934,-0.4802895517750804,-1.0320031452653156,-0.6525272343747045,0.6660110832512804],\"yaxis\":\"y3\"},{\"line\":{\"color\":\"rgba(128, 128, 128, 1.0)\",\"dash\":\"solid\",\"shape\":\"linear\",\"width\":1.3},\"marker\":{\"size\":2,\"symbol\":\"circle\"},\"mode\":\"markers\",\"name\":\"A\",\"text\":\"\",\"type\":\"scatter\",\"x\":[-0.7085764894821942,-0.12915596758117723,1.3172587618783858,-1.434581059426418,-0.5343845626238716,0.2963979887680206,-2.3099078313240735,0.9468857900174137,-1.80818273972675,2.0225585686938827,0.44527819315356876,-0.039819258406981826,-0.7335374950541147,-0.7010732066261021,-0.6914191854133498,0.21037132856512575,0.7620439811861314,0.7969968342643269,0.030268152765737032,0.7434993182659309,-0.41594825213294334,-0.7626181029290856,-0.13327570589827753,-1.5537410595079655,0.7524074375738093,-0.8536074246875737,-0.4313570789876109,-1.8134330879451837,-1.5141183234637954,0.11473398957600751,0.400572368646464,-1.3184649942211804,0.00789963373835907,0.835337081456911,0.4979578374503871,-0.18896623637387774,0.16668450259382533,0.6547664981254644,0.3213322939511967,-0.6429313558805019,-1.0906747283947604,1.2374908623069434,0.7061125642011822,-0.33538235234826197,0.9630669422011241,0.3800838916165655,0.8731901071528915,-0.36209218992689013,-0.16770296458616146,0.4284768480639033,-0.4960932025170286,0.8390499321671847,0.5602216160464017,-1.3310451997228332,0.31779034947570123,1.0051198755817332,0.3206099059933247,-0.759959837701889,0.38904095125384286,0.9604032308369037,0.8912906278613976,0.17020413245218363,-0.11859066127221107,2.1759486814385967,-0.9157247903908146,0.7573043903288208,0.8525082219100658,1.3775684363359804,-0.5209718415557739,-2.271597731691821,-0.08398480077020003,-0.33718677545218095,-0.27604931305172253,-0.7962034207852795,-0.49027841665655486,-1.0982775229569983,-0.042387243843414746,0.5163102500542561,1.7785466583410598,-1.3416949295418166,-1.6311082373778638,1.492610190134358,0.972863037543592,-0.6384898322851272,-0.7730175292304294,-0.6079456151824305,1.9926044487338437,-0.874650338449589,0.9522178493738911,-0.5919446595493946,0.7568928517585953,-0.49669195137704325,0.8175348807418468,-0.4609442296110568,-2.152141830296282,-1.7698027759212958,0.5207224965560626,0.676301420293525,0.8236286175459849,-0.050725899405311005],\"xaxis\":\"x4\",\"y\":[-1.8554435537542446,-0.3341474199101263,0.6857288575880798,0.12905925770490762,-0.13012084534391954,0.31598165716367344,-0.6814310339065305,-1.1857454279657653,0.16250831411290528,-0.23503431588320337,-0.6957583990035138,1.2656447012812229,0.7895454890395617,2.0102173729408683,0.45824801008669885,-0.5925775507399346,-0.41533289809186974,-0.4731233300668129,0.6843718826788863,0.5391706433363241,-1.1002556394218257,1.2609445362966492,-1.7026894192926318,0.8280922879606232,-0.47841132251611046,1.354448480034928,0.018522114685147483,-1.3413367864778607,-0.8895958524461421,-0.020608380047677472,-1.7240966400672362,0.28458344629001064,0.21661681618247094,1.2179864561575975,0.8482671466620583,-0.4077952273242937,-0.8049643523268022,-0.9176116556344076,-0.9356801704572217,-0.9699739380556349,0.650589802528572,2.547846456025026,-0.7096211873633143,-0.9174229907763136,1.1386671385820821,-1.369325539411084,-0.9842603474076804,0.5945869819604048,-0.23886050975260292,-0.46923690573927296,-1.142607594480248,-0.3611762312877647,-0.39933525169718176,2.2769382620127003,-0.8380458528707962,-0.6124392004285225,0.6961616835141131,-1.2277256681748399,-0.6165936577607377,1.4531742490758173,0.8324616086776321,0.08734935814075497,-0.27779001599273256,-0.386556029563755,0.5076935684905723,0.023459583819070404,0.7011956785778897,-2.064037457273387,0.5982278808302534,-0.24015821493527018,-0.20554533443737275,-0.28217079271367657,-1.7845227166301205,-0.5601415555592549,0.8084747503072853,0.37966132136188563,-0.6195525229757263,0.3758208757878301,1.4200248431796674,2.0659398607101047,0.9587108211966137,2.061807877022249,0.18050161272834003,-0.6540684677740707,-0.8644330224870201,-1.261133780633743,-1.1276839315268843,-0.8470709717782499,-0.8077457919626311,0.0022270729652858353,1.266205085899191,0.9466066247483059,0.0931235624221537,-0.6925655411798486,0.23552797185724408,-0.7126173671952934,-0.4802895517750804,-1.0320031452653156,-0.6525272343747045,0.6660110832512804],\"yaxis\":\"y4\"},{\"line\":{\"color\":\"rgba(128, 128, 128, 1.0)\",\"dash\":\"solid\",\"shape\":\"linear\",\"width\":1.3},\"marker\":{\"size\":2,\"symbol\":\"circle\"},\"mode\":\"markers\",\"name\":\"B\",\"text\":\"\",\"type\":\"scatter\",\"x\":[-1.8554435537542446,-0.3341474199101263,0.6857288575880798,0.12905925770490762,-0.13012084534391954,0.31598165716367344,-0.6814310339065305,-1.1857454279657653,0.16250831411290528,-0.23503431588320337,-0.6957583990035138,1.2656447012812229,0.7895454890395617,2.0102173729408683,0.45824801008669885,-0.5925775507399346,-0.41533289809186974,-0.4731233300668129,0.6843718826788863,0.5391706433363241,-1.1002556394218257,1.2609445362966492,-1.7026894192926318,0.8280922879606232,-0.47841132251611046,1.354448480034928,0.018522114685147483,-1.3413367864778607,-0.8895958524461421,-0.020608380047677472,-1.7240966400672362,0.28458344629001064,0.21661681618247094,1.2179864561575975,0.8482671466620583,-0.4077952273242937,-0.8049643523268022,-0.9176116556344076,-0.9356801704572217,-0.9699739380556349,0.650589802528572,2.547846456025026,-0.7096211873633143,-0.9174229907763136,1.1386671385820821,-1.369325539411084,-0.9842603474076804,0.5945869819604048,-0.23886050975260292,-0.46923690573927296,-1.142607594480248,-0.3611762312877647,-0.39933525169718176,2.2769382620127003,-0.8380458528707962,-0.6124392004285225,0.6961616835141131,-1.2277256681748399,-0.6165936577607377,1.4531742490758173,0.8324616086776321,0.08734935814075497,-0.27779001599273256,-0.386556029563755,0.5076935684905723,0.023459583819070404,0.7011956785778897,-2.064037457273387,0.5982278808302534,-0.24015821493527018,-0.20554533443737275,-0.28217079271367657,-1.7845227166301205,-0.5601415555592549,0.8084747503072853,0.37966132136188563,-0.6195525229757263,0.3758208757878301,1.4200248431796674,2.0659398607101047,0.9587108211966137,2.061807877022249,0.18050161272834003,-0.6540684677740707,-0.8644330224870201,-1.261133780633743,-1.1276839315268843,-0.8470709717782499,-0.8077457919626311,0.0022270729652858353,1.266205085899191,0.9466066247483059,0.0931235624221537,-0.6925655411798486,0.23552797185724408,-0.7126173671952934,-0.4802895517750804,-1.0320031452653156,-0.6525272343747045,0.6660110832512804],\"xaxis\":\"x5\",\"y\":[1.0586797192233903,-1.2488855889850787,1.0700151137375091,0.2686994557666863,1.3465290941441121,0.3186439119999515,-0.26028613353663094,1.9624262321531245,0.794702271935496,1.4578086509674228,0.8172558401456013,0.2187013708779096,-0.74633696389924,-0.6733073789184151,-0.44481066657090934,1.0312849971810147,0.4182887878043122,0.18075131754173723,-2.0632733329402897,-0.8721967137920469,-0.9573519080715821,-0.8861931972275268,-1.7326911974350716,-0.9429172488362749,-1.141069187838,-0.18520134114365153,-0.5886045112319811,-0.4412941810900815,0.8285074424484511,0.13457702058627252,0.47559709859240257,0.24770049355141352,0.9973592817712069,0.531818650682605,0.25726486227163997,1.328493993017877,-0.11100689228117118,-0.22650857209597733,-0.7144840251026895,-1.0416718983455615,1.0736890893435829,-0.4950066633518595,-0.4348511389029561,2.8329467756340896,-0.4304483343702159,1.168993274249435,-0.6489183721758839,1.919777073493157,-0.7889677310786267,0.18372995625021743,-0.8774390102542554,-1.3138910309500251,0.32224629900799545,0.6853772906954757,-0.4782068224275819,-1.564547761029822,-1.456102616980963,-0.21772121032784514,-0.45293861005754127,1.3668566239085884,0.8204827551253541,-0.8789693591255126,0.2218945456519545,0.194766032165579,-0.32635090654867477,-1.3788456354471674,0.47301453080933087,-2.1463860553599283,0.588115532577788,-0.12100941076370306,1.1149475486037261,0.4065778223793015,-1.2420822666880773,0.6070864401924375,-2.151910704876458,0.3346452250376028,1.2624867269449833,-2.5315629613213484,-0.8227144688835754,-0.1236309975200574,-0.49219807187445436,-1.2097029964449502,-1.3727932974505603,0.44527990572978465,0.5434203966297816,0.3391141018642361,1.753647349388627,-0.5326619816135323,-0.12867178804487858,0.4902779339654576,0.35554607301596713,0.9779360084073613,-0.5302310144497281,-0.7591554389356049,-0.7203209807891244,-0.019652813053141524,0.6442268447826572,-1.6223502424253848,-0.03034172033845018,-0.28111681045492665],\"yaxis\":\"y5\"},{\"histfunc\":\"count\",\"histnorm\":\"\",\"marker\":{\"color\":\"rgba(55, 128, 191, 1.0)\",\"line\":{\"color\":\"#4D5663\",\"width\":1.3}},\"name\":\"B\",\"nbinsx\":10,\"opacity\":0.8,\"orientation\":\"v\",\"type\":\"histogram\",\"x\":[1.0586797192233903,-1.2488855889850787,1.0700151137375091,0.2686994557666863,1.3465290941441121,0.3186439119999515,-0.26028613353663094,1.9624262321531245,0.794702271935496,1.4578086509674228,0.8172558401456013,0.2187013708779096,-0.74633696389924,-0.6733073789184151,-0.44481066657090934,1.0312849971810147,0.4182887878043122,0.18075131754173723,-2.0632733329402897,-0.8721967137920469,-0.9573519080715821,-0.8861931972275268,-1.7326911974350716,-0.9429172488362749,-1.141069187838,-0.18520134114365153,-0.5886045112319811,-0.4412941810900815,0.8285074424484511,0.13457702058627252,0.47559709859240257,0.24770049355141352,0.9973592817712069,0.531818650682605,0.25726486227163997,1.328493993017877,-0.11100689228117118,-0.22650857209597733,-0.7144840251026895,-1.0416718983455615,1.0736890893435829,-0.4950066633518595,-0.4348511389029561,2.8329467756340896,-0.4304483343702159,1.168993274249435,-0.6489183721758839,1.919777073493157,-0.7889677310786267,0.18372995625021743,-0.8774390102542554,-1.3138910309500251,0.32224629900799545,0.6853772906954757,-0.4782068224275819,-1.564547761029822,-1.456102616980963,-0.21772121032784514,-0.45293861005754127,1.3668566239085884,0.8204827551253541,-0.8789693591255126,0.2218945456519545,0.194766032165579,-0.32635090654867477,-1.3788456354471674,0.47301453080933087,-2.1463860553599283,0.588115532577788,-0.12100941076370306,1.1149475486037261,0.4065778223793015,-1.2420822666880773,0.6070864401924375,-2.151910704876458,0.3346452250376028,1.2624867269449833,-2.5315629613213484,-0.8227144688835754,-0.1236309975200574,-0.49219807187445436,-1.2097029964449502,-1.3727932974505603,0.44527990572978465,0.5434203966297816,0.3391141018642361,1.753647349388627,-0.5326619816135323,-0.12867178804487858,0.4902779339654576,0.35554607301596713,0.9779360084073613,-0.5302310144497281,-0.7591554389356049,-0.7203209807891244,-0.019652813053141524,0.6442268447826572,-1.6223502424253848,-0.03034172033845018,-0.28111681045492665],\"xaxis\":\"x6\",\"yaxis\":\"y6\"},{\"line\":{\"color\":\"rgba(128, 128, 128, 1.0)\",\"dash\":\"solid\",\"shape\":\"linear\",\"width\":1.3},\"marker\":{\"size\":2,\"symbol\":\"circle\"},\"mode\":\"markers\",\"name\":\"B\",\"text\":\"\",\"type\":\"scatter\",\"x\":[0.09917702010193938,-0.46868047378474087,0.5949258159527525,1.6478485545586035,0.3016248921654869,-0.8080545672660209,-2.1188095478004194,0.8594606141495871,0.8292713997862055,1.6708518995476391,0.6120160203798393,1.5105163218286823,0.5691135987249639,0.6566471882172462,0.3420156550263439,-0.4411683654275913,-0.5886111554302329,-0.8152751218926938,0.49222463660246707,-0.5787344819819856,0.9561174625326011,-0.2707188791419852,-0.9802168713123773,-0.8240596503995492,0.7306962433522558,-0.32022539754106777,-2.065587528649272,-0.5821224629582098,0.15838323425199727,0.4008578989668309,-0.18106622772390113,-0.8351912950136509,0.1605906289721576,1.7713399993433627,0.30021576059131483,-1.403086030515181,-0.9456893256670308,-0.1274608908419728,0.6687598195192176,-0.15279778369058775,-0.7032641280087182,0.6226349957776174,-1.5951450098353386,-0.4496120801166754,-1.1965836774969432,1.2269657530813707,-1.7517447424622514,0.9834862575215471,-0.664789843670582,0.9152075389812178,0.9414936511533228,-1.4453352420094756,-1.155291790632457,-1.0316997278674849,1.4125048571850645,0.5357529211449548,-0.045837813489790165,0.03524703430738961,-0.6368800449488092,0.2651462582503736,0.09590123572694538,-1.4972271631117675,-0.5199780684951362,-0.6794392215132271,-2.1882799431084554,0.7599944699495044,0.00888997446505838,-1.8118637679374485,0.14709105894657584,1.5635608902256173,0.6676910824154867,-1.1655002104708385,0.15816334667031878,1.245076980434046,-0.46496843467443283,0.5584954767846282,-1.2595251830606093,-2.109463298689511,-0.4884882503365179,0.36945478638890505,-0.2835026746618209,1.9612149864328858,-0.28221348203405405,1.2145113824373808,1.6022224227901656,1.120229211567683,-0.9748024396170659,-0.6855566993709195,0.7366107876685423,-1.9299127824094022,0.05242176138607656,1.1617503304511858,-0.09244602594364117,-0.22654313084700278,0.1727337173584885,-0.9415680809762029,0.41917688707654654,0.4338937059023062,0.8101871452055606,0.7584141241022428],\"xaxis\":\"x7\",\"y\":[1.0586797192233903,-1.2488855889850787,1.0700151137375091,0.2686994557666863,1.3465290941441121,0.3186439119999515,-0.26028613353663094,1.9624262321531245,0.794702271935496,1.4578086509674228,0.8172558401456013,0.2187013708779096,-0.74633696389924,-0.6733073789184151,-0.44481066657090934,1.0312849971810147,0.4182887878043122,0.18075131754173723,-2.0632733329402897,-0.8721967137920469,-0.9573519080715821,-0.8861931972275268,-1.7326911974350716,-0.9429172488362749,-1.141069187838,-0.18520134114365153,-0.5886045112319811,-0.4412941810900815,0.8285074424484511,0.13457702058627252,0.47559709859240257,0.24770049355141352,0.9973592817712069,0.531818650682605,0.25726486227163997,1.328493993017877,-0.11100689228117118,-0.22650857209597733,-0.7144840251026895,-1.0416718983455615,1.0736890893435829,-0.4950066633518595,-0.4348511389029561,2.8329467756340896,-0.4304483343702159,1.168993274249435,-0.6489183721758839,1.919777073493157,-0.7889677310786267,0.18372995625021743,-0.8774390102542554,-1.3138910309500251,0.32224629900799545,0.6853772906954757,-0.4782068224275819,-1.564547761029822,-1.456102616980963,-0.21772121032784514,-0.45293861005754127,1.3668566239085884,0.8204827551253541,-0.8789693591255126,0.2218945456519545,0.194766032165579,-0.32635090654867477,-1.3788456354471674,0.47301453080933087,-2.1463860553599283,0.588115532577788,-0.12100941076370306,1.1149475486037261,0.4065778223793015,-1.2420822666880773,0.6070864401924375,-2.151910704876458,0.3346452250376028,1.2624867269449833,-2.5315629613213484,-0.8227144688835754,-0.1236309975200574,-0.49219807187445436,-1.2097029964449502,-1.3727932974505603,0.44527990572978465,0.5434203966297816,0.3391141018642361,1.753647349388627,-0.5326619816135323,-0.12867178804487858,0.4902779339654576,0.35554607301596713,0.9779360084073613,-0.5302310144497281,-0.7591554389356049,-0.7203209807891244,-0.019652813053141524,0.6442268447826572,-1.6223502424253848,-0.03034172033845018,-0.28111681045492665],\"yaxis\":\"y7\"},{\"line\":{\"color\":\"rgba(128, 128, 128, 1.0)\",\"dash\":\"solid\",\"shape\":\"linear\",\"width\":1.3},\"marker\":{\"size\":2,\"symbol\":\"circle\"},\"mode\":\"markers\",\"name\":\"B\",\"text\":\"\",\"type\":\"scatter\",\"x\":[-0.7085764894821942,-0.12915596758117723,1.3172587618783858,-1.434581059426418,-0.5343845626238716,0.2963979887680206,-2.3099078313240735,0.9468857900174137,-1.80818273972675,2.0225585686938827,0.44527819315356876,-0.039819258406981826,-0.7335374950541147,-0.7010732066261021,-0.6914191854133498,0.21037132856512575,0.7620439811861314,0.7969968342643269,0.030268152765737032,0.7434993182659309,-0.41594825213294334,-0.7626181029290856,-0.13327570589827753,-1.5537410595079655,0.7524074375738093,-0.8536074246875737,-0.4313570789876109,-1.8134330879451837,-1.5141183234637954,0.11473398957600751,0.400572368646464,-1.3184649942211804,0.00789963373835907,0.835337081456911,0.4979578374503871,-0.18896623637387774,0.16668450259382533,0.6547664981254644,0.3213322939511967,-0.6429313558805019,-1.0906747283947604,1.2374908623069434,0.7061125642011822,-0.33538235234826197,0.9630669422011241,0.3800838916165655,0.8731901071528915,-0.36209218992689013,-0.16770296458616146,0.4284768480639033,-0.4960932025170286,0.8390499321671847,0.5602216160464017,-1.3310451997228332,0.31779034947570123,1.0051198755817332,0.3206099059933247,-0.759959837701889,0.38904095125384286,0.9604032308369037,0.8912906278613976,0.17020413245218363,-0.11859066127221107,2.1759486814385967,-0.9157247903908146,0.7573043903288208,0.8525082219100658,1.3775684363359804,-0.5209718415557739,-2.271597731691821,-0.08398480077020003,-0.33718677545218095,-0.27604931305172253,-0.7962034207852795,-0.49027841665655486,-1.0982775229569983,-0.042387243843414746,0.5163102500542561,1.7785466583410598,-1.3416949295418166,-1.6311082373778638,1.492610190134358,0.972863037543592,-0.6384898322851272,-0.7730175292304294,-0.6079456151824305,1.9926044487338437,-0.874650338449589,0.9522178493738911,-0.5919446595493946,0.7568928517585953,-0.49669195137704325,0.8175348807418468,-0.4609442296110568,-2.152141830296282,-1.7698027759212958,0.5207224965560626,0.676301420293525,0.8236286175459849,-0.050725899405311005],\"xaxis\":\"x8\",\"y\":[1.0586797192233903,-1.2488855889850787,1.0700151137375091,0.2686994557666863,1.3465290941441121,0.3186439119999515,-0.26028613353663094,1.9624262321531245,0.794702271935496,1.4578086509674228,0.8172558401456013,0.2187013708779096,-0.74633696389924,-0.6733073789184151,-0.44481066657090934,1.0312849971810147,0.4182887878043122,0.18075131754173723,-2.0632733329402897,-0.8721967137920469,-0.9573519080715821,-0.8861931972275268,-1.7326911974350716,-0.9429172488362749,-1.141069187838,-0.18520134114365153,-0.5886045112319811,-0.4412941810900815,0.8285074424484511,0.13457702058627252,0.47559709859240257,0.24770049355141352,0.9973592817712069,0.531818650682605,0.25726486227163997,1.328493993017877,-0.11100689228117118,-0.22650857209597733,-0.7144840251026895,-1.0416718983455615,1.0736890893435829,-0.4950066633518595,-0.4348511389029561,2.8329467756340896,-0.4304483343702159,1.168993274249435,-0.6489183721758839,1.919777073493157,-0.7889677310786267,0.18372995625021743,-0.8774390102542554,-1.3138910309500251,0.32224629900799545,0.6853772906954757,-0.4782068224275819,-1.564547761029822,-1.456102616980963,-0.21772121032784514,-0.45293861005754127,1.3668566239085884,0.8204827551253541,-0.8789693591255126,0.2218945456519545,0.194766032165579,-0.32635090654867477,-1.3788456354471674,0.47301453080933087,-2.1463860553599283,0.588115532577788,-0.12100941076370306,1.1149475486037261,0.4065778223793015,-1.2420822666880773,0.6070864401924375,-2.151910704876458,0.3346452250376028,1.2624867269449833,-2.5315629613213484,-0.8227144688835754,-0.1236309975200574,-0.49219807187445436,-1.2097029964449502,-1.3727932974505603,0.44527990572978465,0.5434203966297816,0.3391141018642361,1.753647349388627,-0.5326619816135323,-0.12867178804487858,0.4902779339654576,0.35554607301596713,0.9779360084073613,-0.5302310144497281,-0.7591554389356049,-0.7203209807891244,-0.019652813053141524,0.6442268447826572,-1.6223502424253848,-0.03034172033845018,-0.28111681045492665],\"yaxis\":\"y8\"},{\"line\":{\"color\":\"rgba(128, 128, 128, 1.0)\",\"dash\":\"solid\",\"shape\":\"linear\",\"width\":1.3},\"marker\":{\"size\":2,\"symbol\":\"circle\"},\"mode\":\"markers\",\"name\":\"C\",\"text\":\"\",\"type\":\"scatter\",\"x\":[-1.8554435537542446,-0.3341474199101263,0.6857288575880798,0.12905925770490762,-0.13012084534391954,0.31598165716367344,-0.6814310339065305,-1.1857454279657653,0.16250831411290528,-0.23503431588320337,-0.6957583990035138,1.2656447012812229,0.7895454890395617,2.0102173729408683,0.45824801008669885,-0.5925775507399346,-0.41533289809186974,-0.4731233300668129,0.6843718826788863,0.5391706433363241,-1.1002556394218257,1.2609445362966492,-1.7026894192926318,0.8280922879606232,-0.47841132251611046,1.354448480034928,0.018522114685147483,-1.3413367864778607,-0.8895958524461421,-0.020608380047677472,-1.7240966400672362,0.28458344629001064,0.21661681618247094,1.2179864561575975,0.8482671466620583,-0.4077952273242937,-0.8049643523268022,-0.9176116556344076,-0.9356801704572217,-0.9699739380556349,0.650589802528572,2.547846456025026,-0.7096211873633143,-0.9174229907763136,1.1386671385820821,-1.369325539411084,-0.9842603474076804,0.5945869819604048,-0.23886050975260292,-0.46923690573927296,-1.142607594480248,-0.3611762312877647,-0.39933525169718176,2.2769382620127003,-0.8380458528707962,-0.6124392004285225,0.6961616835141131,-1.2277256681748399,-0.6165936577607377,1.4531742490758173,0.8324616086776321,0.08734935814075497,-0.27779001599273256,-0.386556029563755,0.5076935684905723,0.023459583819070404,0.7011956785778897,-2.064037457273387,0.5982278808302534,-0.24015821493527018,-0.20554533443737275,-0.28217079271367657,-1.7845227166301205,-0.5601415555592549,0.8084747503072853,0.37966132136188563,-0.6195525229757263,0.3758208757878301,1.4200248431796674,2.0659398607101047,0.9587108211966137,2.061807877022249,0.18050161272834003,-0.6540684677740707,-0.8644330224870201,-1.261133780633743,-1.1276839315268843,-0.8470709717782499,-0.8077457919626311,0.0022270729652858353,1.266205085899191,0.9466066247483059,0.0931235624221537,-0.6925655411798486,0.23552797185724408,-0.7126173671952934,-0.4802895517750804,-1.0320031452653156,-0.6525272343747045,0.6660110832512804],\"xaxis\":\"x9\",\"y\":[0.09917702010193938,-0.46868047378474087,0.5949258159527525,1.6478485545586035,0.3016248921654869,-0.8080545672660209,-2.1188095478004194,0.8594606141495871,0.8292713997862055,1.6708518995476391,0.6120160203798393,1.5105163218286823,0.5691135987249639,0.6566471882172462,0.3420156550263439,-0.4411683654275913,-0.5886111554302329,-0.8152751218926938,0.49222463660246707,-0.5787344819819856,0.9561174625326011,-0.2707188791419852,-0.9802168713123773,-0.8240596503995492,0.7306962433522558,-0.32022539754106777,-2.065587528649272,-0.5821224629582098,0.15838323425199727,0.4008578989668309,-0.18106622772390113,-0.8351912950136509,0.1605906289721576,1.7713399993433627,0.30021576059131483,-1.403086030515181,-0.9456893256670308,-0.1274608908419728,0.6687598195192176,-0.15279778369058775,-0.7032641280087182,0.6226349957776174,-1.5951450098353386,-0.4496120801166754,-1.1965836774969432,1.2269657530813707,-1.7517447424622514,0.9834862575215471,-0.664789843670582,0.9152075389812178,0.9414936511533228,-1.4453352420094756,-1.155291790632457,-1.0316997278674849,1.4125048571850645,0.5357529211449548,-0.045837813489790165,0.03524703430738961,-0.6368800449488092,0.2651462582503736,0.09590123572694538,-1.4972271631117675,-0.5199780684951362,-0.6794392215132271,-2.1882799431084554,0.7599944699495044,0.00888997446505838,-1.8118637679374485,0.14709105894657584,1.5635608902256173,0.6676910824154867,-1.1655002104708385,0.15816334667031878,1.245076980434046,-0.46496843467443283,0.5584954767846282,-1.2595251830606093,-2.109463298689511,-0.4884882503365179,0.36945478638890505,-0.2835026746618209,1.9612149864328858,-0.28221348203405405,1.2145113824373808,1.6022224227901656,1.120229211567683,-0.9748024396170659,-0.6855566993709195,0.7366107876685423,-1.9299127824094022,0.05242176138607656,1.1617503304511858,-0.09244602594364117,-0.22654313084700278,0.1727337173584885,-0.9415680809762029,0.41917688707654654,0.4338937059023062,0.8101871452055606,0.7584141241022428],\"yaxis\":\"y9\"},{\"line\":{\"color\":\"rgba(128, 128, 128, 1.0)\",\"dash\":\"solid\",\"shape\":\"linear\",\"width\":1.3},\"marker\":{\"size\":2,\"symbol\":\"circle\"},\"mode\":\"markers\",\"name\":\"C\",\"text\":\"\",\"type\":\"scatter\",\"x\":[1.0586797192233903,-1.2488855889850787,1.0700151137375091,0.2686994557666863,1.3465290941441121,0.3186439119999515,-0.26028613353663094,1.9624262321531245,0.794702271935496,1.4578086509674228,0.8172558401456013,0.2187013708779096,-0.74633696389924,-0.6733073789184151,-0.44481066657090934,1.0312849971810147,0.4182887878043122,0.18075131754173723,-2.0632733329402897,-0.8721967137920469,-0.9573519080715821,-0.8861931972275268,-1.7326911974350716,-0.9429172488362749,-1.141069187838,-0.18520134114365153,-0.5886045112319811,-0.4412941810900815,0.8285074424484511,0.13457702058627252,0.47559709859240257,0.24770049355141352,0.9973592817712069,0.531818650682605,0.25726486227163997,1.328493993017877,-0.11100689228117118,-0.22650857209597733,-0.7144840251026895,-1.0416718983455615,1.0736890893435829,-0.4950066633518595,-0.4348511389029561,2.8329467756340896,-0.4304483343702159,1.168993274249435,-0.6489183721758839,1.919777073493157,-0.7889677310786267,0.18372995625021743,-0.8774390102542554,-1.3138910309500251,0.32224629900799545,0.6853772906954757,-0.4782068224275819,-1.564547761029822,-1.456102616980963,-0.21772121032784514,-0.45293861005754127,1.3668566239085884,0.8204827551253541,-0.8789693591255126,0.2218945456519545,0.194766032165579,-0.32635090654867477,-1.3788456354471674,0.47301453080933087,-2.1463860553599283,0.588115532577788,-0.12100941076370306,1.1149475486037261,0.4065778223793015,-1.2420822666880773,0.6070864401924375,-2.151910704876458,0.3346452250376028,1.2624867269449833,-2.5315629613213484,-0.8227144688835754,-0.1236309975200574,-0.49219807187445436,-1.2097029964449502,-1.3727932974505603,0.44527990572978465,0.5434203966297816,0.3391141018642361,1.753647349388627,-0.5326619816135323,-0.12867178804487858,0.4902779339654576,0.35554607301596713,0.9779360084073613,-0.5302310144497281,-0.7591554389356049,-0.7203209807891244,-0.019652813053141524,0.6442268447826572,-1.6223502424253848,-0.03034172033845018,-0.28111681045492665],\"xaxis\":\"x10\",\"y\":[0.09917702010193938,-0.46868047378474087,0.5949258159527525,1.6478485545586035,0.3016248921654869,-0.8080545672660209,-2.1188095478004194,0.8594606141495871,0.8292713997862055,1.6708518995476391,0.6120160203798393,1.5105163218286823,0.5691135987249639,0.6566471882172462,0.3420156550263439,-0.4411683654275913,-0.5886111554302329,-0.8152751218926938,0.49222463660246707,-0.5787344819819856,0.9561174625326011,-0.2707188791419852,-0.9802168713123773,-0.8240596503995492,0.7306962433522558,-0.32022539754106777,-2.065587528649272,-0.5821224629582098,0.15838323425199727,0.4008578989668309,-0.18106622772390113,-0.8351912950136509,0.1605906289721576,1.7713399993433627,0.30021576059131483,-1.403086030515181,-0.9456893256670308,-0.1274608908419728,0.6687598195192176,-0.15279778369058775,-0.7032641280087182,0.6226349957776174,-1.5951450098353386,-0.4496120801166754,-1.1965836774969432,1.2269657530813707,-1.7517447424622514,0.9834862575215471,-0.664789843670582,0.9152075389812178,0.9414936511533228,-1.4453352420094756,-1.155291790632457,-1.0316997278674849,1.4125048571850645,0.5357529211449548,-0.045837813489790165,0.03524703430738961,-0.6368800449488092,0.2651462582503736,0.09590123572694538,-1.4972271631117675,-0.5199780684951362,-0.6794392215132271,-2.1882799431084554,0.7599944699495044,0.00888997446505838,-1.8118637679374485,0.14709105894657584,1.5635608902256173,0.6676910824154867,-1.1655002104708385,0.15816334667031878,1.245076980434046,-0.46496843467443283,0.5584954767846282,-1.2595251830606093,-2.109463298689511,-0.4884882503365179,0.36945478638890505,-0.2835026746618209,1.9612149864328858,-0.28221348203405405,1.2145113824373808,1.6022224227901656,1.120229211567683,-0.9748024396170659,-0.6855566993709195,0.7366107876685423,-1.9299127824094022,0.05242176138607656,1.1617503304511858,-0.09244602594364117,-0.22654313084700278,0.1727337173584885,-0.9415680809762029,0.41917688707654654,0.4338937059023062,0.8101871452055606,0.7584141241022428],\"yaxis\":\"y10\"},{\"histfunc\":\"count\",\"histnorm\":\"\",\"marker\":{\"color\":\"rgba(50, 171, 96, 1.0)\",\"line\":{\"color\":\"#4D5663\",\"width\":1.3}},\"name\":\"C\",\"nbinsx\":10,\"opacity\":0.8,\"orientation\":\"v\",\"type\":\"histogram\",\"x\":[0.09917702010193938,-0.46868047378474087,0.5949258159527525,1.6478485545586035,0.3016248921654869,-0.8080545672660209,-2.1188095478004194,0.8594606141495871,0.8292713997862055,1.6708518995476391,0.6120160203798393,1.5105163218286823,0.5691135987249639,0.6566471882172462,0.3420156550263439,-0.4411683654275913,-0.5886111554302329,-0.8152751218926938,0.49222463660246707,-0.5787344819819856,0.9561174625326011,-0.2707188791419852,-0.9802168713123773,-0.8240596503995492,0.7306962433522558,-0.32022539754106777,-2.065587528649272,-0.5821224629582098,0.15838323425199727,0.4008578989668309,-0.18106622772390113,-0.8351912950136509,0.1605906289721576,1.7713399993433627,0.30021576059131483,-1.403086030515181,-0.9456893256670308,-0.1274608908419728,0.6687598195192176,-0.15279778369058775,-0.7032641280087182,0.6226349957776174,-1.5951450098353386,-0.4496120801166754,-1.1965836774969432,1.2269657530813707,-1.7517447424622514,0.9834862575215471,-0.664789843670582,0.9152075389812178,0.9414936511533228,-1.4453352420094756,-1.155291790632457,-1.0316997278674849,1.4125048571850645,0.5357529211449548,-0.045837813489790165,0.03524703430738961,-0.6368800449488092,0.2651462582503736,0.09590123572694538,-1.4972271631117675,-0.5199780684951362,-0.6794392215132271,-2.1882799431084554,0.7599944699495044,0.00888997446505838,-1.8118637679374485,0.14709105894657584,1.5635608902256173,0.6676910824154867,-1.1655002104708385,0.15816334667031878,1.245076980434046,-0.46496843467443283,0.5584954767846282,-1.2595251830606093,-2.109463298689511,-0.4884882503365179,0.36945478638890505,-0.2835026746618209,1.9612149864328858,-0.28221348203405405,1.2145113824373808,1.6022224227901656,1.120229211567683,-0.9748024396170659,-0.6855566993709195,0.7366107876685423,-1.9299127824094022,0.05242176138607656,1.1617503304511858,-0.09244602594364117,-0.22654313084700278,0.1727337173584885,-0.9415680809762029,0.41917688707654654,0.4338937059023062,0.8101871452055606,0.7584141241022428],\"xaxis\":\"x11\",\"yaxis\":\"y11\"},{\"line\":{\"color\":\"rgba(128, 128, 128, 1.0)\",\"dash\":\"solid\",\"shape\":\"linear\",\"width\":1.3},\"marker\":{\"size\":2,\"symbol\":\"circle\"},\"mode\":\"markers\",\"name\":\"C\",\"text\":\"\",\"type\":\"scatter\",\"x\":[-0.7085764894821942,-0.12915596758117723,1.3172587618783858,-1.434581059426418,-0.5343845626238716,0.2963979887680206,-2.3099078313240735,0.9468857900174137,-1.80818273972675,2.0225585686938827,0.44527819315356876,-0.039819258406981826,-0.7335374950541147,-0.7010732066261021,-0.6914191854133498,0.21037132856512575,0.7620439811861314,0.7969968342643269,0.030268152765737032,0.7434993182659309,-0.41594825213294334,-0.7626181029290856,-0.13327570589827753,-1.5537410595079655,0.7524074375738093,-0.8536074246875737,-0.4313570789876109,-1.8134330879451837,-1.5141183234637954,0.11473398957600751,0.400572368646464,-1.3184649942211804,0.00789963373835907,0.835337081456911,0.4979578374503871,-0.18896623637387774,0.16668450259382533,0.6547664981254644,0.3213322939511967,-0.6429313558805019,-1.0906747283947604,1.2374908623069434,0.7061125642011822,-0.33538235234826197,0.9630669422011241,0.3800838916165655,0.8731901071528915,-0.36209218992689013,-0.16770296458616146,0.4284768480639033,-0.4960932025170286,0.8390499321671847,0.5602216160464017,-1.3310451997228332,0.31779034947570123,1.0051198755817332,0.3206099059933247,-0.759959837701889,0.38904095125384286,0.9604032308369037,0.8912906278613976,0.17020413245218363,-0.11859066127221107,2.1759486814385967,-0.9157247903908146,0.7573043903288208,0.8525082219100658,1.3775684363359804,-0.5209718415557739,-2.271597731691821,-0.08398480077020003,-0.33718677545218095,-0.27604931305172253,-0.7962034207852795,-0.49027841665655486,-1.0982775229569983,-0.042387243843414746,0.5163102500542561,1.7785466583410598,-1.3416949295418166,-1.6311082373778638,1.492610190134358,0.972863037543592,-0.6384898322851272,-0.7730175292304294,-0.6079456151824305,1.9926044487338437,-0.874650338449589,0.9522178493738911,-0.5919446595493946,0.7568928517585953,-0.49669195137704325,0.8175348807418468,-0.4609442296110568,-2.152141830296282,-1.7698027759212958,0.5207224965560626,0.676301420293525,0.8236286175459849,-0.050725899405311005],\"xaxis\":\"x12\",\"y\":[0.09917702010193938,-0.46868047378474087,0.5949258159527525,1.6478485545586035,0.3016248921654869,-0.8080545672660209,-2.1188095478004194,0.8594606141495871,0.8292713997862055,1.6708518995476391,0.6120160203798393,1.5105163218286823,0.5691135987249639,0.6566471882172462,0.3420156550263439,-0.4411683654275913,-0.5886111554302329,-0.8152751218926938,0.49222463660246707,-0.5787344819819856,0.9561174625326011,-0.2707188791419852,-0.9802168713123773,-0.8240596503995492,0.7306962433522558,-0.32022539754106777,-2.065587528649272,-0.5821224629582098,0.15838323425199727,0.4008578989668309,-0.18106622772390113,-0.8351912950136509,0.1605906289721576,1.7713399993433627,0.30021576059131483,-1.403086030515181,-0.9456893256670308,-0.1274608908419728,0.6687598195192176,-0.15279778369058775,-0.7032641280087182,0.6226349957776174,-1.5951450098353386,-0.4496120801166754,-1.1965836774969432,1.2269657530813707,-1.7517447424622514,0.9834862575215471,-0.664789843670582,0.9152075389812178,0.9414936511533228,-1.4453352420094756,-1.155291790632457,-1.0316997278674849,1.4125048571850645,0.5357529211449548,-0.045837813489790165,0.03524703430738961,-0.6368800449488092,0.2651462582503736,0.09590123572694538,-1.4972271631117675,-0.5199780684951362,-0.6794392215132271,-2.1882799431084554,0.7599944699495044,0.00888997446505838,-1.8118637679374485,0.14709105894657584,1.5635608902256173,0.6676910824154867,-1.1655002104708385,0.15816334667031878,1.245076980434046,-0.46496843467443283,0.5584954767846282,-1.2595251830606093,-2.109463298689511,-0.4884882503365179,0.36945478638890505,-0.2835026746618209,1.9612149864328858,-0.28221348203405405,1.2145113824373808,1.6022224227901656,1.120229211567683,-0.9748024396170659,-0.6855566993709195,0.7366107876685423,-1.9299127824094022,0.05242176138607656,1.1617503304511858,-0.09244602594364117,-0.22654313084700278,0.1727337173584885,-0.9415680809762029,0.41917688707654654,0.4338937059023062,0.8101871452055606,0.7584141241022428],\"yaxis\":\"y12\"},{\"line\":{\"color\":\"rgba(128, 128, 128, 1.0)\",\"dash\":\"solid\",\"shape\":\"linear\",\"width\":1.3},\"marker\":{\"size\":2,\"symbol\":\"circle\"},\"mode\":\"markers\",\"name\":\"D\",\"text\":\"\",\"type\":\"scatter\",\"x\":[-1.8554435537542446,-0.3341474199101263,0.6857288575880798,0.12905925770490762,-0.13012084534391954,0.31598165716367344,-0.6814310339065305,-1.1857454279657653,0.16250831411290528,-0.23503431588320337,-0.6957583990035138,1.2656447012812229,0.7895454890395617,2.0102173729408683,0.45824801008669885,-0.5925775507399346,-0.41533289809186974,-0.4731233300668129,0.6843718826788863,0.5391706433363241,-1.1002556394218257,1.2609445362966492,-1.7026894192926318,0.8280922879606232,-0.47841132251611046,1.354448480034928,0.018522114685147483,-1.3413367864778607,-0.8895958524461421,-0.020608380047677472,-1.7240966400672362,0.28458344629001064,0.21661681618247094,1.2179864561575975,0.8482671466620583,-0.4077952273242937,-0.8049643523268022,-0.9176116556344076,-0.9356801704572217,-0.9699739380556349,0.650589802528572,2.547846456025026,-0.7096211873633143,-0.9174229907763136,1.1386671385820821,-1.369325539411084,-0.9842603474076804,0.5945869819604048,-0.23886050975260292,-0.46923690573927296,-1.142607594480248,-0.3611762312877647,-0.39933525169718176,2.2769382620127003,-0.8380458528707962,-0.6124392004285225,0.6961616835141131,-1.2277256681748399,-0.6165936577607377,1.4531742490758173,0.8324616086776321,0.08734935814075497,-0.27779001599273256,-0.386556029563755,0.5076935684905723,0.023459583819070404,0.7011956785778897,-2.064037457273387,0.5982278808302534,-0.24015821493527018,-0.20554533443737275,-0.28217079271367657,-1.7845227166301205,-0.5601415555592549,0.8084747503072853,0.37966132136188563,-0.6195525229757263,0.3758208757878301,1.4200248431796674,2.0659398607101047,0.9587108211966137,2.061807877022249,0.18050161272834003,-0.6540684677740707,-0.8644330224870201,-1.261133780633743,-1.1276839315268843,-0.8470709717782499,-0.8077457919626311,0.0022270729652858353,1.266205085899191,0.9466066247483059,0.0931235624221537,-0.6925655411798486,0.23552797185724408,-0.7126173671952934,-0.4802895517750804,-1.0320031452653156,-0.6525272343747045,0.6660110832512804],\"xaxis\":\"x13\",\"y\":[-0.7085764894821942,-0.12915596758117723,1.3172587618783858,-1.434581059426418,-0.5343845626238716,0.2963979887680206,-2.3099078313240735,0.9468857900174137,-1.80818273972675,2.0225585686938827,0.44527819315356876,-0.039819258406981826,-0.7335374950541147,-0.7010732066261021,-0.6914191854133498,0.21037132856512575,0.7620439811861314,0.7969968342643269,0.030268152765737032,0.7434993182659309,-0.41594825213294334,-0.7626181029290856,-0.13327570589827753,-1.5537410595079655,0.7524074375738093,-0.8536074246875737,-0.4313570789876109,-1.8134330879451837,-1.5141183234637954,0.11473398957600751,0.400572368646464,-1.3184649942211804,0.00789963373835907,0.835337081456911,0.4979578374503871,-0.18896623637387774,0.16668450259382533,0.6547664981254644,0.3213322939511967,-0.6429313558805019,-1.0906747283947604,1.2374908623069434,0.7061125642011822,-0.33538235234826197,0.9630669422011241,0.3800838916165655,0.8731901071528915,-0.36209218992689013,-0.16770296458616146,0.4284768480639033,-0.4960932025170286,0.8390499321671847,0.5602216160464017,-1.3310451997228332,0.31779034947570123,1.0051198755817332,0.3206099059933247,-0.759959837701889,0.38904095125384286,0.9604032308369037,0.8912906278613976,0.17020413245218363,-0.11859066127221107,2.1759486814385967,-0.9157247903908146,0.7573043903288208,0.8525082219100658,1.3775684363359804,-0.5209718415557739,-2.271597731691821,-0.08398480077020003,-0.33718677545218095,-0.27604931305172253,-0.7962034207852795,-0.49027841665655486,-1.0982775229569983,-0.042387243843414746,0.5163102500542561,1.7785466583410598,-1.3416949295418166,-1.6311082373778638,1.492610190134358,0.972863037543592,-0.6384898322851272,-0.7730175292304294,-0.6079456151824305,1.9926044487338437,-0.874650338449589,0.9522178493738911,-0.5919446595493946,0.7568928517585953,-0.49669195137704325,0.8175348807418468,-0.4609442296110568,-2.152141830296282,-1.7698027759212958,0.5207224965560626,0.676301420293525,0.8236286175459849,-0.050725899405311005],\"yaxis\":\"y13\"},{\"line\":{\"color\":\"rgba(128, 128, 128, 1.0)\",\"dash\":\"solid\",\"shape\":\"linear\",\"width\":1.3},\"marker\":{\"size\":2,\"symbol\":\"circle\"},\"mode\":\"markers\",\"name\":\"D\",\"text\":\"\",\"type\":\"scatter\",\"x\":[1.0586797192233903,-1.2488855889850787,1.0700151137375091,0.2686994557666863,1.3465290941441121,0.3186439119999515,-0.26028613353663094,1.9624262321531245,0.794702271935496,1.4578086509674228,0.8172558401456013,0.2187013708779096,-0.74633696389924,-0.6733073789184151,-0.44481066657090934,1.0312849971810147,0.4182887878043122,0.18075131754173723,-2.0632733329402897,-0.8721967137920469,-0.9573519080715821,-0.8861931972275268,-1.7326911974350716,-0.9429172488362749,-1.141069187838,-0.18520134114365153,-0.5886045112319811,-0.4412941810900815,0.8285074424484511,0.13457702058627252,0.47559709859240257,0.24770049355141352,0.9973592817712069,0.531818650682605,0.25726486227163997,1.328493993017877,-0.11100689228117118,-0.22650857209597733,-0.7144840251026895,-1.0416718983455615,1.0736890893435829,-0.4950066633518595,-0.4348511389029561,2.8329467756340896,-0.4304483343702159,1.168993274249435,-0.6489183721758839,1.919777073493157,-0.7889677310786267,0.18372995625021743,-0.8774390102542554,-1.3138910309500251,0.32224629900799545,0.6853772906954757,-0.4782068224275819,-1.564547761029822,-1.456102616980963,-0.21772121032784514,-0.45293861005754127,1.3668566239085884,0.8204827551253541,-0.8789693591255126,0.2218945456519545,0.194766032165579,-0.32635090654867477,-1.3788456354471674,0.47301453080933087,-2.1463860553599283,0.588115532577788,-0.12100941076370306,1.1149475486037261,0.4065778223793015,-1.2420822666880773,0.6070864401924375,-2.151910704876458,0.3346452250376028,1.2624867269449833,-2.5315629613213484,-0.8227144688835754,-0.1236309975200574,-0.49219807187445436,-1.2097029964449502,-1.3727932974505603,0.44527990572978465,0.5434203966297816,0.3391141018642361,1.753647349388627,-0.5326619816135323,-0.12867178804487858,0.4902779339654576,0.35554607301596713,0.9779360084073613,-0.5302310144497281,-0.7591554389356049,-0.7203209807891244,-0.019652813053141524,0.6442268447826572,-1.6223502424253848,-0.03034172033845018,-0.28111681045492665],\"xaxis\":\"x14\",\"y\":[-0.7085764894821942,-0.12915596758117723,1.3172587618783858,-1.434581059426418,-0.5343845626238716,0.2963979887680206,-2.3099078313240735,0.9468857900174137,-1.80818273972675,2.0225585686938827,0.44527819315356876,-0.039819258406981826,-0.7335374950541147,-0.7010732066261021,-0.6914191854133498,0.21037132856512575,0.7620439811861314,0.7969968342643269,0.030268152765737032,0.7434993182659309,-0.41594825213294334,-0.7626181029290856,-0.13327570589827753,-1.5537410595079655,0.7524074375738093,-0.8536074246875737,-0.4313570789876109,-1.8134330879451837,-1.5141183234637954,0.11473398957600751,0.400572368646464,-1.3184649942211804,0.00789963373835907,0.835337081456911,0.4979578374503871,-0.18896623637387774,0.16668450259382533,0.6547664981254644,0.3213322939511967,-0.6429313558805019,-1.0906747283947604,1.2374908623069434,0.7061125642011822,-0.33538235234826197,0.9630669422011241,0.3800838916165655,0.8731901071528915,-0.36209218992689013,-0.16770296458616146,0.4284768480639033,-0.4960932025170286,0.8390499321671847,0.5602216160464017,-1.3310451997228332,0.31779034947570123,1.0051198755817332,0.3206099059933247,-0.759959837701889,0.38904095125384286,0.9604032308369037,0.8912906278613976,0.17020413245218363,-0.11859066127221107,2.1759486814385967,-0.9157247903908146,0.7573043903288208,0.8525082219100658,1.3775684363359804,-0.5209718415557739,-2.271597731691821,-0.08398480077020003,-0.33718677545218095,-0.27604931305172253,-0.7962034207852795,-0.49027841665655486,-1.0982775229569983,-0.042387243843414746,0.5163102500542561,1.7785466583410598,-1.3416949295418166,-1.6311082373778638,1.492610190134358,0.972863037543592,-0.6384898322851272,-0.7730175292304294,-0.6079456151824305,1.9926044487338437,-0.874650338449589,0.9522178493738911,-0.5919446595493946,0.7568928517585953,-0.49669195137704325,0.8175348807418468,-0.4609442296110568,-2.152141830296282,-1.7698027759212958,0.5207224965560626,0.676301420293525,0.8236286175459849,-0.050725899405311005],\"yaxis\":\"y14\"},{\"line\":{\"color\":\"rgba(128, 128, 128, 1.0)\",\"dash\":\"solid\",\"shape\":\"linear\",\"width\":1.3},\"marker\":{\"size\":2,\"symbol\":\"circle\"},\"mode\":\"markers\",\"name\":\"D\",\"text\":\"\",\"type\":\"scatter\",\"x\":[0.09917702010193938,-0.46868047378474087,0.5949258159527525,1.6478485545586035,0.3016248921654869,-0.8080545672660209,-2.1188095478004194,0.8594606141495871,0.8292713997862055,1.6708518995476391,0.6120160203798393,1.5105163218286823,0.5691135987249639,0.6566471882172462,0.3420156550263439,-0.4411683654275913,-0.5886111554302329,-0.8152751218926938,0.49222463660246707,-0.5787344819819856,0.9561174625326011,-0.2707188791419852,-0.9802168713123773,-0.8240596503995492,0.7306962433522558,-0.32022539754106777,-2.065587528649272,-0.5821224629582098,0.15838323425199727,0.4008578989668309,-0.18106622772390113,-0.8351912950136509,0.1605906289721576,1.7713399993433627,0.30021576059131483,-1.403086030515181,-0.9456893256670308,-0.1274608908419728,0.6687598195192176,-0.15279778369058775,-0.7032641280087182,0.6226349957776174,-1.5951450098353386,-0.4496120801166754,-1.1965836774969432,1.2269657530813707,-1.7517447424622514,0.9834862575215471,-0.664789843670582,0.9152075389812178,0.9414936511533228,-1.4453352420094756,-1.155291790632457,-1.0316997278674849,1.4125048571850645,0.5357529211449548,-0.045837813489790165,0.03524703430738961,-0.6368800449488092,0.2651462582503736,0.09590123572694538,-1.4972271631117675,-0.5199780684951362,-0.6794392215132271,-2.1882799431084554,0.7599944699495044,0.00888997446505838,-1.8118637679374485,0.14709105894657584,1.5635608902256173,0.6676910824154867,-1.1655002104708385,0.15816334667031878,1.245076980434046,-0.46496843467443283,0.5584954767846282,-1.2595251830606093,-2.109463298689511,-0.4884882503365179,0.36945478638890505,-0.2835026746618209,1.9612149864328858,-0.28221348203405405,1.2145113824373808,1.6022224227901656,1.120229211567683,-0.9748024396170659,-0.6855566993709195,0.7366107876685423,-1.9299127824094022,0.05242176138607656,1.1617503304511858,-0.09244602594364117,-0.22654313084700278,0.1727337173584885,-0.9415680809762029,0.41917688707654654,0.4338937059023062,0.8101871452055606,0.7584141241022428],\"xaxis\":\"x15\",\"y\":[-0.7085764894821942,-0.12915596758117723,1.3172587618783858,-1.434581059426418,-0.5343845626238716,0.2963979887680206,-2.3099078313240735,0.9468857900174137,-1.80818273972675,2.0225585686938827,0.44527819315356876,-0.039819258406981826,-0.7335374950541147,-0.7010732066261021,-0.6914191854133498,0.21037132856512575,0.7620439811861314,0.7969968342643269,0.030268152765737032,0.7434993182659309,-0.41594825213294334,-0.7626181029290856,-0.13327570589827753,-1.5537410595079655,0.7524074375738093,-0.8536074246875737,-0.4313570789876109,-1.8134330879451837,-1.5141183234637954,0.11473398957600751,0.400572368646464,-1.3184649942211804,0.00789963373835907,0.835337081456911,0.4979578374503871,-0.18896623637387774,0.16668450259382533,0.6547664981254644,0.3213322939511967,-0.6429313558805019,-1.0906747283947604,1.2374908623069434,0.7061125642011822,-0.33538235234826197,0.9630669422011241,0.3800838916165655,0.8731901071528915,-0.36209218992689013,-0.16770296458616146,0.4284768480639033,-0.4960932025170286,0.8390499321671847,0.5602216160464017,-1.3310451997228332,0.31779034947570123,1.0051198755817332,0.3206099059933247,-0.759959837701889,0.38904095125384286,0.9604032308369037,0.8912906278613976,0.17020413245218363,-0.11859066127221107,2.1759486814385967,-0.9157247903908146,0.7573043903288208,0.8525082219100658,1.3775684363359804,-0.5209718415557739,-2.271597731691821,-0.08398480077020003,-0.33718677545218095,-0.27604931305172253,-0.7962034207852795,-0.49027841665655486,-1.0982775229569983,-0.042387243843414746,0.5163102500542561,1.7785466583410598,-1.3416949295418166,-1.6311082373778638,1.492610190134358,0.972863037543592,-0.6384898322851272,-0.7730175292304294,-0.6079456151824305,1.9926044487338437,-0.874650338449589,0.9522178493738911,-0.5919446595493946,0.7568928517585953,-0.49669195137704325,0.8175348807418468,-0.4609442296110568,-2.152141830296282,-1.7698027759212958,0.5207224965560626,0.676301420293525,0.8236286175459849,-0.050725899405311005],\"yaxis\":\"y15\"},{\"histfunc\":\"count\",\"histnorm\":\"\",\"marker\":{\"color\":\"rgba(128, 0, 128, 1.0)\",\"line\":{\"color\":\"#4D5663\",\"width\":1.3}},\"name\":\"D\",\"nbinsx\":10,\"opacity\":0.8,\"orientation\":\"v\",\"type\":\"histogram\",\"x\":[-0.7085764894821942,-0.12915596758117723,1.3172587618783858,-1.434581059426418,-0.5343845626238716,0.2963979887680206,-2.3099078313240735,0.9468857900174137,-1.80818273972675,2.0225585686938827,0.44527819315356876,-0.039819258406981826,-0.7335374950541147,-0.7010732066261021,-0.6914191854133498,0.21037132856512575,0.7620439811861314,0.7969968342643269,0.030268152765737032,0.7434993182659309,-0.41594825213294334,-0.7626181029290856,-0.13327570589827753,-1.5537410595079655,0.7524074375738093,-0.8536074246875737,-0.4313570789876109,-1.8134330879451837,-1.5141183234637954,0.11473398957600751,0.400572368646464,-1.3184649942211804,0.00789963373835907,0.835337081456911,0.4979578374503871,-0.18896623637387774,0.16668450259382533,0.6547664981254644,0.3213322939511967,-0.6429313558805019,-1.0906747283947604,1.2374908623069434,0.7061125642011822,-0.33538235234826197,0.9630669422011241,0.3800838916165655,0.8731901071528915,-0.36209218992689013,-0.16770296458616146,0.4284768480639033,-0.4960932025170286,0.8390499321671847,0.5602216160464017,-1.3310451997228332,0.31779034947570123,1.0051198755817332,0.3206099059933247,-0.759959837701889,0.38904095125384286,0.9604032308369037,0.8912906278613976,0.17020413245218363,-0.11859066127221107,2.1759486814385967,-0.9157247903908146,0.7573043903288208,0.8525082219100658,1.3775684363359804,-0.5209718415557739,-2.271597731691821,-0.08398480077020003,-0.33718677545218095,-0.27604931305172253,-0.7962034207852795,-0.49027841665655486,-1.0982775229569983,-0.042387243843414746,0.5163102500542561,1.7785466583410598,-1.3416949295418166,-1.6311082373778638,1.492610190134358,0.972863037543592,-0.6384898322851272,-0.7730175292304294,-0.6079456151824305,1.9926044487338437,-0.874650338449589,0.9522178493738911,-0.5919446595493946,0.7568928517585953,-0.49669195137704325,0.8175348807418468,-0.4609442296110568,-2.152141830296282,-1.7698027759212958,0.5207224965560626,0.676301420293525,0.8236286175459849,-0.050725899405311005],\"xaxis\":\"x16\",\"yaxis\":\"y16\"}],                        {\"bargap\":0.02,\"legend\":{\"bgcolor\":\"#F5F6F9\",\"font\":{\"color\":\"#4D5663\"}},\"paper_bgcolor\":\"#F5F6F9\",\"plot_bgcolor\":\"#F5F6F9\",\"showlegend\":false,\"template\":{\"data\":{\"bar\":[{\"error_x\":{\"color\":\"#2a3f5f\"},\"error_y\":{\"color\":\"#2a3f5f\"},\"marker\":{\"line\":{\"color\":\"#E5ECF6\",\"width\":0.5},\"pattern\":{\"fillmode\":\"overlay\",\"size\":10,\"solidity\":0.2}},\"type\":\"bar\"}],\"barpolar\":[{\"marker\":{\"line\":{\"color\":\"#E5ECF6\",\"width\":0.5},\"pattern\":{\"fillmode\":\"overlay\",\"size\":10,\"solidity\":0.2}},\"type\":\"barpolar\"}],\"carpet\":[{\"aaxis\":{\"endlinecolor\":\"#2a3f5f\",\"gridcolor\":\"white\",\"linecolor\":\"white\",\"minorgridcolor\":\"white\",\"startlinecolor\":\"#2a3f5f\"},\"baxis\":{\"endlinecolor\":\"#2a3f5f\",\"gridcolor\":\"white\",\"linecolor\":\"white\",\"minorgridcolor\":\"white\",\"startlinecolor\":\"#2a3f5f\"},\"type\":\"carpet\"}],\"choropleth\":[{\"colorbar\":{\"outlinewidth\":0,\"ticks\":\"\"},\"type\":\"choropleth\"}],\"contour\":[{\"colorbar\":{\"outlinewidth\":0,\"ticks\":\"\"},\"colorscale\":[[0.0,\"#0d0887\"],[0.1111111111111111,\"#46039f\"],[0.2222222222222222,\"#7201a8\"],[0.3333333333333333,\"#9c179e\"],[0.4444444444444444,\"#bd3786\"],[0.5555555555555556,\"#d8576b\"],[0.6666666666666666,\"#ed7953\"],[0.7777777777777778,\"#fb9f3a\"],[0.8888888888888888,\"#fdca26\"],[1.0,\"#f0f921\"]],\"type\":\"contour\"}],\"contourcarpet\":[{\"colorbar\":{\"outlinewidth\":0,\"ticks\":\"\"},\"type\":\"contourcarpet\"}],\"heatmap\":[{\"colorbar\":{\"outlinewidth\":0,\"ticks\":\"\"},\"colorscale\":[[0.0,\"#0d0887\"],[0.1111111111111111,\"#46039f\"],[0.2222222222222222,\"#7201a8\"],[0.3333333333333333,\"#9c179e\"],[0.4444444444444444,\"#bd3786\"],[0.5555555555555556,\"#d8576b\"],[0.6666666666666666,\"#ed7953\"],[0.7777777777777778,\"#fb9f3a\"],[0.8888888888888888,\"#fdca26\"],[1.0,\"#f0f921\"]],\"type\":\"heatmap\"}],\"heatmapgl\":[{\"colorbar\":{\"outlinewidth\":0,\"ticks\":\"\"},\"colorscale\":[[0.0,\"#0d0887\"],[0.1111111111111111,\"#46039f\"],[0.2222222222222222,\"#7201a8\"],[0.3333333333333333,\"#9c179e\"],[0.4444444444444444,\"#bd3786\"],[0.5555555555555556,\"#d8576b\"],[0.6666666666666666,\"#ed7953\"],[0.7777777777777778,\"#fb9f3a\"],[0.8888888888888888,\"#fdca26\"],[1.0,\"#f0f921\"]],\"type\":\"heatmapgl\"}],\"histogram\":[{\"marker\":{\"pattern\":{\"fillmode\":\"overlay\",\"size\":10,\"solidity\":0.2}},\"type\":\"histogram\"}],\"histogram2d\":[{\"colorbar\":{\"outlinewidth\":0,\"ticks\":\"\"},\"colorscale\":[[0.0,\"#0d0887\"],[0.1111111111111111,\"#46039f\"],[0.2222222222222222,\"#7201a8\"],[0.3333333333333333,\"#9c179e\"],[0.4444444444444444,\"#bd3786\"],[0.5555555555555556,\"#d8576b\"],[0.6666666666666666,\"#ed7953\"],[0.7777777777777778,\"#fb9f3a\"],[0.8888888888888888,\"#fdca26\"],[1.0,\"#f0f921\"]],\"type\":\"histogram2d\"}],\"histogram2dcontour\":[{\"colorbar\":{\"outlinewidth\":0,\"ticks\":\"\"},\"colorscale\":[[0.0,\"#0d0887\"],[0.1111111111111111,\"#46039f\"],[0.2222222222222222,\"#7201a8\"],[0.3333333333333333,\"#9c179e\"],[0.4444444444444444,\"#bd3786\"],[0.5555555555555556,\"#d8576b\"],[0.6666666666666666,\"#ed7953\"],[0.7777777777777778,\"#fb9f3a\"],[0.8888888888888888,\"#fdca26\"],[1.0,\"#f0f921\"]],\"type\":\"histogram2dcontour\"}],\"mesh3d\":[{\"colorbar\":{\"outlinewidth\":0,\"ticks\":\"\"},\"type\":\"mesh3d\"}],\"parcoords\":[{\"line\":{\"colorbar\":{\"outlinewidth\":0,\"ticks\":\"\"}},\"type\":\"parcoords\"}],\"pie\":[{\"automargin\":true,\"type\":\"pie\"}],\"scatter\":[{\"marker\":{\"colorbar\":{\"outlinewidth\":0,\"ticks\":\"\"}},\"type\":\"scatter\"}],\"scatter3d\":[{\"line\":{\"colorbar\":{\"outlinewidth\":0,\"ticks\":\"\"}},\"marker\":{\"colorbar\":{\"outlinewidth\":0,\"ticks\":\"\"}},\"type\":\"scatter3d\"}],\"scattercarpet\":[{\"marker\":{\"colorbar\":{\"outlinewidth\":0,\"ticks\":\"\"}},\"type\":\"scattercarpet\"}],\"scattergeo\":[{\"marker\":{\"colorbar\":{\"outlinewidth\":0,\"ticks\":\"\"}},\"type\":\"scattergeo\"}],\"scattergl\":[{\"marker\":{\"colorbar\":{\"outlinewidth\":0,\"ticks\":\"\"}},\"type\":\"scattergl\"}],\"scattermapbox\":[{\"marker\":{\"colorbar\":{\"outlinewidth\":0,\"ticks\":\"\"}},\"type\":\"scattermapbox\"}],\"scatterpolar\":[{\"marker\":{\"colorbar\":{\"outlinewidth\":0,\"ticks\":\"\"}},\"type\":\"scatterpolar\"}],\"scatterpolargl\":[{\"marker\":{\"colorbar\":{\"outlinewidth\":0,\"ticks\":\"\"}},\"type\":\"scatterpolargl\"}],\"scatterternary\":[{\"marker\":{\"colorbar\":{\"outlinewidth\":0,\"ticks\":\"\"}},\"type\":\"scatterternary\"}],\"surface\":[{\"colorbar\":{\"outlinewidth\":0,\"ticks\":\"\"},\"colorscale\":[[0.0,\"#0d0887\"],[0.1111111111111111,\"#46039f\"],[0.2222222222222222,\"#7201a8\"],[0.3333333333333333,\"#9c179e\"],[0.4444444444444444,\"#bd3786\"],[0.5555555555555556,\"#d8576b\"],[0.6666666666666666,\"#ed7953\"],[0.7777777777777778,\"#fb9f3a\"],[0.8888888888888888,\"#fdca26\"],[1.0,\"#f0f921\"]],\"type\":\"surface\"}],\"table\":[{\"cells\":{\"fill\":{\"color\":\"#EBF0F8\"},\"line\":{\"color\":\"white\"}},\"header\":{\"fill\":{\"color\":\"#C8D4E3\"},\"line\":{\"color\":\"white\"}},\"type\":\"table\"}]},\"layout\":{\"annotationdefaults\":{\"arrowcolor\":\"#2a3f5f\",\"arrowhead\":0,\"arrowwidth\":1},\"autotypenumbers\":\"strict\",\"coloraxis\":{\"colorbar\":{\"outlinewidth\":0,\"ticks\":\"\"}},\"colorscale\":{\"diverging\":[[0,\"#8e0152\"],[0.1,\"#c51b7d\"],[0.2,\"#de77ae\"],[0.3,\"#f1b6da\"],[0.4,\"#fde0ef\"],[0.5,\"#f7f7f7\"],[0.6,\"#e6f5d0\"],[0.7,\"#b8e186\"],[0.8,\"#7fbc41\"],[0.9,\"#4d9221\"],[1,\"#276419\"]],\"sequential\":[[0.0,\"#0d0887\"],[0.1111111111111111,\"#46039f\"],[0.2222222222222222,\"#7201a8\"],[0.3333333333333333,\"#9c179e\"],[0.4444444444444444,\"#bd3786\"],[0.5555555555555556,\"#d8576b\"],[0.6666666666666666,\"#ed7953\"],[0.7777777777777778,\"#fb9f3a\"],[0.8888888888888888,\"#fdca26\"],[1.0,\"#f0f921\"]],\"sequentialminus\":[[0.0,\"#0d0887\"],[0.1111111111111111,\"#46039f\"],[0.2222222222222222,\"#7201a8\"],[0.3333333333333333,\"#9c179e\"],[0.4444444444444444,\"#bd3786\"],[0.5555555555555556,\"#d8576b\"],[0.6666666666666666,\"#ed7953\"],[0.7777777777777778,\"#fb9f3a\"],[0.8888888888888888,\"#fdca26\"],[1.0,\"#f0f921\"]]},\"colorway\":[\"#636efa\",\"#EF553B\",\"#00cc96\",\"#ab63fa\",\"#FFA15A\",\"#19d3f3\",\"#FF6692\",\"#B6E880\",\"#FF97FF\",\"#FECB52\"],\"font\":{\"color\":\"#2a3f5f\"},\"geo\":{\"bgcolor\":\"white\",\"lakecolor\":\"white\",\"landcolor\":\"#E5ECF6\",\"showlakes\":true,\"showland\":true,\"subunitcolor\":\"white\"},\"hoverlabel\":{\"align\":\"left\"},\"hovermode\":\"closest\",\"mapbox\":{\"style\":\"light\"},\"paper_bgcolor\":\"white\",\"plot_bgcolor\":\"#E5ECF6\",\"polar\":{\"angularaxis\":{\"gridcolor\":\"white\",\"linecolor\":\"white\",\"ticks\":\"\"},\"bgcolor\":\"#E5ECF6\",\"radialaxis\":{\"gridcolor\":\"white\",\"linecolor\":\"white\",\"ticks\":\"\"}},\"scene\":{\"xaxis\":{\"backgroundcolor\":\"#E5ECF6\",\"gridcolor\":\"white\",\"gridwidth\":2,\"linecolor\":\"white\",\"showbackground\":true,\"ticks\":\"\",\"zerolinecolor\":\"white\"},\"yaxis\":{\"backgroundcolor\":\"#E5ECF6\",\"gridcolor\":\"white\",\"gridwidth\":2,\"linecolor\":\"white\",\"showbackground\":true,\"ticks\":\"\",\"zerolinecolor\":\"white\"},\"zaxis\":{\"backgroundcolor\":\"#E5ECF6\",\"gridcolor\":\"white\",\"gridwidth\":2,\"linecolor\":\"white\",\"showbackground\":true,\"ticks\":\"\",\"zerolinecolor\":\"white\"}},\"shapedefaults\":{\"line\":{\"color\":\"#2a3f5f\"}},\"ternary\":{\"aaxis\":{\"gridcolor\":\"white\",\"linecolor\":\"white\",\"ticks\":\"\"},\"baxis\":{\"gridcolor\":\"white\",\"linecolor\":\"white\",\"ticks\":\"\"},\"bgcolor\":\"#E5ECF6\",\"caxis\":{\"gridcolor\":\"white\",\"linecolor\":\"white\",\"ticks\":\"\"}},\"title\":{\"x\":0.05},\"xaxis\":{\"automargin\":true,\"gridcolor\":\"white\",\"linecolor\":\"white\",\"ticks\":\"\",\"title\":{\"standoff\":15},\"zerolinecolor\":\"white\",\"zerolinewidth\":2},\"yaxis\":{\"automargin\":true,\"gridcolor\":\"white\",\"linecolor\":\"white\",\"ticks\":\"\",\"title\":{\"standoff\":15},\"zerolinecolor\":\"white\",\"zerolinewidth\":2}}},\"title\":{\"font\":{\"color\":\"#4D5663\"}},\"xaxis\":{\"anchor\":\"y\",\"domain\":[0.0,0.2125],\"gridcolor\":\"#E1E5ED\",\"showgrid\":false,\"tickfont\":{\"color\":\"#4D5663\"},\"title\":{\"font\":{\"color\":\"#4D5663\"},\"text\":\"\"},\"zerolinecolor\":\"#E1E5ED\"},\"xaxis10\":{\"anchor\":\"y10\",\"domain\":[0.2625,0.475],\"gridcolor\":\"#E1E5ED\",\"showgrid\":false,\"tickfont\":{\"color\":\"#4D5663\"},\"title\":{\"font\":{\"color\":\"#4D5663\"},\"text\":\"\"},\"zerolinecolor\":\"#E1E5ED\"},\"xaxis11\":{\"anchor\":\"y11\",\"domain\":[0.525,0.7375],\"gridcolor\":\"#E1E5ED\",\"showgrid\":false,\"tickfont\":{\"color\":\"#4D5663\"},\"title\":{\"font\":{\"color\":\"#4D5663\"},\"text\":\"\"},\"zerolinecolor\":\"#E1E5ED\"},\"xaxis12\":{\"anchor\":\"y12\",\"domain\":[0.7875,1.0],\"gridcolor\":\"#E1E5ED\",\"showgrid\":false,\"tickfont\":{\"color\":\"#4D5663\"},\"title\":{\"font\":{\"color\":\"#4D5663\"},\"text\":\"\"},\"zerolinecolor\":\"#E1E5ED\"},\"xaxis13\":{\"anchor\":\"y13\",\"domain\":[0.0,0.2125],\"gridcolor\":\"#E1E5ED\",\"showgrid\":false,\"tickfont\":{\"color\":\"#4D5663\"},\"title\":{\"font\":{\"color\":\"#4D5663\"},\"text\":\"\"},\"zerolinecolor\":\"#E1E5ED\"},\"xaxis14\":{\"anchor\":\"y14\",\"domain\":[0.2625,0.475],\"gridcolor\":\"#E1E5ED\",\"showgrid\":false,\"tickfont\":{\"color\":\"#4D5663\"},\"title\":{\"font\":{\"color\":\"#4D5663\"},\"text\":\"\"},\"zerolinecolor\":\"#E1E5ED\"},\"xaxis15\":{\"anchor\":\"y15\",\"domain\":[0.525,0.7375],\"gridcolor\":\"#E1E5ED\",\"showgrid\":false,\"tickfont\":{\"color\":\"#4D5663\"},\"title\":{\"font\":{\"color\":\"#4D5663\"},\"text\":\"\"},\"zerolinecolor\":\"#E1E5ED\"},\"xaxis16\":{\"anchor\":\"y16\",\"domain\":[0.7875,1.0],\"gridcolor\":\"#E1E5ED\",\"showgrid\":false,\"tickfont\":{\"color\":\"#4D5663\"},\"title\":{\"font\":{\"color\":\"#4D5663\"},\"text\":\"\"},\"zerolinecolor\":\"#E1E5ED\"},\"xaxis2\":{\"anchor\":\"y2\",\"domain\":[0.2625,0.475],\"gridcolor\":\"#E1E5ED\",\"showgrid\":false,\"tickfont\":{\"color\":\"#4D5663\"},\"title\":{\"font\":{\"color\":\"#4D5663\"},\"text\":\"\"},\"zerolinecolor\":\"#E1E5ED\"},\"xaxis3\":{\"anchor\":\"y3\",\"domain\":[0.525,0.7375],\"gridcolor\":\"#E1E5ED\",\"showgrid\":false,\"tickfont\":{\"color\":\"#4D5663\"},\"title\":{\"font\":{\"color\":\"#4D5663\"},\"text\":\"\"},\"zerolinecolor\":\"#E1E5ED\"},\"xaxis4\":{\"anchor\":\"y4\",\"domain\":[0.7875,1.0],\"gridcolor\":\"#E1E5ED\",\"showgrid\":false,\"tickfont\":{\"color\":\"#4D5663\"},\"title\":{\"font\":{\"color\":\"#4D5663\"},\"text\":\"\"},\"zerolinecolor\":\"#E1E5ED\"},\"xaxis5\":{\"anchor\":\"y5\",\"domain\":[0.0,0.2125],\"gridcolor\":\"#E1E5ED\",\"showgrid\":false,\"tickfont\":{\"color\":\"#4D5663\"},\"title\":{\"font\":{\"color\":\"#4D5663\"},\"text\":\"\"},\"zerolinecolor\":\"#E1E5ED\"},\"xaxis6\":{\"anchor\":\"y6\",\"domain\":[0.2625,0.475],\"gridcolor\":\"#E1E5ED\",\"showgrid\":false,\"tickfont\":{\"color\":\"#4D5663\"},\"title\":{\"font\":{\"color\":\"#4D5663\"},\"text\":\"\"},\"zerolinecolor\":\"#E1E5ED\"},\"xaxis7\":{\"anchor\":\"y7\",\"domain\":[0.525,0.7375],\"gridcolor\":\"#E1E5ED\",\"showgrid\":false,\"tickfont\":{\"color\":\"#4D5663\"},\"title\":{\"font\":{\"color\":\"#4D5663\"},\"text\":\"\"},\"zerolinecolor\":\"#E1E5ED\"},\"xaxis8\":{\"anchor\":\"y8\",\"domain\":[0.7875,1.0],\"gridcolor\":\"#E1E5ED\",\"showgrid\":false,\"tickfont\":{\"color\":\"#4D5663\"},\"title\":{\"font\":{\"color\":\"#4D5663\"},\"text\":\"\"},\"zerolinecolor\":\"#E1E5ED\"},\"xaxis9\":{\"anchor\":\"y9\",\"domain\":[0.0,0.2125],\"gridcolor\":\"#E1E5ED\",\"showgrid\":false,\"tickfont\":{\"color\":\"#4D5663\"},\"title\":{\"font\":{\"color\":\"#4D5663\"},\"text\":\"\"},\"zerolinecolor\":\"#E1E5ED\"},\"yaxis\":{\"anchor\":\"x\",\"domain\":[0.8025,1.0],\"gridcolor\":\"#E1E5ED\",\"showgrid\":false,\"tickfont\":{\"color\":\"#4D5663\"},\"title\":{\"font\":{\"color\":\"#4D5663\"},\"text\":\"\"},\"zerolinecolor\":\"#E1E5ED\"},\"yaxis10\":{\"anchor\":\"x10\",\"domain\":[0.2675,0.465],\"gridcolor\":\"#E1E5ED\",\"showgrid\":false,\"tickfont\":{\"color\":\"#4D5663\"},\"title\":{\"font\":{\"color\":\"#4D5663\"},\"text\":\"\"},\"zerolinecolor\":\"#E1E5ED\"},\"yaxis11\":{\"anchor\":\"x11\",\"domain\":[0.2675,0.465],\"gridcolor\":\"#E1E5ED\",\"showgrid\":false,\"tickfont\":{\"color\":\"#4D5663\"},\"title\":{\"font\":{\"color\":\"#4D5663\"},\"text\":\"\"},\"zerolinecolor\":\"#E1E5ED\"},\"yaxis12\":{\"anchor\":\"x12\",\"domain\":[0.2675,0.465],\"gridcolor\":\"#E1E5ED\",\"showgrid\":false,\"tickfont\":{\"color\":\"#4D5663\"},\"title\":{\"font\":{\"color\":\"#4D5663\"},\"text\":\"\"},\"zerolinecolor\":\"#E1E5ED\"},\"yaxis13\":{\"anchor\":\"x13\",\"domain\":[0.0,0.1975],\"gridcolor\":\"#E1E5ED\",\"showgrid\":false,\"tickfont\":{\"color\":\"#4D5663\"},\"title\":{\"font\":{\"color\":\"#4D5663\"},\"text\":\"\"},\"zerolinecolor\":\"#E1E5ED\"},\"yaxis14\":{\"anchor\":\"x14\",\"domain\":[0.0,0.1975],\"gridcolor\":\"#E1E5ED\",\"showgrid\":false,\"tickfont\":{\"color\":\"#4D5663\"},\"title\":{\"font\":{\"color\":\"#4D5663\"},\"text\":\"\"},\"zerolinecolor\":\"#E1E5ED\"},\"yaxis15\":{\"anchor\":\"x15\",\"domain\":[0.0,0.1975],\"gridcolor\":\"#E1E5ED\",\"showgrid\":false,\"tickfont\":{\"color\":\"#4D5663\"},\"title\":{\"font\":{\"color\":\"#4D5663\"},\"text\":\"\"},\"zerolinecolor\":\"#E1E5ED\"},\"yaxis16\":{\"anchor\":\"x16\",\"domain\":[0.0,0.1975],\"gridcolor\":\"#E1E5ED\",\"showgrid\":false,\"tickfont\":{\"color\":\"#4D5663\"},\"title\":{\"font\":{\"color\":\"#4D5663\"},\"text\":\"\"},\"zerolinecolor\":\"#E1E5ED\"},\"yaxis2\":{\"anchor\":\"x2\",\"domain\":[0.8025,1.0],\"gridcolor\":\"#E1E5ED\",\"showgrid\":false,\"tickfont\":{\"color\":\"#4D5663\"},\"title\":{\"font\":{\"color\":\"#4D5663\"},\"text\":\"\"},\"zerolinecolor\":\"#E1E5ED\"},\"yaxis3\":{\"anchor\":\"x3\",\"domain\":[0.8025,1.0],\"gridcolor\":\"#E1E5ED\",\"showgrid\":false,\"tickfont\":{\"color\":\"#4D5663\"},\"title\":{\"font\":{\"color\":\"#4D5663\"},\"text\":\"\"},\"zerolinecolor\":\"#E1E5ED\"},\"yaxis4\":{\"anchor\":\"x4\",\"domain\":[0.8025,1.0],\"gridcolor\":\"#E1E5ED\",\"showgrid\":false,\"tickfont\":{\"color\":\"#4D5663\"},\"title\":{\"font\":{\"color\":\"#4D5663\"},\"text\":\"\"},\"zerolinecolor\":\"#E1E5ED\"},\"yaxis5\":{\"anchor\":\"x5\",\"domain\":[0.535,0.7325],\"gridcolor\":\"#E1E5ED\",\"showgrid\":false,\"tickfont\":{\"color\":\"#4D5663\"},\"title\":{\"font\":{\"color\":\"#4D5663\"},\"text\":\"\"},\"zerolinecolor\":\"#E1E5ED\"},\"yaxis6\":{\"anchor\":\"x6\",\"domain\":[0.535,0.7325],\"gridcolor\":\"#E1E5ED\",\"showgrid\":false,\"tickfont\":{\"color\":\"#4D5663\"},\"title\":{\"font\":{\"color\":\"#4D5663\"},\"text\":\"\"},\"zerolinecolor\":\"#E1E5ED\"},\"yaxis7\":{\"anchor\":\"x7\",\"domain\":[0.535,0.7325],\"gridcolor\":\"#E1E5ED\",\"showgrid\":false,\"tickfont\":{\"color\":\"#4D5663\"},\"title\":{\"font\":{\"color\":\"#4D5663\"},\"text\":\"\"},\"zerolinecolor\":\"#E1E5ED\"},\"yaxis8\":{\"anchor\":\"x8\",\"domain\":[0.535,0.7325],\"gridcolor\":\"#E1E5ED\",\"showgrid\":false,\"tickfont\":{\"color\":\"#4D5663\"},\"title\":{\"font\":{\"color\":\"#4D5663\"},\"text\":\"\"},\"zerolinecolor\":\"#E1E5ED\"},\"yaxis9\":{\"anchor\":\"x9\",\"domain\":[0.2675,0.465],\"gridcolor\":\"#E1E5ED\",\"showgrid\":false,\"tickfont\":{\"color\":\"#4D5663\"},\"title\":{\"font\":{\"color\":\"#4D5663\"},\"text\":\"\"},\"zerolinecolor\":\"#E1E5ED\"}},                        {\"showLink\": true, \"linkText\": \"Export to plot.ly\", \"plotlyServerURL\": \"https://plot.ly\", \"responsive\": true}                    ).then(function(){\n",
       "                            \n",
       "var gd = document.getElementById('7cb72aa1-f611-493d-bf33-fddfd1c889dd');\n",
       "var x = new MutationObserver(function (mutations, observer) {{\n",
       "        var display = window.getComputedStyle(gd).display;\n",
       "        if (!display || display === 'none') {{\n",
       "            console.log([gd, 'removed!']);\n",
       "            Plotly.purge(gd);\n",
       "            observer.disconnect();\n",
       "        }}\n",
       "}});\n",
       "\n",
       "// Listen for the removal of the full notebook cells\n",
       "var notebookContainer = gd.closest('#notebook-container');\n",
       "if (notebookContainer) {{\n",
       "    x.observe(notebookContainer, {childList: true});\n",
       "}}\n",
       "\n",
       "// Listen for the clearing of the current output cell\n",
       "var outputEl = gd.closest('.output');\n",
       "if (outputEl) {{\n",
       "    x.observe(outputEl, {childList: true});\n",
       "}}\n",
       "\n",
       "                        })                };                });            </script>        </div>"
      ]
     },
     "metadata": {}
    }
   ],
   "metadata": {}
  }
 ],
 "metadata": {
  "orig_nbformat": 4,
  "language_info": {
   "name": "python",
   "version": "3.8.8",
   "mimetype": "text/x-python",
   "codemirror_mode": {
    "name": "ipython",
    "version": 3
   },
   "pygments_lexer": "ipython3",
   "nbconvert_exporter": "python",
   "file_extension": ".py"
  },
  "kernelspec": {
   "name": "python3",
   "display_name": "Python 3.8.8 64-bit ('m1': conda)"
  },
  "interpreter": {
   "hash": "d0ff6a6875383840a7981743a63a40c181606122536ea1f86fe8c93ff379e0e4"
  }
 },
 "nbformat": 4,
 "nbformat_minor": 2
}